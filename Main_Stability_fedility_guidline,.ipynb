{
 "cells": [
  {
   "cell_type": "code",
   "execution_count": 9,
   "id": "af7e033c",
   "metadata": {},
   "outputs": [],
   "source": [
    "import pandas as pd\n",
    "import numpy as np\n",
    "from sklearn.datasets import make_classification\n",
    "from sklearn.multioutput import MultiOutputClassifier\n",
    "from sklearn.ensemble import RandomForestClassifier\n",
    "from sklearn.utils import shuffle\n",
    "from sklearn.model_selection import train_test_split\n",
    "from sklearn.metrics import precision_score, recall_score, f1_score, accuracy_score\n",
    "from imblearn.over_sampling import SMOTE \n",
    "\n",
    "from collections import Counter\n",
    "from sklearn.datasets import make_classification\n",
    "from interpret.blackbox import LimeTabular\n",
    "from lime.lime_tabular import LimeTabularExplainer\n",
    "import shap\n",
    "import matplotlib.pyplot as plt\n",
    "import warnings\n",
    "warnings.filterwarnings('ignore')"
   ]
  },
  {
   "cell_type": "code",
   "execution_count": 10,
   "id": "1996f687",
   "metadata": {},
   "outputs": [],
   "source": [
    "def data_read_function( ):\n",
    "    all_data = pd.read_csv(r'/Users/ihteshamshah/Desktop/Postdoc/Dataset/NKR_IKNL_breast_syntheticdata.csv')\n",
    "    DataSet= all_data[['leeft' ,'gesl', 'tumsoort', 'diag_basis', 'topo', 'topo_sublok', 'later', 'morf', 'ct', 'cn', 'cm', 'cstadium', 'er_stat', 'pr_stat', 'her2_stat', 'dcis_comp', 'multifoc','chemo', 'target', 'horm', 'rt', 'meta_chir']]\n",
    "    DataSet.columns = ['Age_at_incidence_date', 'Sex', \n",
    "                    'Tumor_type', 'Basis_for_diagnosis', 'Topography_excluding', \n",
    "                    'Topography_including', 'Lateralization', 'Morphology', 'cT_TNM', 'cN_TNM', 'cm_TNM',\n",
    "                    'Stage_based_on_cTNM', 'Er_status', 'Pr_status', 'HER2_state', 'DCIS_component',\n",
    "                      'Tumor_multifocality', 'chemo','target','hormonal','radio','surgery']\n",
    "    DataSet.dropna(inplace=True)\n",
    "    data = pd.get_dummies(DataSet, drop_first = False) #drop_first= ture prevents from dummy trap and it delete the first column.\n",
    "    data.reset_index(drop=True, inplace=True)\n",
    "    #DATA=data #for later use when dealing with imbalance dataset (weight and smote methods)\n",
    "    X = data.loc[:, ~data.columns.isin(['chemo','target','hormonal','radio','surgery'])]\n",
    "    Y = data[['chemo','target','hormonal','radio','surgery']]\n",
    "    classes_names = {'chemo':['chemo_0','chemo_presurgical only','chemo_post-surgical only','chemo_pre and post surgical','chemo_Yes, no surgery'],\n",
    "            'target':['target_0','target_presurgical only','target_post-surgical only','target_pre and post surgical','target_Yes, no surgery'],\n",
    "            'hormonal':['hormonal_0','hormonal_presurgical only','hormonal_post-surgical only','hormonal_pre and post surgical','hormonal_Yes, no surgery'],\n",
    "            'radio':['radio_0','radio_presurgical only','radio_post-surgical only','radio_Yes, no surgery'],\n",
    "            'surgery':['No_surgery','surgery']}\n",
    "    return data, X,Y,classes_names"
   ]
  },
  {
   "cell_type": "code",
   "execution_count": 11,
   "id": "cce754e7",
   "metadata": {},
   "outputs": [],
   "source": [
    "def computing_j (rf, x_test, y_test):\n",
    "    J=[]\n",
    "    for j in range(500):\n",
    "    #j=14\n",
    "        data_row = x_test.iloc[[j], :] #single instance from the test dataset\n",
    "        sample =data_row.values.reshape(1, -1) \n",
    "        if rf.predict(sample)[0]==1 and y_test[j]==1:\n",
    "            J.append(j)\n",
    "    return J\n",
    "    #print(f'Actual class: {y_test[j]}')\n",
    "    #print(f'Predicted class: {rf.predict(sample)[0]}')\n",
    "    #print(f'Prediction for 1st sample in X_test: {rf.predict_proba(x_test.iloc[[j], :])[0]}')\n",
    "\n",
    "\n",
    "def shap_explain(model, x_train, y_test, data_row,Predicted_class):\n",
    "    warnings.filterwarnings('ignore')\n",
    "    #Shap Explainer single instance \n",
    "    #Shap_fidelity=[]\n",
    "    # Define the number of samples to summarize the background data\n",
    "    K = 200  # Choose an appropriate value for K\n",
    "\n",
    "    # Summarize the background data using shap.sample()\n",
    "    background_sample = shap.sample(x_train, K)\n",
    "\n",
    "    # Use the summarized background sample in your SHAP model\n",
    "    Shap_explainer = shap.KernelExplainer(model, data=background_sample)\n",
    "\n",
    "\n",
    "    shap_values= Shap_explainer.shap_values(data_row, nsamples=2000, l1_reg=\"num_features(46)\")\n",
    "    #shap_fedilty= ((rf.predict_proba(x_test[i:i+1])[0][1]) /\n",
    "    # Provided SHAP values and column names\n",
    "    shap_valuesss = shap_values[Predicted_class][0]\n",
    "    column_namesss = x_train.columns\n",
    "    # Flatten shap_values array\n",
    "    #shap_values = shap_values.flatten()\n",
    "\n",
    "    # Filter positive SHAP values\n",
    "    positive_shap_indices = np.where(shap_valuesss > 0)[0]\n",
    "    positive_shap_values = shap_valuesss[positive_shap_indices]\n",
    "    positive_shap_columns = np.array(column_namesss)[positive_shap_indices]\n",
    "\n",
    "    # Combine and sort by SHAP values\n",
    "    positive_shap_list = list(zip(positive_shap_columns, positive_shap_values))\n",
    "    positive_shap_list.sort(key=lambda x: x[1], reverse=False)\n",
    "\n",
    "    # Select top 20\n",
    "    top_10_shap = positive_shap_list[:25]\n",
    "\n",
    "    return top_10_shap\n",
    "\n",
    "def lime_explain (model,x_train,y_test, sample, Predicted_class):\n",
    "    warnings.filterwarnings('ignore')\n",
    "    #Lime Explainer\n",
    "    #Predicted_class= rf.predict(sample)[0]\n",
    "    LIME_explainer = LimeTabularExplainer(x_train.values, \n",
    "                                 feature_names=x_train.columns, \n",
    "                                 class_names=classes_names[y_test.name], \n",
    "                                 discretize_continuous=True, verbose=True)\n",
    "\n",
    "    LIME_explanation = LIME_explainer.explain_instance(sample[0], model, num_features=46, num_samples=2000, top_labels=20)\n",
    "    \n",
    "        ##############. Lime  #################\n",
    "    lime_values_of_Prid_cls= LIME_explanation.local_exp[Predicted_class]\n",
    "    column_names=x_train.columns\n",
    "    positive_list = [(x, y) for x, y in lime_values_of_Prid_cls if y > 0]\n",
    "    # Separate the x and y values\n",
    "    x_values = [x for x, y in positive_list]\n",
    "    x_names = [column_names[t] for t in x_values]\n",
    "    y_values = [y for x, y in positive_list]\n",
    "\n",
    "    # Combine x_names and y_values into a list of tuples and sort by y_values\n",
    "    sorted_list = sorted(zip(x_names, y_values), key=lambda pair: pair[1], reverse=False)[:25]\n",
    "    \n",
    "    return sorted_list\n",
    "\n",
    "\n"
   ]
  },
  {
   "cell_type": "code",
   "execution_count": null,
   "id": "110320d2",
   "metadata": {},
   "outputs": [],
   "source": []
  },
  {
   "cell_type": "code",
   "execution_count": 12,
   "id": "cd88d8fc",
   "metadata": {},
   "outputs": [],
   "source": [
    "# Example: Suppose medical_guidelines is a dictionary with feature importance\n",
    "def Guidlines( ):\n",
    "    medical_guidelines = {\n",
    "        'cm_TNM': 'High',\n",
    "        'cN_TNM_1': 'High',\n",
    "        'cN_TNM_0': 'Low',\n",
    "        'cT_TNM_1': 'High',\n",
    "        'cT_TNM_1A': 'High',\n",
    "         'cT_TNM_1B': 'High',\n",
    "        'cT_TNM_1C': 'High',\n",
    "        'cT_TNM_1M': 'High', \n",
    "        'cT_TNM_2': 'High',\n",
    "           'cT_TNM_3': 'High', 'cT_TNM_4A': 'High', 'cT_TNM_4B': 'High', 'cT_TNM_4C': 'High', 'cT_TNM_4D': 'High',\n",
    "           'cT_TNM_IS': 'Low', 'cN_TNM_1': 'Low', 'cN_TNM_2A': 'High', 'cN_TNM_2B': 'High', 'cN_TNM_3A': 'High',\n",
    "        'cT_TNM_2': 'High',\n",
    "        'Er_status':'High',\n",
    "        'Pr_status':'High',\n",
    "        'Stage_based_on_cTNM_3A': 'High', 'Stage_based_on_cTNM_3B': 'High','Stage_based_on_cTNM_3C': 'High', 'Stage_based_on_cTNM_4': 'High',\n",
    "        'Morphology':'High',\n",
    "        'DCIS_component':'Low',\n",
    "\n",
    "\n",
    "    }\n",
    "    return medical_guidelines\n",
    "\n",
    "\n",
    "def map_importance(feature, importance_list):\n",
    "    for item in importance_list:\n",
    "        if item[0] == feature:\n",
    "            return item[1]\n",
    "    return 0\n",
    "\n",
    "def compare_with_guidelines(important_features, guidelines):\n",
    "    comparison = []\n",
    "    for feature in guidelines:\n",
    "        importance = map_importance(feature, important_features)\n",
    "        comparison.append((feature, importance, guidelines[feature]))\n",
    "    return comparison\n",
    "\n",
    "def calculate_concordance(comparison):\n",
    "        concordant_pairs = 0\n",
    "        for feature, model_importance, guideline_importance in comparison:\n",
    "            if (model_importance > 0 and guideline_importance == 'High') or (model_importance == 0 and guideline_importance == 'Low'):\n",
    "                concordant_pairs += 1\n",
    "        return concordant_pairs / len(comparison)\n"
   ]
  },
  {
   "cell_type": "code",
   "execution_count": 13,
   "id": "9eaeb43a",
   "metadata": {},
   "outputs": [],
   "source": [
    "def Plot_the_data(Plot_Data, Colors):\n",
    "    # Data\n",
    "    data = Plot_Data\n",
    "    # Create the figure and axes\n",
    "    fig, ax = plt.subplots(figsize=(16, 8))\n",
    "\n",
    "    # Labels and positions\n",
    "    labels = list(data.keys())\n",
    "    positions = np.array(range(len(labels))) * 2.0\n",
    "\n",
    "    # Colors for SHAP and LIME\n",
    "    colors = Colors\n",
    "\n",
    "    # Plot each boxplot\n",
    "    for i, (label, values) in enumerate(data.items()):\n",
    "        bp_shap = ax.boxplot(values[0], positions=[positions[i] - 0.2], widths=0.4, patch_artist=True, boxprops=dict(facecolor=colors[0]))\n",
    "        bp_lime = ax.boxplot(values[1], positions=[positions[i] + 0.25], widths=0.4, patch_artist=True, boxprops=dict(facecolor=colors[1]))\n",
    "\n",
    "    # Adding legend\n",
    "    ax.legend([bp_shap[\"boxes\"][0], bp_lime[\"boxes\"][0]], ['SHAP', 'LIME'], loc='upper right')\n",
    "\n",
    "    # Set the axes ticks and labels\n",
    "    ax.set_xticks(positions)\n",
    "    ax.set_xticklabels(labels)\n",
    "\n",
    "    # Adding grid\n",
    "    ax.yaxis.grid(True, linestyle='-', which='major', color='grey', alpha=0.5)\n",
    "    ax.set_axisbelow(True)\n",
    "\n",
    "    # Adding X and Y axis labels\n",
    "    ax.set_xlabel(' ')\n",
    "    ax.set_ylabel('Values')\n",
    "\n",
    "    plt.show()"
   ]
  },
  {
   "cell_type": "code",
   "execution_count": 14,
   "id": "cd12f40b",
   "metadata": {},
   "outputs": [],
   "source": [
    "def main_function_guidlineComparison (data, X, Y, classes_names, Plot_Data, treatment_name): \n",
    "    warnings.filterwarnings('ignore')\n",
    "    Lime_Concordance=[]\n",
    "    SHAP_Concordance=[]\n",
    "\n",
    "    #for _ in range(5):\n",
    "\n",
    "    y=Y[treatment_name]\n",
    "\n",
    "    smote = SMOTE(random_state=42)\n",
    "\n",
    "    X_class_resampled, y_class_resampled = smote.fit_resample(X , y)\n",
    "\n",
    "    X_class_resampled.replace({False: 0, True: 1}, inplace=True)\n",
    "    y_class_resampled.replace({False:0, True:1}, inplace= True)\n",
    "\n",
    "    x_train,x_test,y_train,y_test=train_test_split(X_class_resampled,y_class_resampled,test_size=0.2)\n",
    "\n",
    "    x_train.reset_index(drop=True, inplace=True)\n",
    "    y_train.reset_index(drop=True, inplace=True)\n",
    "    x_test.reset_index(drop=True, inplace=True)\n",
    "    y_test.reset_index(drop=True, inplace=True)\n",
    "\n",
    "    #X_res, y_res = sm.fit_resample(x_train, y_train)\n",
    "\n",
    "    #Randomforest Classifier\n",
    "    rf = RandomForestClassifier()\n",
    "    rf.fit(x_train, y_train)\n",
    "    y_pred = rf.predict(x_test)\n",
    "\n",
    "    medical_guidelines= Guidlines( ) #function for medical guidlines\n",
    "    j_list= computing_j (rf, x_test, y_test)[:10]\n",
    "    #print('j_list', j_list)\n",
    "    for j in j_list:\n",
    "        data_row = X.iloc[[j], :] #single instance from the test dataset\n",
    "        sample =data_row.values.reshape(1, -1) \n",
    "        Predicted_class= rf.predict(sample)[0]\n",
    "        shap_important_features= shap_explain(rf.predict_proba, x_train, y_test, data_row,Predicted_class)\n",
    "        lime_features = lime_explain (rf.predict_proba, x_train, y_test, sample,Predicted_class)\n",
    "\n",
    "        # Compare LIME\n",
    "        lime_comparison = compare_with_guidelines(lime_features, medical_guidelines)\n",
    "\n",
    "        # Compare SHAP\n",
    "        shap_comparison = compare_with_guidelines(shap_important_features, medical_guidelines)\n",
    "\n",
    "        #print(\"LIME Comparison with Guidelines:\", lime_comparison)\n",
    "        #print(\"SHAP Comparison with Guidelines:\", shap_comparison)\n",
    "\n",
    "        lime_concordance = calculate_concordance(lime_comparison)\n",
    "        shap_concordance = calculate_concordance(shap_comparison)\n",
    "\n",
    "        #print(\"LIME Concordance with Guidelines:\", lime_concordance)\n",
    "        #print(\"SHAP Concordance with Guidelines:\", shap_concordance)\n",
    "\n",
    "        Lime_Concordance.append(lime_concordance)\n",
    "        SHAP_Concordance.append(shap_concordance)\n",
    "    \n",
    "    Plot_Data[y_test.name]=[Lime_Concordance, SHAP_Concordance]\n",
    "    \n",
    "    return Plot_Data\n",
    "    \n",
    "\n",
    "    \n",
    "    \n"
   ]
  },
  {
   "cell_type": "markdown",
   "id": "ca97e114",
   "metadata": {},
   "source": [
    "# Comparison explaination with medical guidlines"
   ]
  },
  {
   "cell_type": "code",
   "execution_count": 15,
   "id": "2957cd5d",
   "metadata": {},
   "outputs": [
    {
     "name": "stderr",
     "output_type": "stream",
     "text": [
      "Using 200 background data samples could cause slower run times. Consider using shap.sample(data, K) or shap.kmeans(data, K) to summarize the background as K samples.\n"
     ]
    },
    {
     "data": {
      "application/vnd.jupyter.widget-view+json": {
       "model_id": "d7110c0cb4fe4fc484048a2c432d8105",
       "version_major": 2,
       "version_minor": 0
      },
      "text/plain": [
       "  0%|          | 0/1 [00:00<?, ?it/s]"
      ]
     },
     "metadata": {},
     "output_type": "display_data"
    },
    {
     "name": "stdout",
     "output_type": "stream",
     "text": [
      "Intercept -0.06516317375963754\n",
      "Prediction_local [0.22705526]\n",
      "Right: 0.01\n",
      "Intercept 0.6962267153470845\n",
      "Prediction_local [0.1197066]\n",
      "Right: 0.02\n",
      "Intercept 0.39962876768948613\n",
      "Prediction_local [0.32913663]\n",
      "Right: 0.05\n",
      "Intercept -0.12464035591420297\n",
      "Prediction_local [0.30379114]\n",
      "Right: 0.33116666666666666\n",
      "Intercept 0.09602991927700684\n",
      "Prediction_local [0.02028628]\n",
      "Right: 0.5888333333333333\n"
     ]
    },
    {
     "name": "stderr",
     "output_type": "stream",
     "text": [
      "Using 200 background data samples could cause slower run times. Consider using shap.sample(data, K) or shap.kmeans(data, K) to summarize the background as K samples.\n"
     ]
    },
    {
     "data": {
      "application/vnd.jupyter.widget-view+json": {
       "model_id": "5c78a5af6378431ba9dc134ed149ccec",
       "version_major": 2,
       "version_minor": 0
      },
      "text/plain": [
       "  0%|          | 0/1 [00:00<?, ?it/s]"
      ]
     },
     "metadata": {},
     "output_type": "display_data"
    },
    {
     "name": "stdout",
     "output_type": "stream",
     "text": [
      "Intercept -0.04213707141119233\n",
      "Prediction_local [0.16266227]\n",
      "Right: 0.0\n",
      "Intercept 0.7349840463584841\n",
      "Prediction_local [0.11143466]\n",
      "Right: 0.0\n",
      "Intercept 0.0653888288393388\n",
      "Prediction_local [0.02324522]\n",
      "Right: 0.07\n",
      "Intercept -0.1134614225866507\n",
      "Prediction_local [0.37419166]\n",
      "Right: 0.23\n",
      "Intercept 0.3582440518683665\n",
      "Prediction_local [0.32729388]\n",
      "Right: 0.7\n"
     ]
    },
    {
     "name": "stderr",
     "output_type": "stream",
     "text": [
      "Using 200 background data samples could cause slower run times. Consider using shap.sample(data, K) or shap.kmeans(data, K) to summarize the background as K samples.\n"
     ]
    },
    {
     "data": {
      "application/vnd.jupyter.widget-view+json": {
       "model_id": "44d36f2b4cfa4f6ab9887363676dc7ab",
       "version_major": 2,
       "version_minor": 0
      },
      "text/plain": [
       "  0%|          | 0/1 [00:00<?, ?it/s]"
      ]
     },
     "metadata": {},
     "output_type": "display_data"
    },
    {
     "name": "stdout",
     "output_type": "stream",
     "text": [
      "Intercept 0.11357710012263307\n",
      "Prediction_local [0.0401485]\n",
      "Right: 0.0\n",
      "Intercept -0.015352760882867189\n",
      "Prediction_local [0.30548225]\n",
      "Right: 0.01\n",
      "Intercept 0.7138236529748133\n",
      "Prediction_local [0.12457867]\n",
      "Right: 0.01\n",
      "Intercept 0.04820480624018193\n",
      "Prediction_local [0.08918872]\n",
      "Right: 0.29\n",
      "Intercept 0.14013061689128722\n",
      "Prediction_local [0.44069236]\n",
      "Right: 0.69\n"
     ]
    },
    {
     "name": "stderr",
     "output_type": "stream",
     "text": [
      "Using 200 background data samples could cause slower run times. Consider using shap.sample(data, K) or shap.kmeans(data, K) to summarize the background as K samples.\n"
     ]
    },
    {
     "data": {
      "application/vnd.jupyter.widget-view+json": {
       "model_id": "de48648c4e664b3095814bf9e6d160e3",
       "version_major": 2,
       "version_minor": 0
      },
      "text/plain": [
       "  0%|          | 0/1 [00:00<?, ?it/s]"
      ]
     },
     "metadata": {},
     "output_type": "display_data"
    },
    {
     "name": "stdout",
     "output_type": "stream",
     "text": [
      "Intercept -0.025444002609390948\n",
      "Prediction_local [0.18545646]\n",
      "Right: 0.0\n",
      "Intercept 0.7628764457112857\n",
      "Prediction_local [0.1080628]\n",
      "Right: 0.0\n",
      "Intercept 0.33351799635909735\n",
      "Prediction_local [0.33820457]\n",
      "Right: 0.07\n",
      "Intercept -0.18232716636369745\n",
      "Prediction_local [0.34791158]\n",
      "Right: 0.23399999999999999\n",
      "Intercept 0.11066909100081754\n",
      "Prediction_local [0.02052341]\n",
      "Right: 0.696\n"
     ]
    },
    {
     "name": "stderr",
     "output_type": "stream",
     "text": [
      "Using 200 background data samples could cause slower run times. Consider using shap.sample(data, K) or shap.kmeans(data, K) to summarize the background as K samples.\n"
     ]
    },
    {
     "data": {
      "application/vnd.jupyter.widget-view+json": {
       "model_id": "b307518f345a418a9985b6d79d51815d",
       "version_major": 2,
       "version_minor": 0
      },
      "text/plain": [
       "  0%|          | 0/1 [00:00<?, ?it/s]"
      ]
     },
     "metadata": {},
     "output_type": "display_data"
    },
    {
     "name": "stdout",
     "output_type": "stream",
     "text": [
      "Intercept 0.03979824231291365\n",
      "Prediction_local [0.18055711]\n",
      "Right: 0.0\n",
      "Intercept 0.8225930805140788\n",
      "Prediction_local [0.05876293]\n",
      "Right: 0.0\n",
      "Intercept 0.32273181877805446\n",
      "Prediction_local [0.38052719]\n",
      "Right: 0.03\n",
      "Intercept -0.225019205739306\n",
      "Prediction_local [0.33419885]\n",
      "Right: 0.08\n",
      "Intercept 0.04062572797556669\n",
      "Prediction_local [0.04575572]\n",
      "Right: 0.89\n"
     ]
    },
    {
     "name": "stderr",
     "output_type": "stream",
     "text": [
      "Using 200 background data samples could cause slower run times. Consider using shap.sample(data, K) or shap.kmeans(data, K) to summarize the background as K samples.\n"
     ]
    },
    {
     "data": {
      "application/vnd.jupyter.widget-view+json": {
       "model_id": "1d90bfd4c7b0497bb4e5173aad182d34",
       "version_major": 2,
       "version_minor": 0
      },
      "text/plain": [
       "  0%|          | 0/1 [00:00<?, ?it/s]"
      ]
     },
     "metadata": {},
     "output_type": "display_data"
    },
    {
     "name": "stdout",
     "output_type": "stream",
     "text": [
      "Intercept 0.6730304924738975\n",
      "Prediction_local [0.10827371]\n",
      "Right: 0.0\n",
      "Intercept 0.33930266562774586\n",
      "Prediction_local [0.33218125]\n",
      "Right: 0.02\n",
      "Intercept 0.0026378640424243593\n",
      "Prediction_local [0.18761273]\n",
      "Right: 0.02\n",
      "Intercept 0.05203519352517903\n",
      "Prediction_local [0.02739167]\n",
      "Right: 0.22\n",
      "Intercept -0.0673503421716079\n",
      "Prediction_local [0.34460347]\n",
      "Right: 0.74\n"
     ]
    },
    {
     "name": "stderr",
     "output_type": "stream",
     "text": [
      "Using 200 background data samples could cause slower run times. Consider using shap.sample(data, K) or shap.kmeans(data, K) to summarize the background as K samples.\n"
     ]
    },
    {
     "data": {
      "application/vnd.jupyter.widget-view+json": {
       "model_id": "559f274252814f5eac724e7c7cd73077",
       "version_major": 2,
       "version_minor": 0
      },
      "text/plain": [
       "  0%|          | 0/1 [00:00<?, ?it/s]"
      ]
     },
     "metadata": {},
     "output_type": "display_data"
    },
    {
     "name": "stdout",
     "output_type": "stream",
     "text": [
      "Intercept 0.7141158395849606\n",
      "Prediction_local [0.07571352]\n",
      "Right: 0.0\n",
      "Intercept -0.21116990343592767\n",
      "Prediction_local [0.3726878]\n",
      "Right: 0.04\n",
      "Intercept 0.3040100964708045\n",
      "Prediction_local [0.31933452]\n",
      "Right: 0.06\n",
      "Intercept 0.13931603687480137\n",
      "Prediction_local [0.18012451]\n",
      "Right: 0.16\n",
      "Intercept 0.051254511833114996\n",
      "Prediction_local [0.05217655]\n",
      "Right: 0.74\n"
     ]
    },
    {
     "name": "stderr",
     "output_type": "stream",
     "text": [
      "Using 200 background data samples could cause slower run times. Consider using shap.sample(data, K) or shap.kmeans(data, K) to summarize the background as K samples.\n"
     ]
    },
    {
     "data": {
      "application/vnd.jupyter.widget-view+json": {
       "model_id": "ae8c5772e9524229857dcbca3a31f6bc",
       "version_major": 2,
       "version_minor": 0
      },
      "text/plain": [
       "  0%|          | 0/1 [00:00<?, ?it/s]"
      ]
     },
     "metadata": {},
     "output_type": "display_data"
    },
    {
     "name": "stdout",
     "output_type": "stream",
     "text": [
      "Intercept 0.16208728135163594\n",
      "Prediction_local [0.10571205]\n",
      "Right: 0.0\n",
      "Intercept 0.7185958145175344\n",
      "Prediction_local [0.10697668]\n",
      "Right: 0.0\n",
      "Intercept -0.1517397954980224\n",
      "Prediction_local [0.3157795]\n",
      "Right: 0.04\n",
      "Intercept 0.028166785952254948\n",
      "Prediction_local [0.07783229]\n",
      "Right: 0.25\n",
      "Intercept 0.24308755339828653\n",
      "Prediction_local [0.39365348]\n",
      "Right: 0.71\n"
     ]
    },
    {
     "name": "stderr",
     "output_type": "stream",
     "text": [
      "Using 200 background data samples could cause slower run times. Consider using shap.sample(data, K) or shap.kmeans(data, K) to summarize the background as K samples.\n"
     ]
    },
    {
     "data": {
      "application/vnd.jupyter.widget-view+json": {
       "model_id": "c618ddeb9fba43b28daa4e9c59fc3509",
       "version_major": 2,
       "version_minor": 0
      },
      "text/plain": [
       "  0%|          | 0/1 [00:00<?, ?it/s]"
      ]
     },
     "metadata": {},
     "output_type": "display_data"
    },
    {
     "name": "stdout",
     "output_type": "stream",
     "text": [
      "Intercept -0.17448612418770598\n",
      "Prediction_local [0.35701219]\n",
      "Right: 0.0\n",
      "Intercept 0.0616264264142556\n",
      "Prediction_local [0.18000506]\n",
      "Right: 0.0\n",
      "Intercept 0.7495414267591218\n",
      "Prediction_local [0.09560588]\n",
      "Right: 0.0\n",
      "Intercept 0.3067745307250401\n",
      "Prediction_local [0.33761924]\n",
      "Right: 0.008\n",
      "Intercept 0.05677782633799604\n",
      "Prediction_local [0.02979077]\n",
      "Right: 0.992\n"
     ]
    },
    {
     "name": "stderr",
     "output_type": "stream",
     "text": [
      "Using 200 background data samples could cause slower run times. Consider using shap.sample(data, K) or shap.kmeans(data, K) to summarize the background as K samples.\n"
     ]
    },
    {
     "data": {
      "application/vnd.jupyter.widget-view+json": {
       "model_id": "4c816bba6feb4f76a75b8a06cbfecf88",
       "version_major": 2,
       "version_minor": 0
      },
      "text/plain": [
       "  0%|          | 0/1 [00:00<?, ?it/s]"
      ]
     },
     "metadata": {},
     "output_type": "display_data"
    },
    {
     "name": "stdout",
     "output_type": "stream",
     "text": [
      "Intercept 0.06953732754403522\n",
      "Prediction_local [0.04978535]\n",
      "Right: 0.0\n",
      "Intercept 0.7258808289443961\n",
      "Prediction_local [0.08726634]\n",
      "Right: 0.04\n",
      "Intercept 0.31559707294290346\n",
      "Prediction_local [0.45368648]\n",
      "Right: 0.07\n",
      "Intercept 0.040914213250892534\n",
      "Prediction_local [0.07300428]\n",
      "Right: 0.1\n",
      "Intercept -0.15244017851655128\n",
      "Prediction_local [0.33556795]\n",
      "Right: 0.79\n"
     ]
    },
    {
     "name": "stderr",
     "output_type": "stream",
     "text": [
      "Using 200 background data samples could cause slower run times. Consider using shap.sample(data, K) or shap.kmeans(data, K) to summarize the background as K samples.\n"
     ]
    },
    {
     "data": {
      "application/vnd.jupyter.widget-view+json": {
       "model_id": "b50225240f1d4b5fbf07bce452dc2347",
       "version_major": 2,
       "version_minor": 0
      },
      "text/plain": [
       "  0%|          | 0/1 [00:00<?, ?it/s]"
      ]
     },
     "metadata": {},
     "output_type": "display_data"
    },
    {
     "name": "stdout",
     "output_type": "stream",
     "text": [
      "Intercept 0.45220695916211207\n",
      "Prediction_local [0.14090083]\n",
      "Right: 0.0\n",
      "Intercept 0.11358778880559425\n",
      "Prediction_local [0.2810763]\n",
      "Right: 0.0\n",
      "Intercept 0.11544278223670312\n",
      "Prediction_local [0.1931933]\n",
      "Right: 0.02\n",
      "Intercept 0.3085015655233297\n",
      "Prediction_local [0.29594454]\n",
      "Right: 0.03\n",
      "Intercept 0.01006564180057154\n",
      "Prediction_local [0.08912257]\n",
      "Right: 0.95\n"
     ]
    },
    {
     "name": "stderr",
     "output_type": "stream",
     "text": [
      "Using 200 background data samples could cause slower run times. Consider using shap.sample(data, K) or shap.kmeans(data, K) to summarize the background as K samples.\n"
     ]
    },
    {
     "data": {
      "application/vnd.jupyter.widget-view+json": {
       "model_id": "e9eae7acff9244c5a224ca0e1009168a",
       "version_major": 2,
       "version_minor": 0
      },
      "text/plain": [
       "  0%|          | 0/1 [00:00<?, ?it/s]"
      ]
     },
     "metadata": {},
     "output_type": "display_data"
    },
    {
     "name": "stdout",
     "output_type": "stream",
     "text": [
      "Intercept 0.5174663544336349\n",
      "Prediction_local [0.10466473]\n",
      "Right: 0.0\n",
      "Intercept -0.007719632808147026\n",
      "Prediction_local [0.3383541]\n",
      "Right: 0.0\n",
      "Intercept 0.35672530034259353\n",
      "Prediction_local [0.27417372]\n",
      "Right: 0.02\n",
      "Intercept 0.10003149839173742\n",
      "Prediction_local [0.14864162]\n",
      "Right: 0.04\n",
      "Intercept 0.03357652983004728\n",
      "Prediction_local [0.1341511]\n",
      "Right: 0.94\n"
     ]
    },
    {
     "name": "stderr",
     "output_type": "stream",
     "text": [
      "Using 200 background data samples could cause slower run times. Consider using shap.sample(data, K) or shap.kmeans(data, K) to summarize the background as K samples.\n"
     ]
    },
    {
     "data": {
      "application/vnd.jupyter.widget-view+json": {
       "model_id": "dd858b8ba6b74f2eb1085be474812214",
       "version_major": 2,
       "version_minor": 0
      },
      "text/plain": [
       "  0%|          | 0/1 [00:00<?, ?it/s]"
      ]
     },
     "metadata": {},
     "output_type": "display_data"
    },
    {
     "name": "stdout",
     "output_type": "stream",
     "text": [
      "Intercept 0.19731132895776404\n",
      "Prediction_local [0.0269001]\n",
      "Right: 0.01\n",
      "Intercept 0.3022694896230569\n",
      "Prediction_local [0.2979952]\n",
      "Right: 0.02\n",
      "Intercept 0.27642458090190625\n",
      "Prediction_local [0.29669266]\n",
      "Right: 0.05\n",
      "Intercept 0.22195821447217956\n",
      "Prediction_local [0.24823306]\n",
      "Right: 0.22\n",
      "Intercept 6.87406609455321e-05\n",
      "Prediction_local [0.13045292]\n",
      "Right: 0.7\n"
     ]
    },
    {
     "name": "stderr",
     "output_type": "stream",
     "text": [
      "Using 200 background data samples could cause slower run times. Consider using shap.sample(data, K) or shap.kmeans(data, K) to summarize the background as K samples.\n"
     ]
    },
    {
     "data": {
      "application/vnd.jupyter.widget-view+json": {
       "model_id": "dcbb6546a3a04da6b6bce458e425b6ae",
       "version_major": 2,
       "version_minor": 0
      },
      "text/plain": [
       "  0%|          | 0/1 [00:00<?, ?it/s]"
      ]
     },
     "metadata": {},
     "output_type": "display_data"
    },
    {
     "name": "stdout",
     "output_type": "stream",
     "text": [
      "Intercept 0.38733344465813\n",
      "Prediction_local [0.16227247]\n",
      "Right: 0.0\n",
      "Intercept 0.12444807668751981\n",
      "Prediction_local [0.30781639]\n",
      "Right: 0.0\n",
      "Intercept 0.0886927374437484\n",
      "Prediction_local [0.13854185]\n",
      "Right: 0.0\n",
      "Intercept 0.39105682141372655\n",
      "Prediction_local [0.30228741]\n",
      "Right: 0.09\n",
      "Intercept 0.008773915600007058\n",
      "Prediction_local [0.08899537]\n",
      "Right: 0.91\n"
     ]
    },
    {
     "name": "stderr",
     "output_type": "stream",
     "text": [
      "Using 200 background data samples could cause slower run times. Consider using shap.sample(data, K) or shap.kmeans(data, K) to summarize the background as K samples.\n"
     ]
    },
    {
     "data": {
      "application/vnd.jupyter.widget-view+json": {
       "model_id": "3e6bcbcfc37e4e6e8760a3b2c463391f",
       "version_major": 2,
       "version_minor": 0
      },
      "text/plain": [
       "  0%|          | 0/1 [00:00<?, ?it/s]"
      ]
     },
     "metadata": {},
     "output_type": "display_data"
    },
    {
     "name": "stdout",
     "output_type": "stream",
     "text": [
      "Intercept 0.30995796793485947\n",
      "Prediction_local [0.28759071]\n",
      "Right: 0.0\n",
      "Intercept 0.26676175249293305\n",
      "Prediction_local [0.06000749]\n",
      "Right: 0.0\n",
      "Intercept 0.1424354373331464\n",
      "Prediction_local [0.25485437]\n",
      "Right: 0.01\n",
      "Intercept -0.0009768518694245054\n",
      "Prediction_local [0.08382648]\n",
      "Right: 0.04\n",
      "Intercept 0.28235356895969393\n",
      "Prediction_local [0.31393481]\n",
      "Right: 0.95\n"
     ]
    },
    {
     "name": "stderr",
     "output_type": "stream",
     "text": [
      "Using 200 background data samples could cause slower run times. Consider using shap.sample(data, K) or shap.kmeans(data, K) to summarize the background as K samples.\n"
     ]
    },
    {
     "data": {
      "application/vnd.jupyter.widget-view+json": {
       "model_id": "600129dfe1f94c0cbec58cf6b986b7d3",
       "version_major": 2,
       "version_minor": 0
      },
      "text/plain": [
       "  0%|          | 0/1 [00:00<?, ?it/s]"
      ]
     },
     "metadata": {},
     "output_type": "display_data"
    },
    {
     "name": "stdout",
     "output_type": "stream",
     "text": [
      "Intercept 0.37997995926652295\n",
      "Prediction_local [0.16492092]\n",
      "Right: 0.0\n",
      "Intercept 0.366365623497937\n",
      "Prediction_local [0.2659779]\n",
      "Right: 0.0\n",
      "Intercept 0.029560269676061623\n",
      "Prediction_local [0.18166057]\n",
      "Right: 0.0\n",
      "Intercept 0.10313842942781921\n",
      "Prediction_local [0.09406085]\n",
      "Right: 0.25\n",
      "Intercept 0.12181501087223673\n",
      "Prediction_local [0.29338395]\n",
      "Right: 0.75\n"
     ]
    },
    {
     "name": "stderr",
     "output_type": "stream",
     "text": [
      "Using 200 background data samples could cause slower run times. Consider using shap.sample(data, K) or shap.kmeans(data, K) to summarize the background as K samples.\n"
     ]
    },
    {
     "data": {
      "application/vnd.jupyter.widget-view+json": {
       "model_id": "8c882fa047c2494e966914b33bc6855f",
       "version_major": 2,
       "version_minor": 0
      },
      "text/plain": [
       "  0%|          | 0/1 [00:00<?, ?it/s]"
      ]
     },
     "metadata": {},
     "output_type": "display_data"
    },
    {
     "name": "stdout",
     "output_type": "stream",
     "text": [
      "Intercept 0.17166875193235825\n",
      "Prediction_local [0.30537707]\n",
      "Right: 0.0\n",
      "Intercept 0.007008521946447244\n",
      "Prediction_local [0.17154325]\n",
      "Right: 0.0\n",
      "Intercept 0.4885067945842488\n",
      "Prediction_local [0.12368495]\n",
      "Right: 0.03\n",
      "Intercept 0.30670232826096105\n",
      "Prediction_local [0.29268367]\n",
      "Right: 0.05\n",
      "Intercept 0.02558981863085029\n",
      "Prediction_local [0.10675953]\n",
      "Right: 0.92\n"
     ]
    },
    {
     "name": "stderr",
     "output_type": "stream",
     "text": [
      "Using 200 background data samples could cause slower run times. Consider using shap.sample(data, K) or shap.kmeans(data, K) to summarize the background as K samples.\n"
     ]
    },
    {
     "data": {
      "application/vnd.jupyter.widget-view+json": {
       "model_id": "64f5f4ce8b1f49b8ae841f00ca7a5dda",
       "version_major": 2,
       "version_minor": 0
      },
      "text/plain": [
       "  0%|          | 0/1 [00:00<?, ?it/s]"
      ]
     },
     "metadata": {},
     "output_type": "display_data"
    },
    {
     "name": "stdout",
     "output_type": "stream",
     "text": [
      "Intercept 0.451776532170308\n",
      "Prediction_local [0.11802724]\n",
      "Right: 0.0\n",
      "Intercept 0.14315167937133708\n",
      "Prediction_local [0.25077961]\n",
      "Right: 0.0\n",
      "Intercept 0.043064766240939134\n",
      "Prediction_local [0.12588786]\n",
      "Right: 0.01\n",
      "Intercept 0.40113726905608427\n",
      "Prediction_local [0.29879671]\n",
      "Right: 0.015\n",
      "Intercept -0.039606164383713824\n",
      "Prediction_local [0.20694809]\n",
      "Right: 0.975\n"
     ]
    },
    {
     "name": "stderr",
     "output_type": "stream",
     "text": [
      "Using 200 background data samples could cause slower run times. Consider using shap.sample(data, K) or shap.kmeans(data, K) to summarize the background as K samples.\n"
     ]
    },
    {
     "data": {
      "application/vnd.jupyter.widget-view+json": {
       "model_id": "0bfac69bb9874fc3ae8324e23da4f9da",
       "version_major": 2,
       "version_minor": 0
      },
      "text/plain": [
       "  0%|          | 0/1 [00:00<?, ?it/s]"
      ]
     },
     "metadata": {},
     "output_type": "display_data"
    },
    {
     "name": "stdout",
     "output_type": "stream",
     "text": [
      "Intercept 0.4681987270711959\n",
      "Prediction_local [0.18471483]\n",
      "Right: 0.0\n",
      "Intercept 0.40033157755931115\n",
      "Prediction_local [0.24687977]\n",
      "Right: 0.0\n",
      "Intercept 0.1673773223563425\n",
      "Prediction_local [0.15598811]\n",
      "Right: 0.02\n",
      "Intercept 0.040784185549103125\n",
      "Prediction_local [0.28394961]\n",
      "Right: 0.04\n",
      "Intercept -0.0780276321231104\n",
      "Prediction_local [0.12878037]\n",
      "Right: 0.94\n"
     ]
    },
    {
     "name": "stderr",
     "output_type": "stream",
     "text": [
      "Using 200 background data samples could cause slower run times. Consider using shap.sample(data, K) or shap.kmeans(data, K) to summarize the background as K samples.\n"
     ]
    },
    {
     "data": {
      "application/vnd.jupyter.widget-view+json": {
       "model_id": "d149301fb13f4355a075d796d8e23dd9",
       "version_major": 2,
       "version_minor": 0
      },
      "text/plain": [
       "  0%|          | 0/1 [00:00<?, ?it/s]"
      ]
     },
     "metadata": {},
     "output_type": "display_data"
    },
    {
     "name": "stdout",
     "output_type": "stream",
     "text": [
      "Intercept 0.2900162951527536\n",
      "Prediction_local [0.2770534]\n",
      "Right: 0.0\n",
      "Intercept 0.27237574918669955\n",
      "Prediction_local [0.05200556]\n",
      "Right: 0.01\n",
      "Intercept 0.32234492905831424\n",
      "Prediction_local [0.20813414]\n",
      "Right: 0.02\n",
      "Intercept 0.19065292079920748\n",
      "Prediction_local [0.29029031]\n",
      "Right: 0.06\n",
      "Intercept -0.07489370341730567\n",
      "Prediction_local [0.17237711]\n",
      "Right: 0.91\n"
     ]
    },
    {
     "name": "stderr",
     "output_type": "stream",
     "text": [
      "Using 200 background data samples could cause slower run times. Consider using shap.sample(data, K) or shap.kmeans(data, K) to summarize the background as K samples.\n"
     ]
    },
    {
     "data": {
      "application/vnd.jupyter.widget-view+json": {
       "model_id": "32469aff993047f0907a798c52fac35a",
       "version_major": 2,
       "version_minor": 0
      },
      "text/plain": [
       "  0%|          | 0/1 [00:00<?, ?it/s]"
      ]
     },
     "metadata": {},
     "output_type": "display_data"
    },
    {
     "name": "stdout",
     "output_type": "stream",
     "text": [
      "Intercept 0.058017101802752255\n",
      "Prediction_local [0.19943709]\n",
      "Right: 0.0\n",
      "Intercept 0.7952754245168958\n",
      "Prediction_local [0.37714486]\n",
      "Right: 0.0\n",
      "Intercept 0.12585862917713786\n",
      "Prediction_local [0.29310194]\n",
      "Right: 0.01\n",
      "Intercept -0.06981123396917839\n",
      "Prediction_local [0.12661712]\n",
      "Right: 0.095\n",
      "Intercept 0.09120477986295072\n",
      "Prediction_local [0.00323656]\n",
      "Right: 0.895\n"
     ]
    },
    {
     "name": "stderr",
     "output_type": "stream",
     "text": [
      "Using 200 background data samples could cause slower run times. Consider using shap.sample(data, K) or shap.kmeans(data, K) to summarize the background as K samples.\n"
     ]
    },
    {
     "data": {
      "application/vnd.jupyter.widget-view+json": {
       "model_id": "b3bee25c9bfa43acabb65d75c6463595",
       "version_major": 2,
       "version_minor": 0
      },
      "text/plain": [
       "  0%|          | 0/1 [00:00<?, ?it/s]"
      ]
     },
     "metadata": {},
     "output_type": "display_data"
    },
    {
     "name": "stdout",
     "output_type": "stream",
     "text": [
      "Intercept 0.14541377034605815\n",
      "Prediction_local [0.13127436]\n",
      "Right: 0.0\n",
      "Intercept 0.07572711393772477\n",
      "Prediction_local [0.259154]\n",
      "Right: 0.0\n",
      "Intercept 0.9127518952440183\n",
      "Prediction_local [0.39581596]\n",
      "Right: 0.0\n",
      "Intercept -0.10781807428686294\n",
      "Prediction_local [0.1527914]\n",
      "Right: 0.023333333333333334\n",
      "Intercept -0.024249563896645218\n",
      "Prediction_local [0.06037581]\n",
      "Right: 0.9766666666666666\n"
     ]
    },
    {
     "name": "stderr",
     "output_type": "stream",
     "text": [
      "Using 200 background data samples could cause slower run times. Consider using shap.sample(data, K) or shap.kmeans(data, K) to summarize the background as K samples.\n"
     ]
    },
    {
     "data": {
      "application/vnd.jupyter.widget-view+json": {
       "model_id": "e830a722ab954da587fc43f66b0583f4",
       "version_major": 2,
       "version_minor": 0
      },
      "text/plain": [
       "  0%|          | 0/1 [00:00<?, ?it/s]"
      ]
     },
     "metadata": {},
     "output_type": "display_data"
    },
    {
     "name": "stdout",
     "output_type": "stream",
     "text": [
      "Intercept 0.3360079945194647\n",
      "Prediction_local [0.0229143]\n",
      "Right: 0.01\n",
      "Intercept 0.6687549557843686\n",
      "Prediction_local [0.37361585]\n",
      "Right: 0.01\n",
      "Intercept 0.27789262613195853\n",
      "Prediction_local [0.10325529]\n",
      "Right: 0.03\n",
      "Intercept -0.13451702635941287\n",
      "Prediction_local [0.17277874]\n",
      "Right: 0.12\n",
      "Intercept -0.1471578242672617\n",
      "Prediction_local [0.32765145]\n",
      "Right: 0.83\n"
     ]
    },
    {
     "name": "stderr",
     "output_type": "stream",
     "text": [
      "Using 200 background data samples could cause slower run times. Consider using shap.sample(data, K) or shap.kmeans(data, K) to summarize the background as K samples.\n"
     ]
    },
    {
     "data": {
      "application/vnd.jupyter.widget-view+json": {
       "model_id": "901c0aff722f436bb9abf533bd92a0eb",
       "version_major": 2,
       "version_minor": 0
      },
      "text/plain": [
       "  0%|          | 0/1 [00:00<?, ?it/s]"
      ]
     },
     "metadata": {},
     "output_type": "display_data"
    },
    {
     "name": "stderr",
     "output_type": "stream",
     "text": [
      "Using 200 background data samples could cause slower run times. Consider using shap.sample(data, K) or shap.kmeans(data, K) to summarize the background as K samples.\n"
     ]
    },
    {
     "name": "stdout",
     "output_type": "stream",
     "text": [
      "Intercept 0.3484587758080977\n",
      "Prediction_local [-0.00920134]\n",
      "Right: 0.0\n",
      "Intercept 0.13278404315249218\n",
      "Prediction_local [0.32552966]\n",
      "Right: 0.01\n",
      "Intercept 0.6151135143589385\n",
      "Prediction_local [0.49477691]\n",
      "Right: 0.02\n",
      "Intercept -0.002729240986782372\n",
      "Prediction_local [0.09471009]\n",
      "Right: 0.2\n",
      "Intercept -0.09272279259252242\n",
      "Prediction_local [0.0941263]\n",
      "Right: 0.77\n"
     ]
    },
    {
     "data": {
      "application/vnd.jupyter.widget-view+json": {
       "model_id": "6e6a462486f14b90a67a65a02671b803",
       "version_major": 2,
       "version_minor": 0
      },
      "text/plain": [
       "  0%|          | 0/1 [00:00<?, ?it/s]"
      ]
     },
     "metadata": {},
     "output_type": "display_data"
    },
    {
     "name": "stdout",
     "output_type": "stream",
     "text": [
      "Intercept 0.17497106148857294\n",
      "Prediction_local [0.12932609]\n",
      "Right: 0.0\n",
      "Intercept 0.7883355530438825\n",
      "Prediction_local [0.38273421]\n",
      "Right: 0.01\n",
      "Intercept 0.055631578273540594\n",
      "Prediction_local [0.29442089]\n",
      "Right: 0.02\n",
      "Intercept 0.07694251152396672\n",
      "Prediction_local [0.02828475]\n",
      "Right: 0.08\n",
      "Intercept -0.09586738334780456\n",
      "Prediction_local [0.16438303]\n",
      "Right: 0.89\n"
     ]
    },
    {
     "name": "stderr",
     "output_type": "stream",
     "text": [
      "Using 200 background data samples could cause slower run times. Consider using shap.sample(data, K) or shap.kmeans(data, K) to summarize the background as K samples.\n"
     ]
    },
    {
     "data": {
      "application/vnd.jupyter.widget-view+json": {
       "model_id": "5cf9aacfc80c4fcb897cdc9461fe7992",
       "version_major": 2,
       "version_minor": 0
      },
      "text/plain": [
       "  0%|          | 0/1 [00:00<?, ?it/s]"
      ]
     },
     "metadata": {},
     "output_type": "display_data"
    },
    {
     "name": "stderr",
     "output_type": "stream",
     "text": [
      "Using 200 background data samples could cause slower run times. Consider using shap.sample(data, K) or shap.kmeans(data, K) to summarize the background as K samples.\n"
     ]
    },
    {
     "name": "stdout",
     "output_type": "stream",
     "text": [
      "Intercept 0.33058549700153084\n",
      "Prediction_local [0.00830241]\n",
      "Right: 0.0\n",
      "Intercept 0.20017222938181917\n",
      "Prediction_local [0.2065597]\n",
      "Right: 0.0\n",
      "Intercept -0.048009373729885854\n",
      "Prediction_local [0.13996951]\n",
      "Right: 0.04\n",
      "Intercept -0.08608510834922296\n",
      "Prediction_local [0.19132896]\n",
      "Right: 0.28\n",
      "Intercept 0.6019292821449269\n",
      "Prediction_local [0.45389463]\n",
      "Right: 0.68\n"
     ]
    },
    {
     "data": {
      "application/vnd.jupyter.widget-view+json": {
       "model_id": "aa3a1ad474d24708bd6e7f72c5555c96",
       "version_major": 2,
       "version_minor": 0
      },
      "text/plain": [
       "  0%|          | 0/1 [00:00<?, ?it/s]"
      ]
     },
     "metadata": {},
     "output_type": "display_data"
    },
    {
     "name": "stdout",
     "output_type": "stream",
     "text": [
      "Intercept 0.2722763777962231\n",
      "Prediction_local [0.06758763]\n",
      "Right: 0.0\n",
      "Intercept 0.18688134479125898\n",
      "Prediction_local [0.26346106]\n",
      "Right: 0.01\n",
      "Intercept 0.6981244568958688\n",
      "Prediction_local [0.39242674]\n",
      "Right: 0.02\n",
      "Intercept -0.08285470003676194\n",
      "Prediction_local [0.16732915]\n",
      "Right: 0.17\n",
      "Intercept -0.07447016748534341\n",
      "Prediction_local [0.10956075]\n",
      "Right: 0.8\n"
     ]
    },
    {
     "name": "stderr",
     "output_type": "stream",
     "text": [
      "Using 200 background data samples could cause slower run times. Consider using shap.sample(data, K) or shap.kmeans(data, K) to summarize the background as K samples.\n"
     ]
    },
    {
     "data": {
      "application/vnd.jupyter.widget-view+json": {
       "model_id": "b06306c0793842c38ad84db5a775cb29",
       "version_major": 2,
       "version_minor": 0
      },
      "text/plain": [
       "  0%|          | 0/1 [00:00<?, ?it/s]"
      ]
     },
     "metadata": {},
     "output_type": "display_data"
    },
    {
     "name": "stdout",
     "output_type": "stream",
     "text": [
      "Intercept 0.18490187221345084\n",
      "Prediction_local [0.16399541]\n",
      "Right: 0.0\n",
      "Intercept -0.03359034749913512\n",
      "Prediction_local [0.04172382]\n",
      "Right: 0.0\n",
      "Intercept 0.2931968608264217\n",
      "Prediction_local [0.24647218]\n",
      "Right: 0.0\n",
      "Intercept 0.6246571403791432\n",
      "Prediction_local [0.39996072]\n",
      "Right: 0.0\n",
      "Intercept -0.07111971415449035\n",
      "Prediction_local [0.14779369]\n",
      "Right: 1.0\n"
     ]
    },
    {
     "name": "stderr",
     "output_type": "stream",
     "text": [
      "Using 200 background data samples could cause slower run times. Consider using shap.sample(data, K) or shap.kmeans(data, K) to summarize the background as K samples.\n"
     ]
    },
    {
     "data": {
      "application/vnd.jupyter.widget-view+json": {
       "model_id": "297c0f24766c49a3a58b96a0522c44e4",
       "version_major": 2,
       "version_minor": 0
      },
      "text/plain": [
       "  0%|          | 0/1 [00:00<?, ?it/s]"
      ]
     },
     "metadata": {},
     "output_type": "display_data"
    },
    {
     "name": "stdout",
     "output_type": "stream",
     "text": [
      "Intercept 0.42916667727941005\n",
      "Prediction_local [-0.0236497]\n",
      "Right: 0.0\n",
      "Intercept 0.07420127971543711\n",
      "Prediction_local [0.29672543]\n",
      "Right: 0.0\n",
      "Intercept 0.5190914784864491\n",
      "Prediction_local [0.45058156]\n",
      "Right: 0.0\n",
      "Intercept 0.013263353792223806\n",
      "Prediction_local [0.13679766]\n",
      "Right: 0.1425714285714286\n",
      "Intercept -0.035240734382396055\n",
      "Prediction_local [0.13938681]\n",
      "Right: 0.8574285714285717\n"
     ]
    },
    {
     "name": "stderr",
     "output_type": "stream",
     "text": [
      "Using 200 background data samples could cause slower run times. Consider using shap.sample(data, K) or shap.kmeans(data, K) to summarize the background as K samples.\n"
     ]
    },
    {
     "data": {
      "application/vnd.jupyter.widget-view+json": {
       "model_id": "c55fe6475310401e92068b035093c986",
       "version_major": 2,
       "version_minor": 0
      },
      "text/plain": [
       "  0%|          | 0/1 [00:00<?, ?it/s]"
      ]
     },
     "metadata": {},
     "output_type": "display_data"
    },
    {
     "name": "stdout",
     "output_type": "stream",
     "text": [
      "Intercept 0.24129704435534893\n",
      "Prediction_local [0.00034232]\n",
      "Right: 0.0\n",
      "Intercept 0.15277958110607975\n",
      "Prediction_local [0.31625076]\n",
      "Right: 0.0\n",
      "Intercept 0.724624273911723\n",
      "Prediction_local [0.47852516]\n",
      "Right: 0.01\n",
      "Intercept -0.04634304018856218\n",
      "Prediction_local [0.09411633]\n",
      "Right: 0.2058333333333333\n",
      "Intercept -0.07172371557015568\n",
      "Prediction_local [0.11074235]\n",
      "Right: 0.7841666666666667\n"
     ]
    },
    {
     "name": "stderr",
     "output_type": "stream",
     "text": [
      "Using 200 background data samples could cause slower run times. Consider using shap.sample(data, K) or shap.kmeans(data, K) to summarize the background as K samples.\n"
     ]
    },
    {
     "data": {
      "application/vnd.jupyter.widget-view+json": {
       "model_id": "66187a0bf2f2494bb6321f9b9293a140",
       "version_major": 2,
       "version_minor": 0
      },
      "text/plain": [
       "  0%|          | 0/1 [00:00<?, ?it/s]"
      ]
     },
     "metadata": {},
     "output_type": "display_data"
    },
    {
     "name": "stderr",
     "output_type": "stream",
     "text": [
      "Using 200 background data samples could cause slower run times. Consider using shap.sample(data, K) or shap.kmeans(data, K) to summarize the background as K samples.\n"
     ]
    },
    {
     "name": "stdout",
     "output_type": "stream",
     "text": [
      "Intercept -0.04744610758734957\n",
      "Prediction_local [0.25141357]\n",
      "Right: 0.0\n",
      "Intercept 0.775905706761679\n",
      "Prediction_local [0.22789347]\n",
      "Right: 0.01\n",
      "Intercept 0.0878615151617296\n",
      "Prediction_local [0.07568676]\n",
      "Right: 0.35\n",
      "Intercept 0.18363817629635354\n",
      "Prediction_local [0.44493304]\n",
      "Right: 0.64\n"
     ]
    },
    {
     "data": {
      "application/vnd.jupyter.widget-view+json": {
       "model_id": "920797c8e26c448588e78ea40de6031b",
       "version_major": 2,
       "version_minor": 0
      },
      "text/plain": [
       "  0%|          | 0/1 [00:00<?, ?it/s]"
      ]
     },
     "metadata": {},
     "output_type": "display_data"
    },
    {
     "name": "stderr",
     "output_type": "stream",
     "text": [
      "Using 200 background data samples could cause slower run times. Consider using shap.sample(data, K) or shap.kmeans(data, K) to summarize the background as K samples.\n"
     ]
    },
    {
     "name": "stdout",
     "output_type": "stream",
     "text": [
      "Intercept -0.08159315894419661\n",
      "Prediction_local [0.28407345]\n",
      "Right: 0.02\n",
      "Intercept 0.8280918985182186\n",
      "Prediction_local [0.17911883]\n",
      "Right: 0.07\n",
      "Intercept 0.18416452558706106\n",
      "Prediction_local [0.43263809]\n",
      "Right: 0.33\n",
      "Intercept 0.07113370119927498\n",
      "Prediction_local [0.10377492]\n",
      "Right: 0.58\n"
     ]
    },
    {
     "data": {
      "application/vnd.jupyter.widget-view+json": {
       "model_id": "6ddc42e1daaa4590998719ec742d69da",
       "version_major": 2,
       "version_minor": 0
      },
      "text/plain": [
       "  0%|          | 0/1 [00:00<?, ?it/s]"
      ]
     },
     "metadata": {},
     "output_type": "display_data"
    },
    {
     "name": "stdout",
     "output_type": "stream",
     "text": [
      "Intercept 0.7051519194081244\n",
      "Prediction_local [0.29012551]\n",
      "Right: 0.02\n",
      "Intercept 0.11679583956672773\n",
      "Prediction_local [0.26020829]\n",
      "Right: 0.12\n",
      "Intercept 0.14415112133180358\n",
      "Prediction_local [0.0453688]\n",
      "Right: 0.16\n",
      "Intercept 0.034310357953500514\n",
      "Prediction_local [0.40428469]\n",
      "Right: 0.7\n"
     ]
    },
    {
     "name": "stderr",
     "output_type": "stream",
     "text": [
      "Using 200 background data samples could cause slower run times. Consider using shap.sample(data, K) or shap.kmeans(data, K) to summarize the background as K samples.\n"
     ]
    },
    {
     "data": {
      "application/vnd.jupyter.widget-view+json": {
       "model_id": "dfa67f048aa947abbd45e3efc8c5af7e",
       "version_major": 2,
       "version_minor": 0
      },
      "text/plain": [
       "  0%|          | 0/1 [00:00<?, ?it/s]"
      ]
     },
     "metadata": {},
     "output_type": "display_data"
    },
    {
     "name": "stderr",
     "output_type": "stream",
     "text": [
      "Using 200 background data samples could cause slower run times. Consider using shap.sample(data, K) or shap.kmeans(data, K) to summarize the background as K samples.\n"
     ]
    },
    {
     "name": "stdout",
     "output_type": "stream",
     "text": [
      "Intercept 0.08635450098259256\n",
      "Prediction_local [0.33249097]\n",
      "Right: 0.0\n",
      "Intercept 0.6645569229948607\n",
      "Prediction_local [0.26027857]\n",
      "Right: 0.0\n",
      "Intercept 0.2049866452486346\n",
      "Prediction_local [0.36486063]\n",
      "Right: 0.27988275613275604\n",
      "Intercept 0.045428495847936325\n",
      "Prediction_local [0.04223166]\n",
      "Right: 0.7201172438672436\n"
     ]
    },
    {
     "data": {
      "application/vnd.jupyter.widget-view+json": {
       "model_id": "e9a0367b3cf949b6ad7a426ef8012e96",
       "version_major": 2,
       "version_minor": 0
      },
      "text/plain": [
       "  0%|          | 0/1 [00:00<?, ?it/s]"
      ]
     },
     "metadata": {},
     "output_type": "display_data"
    },
    {
     "name": "stderr",
     "output_type": "stream",
     "text": [
      "Using 200 background data samples could cause slower run times. Consider using shap.sample(data, K) or shap.kmeans(data, K) to summarize the background as K samples.\n"
     ]
    },
    {
     "name": "stdout",
     "output_type": "stream",
     "text": [
      "Intercept 0.648607788946907\n",
      "Prediction_local [0.27087595]\n",
      "Right: 0.0\n",
      "Intercept 0.21572818767039328\n",
      "Prediction_local [0.14949255]\n",
      "Right: 0.02\n",
      "Intercept 0.1266509182114104\n",
      "Prediction_local [0.45952344]\n",
      "Right: 0.06\n",
      "Intercept 0.009375561928414239\n",
      "Prediction_local [0.12067527]\n",
      "Right: 0.92\n"
     ]
    },
    {
     "data": {
      "application/vnd.jupyter.widget-view+json": {
       "model_id": "d2eee2d03b7c4eb5a46795d4d82ec921",
       "version_major": 2,
       "version_minor": 0
      },
      "text/plain": [
       "  0%|          | 0/1 [00:00<?, ?it/s]"
      ]
     },
     "metadata": {},
     "output_type": "display_data"
    },
    {
     "name": "stderr",
     "output_type": "stream",
     "text": [
      "Using 200 background data samples could cause slower run times. Consider using shap.sample(data, K) or shap.kmeans(data, K) to summarize the background as K samples.\n"
     ]
    },
    {
     "name": "stdout",
     "output_type": "stream",
     "text": [
      "Intercept 0.14906661825179932\n",
      "Prediction_local [0.17583914]\n",
      "Right: 0.0\n",
      "Intercept 0.6478284081440101\n",
      "Prediction_local [0.30873724]\n",
      "Right: 0.0\n",
      "Intercept 0.1694361692579685\n",
      "Prediction_local [0.41204671]\n",
      "Right: 0.26\n",
      "Intercept 0.03516986551600914\n",
      "Prediction_local [0.10334811]\n",
      "Right: 0.74\n"
     ]
    },
    {
     "data": {
      "application/vnd.jupyter.widget-view+json": {
       "model_id": "2c57470466774d0b878b2f38b9b6db83",
       "version_major": 2,
       "version_minor": 0
      },
      "text/plain": [
       "  0%|          | 0/1 [00:00<?, ?it/s]"
      ]
     },
     "metadata": {},
     "output_type": "display_data"
    },
    {
     "name": "stdout",
     "output_type": "stream",
     "text": [
      "Intercept 0.08580745496810185\n",
      "Prediction_local [0.23516161]\n",
      "Right: 0.0\n",
      "Intercept 0.7392075536674529\n",
      "Prediction_local [0.24844673]\n",
      "Right: 0.0\n",
      "Intercept 0.09684447844363236\n",
      "Prediction_local [0.44497966]\n",
      "Right: 0.2\n",
      "Intercept 0.07901359979181205\n",
      "Prediction_local [0.07140245]\n",
      "Right: 0.8\n"
     ]
    },
    {
     "name": "stderr",
     "output_type": "stream",
     "text": [
      "Using 200 background data samples could cause slower run times. Consider using shap.sample(data, K) or shap.kmeans(data, K) to summarize the background as K samples.\n"
     ]
    },
    {
     "data": {
      "application/vnd.jupyter.widget-view+json": {
       "model_id": "603ae9f980964280abe9e1cf44333ebb",
       "version_major": 2,
       "version_minor": 0
      },
      "text/plain": [
       "  0%|          | 0/1 [00:00<?, ?it/s]"
      ]
     },
     "metadata": {},
     "output_type": "display_data"
    },
    {
     "name": "stderr",
     "output_type": "stream",
     "text": [
      "Using 200 background data samples could cause slower run times. Consider using shap.sample(data, K) or shap.kmeans(data, K) to summarize the background as K samples.\n"
     ]
    },
    {
     "name": "stdout",
     "output_type": "stream",
     "text": [
      "Intercept 0.02654756885896159\n",
      "Prediction_local [0.28331735]\n",
      "Right: 0.0\n",
      "Intercept 0.7762127843318772\n",
      "Prediction_local [0.2355191]\n",
      "Right: 0.0\n",
      "Intercept 0.1780527499809284\n",
      "Prediction_local [0.40243235]\n",
      "Right: 0.08\n",
      "Intercept 0.018735903889518374\n",
      "Prediction_local [0.07862426]\n",
      "Right: 0.92\n"
     ]
    },
    {
     "data": {
      "application/vnd.jupyter.widget-view+json": {
       "model_id": "a3872ddb16ae4d7694c0c12f4206a07f",
       "version_major": 2,
       "version_minor": 0
      },
      "text/plain": [
       "  0%|          | 0/1 [00:00<?, ?it/s]"
      ]
     },
     "metadata": {},
     "output_type": "display_data"
    },
    {
     "name": "stderr",
     "output_type": "stream",
     "text": [
      "Using 200 background data samples could cause slower run times. Consider using shap.sample(data, K) or shap.kmeans(data, K) to summarize the background as K samples.\n"
     ]
    },
    {
     "name": "stdout",
     "output_type": "stream",
     "text": [
      "Intercept 0.516327758301025\n",
      "Prediction_local [0.2547504]\n",
      "Right: 0.0\n",
      "Intercept 0.19525030970079232\n",
      "Prediction_local [0.23971782]\n",
      "Right: 0.02\n",
      "Intercept 0.3119685827645817\n",
      "Prediction_local [0.41000841]\n",
      "Right: 0.32\n",
      "Intercept -0.024403621860523687\n",
      "Prediction_local [0.09575071]\n",
      "Right: 0.66\n"
     ]
    },
    {
     "data": {
      "application/vnd.jupyter.widget-view+json": {
       "model_id": "3e9de692fe384be5927087bf7877b016",
       "version_major": 2,
       "version_minor": 0
      },
      "text/plain": [
       "  0%|          | 0/1 [00:00<?, ?it/s]"
      ]
     },
     "metadata": {},
     "output_type": "display_data"
    },
    {
     "name": "stdout",
     "output_type": "stream",
     "text": [
      "Intercept 0.10091475267562608\n",
      "Prediction_local [0.2221256]\n",
      "Right: 0.0\n",
      "Intercept 0.6783268179082556\n",
      "Prediction_local [0.2657381]\n",
      "Right: 0.0\n",
      "Intercept 0.19029141523528217\n",
      "Prediction_local [0.43153532]\n",
      "Right: 0.175\n",
      "Intercept 0.03027056020307939\n",
      "Prediction_local [0.08059376]\n",
      "Right: 0.825\n"
     ]
    },
    {
     "name": "stderr",
     "output_type": "stream",
     "text": [
      "Using 200 background data samples could cause slower run times. Consider using shap.sample(data, K) or shap.kmeans(data, K) to summarize the background as K samples.\n"
     ]
    },
    {
     "data": {
      "application/vnd.jupyter.widget-view+json": {
       "model_id": "cba93b48a8714f279e913e0a88f629af",
       "version_major": 2,
       "version_minor": 0
      },
      "text/plain": [
       "  0%|          | 0/1 [00:00<?, ?it/s]"
      ]
     },
     "metadata": {},
     "output_type": "display_data"
    },
    {
     "name": "stderr",
     "output_type": "stream",
     "text": [
      "Using 200 background data samples could cause slower run times. Consider using shap.sample(data, K) or shap.kmeans(data, K) to summarize the background as K samples.\n"
     ]
    },
    {
     "name": "stdout",
     "output_type": "stream",
     "text": [
      "Intercept 0.9289792508014791\n",
      "Prediction_local [0.91147525]\n",
      "Right: 0.04\n",
      "Intercept 0.07102074919852083\n",
      "Prediction_local [0.08852475]\n",
      "Right: 0.96\n"
     ]
    },
    {
     "data": {
      "application/vnd.jupyter.widget-view+json": {
       "model_id": "5c057ebb40da42238a1be6d4baa0fcc3",
       "version_major": 2,
       "version_minor": 0
      },
      "text/plain": [
       "  0%|          | 0/1 [00:00<?, ?it/s]"
      ]
     },
     "metadata": {},
     "output_type": "display_data"
    },
    {
     "name": "stderr",
     "output_type": "stream",
     "text": [
      "Using 200 background data samples could cause slower run times. Consider using shap.sample(data, K) or shap.kmeans(data, K) to summarize the background as K samples.\n"
     ]
    },
    {
     "name": "stdout",
     "output_type": "stream",
     "text": [
      "Intercept 0.9423635479145536\n",
      "Prediction_local [0.93481054]\n",
      "Right: 0.02\n",
      "Intercept 0.05763645208544628\n",
      "Prediction_local [0.06518946]\n",
      "Right: 0.98\n"
     ]
    },
    {
     "data": {
      "application/vnd.jupyter.widget-view+json": {
       "model_id": "a763d6ea28aa46699aba0644ad0b1605",
       "version_major": 2,
       "version_minor": 0
      },
      "text/plain": [
       "  0%|          | 0/1 [00:00<?, ?it/s]"
      ]
     },
     "metadata": {},
     "output_type": "display_data"
    },
    {
     "name": "stderr",
     "output_type": "stream",
     "text": [
      "Using 200 background data samples could cause slower run times. Consider using shap.sample(data, K) or shap.kmeans(data, K) to summarize the background as K samples.\n"
     ]
    },
    {
     "name": "stdout",
     "output_type": "stream",
     "text": [
      "Intercept 0.8579369158458803\n",
      "Prediction_local [0.89387437]\n",
      "Right: 0.01\n",
      "Intercept 0.1420630841541196\n",
      "Prediction_local [0.10612563]\n",
      "Right: 0.99\n"
     ]
    },
    {
     "data": {
      "application/vnd.jupyter.widget-view+json": {
       "model_id": "14f9c287a54540b9be9f31b3fdc38d79",
       "version_major": 2,
       "version_minor": 0
      },
      "text/plain": [
       "  0%|          | 0/1 [00:00<?, ?it/s]"
      ]
     },
     "metadata": {},
     "output_type": "display_data"
    },
    {
     "name": "stderr",
     "output_type": "stream",
     "text": [
      "Using 200 background data samples could cause slower run times. Consider using shap.sample(data, K) or shap.kmeans(data, K) to summarize the background as K samples.\n"
     ]
    },
    {
     "name": "stdout",
     "output_type": "stream",
     "text": [
      "Intercept 1.0068129070525593\n",
      "Prediction_local [0.74110817]\n",
      "Right: 0.0\n",
      "Intercept -0.006812907052559297\n",
      "Prediction_local [0.25889183]\n",
      "Right: 1.0\n"
     ]
    },
    {
     "data": {
      "application/vnd.jupyter.widget-view+json": {
       "model_id": "678fbd6c65e548f9ae17c01a9995ca8c",
       "version_major": 2,
       "version_minor": 0
      },
      "text/plain": [
       "  0%|          | 0/1 [00:00<?, ?it/s]"
      ]
     },
     "metadata": {},
     "output_type": "display_data"
    },
    {
     "name": "stderr",
     "output_type": "stream",
     "text": [
      "Using 200 background data samples could cause slower run times. Consider using shap.sample(data, K) or shap.kmeans(data, K) to summarize the background as K samples.\n"
     ]
    },
    {
     "name": "stdout",
     "output_type": "stream",
     "text": [
      "Intercept 0.93943404054532\n",
      "Prediction_local [0.90501206]\n",
      "Right: 0.02\n",
      "Intercept 0.06056595945468\n",
      "Prediction_local [0.09498794]\n",
      "Right: 0.98\n"
     ]
    },
    {
     "data": {
      "application/vnd.jupyter.widget-view+json": {
       "model_id": "98ac0119f8e9480384e11cfc4efb93b2",
       "version_major": 2,
       "version_minor": 0
      },
      "text/plain": [
       "  0%|          | 0/1 [00:00<?, ?it/s]"
      ]
     },
     "metadata": {},
     "output_type": "display_data"
    },
    {
     "name": "stderr",
     "output_type": "stream",
     "text": [
      "Using 200 background data samples could cause slower run times. Consider using shap.sample(data, K) or shap.kmeans(data, K) to summarize the background as K samples.\n"
     ]
    },
    {
     "name": "stdout",
     "output_type": "stream",
     "text": [
      "Intercept 0.9325117483733429\n",
      "Prediction_local [0.85994405]\n",
      "Right: 0.0\n",
      "Intercept 0.06748825162665689\n",
      "Prediction_local [0.14005595]\n",
      "Right: 1.0\n"
     ]
    },
    {
     "data": {
      "application/vnd.jupyter.widget-view+json": {
       "model_id": "a303d97477d4419fa707e7bf8f2ebd0f",
       "version_major": 2,
       "version_minor": 0
      },
      "text/plain": [
       "  0%|          | 0/1 [00:00<?, ?it/s]"
      ]
     },
     "metadata": {},
     "output_type": "display_data"
    },
    {
     "name": "stderr",
     "output_type": "stream",
     "text": [
      "Using 200 background data samples could cause slower run times. Consider using shap.sample(data, K) or shap.kmeans(data, K) to summarize the background as K samples.\n"
     ]
    },
    {
     "name": "stdout",
     "output_type": "stream",
     "text": [
      "Intercept 1.099723638990463\n",
      "Prediction_local [0.80053216]\n",
      "Right: 0.06\n",
      "Intercept -0.09972363899046313\n",
      "Prediction_local [0.19946784]\n",
      "Right: 0.94\n"
     ]
    },
    {
     "data": {
      "application/vnd.jupyter.widget-view+json": {
       "model_id": "8cb00f9820284e52982dcd8f51a0730e",
       "version_major": 2,
       "version_minor": 0
      },
      "text/plain": [
       "  0%|          | 0/1 [00:00<?, ?it/s]"
      ]
     },
     "metadata": {},
     "output_type": "display_data"
    },
    {
     "name": "stdout",
     "output_type": "stream",
     "text": [
      "Intercept 0.9763054216234079\n",
      "Prediction_local [0.76369242]\n",
      "Right: 0.02\n",
      "Intercept 0.02369457837659185\n",
      "Prediction_local [0.23630758]\n",
      "Right: 0.98\n"
     ]
    },
    {
     "name": "stderr",
     "output_type": "stream",
     "text": [
      "Using 200 background data samples could cause slower run times. Consider using shap.sample(data, K) or shap.kmeans(data, K) to summarize the background as K samples.\n"
     ]
    },
    {
     "data": {
      "application/vnd.jupyter.widget-view+json": {
       "model_id": "d33a01a0efe94b4faf124f34faa18cd8",
       "version_major": 2,
       "version_minor": 0
      },
      "text/plain": [
       "  0%|          | 0/1 [00:00<?, ?it/s]"
      ]
     },
     "metadata": {},
     "output_type": "display_data"
    },
    {
     "name": "stderr",
     "output_type": "stream",
     "text": [
      "Using 200 background data samples could cause slower run times. Consider using shap.sample(data, K) or shap.kmeans(data, K) to summarize the background as K samples.\n"
     ]
    },
    {
     "name": "stdout",
     "output_type": "stream",
     "text": [
      "Intercept 0.9417374663246243\n",
      "Prediction_local [0.875841]\n",
      "Right: 0.0\n",
      "Intercept 0.058262533675375594\n",
      "Prediction_local [0.124159]\n",
      "Right: 1.0\n"
     ]
    },
    {
     "data": {
      "application/vnd.jupyter.widget-view+json": {
       "model_id": "8ef569dc90244c64af68d241409cc75e",
       "version_major": 2,
       "version_minor": 0
      },
      "text/plain": [
       "  0%|          | 0/1 [00:00<?, ?it/s]"
      ]
     },
     "metadata": {},
     "output_type": "display_data"
    },
    {
     "name": "stdout",
     "output_type": "stream",
     "text": [
      "Intercept 0.7416241337085745\n",
      "Prediction_local [0.95540982]\n",
      "Right: 0.02\n",
      "Intercept 0.2583758662914254\n",
      "Prediction_local [0.04459018]\n",
      "Right: 0.98\n"
     ]
    },
    {
     "data": {
      "image/png": "[encoded data removed]",
      "text/plain": [
       "<Figure size 1600x800 with 1 Axes>"
      ]
     },
     "metadata": {},
     "output_type": "display_data"
    }
   ],
   "source": [
    "warnings.filterwarnings('ignore')\n",
    "data, X, Y, classes_names = data_read_function( )\n",
    "Plot_Data={}\n",
    "Treatments=['chemo','target','hormonal','radio','surgery']\n",
    "for treatment_name in Treatments :\n",
    "    Plot_Data= main_function_guidlineComparison(data, X, Y, classes_names, Plot_Data, treatment_name)\n",
    "\n",
    "colors = ['skyblue', 'orange'] #plot colors\n",
    "Plot_the_data(Plot_Data, colors)"
   ]
  },
  {
   "cell_type": "code",
   "execution_count": null,
   "id": "3e270765",
   "metadata": {},
   "outputs": [],
   "source": []
  },
  {
   "cell_type": "code",
   "execution_count": 954,
   "id": "fd638e87",
   "metadata": {},
   "outputs": [],
   "source": []
  },
  {
   "cell_type": "code",
   "execution_count": 955,
   "id": "265f1094",
   "metadata": {},
   "outputs": [
    {
     "data": {
      "image/png": "[encoded data removed]",
      "text/plain": [
       "<Figure size 1600x800 with 1 Axes>"
      ]
     },
     "metadata": {},
     "output_type": "display_data"
    }
   ],
   "source": [
    "Plot_the_data(Plot_Data)"
   ]
  },
  {
   "cell_type": "markdown",
   "id": "27d91e4a",
   "metadata": {},
   "source": [
    "# LIME and SHAP fidelity"
   ]
  },
  {
   "cell_type": "code",
   "execution_count": 16,
   "id": "e4620deb",
   "metadata": {},
   "outputs": [],
   "source": [
    "#LIME explainer single instance for same sample used for shap\n",
    "# Choose a sample to explain\n",
    "#discretize_continuous=True, verbose=True show the following outcomes.\n",
    "#intercept , Prediction_local= Lime prediction, Right= Actual model's prediction.\n",
    "def Lime_Shap_fidelity(data, X, Y, classes_names, fidelity_Plot_Data, treatment_name): \n",
    "    warnings.filterwarnings('ignore')\n",
    "\n",
    "\n",
    "    #for _ in range(5):\n",
    "\n",
    "    y=Y[treatment_name]\n",
    "\n",
    "    smote = SMOTE(random_state=42)\n",
    "\n",
    "    X_class_resampled, y_class_resampled = smote.fit_resample(X , y)\n",
    "\n",
    "    X_class_resampled.replace({False: 0, True: 1}, inplace=True)\n",
    "    y_class_resampled.replace({False:0, True:1}, inplace= True)\n",
    "\n",
    "    x_train,x_test,y_train,y_test=train_test_split(X_class_resampled,y_class_resampled,test_size=0.2)\n",
    "\n",
    "    x_train.reset_index(drop=True, inplace=True)\n",
    "    y_train.reset_index(drop=True, inplace=True)\n",
    "    x_test.reset_index(drop=True, inplace=True)\n",
    "    y_test.reset_index(drop=True, inplace=True)\n",
    "\n",
    "    #X_res, y_res = sm.fit_resample(x_train, y_train)\n",
    "\n",
    "    #Randomforest Classifier\n",
    "    rf = RandomForestClassifier()\n",
    "    rf.fit(x_train, y_train)\n",
    "    \n",
    "    \n",
    "\n",
    "\n",
    "\n",
    "    Lime_fidelity=[]\n",
    "    Shap_fidelity=[]\n",
    "\n",
    "    #Lime Explainer\n",
    "    LIME_explainer = LimeTabularExplainer(x_train.values, \n",
    "                                 feature_names=x_train.columns, \n",
    "                                 class_names=classes_names[y_test.name], \n",
    "                                 discretize_continuous=True, verbose=True)\n",
    "    #Shap Explainer \n",
    "\n",
    "    # Define the number of samples to summarize the background data\n",
    "    K = 100  # Choose an appropriate value for K\n",
    "\n",
    "    # Summarize the background data using shap.sample()\n",
    "    background_sample = shap.sample(x_train, K)\n",
    "\n",
    "    # Use the summarized background sample in your SHAP model\n",
    "    #Shap_explainer = shap.KernelExplainer(model=rf.predict_proba, data=background_sample, link = 'logit')\n",
    "    Shap_explainer = shap.KernelExplainer(model=rf.predict_proba, data=background_sample)\n",
    "\n",
    "    # Explanation over 20 single points \n",
    "\n",
    "    #j=np.random.randint(1000, size=(20)) #randomly pick 20 instances from data (in the range of 1000 intances)\n",
    "\n",
    "    j_list= computing_j (rf, x_test, y_test)[:15]\n",
    "    \n",
    "    for j in j_list:\n",
    "        data_row = x_test.iloc[[j], :] #single instance from the test dataset\n",
    "        sample =data_row.values.reshape(1, -1) #reshape the sample and pickup the value only (making it suitble for lime function)\n",
    "        #print(f'Actual class: {y_test[j]}')\n",
    "        #print(f'Predicted class: {rf.predict(sample)[0]}')\n",
    "\n",
    "        # Explain the prediction for the chosen sample\n",
    "        LIME_explanation = LIME_explainer.explain_instance(sample[0], rf.predict_proba, num_features=46, num_samples=2000, top_labels=20)\n",
    "        #AA= np.array(exp.local_pred, dtype==int)\n",
    "        Lime_fidelity.append(LIME_explanation.score)\n",
    "\n",
    "\n",
    "        #Data_row = x_test.iloc[[3], :]\n",
    "        Predicted_class= rf.predict(data_row)[0]\n",
    "\n",
    "\n",
    "        shap_values_single_instance = Shap_explainer.shap_values(data_row, nsamples=2000, l1_reg=\"num_features(28)\")\n",
    "        shap_fedilty= ((rf.predict_proba(data_row)[0][Predicted_class]) /\n",
    "                    (Shap_explainer.fnull[Predicted_class] + np.sum(np.abs(shap_values_single_instance[Predicted_class]))))\n",
    "        Shap_fidelity.append(shap_fedilty)\n",
    "\n",
    "\n",
    "    fidelity_Plot_Data[y_test.name]=[Shap_fidelity, Lime_fidelity]\n",
    "    \n",
    "    return fidelity_Plot_Data\n"
   ]
  },
  {
   "cell_type": "code",
   "execution_count": 17,
   "id": "6e0f07b0",
   "metadata": {},
   "outputs": [
    {
     "name": "stdout",
     "output_type": "stream",
     "text": [
      "Intercept 0.18323335798327903\n",
      "Prediction_local [-0.01131777]\n",
      "Right: 0.0\n",
      "Intercept 0.05046251879484143\n",
      "Prediction_local [0.22293556]\n",
      "Right: 0.05\n",
      "Intercept 0.7113685916881789\n",
      "Prediction_local [0.14357171]\n",
      "Right: 0.07\n",
      "Intercept -0.16576704847336288\n",
      "Prediction_local [0.27694297]\n",
      "Right: 0.22\n",
      "Intercept 0.22169543700187172\n",
      "Prediction_local [0.36778212]\n",
      "Right: 0.66\n"
     ]
    },
    {
     "data": {
      "application/vnd.jupyter.widget-view+json": {
       "model_id": "0a07ebcccdee4a88afc763776b050487",
       "version_major": 2,
       "version_minor": 0
      },
      "text/plain": [
       "  0%|          | 0/1 [00:00<?, ?it/s]"
      ]
     },
     "metadata": {},
     "output_type": "display_data"
    },
    {
     "name": "stdout",
     "output_type": "stream",
     "text": [
      "Intercept 0.16408434803884686\n",
      "Prediction_local [0.02183111]\n",
      "Right: 0.0\n",
      "Intercept 0.723323233147888\n",
      "Prediction_local [0.08331935]\n",
      "Right: 0.01\n",
      "Intercept -0.11073512184256643\n",
      "Prediction_local [0.20988586]\n",
      "Right: 0.14\n",
      "Intercept -0.07500616659129472\n",
      "Prediction_local [0.32894555]\n",
      "Right: 0.24\n",
      "Intercept 0.29784956507921073\n",
      "Prediction_local [0.35599572]\n",
      "Right: 0.61\n"
     ]
    },
    {
     "data": {
      "application/vnd.jupyter.widget-view+json": {
       "model_id": "0974cb8e3b2644db85ef16c90b172c85",
       "version_major": 2,
       "version_minor": 0
      },
      "text/plain": [
       "  0%|          | 0/1 [00:00<?, ?it/s]"
      ]
     },
     "metadata": {},
     "output_type": "display_data"
    },
    {
     "name": "stdout",
     "output_type": "stream",
     "text": [
      "Intercept 0.1433331518144791\n",
      "Prediction_local [0.01544787]\n",
      "Right: 0.0\n",
      "Intercept 0.6341510301920598\n",
      "Prediction_local [0.09804852]\n",
      "Right: 0.0\n",
      "Intercept -0.09381566589906579\n",
      "Prediction_local [0.20882489]\n",
      "Right: 0.01\n",
      "Intercept -0.0634087800192284\n",
      "Prediction_local [0.29212937]\n",
      "Right: 0.04\n",
      "Intercept 0.37841739561848314\n",
      "Prediction_local [0.38604929]\n",
      "Right: 0.95\n"
     ]
    },
    {
     "data": {
      "application/vnd.jupyter.widget-view+json": {
       "model_id": "e4aea644ae7c4310bce2f1b58b4b9520",
       "version_major": 2,
       "version_minor": 0
      },
      "text/plain": [
       "  0%|          | 0/1 [00:00<?, ?it/s]"
      ]
     },
     "metadata": {},
     "output_type": "display_data"
    },
    {
     "name": "stdout",
     "output_type": "stream",
     "text": [
      "Intercept 0.0010237547249064283\n",
      "Prediction_local [0.1205347]\n",
      "Right: 0.0\n",
      "Intercept 0.6919609743570643\n",
      "Prediction_local [0.11135493]\n",
      "Right: 0.0\n",
      "Intercept 0.08452943378041987\n",
      "Prediction_local [0.06350307]\n",
      "Right: 0.2843333333333334\n",
      "Intercept 0.003091790020092966\n",
      "Prediction_local [0.30148945]\n",
      "Right: 0.30999999999999994\n",
      "Intercept 0.21963693066903345\n",
      "Prediction_local [0.40190246]\n",
      "Right: 0.4056666666666667\n"
     ]
    },
    {
     "data": {
      "application/vnd.jupyter.widget-view+json": {
       "model_id": "06406b40431c4510affe47ef2bd92df0",
       "version_major": 2,
       "version_minor": 0
      },
      "text/plain": [
       "  0%|          | 0/1 [00:00<?, ?it/s]"
      ]
     },
     "metadata": {},
     "output_type": "display_data"
    },
    {
     "name": "stdout",
     "output_type": "stream",
     "text": [
      "Intercept 0.7130209776524692\n",
      "Prediction_local [0.09555431]\n",
      "Right: 0.01\n",
      "Intercept -0.03098024410949371\n",
      "Prediction_local [0.19578809]\n",
      "Right: 0.03\n",
      "Intercept 0.11837658080607896\n",
      "Prediction_local [0.02320178]\n",
      "Right: 0.04\n",
      "Intercept -0.15417493132516014\n",
      "Prediction_local [0.34434446]\n",
      "Right: 0.16\n",
      "Intercept 0.35568684061138406\n",
      "Prediction_local [0.34103116]\n",
      "Right: 0.76\n"
     ]
    },
    {
     "data": {
      "application/vnd.jupyter.widget-view+json": {
       "model_id": "3c4fbd3e1c714ee9b6dda9f7bcee8f18",
       "version_major": 2,
       "version_minor": 0
      },
      "text/plain": [
       "  0%|          | 0/1 [00:00<?, ?it/s]"
      ]
     },
     "metadata": {},
     "output_type": "display_data"
    },
    {
     "name": "stdout",
     "output_type": "stream",
     "text": [
      "Intercept 0.01537911493792346\n",
      "Prediction_local [0.13001861]\n",
      "Right: 0.03\n",
      "Intercept 0.7259508819030627\n",
      "Prediction_local [0.12053808]\n",
      "Right: 0.03\n",
      "Intercept 0.12014763361992394\n",
      "Prediction_local [0.04001551]\n",
      "Right: 0.11\n",
      "Intercept -0.17347285708433452\n",
      "Prediction_local [0.30318339]\n",
      "Right: 0.17\n",
      "Intercept 0.31255444047118147\n",
      "Prediction_local [0.40569101]\n",
      "Right: 0.66\n"
     ]
    },
    {
     "data": {
      "application/vnd.jupyter.widget-view+json": {
       "model_id": "0771baec03094660917605f4a4ced582",
       "version_major": 2,
       "version_minor": 0
      },
      "text/plain": [
       "  0%|          | 0/1 [00:00<?, ?it/s]"
      ]
     },
     "metadata": {},
     "output_type": "display_data"
    },
    {
     "name": "stdout",
     "output_type": "stream",
     "text": [
      "Intercept 0.595916964408606\n",
      "Prediction_local [0.06277658]\n",
      "Right: 0.0\n",
      "Intercept -0.09086646986514421\n",
      "Prediction_local [0.16813645]\n",
      "Right: 0.11\n",
      "Intercept 0.1396467048103223\n",
      "Prediction_local [0.05724147]\n",
      "Right: 0.17\n",
      "Intercept -0.027690503522753374\n",
      "Prediction_local [0.32905188]\n",
      "Right: 0.35\n",
      "Intercept 0.38306072720770135\n",
      "Prediction_local [0.3825895]\n",
      "Right: 0.37\n"
     ]
    },
    {
     "data": {
      "application/vnd.jupyter.widget-view+json": {
       "model_id": "1adc1e93a73b48fb9bd693b13727f912",
       "version_major": 2,
       "version_minor": 0
      },
      "text/plain": [
       "  0%|          | 0/1 [00:00<?, ?it/s]"
      ]
     },
     "metadata": {},
     "output_type": "display_data"
    },
    {
     "name": "stdout",
     "output_type": "stream",
     "text": [
      "Intercept -0.02193431772607507\n",
      "Prediction_local [0.21177141]\n",
      "Right: 0.0\n",
      "Intercept 0.6868576509977724\n",
      "Prediction_local [0.11555575]\n",
      "Right: 0.0\n",
      "Intercept -0.1412157162665315\n",
      "Prediction_local [0.30307833]\n",
      "Right: 0.03935795542634569\n",
      "Intercept 0.16630581843900466\n",
      "Prediction_local [0.01652804]\n",
      "Right: 0.09118161610961169\n",
      "Intercept 0.3108339119408169\n",
      "Prediction_local [0.35310088]\n",
      "Right: 0.8694604284640424\n"
     ]
    },
    {
     "data": {
      "application/vnd.jupyter.widget-view+json": {
       "model_id": "e2e31f3291d642969f9b5190a0775481",
       "version_major": 2,
       "version_minor": 0
      },
      "text/plain": [
       "  0%|          | 0/1 [00:00<?, ?it/s]"
      ]
     },
     "metadata": {},
     "output_type": "display_data"
    },
    {
     "name": "stdout",
     "output_type": "stream",
     "text": [
      "Intercept -0.020770206531218027\n",
      "Prediction_local [0.21194276]\n",
      "Right: 0.0\n",
      "Intercept 0.6546903597807121\n",
      "Prediction_local [0.12877615]\n",
      "Right: 0.03\n",
      "Intercept 0.16244197366878144\n",
      "Prediction_local [-0.00103721]\n",
      "Right: 0.1\n",
      "Intercept -0.11707652924278805\n",
      "Prediction_local [0.30149199]\n",
      "Right: 0.2\n",
      "Intercept 0.32264694878066674\n",
      "Prediction_local [0.35841437]\n",
      "Right: 0.67\n"
     ]
    },
    {
     "data": {
      "application/vnd.jupyter.widget-view+json": {
       "model_id": "919cb68a27514e7fa80960df78205b91",
       "version_major": 2,
       "version_minor": 0
      },
      "text/plain": [
       "  0%|          | 0/1 [00:00<?, ?it/s]"
      ]
     },
     "metadata": {},
     "output_type": "display_data"
    },
    {
     "name": "stdout",
     "output_type": "stream",
     "text": [
      "Intercept 0.6634447658769744\n",
      "Prediction_local [0.12029411]\n",
      "Right: 0.0\n",
      "Intercept 0.12657193297244007\n",
      "Prediction_local [0.02562526]\n",
      "Right: 0.01\n",
      "Intercept 0.05265043882311356\n",
      "Prediction_local [0.18521566]\n",
      "Right: 0.01\n",
      "Intercept -0.20620850780519612\n",
      "Prediction_local [0.29750085]\n",
      "Right: 0.1\n",
      "Intercept 0.36407043585233406\n",
      "Prediction_local [0.37137067]\n",
      "Right: 0.88\n"
     ]
    },
    {
     "data": {
      "application/vnd.jupyter.widget-view+json": {
       "model_id": "34a941ecb3d74367951704287ac7f703",
       "version_major": 2,
       "version_minor": 0
      },
      "text/plain": [
       "  0%|          | 0/1 [00:00<?, ?it/s]"
      ]
     },
     "metadata": {},
     "output_type": "display_data"
    },
    {
     "name": "stdout",
     "output_type": "stream",
     "text": [
      "Intercept 0.7311494174559269\n",
      "Prediction_local [0.08351338]\n",
      "Right: 0.01\n",
      "Intercept 0.1265585806856774\n",
      "Prediction_local [0.01242729]\n",
      "Right: 0.02\n",
      "Intercept 0.026487775698666283\n",
      "Prediction_local [0.23859594]\n",
      "Right: 0.1925\n",
      "Intercept -0.12998778637258301\n",
      "Prediction_local [0.30936076]\n",
      "Right: 0.30625\n",
      "Intercept 0.24579425102444868\n",
      "Prediction_local [0.35610683]\n",
      "Right: 0.47125\n"
     ]
    },
    {
     "data": {
      "application/vnd.jupyter.widget-view+json": {
       "model_id": "3b646e3dc4e64b7ba88d3a06e37cf5f3",
       "version_major": 2,
       "version_minor": 0
      },
      "text/plain": [
       "  0%|          | 0/1 [00:00<?, ?it/s]"
      ]
     },
     "metadata": {},
     "output_type": "display_data"
    },
    {
     "name": "stdout",
     "output_type": "stream",
     "text": [
      "Intercept 0.0830519167508542\n",
      "Prediction_local [0.02794984]\n",
      "Right: 0.0\n",
      "Intercept 0.03294888460047515\n",
      "Prediction_local [0.16973998]\n",
      "Right: 0.04\n",
      "Intercept 0.6735398446553669\n",
      "Prediction_local [0.1267945]\n",
      "Right: 0.11\n",
      "Intercept -0.21854483034645322\n",
      "Prediction_local [0.35088638]\n",
      "Right: 0.29\n",
      "Intercept 0.42973479716585705\n",
      "Prediction_local [0.32447995]\n",
      "Right: 0.56\n"
     ]
    },
    {
     "data": {
      "application/vnd.jupyter.widget-view+json": {
       "model_id": "bca3cc7aba5b404db9596b6f9fb82f99",
       "version_major": 2,
       "version_minor": 0
      },
      "text/plain": [
       "  0%|          | 0/1 [00:00<?, ?it/s]"
      ]
     },
     "metadata": {},
     "output_type": "display_data"
    },
    {
     "name": "stdout",
     "output_type": "stream",
     "text": [
      "Intercept -0.13389969964491835\n",
      "Prediction_local [0.17258451]\n",
      "Right: 0.0\n",
      "Intercept 0.12356847913667862\n",
      "Prediction_local [0.05054091]\n",
      "Right: 0.02\n",
      "Intercept 0.6428108545291249\n",
      "Prediction_local [0.10397491]\n",
      "Right: 0.07\n",
      "Intercept -0.1258754534959619\n",
      "Prediction_local [0.31379889]\n",
      "Right: 0.32935714285714285\n",
      "Intercept 0.4930524962954676\n",
      "Prediction_local [0.35902352]\n",
      "Right: 0.580642857142857\n"
     ]
    },
    {
     "data": {
      "application/vnd.jupyter.widget-view+json": {
       "model_id": "23c535f4018c4ae8b19428a27a0ebea5",
       "version_major": 2,
       "version_minor": 0
      },
      "text/plain": [
       "  0%|          | 0/1 [00:00<?, ?it/s]"
      ]
     },
     "metadata": {},
     "output_type": "display_data"
    },
    {
     "name": "stdout",
     "output_type": "stream",
     "text": [
      "Intercept 0.14480462115973367\n",
      "Prediction_local [-0.00065415]\n",
      "Right: 0.0\n",
      "Intercept -0.024461289077650522\n",
      "Prediction_local [0.21322112]\n",
      "Right: 0.02\n",
      "Intercept 0.6090497060936156\n",
      "Prediction_local [0.12826975]\n",
      "Right: 0.03\n",
      "Intercept -0.00307681147816824\n",
      "Prediction_local [0.27750834]\n",
      "Right: 0.25\n",
      "Intercept 0.2734226675810082\n",
      "Prediction_local [0.38205924]\n",
      "Right: 0.7\n"
     ]
    },
    {
     "data": {
      "application/vnd.jupyter.widget-view+json": {
       "model_id": "c727fb1ce4a14a5991066e86fb18f656",
       "version_major": 2,
       "version_minor": 0
      },
      "text/plain": [
       "  0%|          | 0/1 [00:00<?, ?it/s]"
      ]
     },
     "metadata": {},
     "output_type": "display_data"
    },
    {
     "name": "stdout",
     "output_type": "stream",
     "text": [
      "Intercept 0.6231427688095188\n",
      "Prediction_local [0.0946228]\n",
      "Right: 0.0\n",
      "Intercept 0.02702050375629722\n",
      "Prediction_local [0.1510252]\n",
      "Right: 0.01\n",
      "Intercept 0.10958467671146123\n",
      "Prediction_local [0.03682437]\n",
      "Right: 0.02\n",
      "Intercept -0.0890720464338417\n",
      "Prediction_local [0.32188901]\n",
      "Right: 0.04\n",
      "Intercept 0.33087867115999275\n",
      "Prediction_local [0.39533873]\n",
      "Right: 0.93\n"
     ]
    },
    {
     "data": {
      "application/vnd.jupyter.widget-view+json": {
       "model_id": "fe757d278a3d429382861a3e78f5e2bd",
       "version_major": 2,
       "version_minor": 0
      },
      "text/plain": [
       "  0%|          | 0/1 [00:00<?, ?it/s]"
      ]
     },
     "metadata": {},
     "output_type": "display_data"
    },
    {
     "name": "stdout",
     "output_type": "stream",
     "text": [
      "Intercept 0.11970116420313498\n",
      "Prediction_local [0.07932559]\n",
      "Right: 0.0\n",
      "Intercept 0.12072913057393767\n",
      "Prediction_local [0.06766715]\n",
      "Right: 0.01\n",
      "Intercept 0.2331405061898767\n",
      "Prediction_local [0.31266999]\n",
      "Right: 0.01\n",
      "Intercept 0.19592068238069588\n",
      "Prediction_local [0.23171374]\n",
      "Right: 0.02\n",
      "Intercept 0.3301864291937345\n",
      "Prediction_local [0.30858982]\n",
      "Right: 0.96\n"
     ]
    },
    {
     "data": {
      "application/vnd.jupyter.widget-view+json": {
       "model_id": "c7db12ba06404b0dbd53488a510a8a0e",
       "version_major": 2,
       "version_minor": 0
      },
      "text/plain": [
       "  0%|          | 0/1 [00:00<?, ?it/s]"
      ]
     },
     "metadata": {},
     "output_type": "display_data"
    },
    {
     "name": "stdout",
     "output_type": "stream",
     "text": [
      "Intercept 0.026481666559858744\n",
      "Prediction_local [0.0509862]\n",
      "Right: 0.0\n",
      "Intercept 0.021242933214200066\n",
      "Prediction_local [0.33692693]\n",
      "Right: 0.0\n",
      "Intercept 0.458158405026168\n",
      "Prediction_local [0.25746994]\n",
      "Right: 0.0\n",
      "Intercept 0.08824717028941101\n",
      "Prediction_local [0.20468606]\n",
      "Right: 0.0\n",
      "Intercept 0.4078571360460062\n",
      "Prediction_local [0.14962598]\n",
      "Right: 1.0\n"
     ]
    },
    {
     "data": {
      "application/vnd.jupyter.widget-view+json": {
       "model_id": "d92696b9136d4627a882852249557dcc",
       "version_major": 2,
       "version_minor": 0
      },
      "text/plain": [
       "  0%|          | 0/1 [00:00<?, ?it/s]"
      ]
     },
     "metadata": {},
     "output_type": "display_data"
    },
    {
     "name": "stdout",
     "output_type": "stream",
     "text": [
      "Intercept 0.12814751102134517\n",
      "Prediction_local [0.04211853]\n",
      "Right: 0.0\n",
      "Intercept 0.3460803000428001\n",
      "Prediction_local [0.2187772]\n",
      "Right: 0.01\n",
      "Intercept -0.10634123782358179\n",
      "Prediction_local [0.23846514]\n",
      "Right: 0.01\n",
      "Intercept 0.20340648609058665\n",
      "Prediction_local [0.30175464]\n",
      "Right: 0.04\n",
      "Intercept 0.4287516516894623\n",
      "Prediction_local [0.19882426]\n",
      "Right: 0.94\n"
     ]
    },
    {
     "data": {
      "application/vnd.jupyter.widget-view+json": {
       "model_id": "1601c397138a43f5873d695d0c534720",
       "version_major": 2,
       "version_minor": 0
      },
      "text/plain": [
       "  0%|          | 0/1 [00:00<?, ?it/s]"
      ]
     },
     "metadata": {},
     "output_type": "display_data"
    },
    {
     "name": "stdout",
     "output_type": "stream",
     "text": [
      "Intercept 0.10573575259193668\n",
      "Prediction_local [0.06801097]\n",
      "Right: 0.0\n",
      "Intercept 0.21653231187463842\n",
      "Prediction_local [0.30299162]\n",
      "Right: 0.0\n",
      "Intercept 0.17865556118222975\n",
      "Prediction_local [-0.00241033]\n",
      "Right: 0.0\n",
      "Intercept 0.05542909562614712\n",
      "Prediction_local [0.31551986]\n",
      "Right: 0.02\n",
      "Intercept 0.4441252881259659\n",
      "Prediction_local [0.31482328]\n",
      "Right: 0.98\n"
     ]
    },
    {
     "data": {
      "application/vnd.jupyter.widget-view+json": {
       "model_id": "0c3a4b88374c4707a03ca3b292a70680",
       "version_major": 2,
       "version_minor": 0
      },
      "text/plain": [
       "  0%|          | 0/1 [00:00<?, ?it/s]"
      ]
     },
     "metadata": {},
     "output_type": "display_data"
    },
    {
     "name": "stdout",
     "output_type": "stream",
     "text": [
      "Intercept 0.02895148329116728\n",
      "Prediction_local [0.08281179]\n",
      "Right: 0.0\n",
      "Intercept 0.02201683514667374\n",
      "Prediction_local [0.13566125]\n",
      "Right: 0.0\n",
      "Intercept 0.06307425115441001\n",
      "Prediction_local [0.26996645]\n",
      "Right: 0.02\n",
      "Intercept 0.40813744516625744\n",
      "Prediction_local [0.26438363]\n",
      "Right: 0.05\n",
      "Intercept 0.4767339127478591\n",
      "Prediction_local [0.24869091]\n",
      "Right: 0.93\n"
     ]
    },
    {
     "data": {
      "application/vnd.jupyter.widget-view+json": {
       "model_id": "3da59425f8d54932b23690ef78a6556b",
       "version_major": 2,
       "version_minor": 0
      },
      "text/plain": [
       "  0%|          | 0/1 [00:00<?, ?it/s]"
      ]
     },
     "metadata": {},
     "output_type": "display_data"
    },
    {
     "name": "stdout",
     "output_type": "stream",
     "text": [
      "Intercept 0.12788604104144075\n",
      "Prediction_local [0.06140587]\n",
      "Right: 0.0\n",
      "Intercept 0.2521377732180234\n",
      "Prediction_local [0.27203759]\n",
      "Right: 0.0\n",
      "Intercept 0.1652568945722016\n",
      "Prediction_local [0.17682708]\n",
      "Right: 0.01\n",
      "Intercept 0.04894354827982633\n",
      "Prediction_local [0.3250386]\n",
      "Right: 0.02\n",
      "Intercept 0.4050029807541348\n",
      "Prediction_local [0.16410272]\n",
      "Right: 0.97\n"
     ]
    },
    {
     "data": {
      "application/vnd.jupyter.widget-view+json": {
       "model_id": "3f6fc3a3e7fe4b06822f5c1309b4a588",
       "version_major": 2,
       "version_minor": 0
      },
      "text/plain": [
       "  0%|          | 0/1 [00:00<?, ?it/s]"
      ]
     },
     "metadata": {},
     "output_type": "display_data"
    },
    {
     "name": "stdout",
     "output_type": "stream",
     "text": [
      "Intercept 0.050220976435686134\n",
      "Prediction_local [0.06740919]\n",
      "Right: 0.0\n",
      "Intercept 0.051518034284691844\n",
      "Prediction_local [0.16145931]\n",
      "Right: 0.01\n",
      "Intercept 0.3096342629294659\n",
      "Prediction_local [0.2613782]\n",
      "Right: 0.04\n",
      "Intercept 0.04960780926994318\n",
      "Prediction_local [0.30922534]\n",
      "Right: 0.05\n",
      "Intercept 0.539478745192023\n",
      "Prediction_local [0.20054253]\n",
      "Right: 0.9\n"
     ]
    },
    {
     "data": {
      "application/vnd.jupyter.widget-view+json": {
       "model_id": "706276cdc1984112bf5a83f1b08c98df",
       "version_major": 2,
       "version_minor": 0
      },
      "text/plain": [
       "  0%|          | 0/1 [00:00<?, ?it/s]"
      ]
     },
     "metadata": {},
     "output_type": "display_data"
    },
    {
     "name": "stdout",
     "output_type": "stream",
     "text": [
      "Intercept 0.07635737482857542\n",
      "Prediction_local [0.02512296]\n",
      "Right: 0.0\n",
      "Intercept 0.16168402444187818\n",
      "Prediction_local [0.09420893]\n",
      "Right: 0.0\n",
      "Intercept 0.3663718057333872\n",
      "Prediction_local [0.29505047]\n",
      "Right: 0.01\n",
      "Intercept 0.20270087413670962\n",
      "Prediction_local [0.23958615]\n",
      "Right: 0.03\n",
      "Intercept 0.1916023936365664\n",
      "Prediction_local [0.34579552]\n",
      "Right: 0.96\n"
     ]
    },
    {
     "data": {
      "application/vnd.jupyter.widget-view+json": {
       "model_id": "5d37655f6bdd45348b82eea7b21598e6",
       "version_major": 2,
       "version_minor": 0
      },
      "text/plain": [
       "  0%|          | 0/1 [00:00<?, ?it/s]"
      ]
     },
     "metadata": {},
     "output_type": "display_data"
    },
    {
     "name": "stdout",
     "output_type": "stream",
     "text": [
      "Intercept 0.11247436861667925\n",
      "Prediction_local [0.03128296]\n",
      "Right: 0.0\n",
      "Intercept 0.1812567942156217\n",
      "Prediction_local [0.05760374]\n",
      "Right: 0.07\n",
      "Intercept 0.1868827570193597\n",
      "Prediction_local [0.34895805]\n",
      "Right: 0.09\n",
      "Intercept 0.15698414061962543\n",
      "Prediction_local [0.26657768]\n",
      "Right: 0.16\n",
      "Intercept 0.3629731004833904\n",
      "Prediction_local [0.29560456]\n",
      "Right: 0.68\n"
     ]
    },
    {
     "data": {
      "application/vnd.jupyter.widget-view+json": {
       "model_id": "d8150a7853834cd690693fbac37e4ef1",
       "version_major": 2,
       "version_minor": 0
      },
      "text/plain": [
       "  0%|          | 0/1 [00:00<?, ?it/s]"
      ]
     },
     "metadata": {},
     "output_type": "display_data"
    },
    {
     "name": "stdout",
     "output_type": "stream",
     "text": [
      "Intercept 0.10005060131378227\n",
      "Prediction_local [0.03297396]\n",
      "Right: 0.0\n",
      "Intercept 0.3770419762509348\n",
      "Prediction_local [0.24707453]\n",
      "Right: 0.01\n",
      "Intercept -0.09717150418357381\n",
      "Prediction_local [0.21966374]\n",
      "Right: 0.01\n",
      "Intercept 0.2104365268782979\n",
      "Prediction_local [0.27950166]\n",
      "Right: 0.03\n",
      "Intercept 0.41054209519253543\n",
      "Prediction_local [0.22077024]\n",
      "Right: 0.95\n"
     ]
    },
    {
     "data": {
      "application/vnd.jupyter.widget-view+json": {
       "model_id": "e27fb6f5e9d1472d9d6997aa76d0befe",
       "version_major": 2,
       "version_minor": 0
      },
      "text/plain": [
       "  0%|          | 0/1 [00:00<?, ?it/s]"
      ]
     },
     "metadata": {},
     "output_type": "display_data"
    },
    {
     "name": "stdout",
     "output_type": "stream",
     "text": [
      "Intercept 0.05981872598977161\n",
      "Prediction_local [0.08195733]\n",
      "Right: 0.0\n",
      "Intercept 0.17102710525965814\n",
      "Prediction_local [0.32120168]\n",
      "Right: 0.0\n",
      "Intercept 0.36675556703385354\n",
      "Prediction_local [0.2665634]\n",
      "Right: 0.0\n",
      "Intercept -0.033622528185228845\n",
      "Prediction_local [0.14776882]\n",
      "Right: 0.0\n",
      "Intercept 0.43544390081632833\n",
      "Prediction_local [0.18195872]\n",
      "Right: 1.0\n"
     ]
    },
    {
     "data": {
      "application/vnd.jupyter.widget-view+json": {
       "model_id": "82533d0531524a429f5c53a05d9628ff",
       "version_major": 2,
       "version_minor": 0
      },
      "text/plain": [
       "  0%|          | 0/1 [00:00<?, ?it/s]"
      ]
     },
     "metadata": {},
     "output_type": "display_data"
    },
    {
     "name": "stdout",
     "output_type": "stream",
     "text": [
      "Intercept 0.24183959038954406\n",
      "Prediction_local [0.0262012]\n",
      "Right: 0.0\n",
      "Intercept 0.10717423241389634\n",
      "Prediction_local [0.2798229]\n",
      "Right: 0.0\n",
      "Intercept -0.06514393677125777\n",
      "Prediction_local [0.25388298]\n",
      "Right: 0.01\n",
      "Intercept 0.33486284258769605\n",
      "Prediction_local [0.26064044]\n",
      "Right: 0.03\n",
      "Intercept 0.38031615404712815\n",
      "Prediction_local [0.17941952]\n",
      "Right: 0.96\n"
     ]
    },
    {
     "data": {
      "application/vnd.jupyter.widget-view+json": {
       "model_id": "728f33c12f3348cab0a818f8375cc90a",
       "version_major": 2,
       "version_minor": 0
      },
      "text/plain": [
       "  0%|          | 0/1 [00:00<?, ?it/s]"
      ]
     },
     "metadata": {},
     "output_type": "display_data"
    },
    {
     "name": "stdout",
     "output_type": "stream",
     "text": [
      "Intercept 0.03306270615802168\n",
      "Prediction_local [0.02761664]\n",
      "Right: 0.01\n",
      "Intercept 0.23842439696163634\n",
      "Prediction_local [0.0625996]\n",
      "Right: 0.01\n",
      "Intercept 0.19387251050015297\n",
      "Prediction_local [0.22313791]\n",
      "Right: 0.03\n",
      "Intercept 0.24386534621532005\n",
      "Prediction_local [0.31517466]\n",
      "Right: 0.03\n",
      "Intercept 0.2919659223832871\n",
      "Prediction_local [0.37099922]\n",
      "Right: 0.92\n"
     ]
    },
    {
     "data": {
      "application/vnd.jupyter.widget-view+json": {
       "model_id": "2942e2e37a914aa0899cc6079e0e0ae3",
       "version_major": 2,
       "version_minor": 0
      },
      "text/plain": [
       "  0%|          | 0/1 [00:00<?, ?it/s]"
      ]
     },
     "metadata": {},
     "output_type": "display_data"
    },
    {
     "name": "stdout",
     "output_type": "stream",
     "text": [
      "Intercept 0.05864138186795809\n",
      "Prediction_local [0.01742738]\n",
      "Right: 0.0\n",
      "Intercept 0.2956956283699435\n",
      "Prediction_local [0.26294421]\n",
      "Right: 0.02\n",
      "Intercept 0.030210774599168988\n",
      "Prediction_local [0.2461644]\n",
      "Right: 0.06\n",
      "Intercept 0.11950032471306077\n",
      "Prediction_local [0.3137454]\n",
      "Right: 0.19\n",
      "Intercept 0.49649394808413017\n",
      "Prediction_local [0.15965236]\n",
      "Right: 0.73\n"
     ]
    },
    {
     "data": {
      "application/vnd.jupyter.widget-view+json": {
       "model_id": "9004aad413d94c428eb33a8655de8aea",
       "version_major": 2,
       "version_minor": 0
      },
      "text/plain": [
       "  0%|          | 0/1 [00:00<?, ?it/s]"
      ]
     },
     "metadata": {},
     "output_type": "display_data"
    },
    {
     "name": "stdout",
     "output_type": "stream",
     "text": [
      "Intercept 0.19510056340870274\n",
      "Prediction_local [0.02071763]\n",
      "Right: 0.0\n",
      "Intercept 0.1351798563254345\n",
      "Prediction_local [0.11398693]\n",
      "Right: 0.0\n",
      "Intercept 0.1575960624207862\n",
      "Prediction_local [0.25899147]\n",
      "Right: 0.03\n",
      "Intercept 0.24719550611106028\n",
      "Prediction_local [0.28622619]\n",
      "Right: 0.05\n",
      "Intercept 0.2642852894091837\n",
      "Prediction_local [0.32005771]\n",
      "Right: 0.92\n"
     ]
    },
    {
     "data": {
      "application/vnd.jupyter.widget-view+json": {
       "model_id": "eb9f7eb30b0b485fa7d1895d04bb9004",
       "version_major": 2,
       "version_minor": 0
      },
      "text/plain": [
       "  0%|          | 0/1 [00:00<?, ?it/s]"
      ]
     },
     "metadata": {},
     "output_type": "display_data"
    },
    {
     "name": "stdout",
     "output_type": "stream",
     "text": [
      "Intercept -0.12488658714667975\n",
      "Prediction_local [0.14908955]\n",
      "Right: 0.0\n",
      "Intercept -0.024414294498099412\n",
      "Prediction_local [0.07188512]\n",
      "Right: 0.0\n",
      "Intercept 0.21005156588467244\n",
      "Prediction_local [0.24749285]\n",
      "Right: 0.0\n",
      "Intercept 0.8957292360775342\n",
      "Prediction_local [0.35629521]\n",
      "Right: 0.0\n",
      "Intercept 0.04546251397056353\n",
      "Prediction_local [0.17495622]\n",
      "Right: 1.0\n"
     ]
    },
    {
     "data": {
      "application/vnd.jupyter.widget-view+json": {
       "model_id": "91b2138b62f441638e6bf3276ba544ff",
       "version_major": 2,
       "version_minor": 0
      },
      "text/plain": [
       "  0%|          | 0/1 [00:00<?, ?it/s]"
      ]
     },
     "metadata": {},
     "output_type": "display_data"
    },
    {
     "name": "stdout",
     "output_type": "stream",
     "text": [
      "Intercept -0.08133168744987232\n",
      "Prediction_local [0.11651357]\n",
      "Right: 0.0\n",
      "Intercept 0.14092308099440534\n",
      "Prediction_local [0.00430526]\n",
      "Right: 0.0\n",
      "Intercept 0.17920963719005184\n",
      "Prediction_local [0.33003203]\n",
      "Right: 0.0\n",
      "Intercept 0.6814488515753256\n",
      "Prediction_local [0.33346652]\n",
      "Right: 0.0\n",
      "Intercept 0.080838960809179\n",
      "Prediction_local [0.21489865]\n",
      "Right: 1.0\n"
     ]
    },
    {
     "data": {
      "application/vnd.jupyter.widget-view+json": {
       "model_id": "24db5b43247446959b80f7a05c296b6b",
       "version_major": 2,
       "version_minor": 0
      },
      "text/plain": [
       "  0%|          | 0/1 [00:00<?, ?it/s]"
      ]
     },
     "metadata": {},
     "output_type": "display_data"
    },
    {
     "name": "stdout",
     "output_type": "stream",
     "text": [
      "Intercept -0.08750563107984767\n",
      "Prediction_local [0.1539413]\n",
      "Right: 0.0\n",
      "Intercept 0.04745433159534626\n",
      "Prediction_local [0.07132622]\n",
      "Right: 0.0\n",
      "Intercept 0.7722303594383781\n",
      "Prediction_local [0.35446341]\n",
      "Right: 0.01\n",
      "Intercept 0.13046147017583862\n",
      "Prediction_local [0.25500513]\n",
      "Right: 0.02\n",
      "Intercept 0.13897180782036692\n",
      "Prediction_local [0.16464169]\n",
      "Right: 0.97\n"
     ]
    },
    {
     "data": {
      "application/vnd.jupyter.widget-view+json": {
       "model_id": "8c3214cf037b43feaf53be97beacb1d8",
       "version_major": 2,
       "version_minor": 0
      },
      "text/plain": [
       "  0%|          | 0/1 [00:00<?, ?it/s]"
      ]
     },
     "metadata": {},
     "output_type": "display_data"
    },
    {
     "name": "stdout",
     "output_type": "stream",
     "text": [
      "Intercept 0.054716346077533416\n",
      "Prediction_local [0.01119599]\n",
      "Right: 0.0\n",
      "Intercept 0.1865357982103079\n",
      "Prediction_local [0.32298585]\n",
      "Right: 0.0\n",
      "Intercept -0.003709620025073246\n",
      "Prediction_local [0.10836964]\n",
      "Right: 0.02\n",
      "Intercept 0.7304511506818134\n",
      "Prediction_local [0.3415529]\n",
      "Right: 0.1\n",
      "Intercept 0.03008058483057169\n",
      "Prediction_local [0.21644932]\n",
      "Right: 0.88\n"
     ]
    },
    {
     "data": {
      "application/vnd.jupyter.widget-view+json": {
       "model_id": "aef3b3ddba31433b8d20824f20facb34",
       "version_major": 2,
       "version_minor": 0
      },
      "text/plain": [
       "  0%|          | 0/1 [00:00<?, ?it/s]"
      ]
     },
     "metadata": {},
     "output_type": "display_data"
    },
    {
     "name": "stdout",
     "output_type": "stream",
     "text": [
      "Intercept 0.023668520701446816\n",
      "Prediction_local [0.04788726]\n",
      "Right: 0.0\n",
      "Intercept -0.04145264622821912\n",
      "Prediction_local [0.04384165]\n",
      "Right: 0.0\n",
      "Intercept 0.23369489575975722\n",
      "Prediction_local [0.22588888]\n",
      "Right: 0.0\n",
      "Intercept 0.5314702990636584\n",
      "Prediction_local [0.56668213]\n",
      "Right: 0.0\n",
      "Intercept 0.250908754439168\n",
      "Prediction_local [0.11550478]\n",
      "Right: 1.0\n"
     ]
    },
    {
     "data": {
      "application/vnd.jupyter.widget-view+json": {
       "model_id": "cf6ea030c9a14623ba9ff4431cac7af4",
       "version_major": 2,
       "version_minor": 0
      },
      "text/plain": [
       "  0%|          | 0/1 [00:00<?, ?it/s]"
      ]
     },
     "metadata": {},
     "output_type": "display_data"
    },
    {
     "name": "stdout",
     "output_type": "stream",
     "text": [
      "Intercept -0.015838828529460697\n",
      "Prediction_local [0.13853675]\n",
      "Right: 0.0\n",
      "Intercept -0.009604013208702876\n",
      "Prediction_local [0.05050473]\n",
      "Right: 0.0\n",
      "Intercept 0.17195204583387558\n",
      "Prediction_local [0.27471258]\n",
      "Right: 0.0\n",
      "Intercept 0.6945265261191775\n",
      "Prediction_local [0.35885196]\n",
      "Right: 0.0\n",
      "Intercept 0.15794058481322065\n",
      "Prediction_local [0.17734997]\n",
      "Right: 1.0\n"
     ]
    },
    {
     "data": {
      "application/vnd.jupyter.widget-view+json": {
       "model_id": "052daea4173b4bc087e6fbcceefd2401",
       "version_major": 2,
       "version_minor": 0
      },
      "text/plain": [
       "  0%|          | 0/1 [00:00<?, ?it/s]"
      ]
     },
     "metadata": {},
     "output_type": "display_data"
    },
    {
     "name": "stdout",
     "output_type": "stream",
     "text": [
      "Intercept -0.04887537239673216\n",
      "Prediction_local [0.01592724]\n",
      "Right: 0.0\n",
      "Intercept -0.043193474508361904\n",
      "Prediction_local [0.12051121]\n",
      "Right: 0.03\n",
      "Intercept 0.17272398467498623\n",
      "Prediction_local [0.24957349]\n",
      "Right: 0.04\n",
      "Intercept 0.8003601569911845\n",
      "Prediction_local [0.39132109]\n",
      "Right: 0.12\n",
      "Intercept 0.12010447577534927\n",
      "Prediction_local [0.22250986]\n",
      "Right: 0.81\n"
     ]
    },
    {
     "data": {
      "application/vnd.jupyter.widget-view+json": {
       "model_id": "6dfb03513b4a44288d31d5858640506e",
       "version_major": 2,
       "version_minor": 0
      },
      "text/plain": [
       "  0%|          | 0/1 [00:00<?, ?it/s]"
      ]
     },
     "metadata": {},
     "output_type": "display_data"
    },
    {
     "name": "stdout",
     "output_type": "stream",
     "text": [
      "Intercept 0.05015961622123033\n",
      "Prediction_local [0.02637945]\n",
      "Right: 0.0\n",
      "Intercept 0.8277533400254752\n",
      "Prediction_local [0.32581017]\n",
      "Right: 0.0\n",
      "Intercept -0.01475693123593455\n",
      "Prediction_local [0.13518383]\n",
      "Right: 0.03\n",
      "Intercept 0.17232098943814622\n",
      "Prediction_local [0.30508669]\n",
      "Right: 0.04\n",
      "Intercept -0.03502646232610637\n",
      "Prediction_local [0.20755872]\n",
      "Right: 0.93\n"
     ]
    },
    {
     "data": {
      "application/vnd.jupyter.widget-view+json": {
       "model_id": "2c7e66704e8042e7a91d3472d90966e6",
       "version_major": 2,
       "version_minor": 0
      },
      "text/plain": [
       "  0%|          | 0/1 [00:00<?, ?it/s]"
      ]
     },
     "metadata": {},
     "output_type": "display_data"
    },
    {
     "name": "stdout",
     "output_type": "stream",
     "text": [
      "Intercept -0.1064981386685199\n",
      "Prediction_local [0.14599394]\n",
      "Right: 0.0\n",
      "Intercept -0.061204714145473\n",
      "Prediction_local [0.0656632]\n",
      "Right: 0.0\n",
      "Intercept 0.11193317906242925\n",
      "Prediction_local [0.29331763]\n",
      "Right: 0.0\n",
      "Intercept 0.8646526147010545\n",
      "Prediction_local [0.33600092]\n",
      "Right: 0.0\n",
      "Intercept 0.1914472832041924\n",
      "Prediction_local [0.15900445]\n",
      "Right: 1.0\n"
     ]
    },
    {
     "data": {
      "application/vnd.jupyter.widget-view+json": {
       "model_id": "d74e03c7988b4c1aaae39f926229fc35",
       "version_major": 2,
       "version_minor": 0
      },
      "text/plain": [
       "  0%|          | 0/1 [00:00<?, ?it/s]"
      ]
     },
     "metadata": {},
     "output_type": "display_data"
    },
    {
     "name": "stdout",
     "output_type": "stream",
     "text": [
      "Intercept -0.059662588824431484\n",
      "Prediction_local [0.05725338]\n",
      "Right: 0.01\n",
      "Intercept 0.21443405894698853\n",
      "Prediction_local [0.25120018]\n",
      "Right: 0.12\n",
      "Intercept 0.7873822014068523\n",
      "Prediction_local [0.35756062]\n",
      "Right: 0.16\n",
      "Intercept -0.0829173882446202\n",
      "Prediction_local [0.16706788]\n",
      "Right: 0.23\n",
      "Intercept 0.14363955957201835\n",
      "Prediction_local [0.16609659]\n",
      "Right: 0.48\n"
     ]
    },
    {
     "data": {
      "application/vnd.jupyter.widget-view+json": {
       "model_id": "afff9089cd4d4401966b3f8321a19d82",
       "version_major": 2,
       "version_minor": 0
      },
      "text/plain": [
       "  0%|          | 0/1 [00:00<?, ?it/s]"
      ]
     },
     "metadata": {},
     "output_type": "display_data"
    },
    {
     "name": "stdout",
     "output_type": "stream",
     "text": [
      "Intercept 0.10705062410169833\n",
      "Prediction_local [-0.02581414]\n",
      "Right: 0.0\n",
      "Intercept 0.1114081272738\n",
      "Prediction_local [0.0818604]\n",
      "Right: 0.01\n",
      "Intercept 0.7485999123343412\n",
      "Prediction_local [0.39878193]\n",
      "Right: 0.03\n",
      "Intercept -0.016987641311020485\n",
      "Prediction_local [0.37120103]\n",
      "Right: 0.05\n",
      "Intercept 0.05009853857990006\n",
      "Prediction_local [0.17360751]\n",
      "Right: 0.91\n"
     ]
    },
    {
     "data": {
      "application/vnd.jupyter.widget-view+json": {
       "model_id": "69bf6dce8744408a86ab712453fa2782",
       "version_major": 2,
       "version_minor": 0
      },
      "text/plain": [
       "  0%|          | 0/1 [00:00<?, ?it/s]"
      ]
     },
     "metadata": {},
     "output_type": "display_data"
    },
    {
     "name": "stdout",
     "output_type": "stream",
     "text": [
      "Intercept -0.07731085471982241\n",
      "Prediction_local [0.13383572]\n",
      "Right: 0.0\n",
      "Intercept 0.0834524922449244\n",
      "Prediction_local [0.01802484]\n",
      "Right: 0.0\n",
      "Intercept 0.14146946074337466\n",
      "Prediction_local [0.32805987]\n",
      "Right: 0.0\n",
      "Intercept 0.6712946883726935\n",
      "Prediction_local [0.34048464]\n",
      "Right: 0.0\n",
      "Intercept 0.17950354021072817\n",
      "Prediction_local [0.17968485]\n",
      "Right: 1.0\n"
     ]
    },
    {
     "data": {
      "application/vnd.jupyter.widget-view+json": {
       "model_id": "3fdf626de2b84a668783593aad0632e2",
       "version_major": 2,
       "version_minor": 0
      },
      "text/plain": [
       "  0%|          | 0/1 [00:00<?, ?it/s]"
      ]
     },
     "metadata": {},
     "output_type": "display_data"
    },
    {
     "name": "stdout",
     "output_type": "stream",
     "text": [
      "Intercept -0.005809273247297561\n",
      "Prediction_local [0.04060931]\n",
      "Right: 0.0\n",
      "Intercept 0.09226544542161169\n",
      "Prediction_local [-0.01395663]\n",
      "Right: 0.0\n",
      "Intercept 0.636729882664735\n",
      "Prediction_local [0.45569331]\n",
      "Right: 0.0\n",
      "Intercept 0.28317856956661003\n",
      "Prediction_local [0.17479506]\n",
      "Right: 0.01\n",
      "Intercept -0.006533222611813105\n",
      "Prediction_local [0.34256971]\n",
      "Right: 0.99\n"
     ]
    },
    {
     "data": {
      "application/vnd.jupyter.widget-view+json": {
       "model_id": "805569cb805845ec859ea36c8dcb364b",
       "version_major": 2,
       "version_minor": 0
      },
      "text/plain": [
       "  0%|          | 0/1 [00:00<?, ?it/s]"
      ]
     },
     "metadata": {},
     "output_type": "display_data"
    },
    {
     "name": "stdout",
     "output_type": "stream",
     "text": [
      "Intercept 0.10573282028214434\n",
      "Prediction_local [-0.00595819]\n",
      "Right: 0.0\n",
      "Intercept 0.08462831079856128\n",
      "Prediction_local [0.33707286]\n",
      "Right: 0.01\n",
      "Intercept 0.02597684886883342\n",
      "Prediction_local [0.07818552]\n",
      "Right: 0.03\n",
      "Intercept 0.7656829418567292\n",
      "Prediction_local [0.37642122]\n",
      "Right: 0.06\n",
      "Intercept 0.017551317431689764\n",
      "Prediction_local [0.21430982]\n",
      "Right: 0.9\n"
     ]
    },
    {
     "data": {
      "application/vnd.jupyter.widget-view+json": {
       "model_id": "2d53d511ed3a4896943f57ed73a0695e",
       "version_major": 2,
       "version_minor": 0
      },
      "text/plain": [
       "  0%|          | 0/1 [00:00<?, ?it/s]"
      ]
     },
     "metadata": {},
     "output_type": "display_data"
    },
    {
     "name": "stdout",
     "output_type": "stream",
     "text": [
      "Intercept -0.06569187000633718\n",
      "Prediction_local [0.08173396]\n",
      "Right: 0.0\n",
      "Intercept 0.07933626803596336\n",
      "Prediction_local [-0.0284092]\n",
      "Right: 0.0\n",
      "Intercept 0.15477514548660706\n",
      "Prediction_local [0.37897574]\n",
      "Right: 0.0\n",
      "Intercept 0.7538220326466305\n",
      "Prediction_local [0.40554009]\n",
      "Right: 0.0\n",
      "Intercept 0.07994986459616635\n",
      "Prediction_local [0.16192758]\n",
      "Right: 1.0\n"
     ]
    },
    {
     "data": {
      "application/vnd.jupyter.widget-view+json": {
       "model_id": "f0e44421abc142c9b48c22d793184670",
       "version_major": 2,
       "version_minor": 0
      },
      "text/plain": [
       "  0%|          | 0/1 [00:00<?, ?it/s]"
      ]
     },
     "metadata": {},
     "output_type": "display_data"
    },
    {
     "name": "stdout",
     "output_type": "stream",
     "text": [
      "Intercept 0.16452470106696276\n",
      "Prediction_local [-0.00413368]\n",
      "Right: 0.0\n",
      "Intercept 0.10239993143483195\n",
      "Prediction_local [0.33075411]\n",
      "Right: 0.01\n",
      "Intercept 0.8643662719421328\n",
      "Prediction_local [0.2718392]\n",
      "Right: 0.01\n",
      "Intercept -0.12994240638057014\n",
      "Prediction_local [0.40138973]\n",
      "Right: 0.98\n"
     ]
    },
    {
     "data": {
      "application/vnd.jupyter.widget-view+json": {
       "model_id": "42412307d48c4f45a960d3aad10a27a7",
       "version_major": 2,
       "version_minor": 0
      },
      "text/plain": [
       "  0%|          | 0/1 [00:00<?, ?it/s]"
      ]
     },
     "metadata": {},
     "output_type": "display_data"
    },
    {
     "name": "stdout",
     "output_type": "stream",
     "text": [
      "Intercept 0.13266292684715258\n",
      "Prediction_local [-0.00066675]\n",
      "Right: 0.0\n",
      "Intercept 0.2567159743151099\n",
      "Prediction_local [0.32042619]\n",
      "Right: 0.04\n",
      "Intercept 0.6784827478528989\n",
      "Prediction_local [0.28740236]\n",
      "Right: 0.11\n",
      "Intercept -0.06810259542095354\n",
      "Prediction_local [0.39284553]\n",
      "Right: 0.85\n"
     ]
    },
    {
     "data": {
      "application/vnd.jupyter.widget-view+json": {
       "model_id": "e83e37780fd14495888e3e92f3259e85",
       "version_major": 2,
       "version_minor": 0
      },
      "text/plain": [
       "  0%|          | 0/1 [00:00<?, ?it/s]"
      ]
     },
     "metadata": {},
     "output_type": "display_data"
    },
    {
     "name": "stdout",
     "output_type": "stream",
     "text": [
      "Intercept 0.1745957311518984\n",
      "Prediction_local [0.29360095]\n",
      "Right: 0.0\n",
      "Intercept 0.18473635703381902\n",
      "Prediction_local [0.0109673]\n",
      "Right: 0.0\n",
      "Intercept 0.6417259650588656\n",
      "Prediction_local [0.29609054]\n",
      "Right: 0.0\n",
      "Intercept -0.003052440241051113\n",
      "Prediction_local [0.39942383]\n",
      "Right: 1.0\n"
     ]
    },
    {
     "data": {
      "application/vnd.jupyter.widget-view+json": {
       "model_id": "47170b67359047e39898aae2ab42d0fb",
       "version_major": 2,
       "version_minor": 0
      },
      "text/plain": [
       "  0%|          | 0/1 [00:00<?, ?it/s]"
      ]
     },
     "metadata": {},
     "output_type": "display_data"
    },
    {
     "name": "stdout",
     "output_type": "stream",
     "text": [
      "Intercept 0.09891407615064068\n",
      "Prediction_local [0.01722563]\n",
      "Right: 0.0\n",
      "Intercept 0.7617160317883536\n",
      "Prediction_local [0.28500257]\n",
      "Right: 0.0\n",
      "Intercept 0.14375637824320905\n",
      "Prediction_local [0.34281404]\n",
      "Right: 0.04\n",
      "Intercept -0.0030786566813015837\n",
      "Prediction_local [0.35398529]\n",
      "Right: 0.96\n"
     ]
    },
    {
     "data": {
      "application/vnd.jupyter.widget-view+json": {
       "model_id": "685f5172625d4457b5ad09bcac7deb32",
       "version_major": 2,
       "version_minor": 0
      },
      "text/plain": [
       "  0%|          | 0/1 [00:00<?, ?it/s]"
      ]
     },
     "metadata": {},
     "output_type": "display_data"
    },
    {
     "name": "stdout",
     "output_type": "stream",
     "text": [
      "Intercept 0.12986760201590095\n",
      "Prediction_local [0.344714]\n",
      "Right: 0.0\n",
      "Intercept 0.17892831709794071\n",
      "Prediction_local [-0.00353426]\n",
      "Right: 0.0\n",
      "Intercept 0.8376235160256844\n",
      "Prediction_local [0.27482893]\n",
      "Right: 0.0\n",
      "Intercept -0.14645346266664278\n",
      "Prediction_local [0.38417199]\n",
      "Right: 1.0\n"
     ]
    },
    {
     "data": {
      "application/vnd.jupyter.widget-view+json": {
       "model_id": "dc6819e76045485593015b839d444bdf",
       "version_major": 2,
       "version_minor": 0
      },
      "text/plain": [
       "  0%|          | 0/1 [00:00<?, ?it/s]"
      ]
     },
     "metadata": {},
     "output_type": "display_data"
    },
    {
     "name": "stdout",
     "output_type": "stream",
     "text": [
      "Intercept 0.10549559728358165\n",
      "Prediction_local [0.06824535]\n",
      "Right: 0.01\n",
      "Intercept 0.8059161009054957\n",
      "Prediction_local [0.25284813]\n",
      "Right: 0.01\n",
      "Intercept 0.09087165995237595\n",
      "Prediction_local [0.4411652]\n",
      "Right: 0.04\n",
      "Intercept -0.00012518871816769028\n",
      "Prediction_local [0.23768835]\n",
      "Right: 0.94\n"
     ]
    },
    {
     "data": {
      "application/vnd.jupyter.widget-view+json": {
       "model_id": "bac6280efe8347a588e34a6b745caf5a",
       "version_major": 2,
       "version_minor": 0
      },
      "text/plain": [
       "  0%|          | 0/1 [00:00<?, ?it/s]"
      ]
     },
     "metadata": {},
     "output_type": "display_data"
    },
    {
     "name": "stdout",
     "output_type": "stream",
     "text": [
      "Intercept 0.1766812514273355\n",
      "Prediction_local [-0.0071727]\n",
      "Right: 0.0\n",
      "Intercept 0.7757208232348937\n",
      "Prediction_local [0.37942988]\n",
      "Right: 0.02\n",
      "Intercept 0.1819556476180542\n",
      "Prediction_local [0.26614573]\n",
      "Right: 0.1\n",
      "Intercept -0.13132673162376113\n",
      "Prediction_local [0.36102838]\n",
      "Right: 0.88\n"
     ]
    },
    {
     "data": {
      "application/vnd.jupyter.widget-view+json": {
       "model_id": "fe333393f9a64acf91b8c426b3f7e97a",
       "version_major": 2,
       "version_minor": 0
      },
      "text/plain": [
       "  0%|          | 0/1 [00:00<?, ?it/s]"
      ]
     },
     "metadata": {},
     "output_type": "display_data"
    },
    {
     "name": "stdout",
     "output_type": "stream",
     "text": [
      "Intercept 0.08687464632696287\n",
      "Prediction_local [0.02450254]\n",
      "Right: 0.02\n",
      "Intercept 0.5032594738347325\n",
      "Prediction_local [0.35686684]\n",
      "Right: 0.02\n",
      "Intercept 0.23580906552885256\n",
      "Prediction_local [0.29802681]\n",
      "Right: 0.03\n",
      "Intercept 0.17554802637002503\n",
      "Prediction_local [0.32051554]\n",
      "Right: 0.93\n"
     ]
    },
    {
     "data": {
      "application/vnd.jupyter.widget-view+json": {
       "model_id": "a23ea26d600c4e89aafaf63548250a3e",
       "version_major": 2,
       "version_minor": 0
      },
      "text/plain": [
       "  0%|          | 0/1 [00:00<?, ?it/s]"
      ]
     },
     "metadata": {},
     "output_type": "display_data"
    },
    {
     "name": "stdout",
     "output_type": "stream",
     "text": [
      "Intercept 0.04845650929535596\n",
      "Prediction_local [0.05696301]\n",
      "Right: 0.0\n",
      "Intercept 0.6841772796867014\n",
      "Prediction_local [0.20495931]\n",
      "Right: 0.04\n",
      "Intercept 0.16272077238221075\n",
      "Prediction_local [0.42501926]\n",
      "Right: 0.08\n",
      "Intercept 0.10355443032102671\n",
      "Prediction_local [0.31304905]\n",
      "Right: 0.88\n"
     ]
    },
    {
     "data": {
      "application/vnd.jupyter.widget-view+json": {
       "model_id": "7af0c440f86843bda01d29a66d155a43",
       "version_major": 2,
       "version_minor": 0
      },
      "text/plain": [
       "  0%|          | 0/1 [00:00<?, ?it/s]"
      ]
     },
     "metadata": {},
     "output_type": "display_data"
    },
    {
     "name": "stdout",
     "output_type": "stream",
     "text": [
      "Intercept 0.06903075156005783\n",
      "Prediction_local [0.01155791]\n",
      "Right: 0.0\n",
      "Intercept 0.652502633869543\n",
      "Prediction_local [0.38396833]\n",
      "Right: 0.03\n",
      "Intercept 0.22983048261658348\n",
      "Prediction_local [0.32746755]\n",
      "Right: 0.08\n",
      "Intercept 0.04962267376187138\n",
      "Prediction_local [0.27718068]\n",
      "Right: 0.89\n"
     ]
    },
    {
     "data": {
      "application/vnd.jupyter.widget-view+json": {
       "model_id": "b86aa8dea94042d4b454b8ee519de669",
       "version_major": 2,
       "version_minor": 0
      },
      "text/plain": [
       "  0%|          | 0/1 [00:00<?, ?it/s]"
      ]
     },
     "metadata": {},
     "output_type": "display_data"
    },
    {
     "name": "stdout",
     "output_type": "stream",
     "text": [
      "Intercept 0.09848390855668612\n",
      "Prediction_local [0.0259294]\n",
      "Right: 0.0\n",
      "Intercept 0.11907879649305192\n",
      "Prediction_local [0.35703385]\n",
      "Right: 0.08\n",
      "Intercept 0.7279590268048519\n",
      "Prediction_local [0.3015177]\n",
      "Right: 0.16\n",
      "Intercept 0.05314451373208723\n",
      "Prediction_local [0.3152141]\n",
      "Right: 0.76\n"
     ]
    },
    {
     "data": {
      "application/vnd.jupyter.widget-view+json": {
       "model_id": "cd5dae38fbd344908ce7a133050c5100",
       "version_major": 2,
       "version_minor": 0
      },
      "text/plain": [
       "  0%|          | 0/1 [00:00<?, ?it/s]"
      ]
     },
     "metadata": {},
     "output_type": "display_data"
    },
    {
     "name": "stdout",
     "output_type": "stream",
     "text": [
      "Intercept 0.2594897914888269\n",
      "Prediction_local [0.24523802]\n",
      "Right: 0.0\n",
      "Intercept 0.10909779598893365\n",
      "Prediction_local [-0.02000015]\n",
      "Right: 0.0\n",
      "Intercept 0.7204339215751829\n",
      "Prediction_local [0.32347596]\n",
      "Right: 0.0\n",
      "Intercept -0.08381551215780753\n",
      "Prediction_local [0.4508164]\n",
      "Right: 1.0\n"
     ]
    },
    {
     "data": {
      "application/vnd.jupyter.widget-view+json": {
       "model_id": "de25698762e94947ba1daf321a25eba5",
       "version_major": 2,
       "version_minor": 0
      },
      "text/plain": [
       "  0%|          | 0/1 [00:00<?, ?it/s]"
      ]
     },
     "metadata": {},
     "output_type": "display_data"
    },
    {
     "name": "stdout",
     "output_type": "stream",
     "text": [
      "Intercept 0.12320746926803783\n",
      "Prediction_local [-0.00650926]\n",
      "Right: 0.0\n",
      "Intercept 0.6195548775862547\n",
      "Prediction_local [0.30610152]\n",
      "Right: 0.05\n",
      "Intercept 0.33907477382925605\n",
      "Prediction_local [0.31102937]\n",
      "Right: 0.09\n",
      "Intercept -0.08163423453423257\n",
      "Prediction_local [0.3887945]\n",
      "Right: 0.86\n"
     ]
    },
    {
     "data": {
      "application/vnd.jupyter.widget-view+json": {
       "model_id": "d2e760863a5c41e09c3dbcb05d09194f",
       "version_major": 2,
       "version_minor": 0
      },
      "text/plain": [
       "  0%|          | 0/1 [00:00<?, ?it/s]"
      ]
     },
     "metadata": {},
     "output_type": "display_data"
    },
    {
     "name": "stdout",
     "output_type": "stream",
     "text": [
      "Intercept 0.09848081207571925\n",
      "Prediction_local [0.04768085]\n",
      "Right: 0.01\n",
      "Intercept 0.0763408784952399\n",
      "Prediction_local [0.35104801]\n",
      "Right: 0.09\n",
      "Intercept 0.833716470648098\n",
      "Prediction_local [0.2696262]\n",
      "Right: 0.29\n",
      "Intercept -0.007488690475630222\n",
      "Prediction_local [0.33160224]\n",
      "Right: 0.61\n"
     ]
    },
    {
     "data": {
      "application/vnd.jupyter.widget-view+json": {
       "model_id": "9e306ff914b8420baf7a5cb320e06b3f",
       "version_major": 2,
       "version_minor": 0
      },
      "text/plain": [
       "  0%|          | 0/1 [00:00<?, ?it/s]"
      ]
     },
     "metadata": {},
     "output_type": "display_data"
    },
    {
     "name": "stdout",
     "output_type": "stream",
     "text": [
      "Intercept 0.15885000770044264\n",
      "Prediction_local [-0.0034571]\n",
      "Right: 0.0\n",
      "Intercept 0.28762802627596395\n",
      "Prediction_local [0.30731974]\n",
      "Right: 0.01\n",
      "Intercept 0.6703856882975343\n",
      "Prediction_local [0.25305869]\n",
      "Right: 0.06\n",
      "Intercept -0.11690267239191326\n",
      "Prediction_local [0.44309961]\n",
      "Right: 0.93\n"
     ]
    },
    {
     "data": {
      "application/vnd.jupyter.widget-view+json": {
       "model_id": "692a26c4015a4b2a8cb89d1a2dafb08f",
       "version_major": 2,
       "version_minor": 0
      },
      "text/plain": [
       "  0%|          | 0/1 [00:00<?, ?it/s]"
      ]
     },
     "metadata": {},
     "output_type": "display_data"
    },
    {
     "name": "stdout",
     "output_type": "stream",
     "text": [
      "Intercept 0.234522346782035\n",
      "Prediction_local [0.0442366]\n",
      "Right: 0.01\n",
      "Intercept 0.7654776532179649\n",
      "Prediction_local [0.9557634]\n",
      "Right: 0.99\n"
     ]
    },
    {
     "data": {
      "application/vnd.jupyter.widget-view+json": {
       "model_id": "f06e3f46bc014efea3a71e7c960c5d1a",
       "version_major": 2,
       "version_minor": 0
      },
      "text/plain": [
       "  0%|          | 0/1 [00:00<?, ?it/s]"
      ]
     },
     "metadata": {},
     "output_type": "display_data"
    },
    {
     "name": "stdout",
     "output_type": "stream",
     "text": [
      "Intercept 0.30029365233338756\n",
      "Prediction_local [-0.02348942]\n",
      "Right: 0.0\n",
      "Intercept 0.6997063476666122\n",
      "Prediction_local [1.02348942]\n",
      "Right: 1.0\n"
     ]
    },
    {
     "data": {
      "application/vnd.jupyter.widget-view+json": {
       "model_id": "b2d5500d3b7d41d4a0138037d495d05e",
       "version_major": 2,
       "version_minor": 0
      },
      "text/plain": [
       "  0%|          | 0/1 [00:00<?, ?it/s]"
      ]
     },
     "metadata": {},
     "output_type": "display_data"
    },
    {
     "name": "stdout",
     "output_type": "stream",
     "text": [
      "Intercept 0.20387449167209648\n",
      "Prediction_local [0.065824]\n",
      "Right: 0.0\n",
      "Intercept 0.7961255083279033\n",
      "Prediction_local [0.934176]\n",
      "Right: 1.0\n"
     ]
    },
    {
     "data": {
      "application/vnd.jupyter.widget-view+json": {
       "model_id": "f77954a70c8047d1aef97b0bd2b65864",
       "version_major": 2,
       "version_minor": 0
      },
      "text/plain": [
       "  0%|          | 0/1 [00:00<?, ?it/s]"
      ]
     },
     "metadata": {},
     "output_type": "display_data"
    },
    {
     "name": "stdout",
     "output_type": "stream",
     "text": [
      "Intercept 0.19065326672209648\n",
      "Prediction_local [0.04147299]\n",
      "Right: 0.0\n",
      "Intercept 0.8093467332779039\n",
      "Prediction_local [0.95852701]\n",
      "Right: 1.0\n"
     ]
    },
    {
     "data": {
      "application/vnd.jupyter.widget-view+json": {
       "model_id": "113959f836334476bb32f64a0414fad8",
       "version_major": 2,
       "version_minor": 0
      },
      "text/plain": [
       "  0%|          | 0/1 [00:00<?, ?it/s]"
      ]
     },
     "metadata": {},
     "output_type": "display_data"
    },
    {
     "name": "stdout",
     "output_type": "stream",
     "text": [
      "Intercept 0.13904050244561075\n",
      "Prediction_local [0.15195797]\n",
      "Right: 0.01\n",
      "Intercept 0.8609594975543892\n",
      "Prediction_local [0.84804203]\n",
      "Right: 0.99\n"
     ]
    },
    {
     "data": {
      "application/vnd.jupyter.widget-view+json": {
       "model_id": "fae780980cb94d52aa7f38156de2597e",
       "version_major": 2,
       "version_minor": 0
      },
      "text/plain": [
       "  0%|          | 0/1 [00:00<?, ?it/s]"
      ]
     },
     "metadata": {},
     "output_type": "display_data"
    },
    {
     "name": "stdout",
     "output_type": "stream",
     "text": [
      "Intercept 0.1515237997178962\n",
      "Prediction_local [0.01560753]\n",
      "Right: 0.0\n",
      "Intercept 0.8484762002821031\n",
      "Prediction_local [0.98439247]\n",
      "Right: 1.0\n"
     ]
    },
    {
     "data": {
      "application/vnd.jupyter.widget-view+json": {
       "model_id": "c89ef026b1d04086a5e69addcc93804f",
       "version_major": 2,
       "version_minor": 0
      },
      "text/plain": [
       "  0%|          | 0/1 [00:00<?, ?it/s]"
      ]
     },
     "metadata": {},
     "output_type": "display_data"
    },
    {
     "name": "stdout",
     "output_type": "stream",
     "text": [
      "Intercept 0.14417801858459345\n",
      "Prediction_local [0.09463992]\n",
      "Right: 0.3858333333333333\n",
      "Intercept 0.8558219814154067\n",
      "Prediction_local [0.90536008]\n",
      "Right: 0.6141666666666667\n"
     ]
    },
    {
     "data": {
      "application/vnd.jupyter.widget-view+json": {
       "model_id": "d296df807212499fb95bee0dfa97e6ab",
       "version_major": 2,
       "version_minor": 0
      },
      "text/plain": [
       "  0%|          | 0/1 [00:00<?, ?it/s]"
      ]
     },
     "metadata": {},
     "output_type": "display_data"
    },
    {
     "name": "stdout",
     "output_type": "stream",
     "text": [
      "Intercept 0.33668823058171005\n",
      "Prediction_local [-0.05314728]\n",
      "Right: 0.01\n",
      "Intercept 0.6633117694182896\n",
      "Prediction_local [1.05314728]\n",
      "Right: 0.99\n"
     ]
    },
    {
     "data": {
      "application/vnd.jupyter.widget-view+json": {
       "model_id": "0e6896c20a2346e88367a6399ed111c0",
       "version_major": 2,
       "version_minor": 0
      },
      "text/plain": [
       "  0%|          | 0/1 [00:00<?, ?it/s]"
      ]
     },
     "metadata": {},
     "output_type": "display_data"
    },
    {
     "name": "stdout",
     "output_type": "stream",
     "text": [
      "Intercept 0.017023806857606794\n",
      "Prediction_local [0.14702408]\n",
      "Right: 0.05\n",
      "Intercept 0.9829761931423929\n",
      "Prediction_local [0.85297592]\n",
      "Right: 0.95\n"
     ]
    },
    {
     "data": {
      "application/vnd.jupyter.widget-view+json": {
       "model_id": "f73c5b41630347258cb74f8e648f70d4",
       "version_major": 2,
       "version_minor": 0
      },
      "text/plain": [
       "  0%|          | 0/1 [00:00<?, ?it/s]"
      ]
     },
     "metadata": {},
     "output_type": "display_data"
    },
    {
     "name": "stdout",
     "output_type": "stream",
     "text": [
      "Intercept -0.04075530934554007\n",
      "Prediction_local [0.21104504]\n",
      "Right: 0.01\n",
      "Intercept 1.04075530934554\n",
      "Prediction_local [0.78895496]\n",
      "Right: 0.99\n"
     ]
    },
    {
     "data": {
      "application/vnd.jupyter.widget-view+json": {
       "model_id": "c8f5efb4f0a648349c14e8a9304a91b9",
       "version_major": 2,
       "version_minor": 0
      },
      "text/plain": [
       "  0%|          | 0/1 [00:00<?, ?it/s]"
      ]
     },
     "metadata": {},
     "output_type": "display_data"
    },
    {
     "name": "stdout",
     "output_type": "stream",
     "text": [
      "Intercept 0.07512428105556193\n",
      "Prediction_local [0.07592991]\n",
      "Right: 0.025\n",
      "Intercept 0.9248757189444375\n",
      "Prediction_local [0.92407009]\n",
      "Right: 0.975\n"
     ]
    },
    {
     "data": {
      "application/vnd.jupyter.widget-view+json": {
       "model_id": "b8051b7b117b4a9fa54f59cf3e4084a7",
       "version_major": 2,
       "version_minor": 0
      },
      "text/plain": [
       "  0%|          | 0/1 [00:00<?, ?it/s]"
      ]
     },
     "metadata": {},
     "output_type": "display_data"
    },
    {
     "name": "stdout",
     "output_type": "stream",
     "text": [
      "Intercept 0.10078396640408913\n",
      "Prediction_local [0.08362894]\n",
      "Right: 0.0\n",
      "Intercept 0.8992160335959105\n",
      "Prediction_local [0.91637106]\n",
      "Right: 1.0\n"
     ]
    },
    {
     "data": {
      "application/vnd.jupyter.widget-view+json": {
       "model_id": "4a4b0c3315924b80bc669cd1d63787a0",
       "version_major": 2,
       "version_minor": 0
      },
      "text/plain": [
       "  0%|          | 0/1 [00:00<?, ?it/s]"
      ]
     },
     "metadata": {},
     "output_type": "display_data"
    },
    {
     "name": "stdout",
     "output_type": "stream",
     "text": [
      "Intercept 0.11524776390576479\n",
      "Prediction_local [0.0654847]\n",
      "Right: 0.07\n",
      "Intercept 0.8847522360942351\n",
      "Prediction_local [0.9345153]\n",
      "Right: 0.93\n"
     ]
    },
    {
     "data": {
      "application/vnd.jupyter.widget-view+json": {
       "model_id": "d5fb0b8d192d4ec89cc71e0a5324140e",
       "version_major": 2,
       "version_minor": 0
      },
      "text/plain": [
       "  0%|          | 0/1 [00:00<?, ?it/s]"
      ]
     },
     "metadata": {},
     "output_type": "display_data"
    },
    {
     "name": "stdout",
     "output_type": "stream",
     "text": [
      "Intercept 0.09525114724575155\n",
      "Prediction_local [0.06743833]\n",
      "Right: 0.1\n",
      "Intercept 0.9047488527542485\n",
      "Prediction_local [0.93256167]\n",
      "Right: 0.9\n"
     ]
    },
    {
     "data": {
      "application/vnd.jupyter.widget-view+json": {
       "model_id": "374a669aed3f42c9b15cfe1129872b00",
       "version_major": 2,
       "version_minor": 0
      },
      "text/plain": [
       "  0%|          | 0/1 [00:00<?, ?it/s]"
      ]
     },
     "metadata": {},
     "output_type": "display_data"
    },
    {
     "name": "stdout",
     "output_type": "stream",
     "text": [
      "Intercept 0.2667440798592671\n",
      "Prediction_local [-0.04742129]\n",
      "Right: 0.02\n",
      "Intercept 0.7332559201407327\n",
      "Prediction_local [1.04742129]\n",
      "Right: 0.98\n"
     ]
    },
    {
     "data": {
      "application/vnd.jupyter.widget-view+json": {
       "model_id": "e4d8ed7d05254f4f91bf13a530619878",
       "version_major": 2,
       "version_minor": 0
      },
      "text/plain": [
       "  0%|          | 0/1 [00:00<?, ?it/s]"
      ]
     },
     "metadata": {},
     "output_type": "display_data"
    },
    {
     "data": {
      "image/png": "[encoded data removed]",
      "text/plain": [
       "<Figure size 1600x800 with 1 Axes>"
      ]
     },
     "metadata": {},
     "output_type": "display_data"
    }
   ],
   "source": [
    "warnings.filterwarnings('ignore')\n",
    "data, X, Y, classes_names = data_read_function( )\n",
    "fidelity_Plot_Data={}\n",
    "Treatments=['chemo','target','hormonal','radio','surgery']\n",
    "for treatment_name in Treatments :\n",
    "    Fidelity_Plot_Data= Lime_Shap_fidelity(data, X, Y, classes_names, fidelity_Plot_Data, treatment_name)\n",
    "    \n",
    "colors = ['skyblue', 'orange'] # Bar colors in plot\n",
    "Plot_the_data(Fidelity_Plot_Data, colors)"
   ]
  },
  {
   "cell_type": "code",
   "execution_count": 984,
   "id": "9380fb86",
   "metadata": {},
   "outputs": [],
   "source": []
  },
  {
   "cell_type": "code",
   "execution_count": 981,
   "id": "6a3bedca",
   "metadata": {},
   "outputs": [
    {
     "data": {
      "image/png": "[encoded data removed]",
      "text/plain": [
       "<Figure size 1600x800 with 1 Axes>"
      ]
     },
     "metadata": {},
     "output_type": "display_data"
    }
   ],
   "source": [
    "colors = ['gray', 'brown']\n",
    "Plot_the_data(Fidelity_Plot_Data, colors )"
   ]
  },
  {
   "cell_type": "code",
   "execution_count": null,
   "id": "ab1c6ec5",
   "metadata": {},
   "outputs": [],
   "source": []
  },
  {
   "cell_type": "markdown",
   "id": "879b9e5f",
   "metadata": {},
   "source": [
    "# LIME and SHAP stability"
   ]
  },
  {
   "cell_type": "code",
   "execution_count": 13,
   "id": "2711f37d",
   "metadata": {},
   "outputs": [],
   "source": [
    "import itertools\n",
    "\n",
    "def concordance(pair):\n",
    "    \"\"\"Function to calculate the concordance of a pair of explanations.\"\"\"\n",
    "    g1, g2 = pair\n",
    "    return len(set(g1).intersection(set(g2)))\n",
    "\n",
    "def calculate_vsi(explanations):\n",
    "    \"\"\"Calculate the Variance Score Index (VSI) from LIME explanations.\"\"\"\n",
    "    m = len(explanations)\n",
    "    n = 0\n",
    "    p = len(explanations[0])  # Assuming all explanations have the same length\n",
    "\n",
    "    # Generate all pairs of explanations\n",
    "    pairs = list(itertools.combinations(explanations, 2))\n",
    "\n",
    "    # Calculate the sum of concordances\n",
    "    for pair in pairs:\n",
    "        n += concordance(pair) / p\n",
    "\n",
    "    # Calculate the total number of pairs\n",
    "    total_pairs = len(pairs)\n",
    "\n",
    "    # Calculate VSI\n",
    "    vsi = n / total_pairs\n",
    "    return vsi\n",
    "\n",
    "\n",
    "\n",
    "def lime_vsi_fucntion(rf, x_train, x_test, y_test, data_row, sample):\n",
    "\n",
    "    \n",
    "    Predicted_class= rf.predict(sample)[0]\n",
    "    \n",
    "        #Lime Explainer\n",
    "    LIME_explainer = LimeTabularExplainer(x_train.values, \n",
    "                                 feature_names=x_train.columns, \n",
    "                                 class_names=classes_names[y_test.name], \n",
    "                                 discretize_continuous=True, verbose=True)\n",
    "\n",
    "\n",
    "    Lime_Explanations= []\n",
    "\n",
    "\n",
    "    for _ in range(3): #generate 3 time explaination of same instance and compare them\n",
    "\n",
    "        ##############. Lime  #################\n",
    "        LIME_explanation = LIME_explainer.explain_instance(sample[0], rf .predict_proba, num_features=46, num_samples=2000, top_labels=5)\n",
    "        lime_values_of_Prid_cls= LIME_explanation.local_exp[Predicted_class]\n",
    "        column_names=x_train.columns\n",
    "        positive_list = [(x, y) for x, y in lime_values_of_Prid_cls if y > 0]\n",
    "        # Separate the x and y values\n",
    "        x_values = [x for x, y in positive_list]\n",
    "        x_names = [column_names[t] for t in x_values]\n",
    "        y_values = [y for x, y in positive_list]\n",
    "\n",
    "        # Combine x_names and y_values into a list of tuples and sort by y_values\n",
    "        sorted_list = sorted(zip(x_names, y_values), key=lambda pair: pair[1], reverse=True)\n",
    "\n",
    "        # Unzip the sorted list\n",
    "        x_names_sorted, y_values_sorted = zip(*sorted_list)\n",
    "        top_five_features = x_names_sorted[:10] #selected top 10\n",
    "        Lime_Explanations.append(top_five_features)\n",
    "\n",
    "    Lime_vsi = calculate_vsi(Lime_Explanations)\n",
    "    \n",
    "    return Lime_vsi\n",
    "\n",
    "\n",
    "\n",
    "\n",
    "def shap_vsi_fucntion(rf, x_train, x_test, y_test, data_row, sample):\n",
    "    #Instances =np.random.randint(100, size=(10)) #randomly pick 10 instances from data (in the range of 100 intances)\n",
    "\n",
    "    Predicted_class= rf.predict(sample)[0]\n",
    "    \n",
    "\n",
    "    Shap_Explanations= []\n",
    "    \n",
    "            #Shap Explainer \n",
    "\n",
    "    # Define the number of samples to summarize the background data\n",
    "    K = 100  # Choose an appropriate value for K\n",
    "\n",
    "    # Summarize the background data using shap.sample()\n",
    "    background_sample = shap.sample(x_train, K)\n",
    "\n",
    "    # Use the summarized background sample in your SHAP model\n",
    "    #Shap_explainer = shap.KernelExplainer(model=rf.predict_proba, data=background_sample, link = 'logit')\n",
    "    Shap_explainer = shap.KernelExplainer(model=rf.predict_proba, data=background_sample)\n",
    "\n",
    "\n",
    "    for _ in range(3): #generate 3 time explaination of same instance and compare them\n",
    "\n",
    "        #############. Shap  #####################\n",
    "        shap_values_single_instance = Shap_explainer.shap_values(data_row, nsamples=2000, l1_reg=\"num_features(46)\")\n",
    "\n",
    "        # Provided SHAP values and column names\n",
    "        #shap_valuesss = shap_values_single_instance[Predicted_class][0]\n",
    "        shap_valuesss = np.abs(shap_values_single_instance).mean(axis=0).mean(axis=0)\n",
    "        column_namesss = x_train.columns\n",
    "        # Flatten shap_values array\n",
    "        #shap_values = shap_values.flatten()\n",
    "\n",
    "        # Filter positive SHAP values\n",
    "        positive_shap_indices = np.where(shap_valuesss > 0)[0]\n",
    "        positive_shap_values = shap_valuesss[positive_shap_indices]\n",
    "        positive_shap_columns = np.array(column_namesss)[positive_shap_indices]\n",
    "\n",
    "        # Combine and sort by SHAP values\n",
    "        positive_shap_list = list(zip(positive_shap_columns, positive_shap_values))\n",
    "        positive_shap_list.sort(key=lambda x: x[1], reverse=True)\n",
    "\n",
    "        # Select top 20\n",
    "        top_5_shap = positive_shap_list[:10] #top 10\n",
    "        # Unzip to get column names and values\n",
    "        top_5_columns, top_5_values = zip(*top_5_shap)\n",
    "        Shap_Explanations.append(top_5_columns)\n",
    "\n",
    "    Shap_vsi= calculate_vsi(Shap_Explanations)\n",
    "    \n",
    "    return Shap_vsi\n",
    "\n",
    "\n",
    "        \n",
    "def Lime_Shap_stability(data, X, Y, classes_names, stability_Plot_Data, treatment_name): \n",
    "    warnings.filterwarnings('ignore')\n",
    "\n",
    "    Shap_VSI=[]\n",
    "    Lime_VSI=[]\n",
    "    #for _ in range(5):\n",
    "\n",
    "    y=Y[treatment_name]\n",
    "\n",
    "    smote = SMOTE(random_state=42)\n",
    "\n",
    "    X_class_resampled, y_class_resampled = smote.fit_resample(X , y)\n",
    "\n",
    "    X_class_resampled.replace({False: 0, True: 1}, inplace=True)\n",
    "    y_class_resampled.replace({False:0, True:1}, inplace= True)\n",
    "\n",
    "    x_train,x_test,y_train,y_test=train_test_split(X_class_resampled,y_class_resampled,test_size=0.2)\n",
    "\n",
    "    x_train.reset_index(drop=True, inplace=True)\n",
    "    y_train.reset_index(drop=True, inplace=True)\n",
    "    x_test.reset_index(drop=True, inplace=True)\n",
    "    y_test.reset_index(drop=True, inplace=True)\n",
    "\n",
    "    #X_res, y_res = sm.fit_resample(x_train, y_train)\n",
    "\n",
    "    #Randomforest Classifier\n",
    "    rf = RandomForestClassifier()\n",
    "    rf.fit(x_train, y_train)\n",
    "    \n",
    "\n",
    "\n",
    "    # Explanation over 20 single points \n",
    "\n",
    "    #j=np.random.randint(1000, size=(20)) #randomly pick 20 instances from data (in the range of 1000 intances)\n",
    "\n",
    "    j_list= computing_j (rf, x_test, y_test)[:10]\n",
    "    \n",
    "    for j in j_list :\n",
    "        data_row = x_test.iloc[[j], :] #single instance from the test dataset\n",
    "        sample =data_row.values.reshape(1, -1)\n",
    "        \n",
    "        shap_vsi = shap_vsi_fucntion(rf, x_train, x_test, y_test, data_row, sample)\n",
    "        lime_vsi = lime_vsi_fucntion(rf,x_train, x_test, y_test, data_row, sample)\n",
    "        Shap_VSI.append(shap_vsi)\n",
    "        Lime_VSI.append(lime_vsi)\n",
    "        \n",
    "    stability_Plot_Data[treatment_name]=[Shap_VSI, Lime_VSI]\n",
    "    \n",
    "    return stability_Plot_Data\n",
    "    \n",
    "        "
   ]
  },
  {
   "cell_type": "code",
   "execution_count": 14,
   "id": "b28692e6",
   "metadata": {},
   "outputs": [
    {
     "data": {
      "application/vnd.jupyter.widget-view+json": {
       "model_id": "11dfcbcb62e845c290dd0736927f450b",
       "version_major": 2,
       "version_minor": 0
      },
      "text/plain": [
       "  0%|          | 0/1 [00:00<?, ?it/s]"
      ]
     },
     "metadata": {},
     "output_type": "display_data"
    },
    {
     "data": {
      "application/vnd.jupyter.widget-view+json": {
       "model_id": "017e142b342a46bbb1b295d52c3a3690",
       "version_major": 2,
       "version_minor": 0
      },
      "text/plain": [
       "  0%|          | 0/1 [00:00<?, ?it/s]"
      ]
     },
     "metadata": {},
     "output_type": "display_data"
    },
    {
     "data": {
      "application/vnd.jupyter.widget-view+json": {
       "model_id": "bd4c3f5de01d45b1bae521816bd2e315",
       "version_major": 2,
       "version_minor": 0
      },
      "text/plain": [
       "  0%|          | 0/1 [00:00<?, ?it/s]"
      ]
     },
     "metadata": {},
     "output_type": "display_data"
    },
    {
     "name": "stdout",
     "output_type": "stream",
     "text": [
      "Intercept 0.11010987544226057\n",
      "Prediction_local [0.04280678]\n",
      "Right: 0.0\n",
      "Intercept 0.70569336306704\n",
      "Prediction_local [0.06918061]\n",
      "Right: 0.0\n",
      "Intercept -0.028443057002191602\n",
      "Prediction_local [0.18275971]\n",
      "Right: 0.1\n",
      "Intercept -0.11628941725822156\n",
      "Prediction_local [0.31729697]\n",
      "Right: 0.14\n",
      "Intercept 0.3292180448631939\n",
      "Prediction_local [0.38792792]\n",
      "Right: 0.76\n",
      "Intercept 0.06705469190400157\n",
      "Prediction_local [0.04890693]\n",
      "Right: 0.0\n",
      "Intercept 0.7509030456707106\n",
      "Prediction_local [0.06816041]\n",
      "Right: 0.0\n",
      "Intercept -0.08000404389673638\n",
      "Prediction_local [0.16540086]\n",
      "Right: 0.1\n",
      "Intercept -0.070472099891766\n",
      "Prediction_local [0.31716527]\n",
      "Right: 0.14\n",
      "Intercept 0.3297079689030097\n",
      "Prediction_local [0.40069499]\n",
      "Right: 0.76\n",
      "Intercept 0.11207900527892183\n",
      "Prediction_local [0.04430339]\n",
      "Right: 0.0\n",
      "Intercept 0.7108118239758956\n",
      "Prediction_local [0.0720185]\n",
      "Right: 0.0\n",
      "Intercept -0.06311536947335081\n",
      "Prediction_local [0.17230154]\n",
      "Right: 0.1\n",
      "Intercept -0.11040737700607112\n",
      "Prediction_local [0.32214927]\n",
      "Right: 0.14\n",
      "Intercept 0.34996885967996016\n",
      "Prediction_local [0.38926947]\n",
      "Right: 0.76\n"
     ]
    },
    {
     "data": {
      "application/vnd.jupyter.widget-view+json": {
       "model_id": "9923c2034282452eb5d24125007cb405",
       "version_major": 2,
       "version_minor": 0
      },
      "text/plain": [
       "  0%|          | 0/1 [00:00<?, ?it/s]"
      ]
     },
     "metadata": {},
     "output_type": "display_data"
    },
    {
     "data": {
      "application/vnd.jupyter.widget-view+json": {
       "model_id": "99ce368a73aa4a2ba5e46a2340088609",
       "version_major": 2,
       "version_minor": 0
      },
      "text/plain": [
       "  0%|          | 0/1 [00:00<?, ?it/s]"
      ]
     },
     "metadata": {},
     "output_type": "display_data"
    },
    {
     "data": {
      "application/vnd.jupyter.widget-view+json": {
       "model_id": "cfbf762254814a86880e7262b4fc5f29",
       "version_major": 2,
       "version_minor": 0
      },
      "text/plain": [
       "  0%|          | 0/1 [00:00<?, ?it/s]"
      ]
     },
     "metadata": {},
     "output_type": "display_data"
    },
    {
     "name": "stdout",
     "output_type": "stream",
     "text": [
      "Intercept 0.04819578386762802\n",
      "Prediction_local [0.18780271]\n",
      "Right: 0.04\n",
      "Intercept 0.663151988667493\n",
      "Prediction_local [0.08140934]\n",
      "Right: 0.04\n",
      "Intercept 0.1147762907861567\n",
      "Prediction_local [0.02948362]\n",
      "Right: 0.13266666666666668\n",
      "Intercept -0.15085401509457735\n",
      "Prediction_local [0.3259747]\n",
      "Right: 0.1416666666666667\n",
      "Intercept 0.3231939364072564\n",
      "Prediction_local [0.37589001]\n",
      "Right: 0.6456666666666666\n",
      "Intercept -0.02880647507971923\n",
      "Prediction_local [0.1919101]\n",
      "Right: 0.04\n",
      "Intercept 0.7305887126165932\n",
      "Prediction_local [0.0860082]\n",
      "Right: 0.04\n",
      "Intercept 0.11266753884516233\n",
      "Prediction_local [0.0274119]\n",
      "Right: 0.13266666666666668\n",
      "Intercept -0.17533000612595873\n",
      "Prediction_local [0.31621153]\n",
      "Right: 0.1416666666666667\n",
      "Intercept 0.36025968133935227\n",
      "Prediction_local [0.37839113]\n",
      "Right: 0.6456666666666666\n",
      "Intercept 0.017946595722295955\n",
      "Prediction_local [0.19078848]\n",
      "Right: 0.04\n",
      "Intercept 0.7475045815803465\n",
      "Prediction_local [0.07708684]\n",
      "Right: 0.04\n",
      "Intercept 0.09739680964387061\n",
      "Prediction_local [0.026675]\n",
      "Right: 0.13266666666666668\n",
      "Intercept -0.15638828579928749\n",
      "Prediction_local [0.32106574]\n",
      "Right: 0.1416666666666667\n",
      "Intercept 0.29271792772380223\n",
      "Prediction_local [0.38445589]\n",
      "Right: 0.6456666666666666\n"
     ]
    },
    {
     "data": {
      "application/vnd.jupyter.widget-view+json": {
       "model_id": "7d0641965f1e4b89abe0b166bce952b4",
       "version_major": 2,
       "version_minor": 0
      },
      "text/plain": [
       "  0%|          | 0/1 [00:00<?, ?it/s]"
      ]
     },
     "metadata": {},
     "output_type": "display_data"
    },
    {
     "data": {
      "application/vnd.jupyter.widget-view+json": {
       "model_id": "c0e492a6bdc647b08d56b1a86c9c2596",
       "version_major": 2,
       "version_minor": 0
      },
      "text/plain": [
       "  0%|          | 0/1 [00:00<?, ?it/s]"
      ]
     },
     "metadata": {},
     "output_type": "display_data"
    },
    {
     "data": {
      "application/vnd.jupyter.widget-view+json": {
       "model_id": "5a8fff5158e74cfd9e3ddd31042f9bfe",
       "version_major": 2,
       "version_minor": 0
      },
      "text/plain": [
       "  0%|          | 0/1 [00:00<?, ?it/s]"
      ]
     },
     "metadata": {},
     "output_type": "display_data"
    },
    {
     "name": "stdout",
     "output_type": "stream",
     "text": [
      "Intercept 0.010093626385520721\n",
      "Prediction_local [0.17341666]\n",
      "Right: 0.0\n",
      "Intercept 0.6518048324271846\n",
      "Prediction_local [0.17893707]\n",
      "Right: 0.0\n",
      "Intercept 0.11450408930969119\n",
      "Prediction_local [0.01101763]\n",
      "Right: 0.02\n",
      "Intercept -0.15504918541904977\n",
      "Prediction_local [0.31270724]\n",
      "Right: 0.18\n",
      "Intercept 0.37947963548450064\n",
      "Prediction_local [0.32382729]\n",
      "Right: 0.8\n",
      "Intercept 0.040857849534882584\n",
      "Prediction_local [0.17763356]\n",
      "Right: 0.0\n",
      "Intercept 0.6518750472025301\n",
      "Prediction_local [0.17708475]\n",
      "Right: 0.0\n",
      "Intercept 0.08903889519563041\n",
      "Prediction_local [0.00905401]\n",
      "Right: 0.02\n",
      "Intercept -0.1176417778719846\n",
      "Prediction_local [0.30565058]\n",
      "Right: 0.18\n",
      "Intercept 0.3378429654534158\n",
      "Prediction_local [0.33059549]\n",
      "Right: 0.8\n",
      "Intercept -0.030500189912340048\n",
      "Prediction_local [0.18522651]\n",
      "Right: 0.0\n",
      "Intercept 0.7206738135040092\n",
      "Prediction_local [0.17900076]\n",
      "Right: 0.0\n",
      "Intercept 0.0845975690034113\n",
      "Prediction_local [0.00771494]\n",
      "Right: 0.02\n",
      "Intercept -0.17264450070988552\n",
      "Prediction_local [0.30649656]\n",
      "Right: 0.18\n",
      "Intercept 0.3972275034009088\n",
      "Prediction_local [0.32156833]\n",
      "Right: 0.8\n"
     ]
    },
    {
     "data": {
      "application/vnd.jupyter.widget-view+json": {
       "model_id": "8331318e3ec1420faf1ebe9d341f727d",
       "version_major": 2,
       "version_minor": 0
      },
      "text/plain": [
       "  0%|          | 0/1 [00:00<?, ?it/s]"
      ]
     },
     "metadata": {},
     "output_type": "display_data"
    },
    {
     "data": {
      "application/vnd.jupyter.widget-view+json": {
       "model_id": "d833a615a7ae40b9bc4b560dc39e5d7e",
       "version_major": 2,
       "version_minor": 0
      },
      "text/plain": [
       "  0%|          | 0/1 [00:00<?, ?it/s]"
      ]
     },
     "metadata": {},
     "output_type": "display_data"
    },
    {
     "data": {
      "application/vnd.jupyter.widget-view+json": {
       "model_id": "6680dcf19b4c43a1ae2cbaa9802d2087",
       "version_major": 2,
       "version_minor": 0
      },
      "text/plain": [
       "  0%|          | 0/1 [00:00<?, ?it/s]"
      ]
     },
     "metadata": {},
     "output_type": "display_data"
    },
    {
     "name": "stdout",
     "output_type": "stream",
     "text": [
      "Intercept 0.09007783883968393\n",
      "Prediction_local [0.02616458]\n",
      "Right: 0.0\n",
      "Intercept 0.04746425443780597\n",
      "Prediction_local [0.14625578]\n",
      "Right: 0.0\n",
      "Intercept 0.6790164410789921\n",
      "Prediction_local [0.12728683]\n",
      "Right: 0.0\n",
      "Intercept -0.18580750321684053\n",
      "Prediction_local [0.35351673]\n",
      "Right: 0.01\n",
      "Intercept 0.36812028627469284\n",
      "Prediction_local [0.34742851]\n",
      "Right: 0.99\n",
      "Intercept 0.09661038022181026\n",
      "Prediction_local [0.02894074]\n",
      "Right: 0.0\n",
      "Intercept -0.01606728924734216\n",
      "Prediction_local [0.15017939]\n",
      "Right: 0.0\n",
      "Intercept 0.6937932135102437\n",
      "Prediction_local [0.13348082]\n",
      "Right: 0.0\n",
      "Intercept -0.16166399904158846\n",
      "Prediction_local [0.35119015]\n",
      "Right: 0.01\n",
      "Intercept 0.3885740201284449\n",
      "Prediction_local [0.33613269]\n",
      "Right: 0.99\n",
      "Intercept 0.08114451674115246\n",
      "Prediction_local [0.027096]\n",
      "Right: 0.0\n",
      "Intercept -0.05827876243628605\n",
      "Prediction_local [0.15237895]\n",
      "Right: 0.0\n",
      "Intercept 0.677252480160317\n",
      "Prediction_local [0.1446742]\n",
      "Right: 0.0\n",
      "Intercept -0.10904439381934145\n",
      "Prediction_local [0.34621268]\n",
      "Right: 0.01\n",
      "Intercept 0.4091129160591521\n",
      "Prediction_local [0.32955485]\n",
      "Right: 0.99\n"
     ]
    },
    {
     "data": {
      "application/vnd.jupyter.widget-view+json": {
       "model_id": "70d550f453cc43a3baeab708b9dd9264",
       "version_major": 2,
       "version_minor": 0
      },
      "text/plain": [
       "  0%|          | 0/1 [00:00<?, ?it/s]"
      ]
     },
     "metadata": {},
     "output_type": "display_data"
    },
    {
     "data": {
      "application/vnd.jupyter.widget-view+json": {
       "model_id": "b99c135df40f404f82c26f6783ad6495",
       "version_major": 2,
       "version_minor": 0
      },
      "text/plain": [
       "  0%|          | 0/1 [00:00<?, ?it/s]"
      ]
     },
     "metadata": {},
     "output_type": "display_data"
    },
    {
     "data": {
      "application/vnd.jupyter.widget-view+json": {
       "model_id": "18579392cf2040749e6b0b5420b98b93",
       "version_major": 2,
       "version_minor": 0
      },
      "text/plain": [
       "  0%|          | 0/1 [00:00<?, ?it/s]"
      ]
     },
     "metadata": {},
     "output_type": "display_data"
    },
    {
     "name": "stdout",
     "output_type": "stream",
     "text": [
      "Intercept 0.023470442583174683\n",
      "Prediction_local [0.13517205]\n",
      "Right: 0.0\n",
      "Intercept 0.0463187191907865\n",
      "Prediction_local [0.05110471]\n",
      "Right: 0.01\n",
      "Intercept 0.6799990408743317\n",
      "Prediction_local [0.13099485]\n",
      "Right: 0.05\n",
      "Intercept -0.09776897237153348\n",
      "Prediction_local [0.29348544]\n",
      "Right: 0.06\n",
      "Intercept 0.346863467326518\n",
      "Prediction_local [0.38940942]\n",
      "Right: 0.88\n",
      "Intercept -0.0009147315810942025\n",
      "Prediction_local [0.14994163]\n",
      "Right: 0.0\n",
      "Intercept 0.10083895985048266\n",
      "Prediction_local [0.04605331]\n",
      "Right: 0.01\n",
      "Intercept 0.6586811608876043\n",
      "Prediction_local [0.13698673]\n",
      "Right: 0.05\n",
      "Intercept -0.15618808344604784\n",
      "Prediction_local [0.27859119]\n",
      "Right: 0.06\n",
      "Intercept 0.3983049250901674\n",
      "Prediction_local [0.38884865]\n",
      "Right: 0.88\n",
      "Intercept 0.05488911652363947\n",
      "Prediction_local [0.13927619]\n",
      "Right: 0.0\n",
      "Intercept 0.0946110816162467\n",
      "Prediction_local [0.04904366]\n",
      "Right: 0.01\n",
      "Intercept 0.6154790149029019\n",
      "Prediction_local [0.13069908]\n",
      "Right: 0.05\n",
      "Intercept -0.16049428202075794\n",
      "Prediction_local [0.29791537]\n",
      "Right: 0.06\n",
      "Intercept 0.39582434438229347\n",
      "Prediction_local [0.38287411]\n",
      "Right: 0.88\n"
     ]
    },
    {
     "data": {
      "application/vnd.jupyter.widget-view+json": {
       "model_id": "26cb86f0c3e74c949e1078acb5e14a2e",
       "version_major": 2,
       "version_minor": 0
      },
      "text/plain": [
       "  0%|          | 0/1 [00:00<?, ?it/s]"
      ]
     },
     "metadata": {},
     "output_type": "display_data"
    },
    {
     "data": {
      "application/vnd.jupyter.widget-view+json": {
       "model_id": "df7fe5db1c1d4a8288b49803b1c46754",
       "version_major": 2,
       "version_minor": 0
      },
      "text/plain": [
       "  0%|          | 0/1 [00:00<?, ?it/s]"
      ]
     },
     "metadata": {},
     "output_type": "display_data"
    },
    {
     "data": {
      "application/vnd.jupyter.widget-view+json": {
       "model_id": "bbd9982d18ac4c22a7c9e4cf5612f5b8",
       "version_major": 2,
       "version_minor": 0
      },
      "text/plain": [
       "  0%|          | 0/1 [00:00<?, ?it/s]"
      ]
     },
     "metadata": {},
     "output_type": "display_data"
    },
    {
     "name": "stdout",
     "output_type": "stream",
     "text": [
      "Intercept 0.06977992315680127\n",
      "Prediction_local [0.02289386]\n",
      "Right: 0.01\n",
      "Intercept 0.13485911310776494\n",
      "Prediction_local [0.04449855]\n",
      "Right: 0.05\n",
      "Intercept 0.5664373299195445\n",
      "Prediction_local [0.22180623]\n",
      "Right: 0.17\n",
      "Intercept -0.07933951742825274\n",
      "Prediction_local [0.29169019]\n",
      "Right: 0.18\n",
      "Intercept 0.30832240050456095\n",
      "Prediction_local [0.41877226]\n",
      "Right: 0.59\n",
      "Intercept 0.06606451666145062\n",
      "Prediction_local [0.02763794]\n",
      "Right: 0.01\n",
      "Intercept 0.10345499787668307\n",
      "Prediction_local [0.05997772]\n",
      "Right: 0.05\n",
      "Intercept 0.5545644221606235\n",
      "Prediction_local [0.21920696]\n",
      "Right: 0.17\n",
      "Intercept -0.11910031653784053\n",
      "Prediction_local [0.28274849]\n",
      "Right: 0.18\n",
      "Intercept 0.39388135399050633\n",
      "Prediction_local [0.41076431]\n",
      "Right: 0.59\n",
      "Intercept 0.10412348713501274\n",
      "Prediction_local [0.02455481]\n",
      "Right: 0.01\n",
      "Intercept 0.115645656141716\n",
      "Prediction_local [0.04800306]\n",
      "Right: 0.05\n",
      "Intercept 0.5842057270604829\n",
      "Prediction_local [0.23405595]\n",
      "Right: 0.17\n",
      "Intercept -0.10499283386886121\n",
      "Prediction_local [0.29983046]\n",
      "Right: 0.18\n",
      "Intercept 0.2997092919477964\n",
      "Prediction_local [0.39458346]\n",
      "Right: 0.59\n"
     ]
    },
    {
     "data": {
      "application/vnd.jupyter.widget-view+json": {
       "model_id": "8ac6b77736f14e6e87786f287e272757",
       "version_major": 2,
       "version_minor": 0
      },
      "text/plain": [
       "  0%|          | 0/1 [00:00<?, ?it/s]"
      ]
     },
     "metadata": {},
     "output_type": "display_data"
    },
    {
     "data": {
      "application/vnd.jupyter.widget-view+json": {
       "model_id": "e16c964f8a574bccb50a9c348e57d429",
       "version_major": 2,
       "version_minor": 0
      },
      "text/plain": [
       "  0%|          | 0/1 [00:00<?, ?it/s]"
      ]
     },
     "metadata": {},
     "output_type": "display_data"
    },
    {
     "data": {
      "application/vnd.jupyter.widget-view+json": {
       "model_id": "5c9c50d1d44b4e37bb4121a26fdb2440",
       "version_major": 2,
       "version_minor": 0
      },
      "text/plain": [
       "  0%|          | 0/1 [00:00<?, ?it/s]"
      ]
     },
     "metadata": {},
     "output_type": "display_data"
    },
    {
     "name": "stdout",
     "output_type": "stream",
     "text": [
      "Intercept 0.6908943702132853\n",
      "Prediction_local [0.10825875]\n",
      "Right: 0.03\n",
      "Intercept -0.07590637737768322\n",
      "Prediction_local [0.18433268]\n",
      "Right: 0.05\n",
      "Intercept 0.0957358271685243\n",
      "Prediction_local [0.04967566]\n",
      "Right: 0.12\n",
      "Intercept -0.18620401965198063\n",
      "Prediction_local [0.34587826]\n",
      "Right: 0.14\n",
      "Intercept 0.47565167580231404\n",
      "Prediction_local [0.31182818]\n",
      "Right: 0.66\n",
      "Intercept 0.6870089342259313\n",
      "Prediction_local [0.11633724]\n",
      "Right: 0.03\n",
      "Intercept 0.10252304717451378\n",
      "Prediction_local [0.18343105]\n",
      "Right: 0.05\n",
      "Intercept 0.07113583773446297\n",
      "Prediction_local [0.04968103]\n",
      "Right: 0.12\n",
      "Intercept -0.2736502704523741\n",
      "Prediction_local [0.33827876]\n",
      "Right: 0.14\n",
      "Intercept 0.4148803706933519\n",
      "Prediction_local [0.31198181]\n",
      "Right: 0.66\n",
      "Intercept 0.7194869505774996\n",
      "Prediction_local [0.10504089]\n",
      "Right: 0.03\n",
      "Intercept 0.007488246571513785\n",
      "Prediction_local [0.18757973]\n",
      "Right: 0.05\n",
      "Intercept 0.06707103669648948\n",
      "Prediction_local [0.05050266]\n",
      "Right: 0.12\n",
      "Intercept -0.17053804476839174\n",
      "Prediction_local [0.34727624]\n",
      "Right: 0.14\n",
      "Intercept 0.37638032743989064\n",
      "Prediction_local [0.31056448]\n",
      "Right: 0.66\n"
     ]
    },
    {
     "data": {
      "application/vnd.jupyter.widget-view+json": {
       "model_id": "7fb031730fa64f15b979c1cb58a7c9a9",
       "version_major": 2,
       "version_minor": 0
      },
      "text/plain": [
       "  0%|          | 0/1 [00:00<?, ?it/s]"
      ]
     },
     "metadata": {},
     "output_type": "display_data"
    },
    {
     "data": {
      "application/vnd.jupyter.widget-view+json": {
       "model_id": "af12252ca4f84f6bbd0ede41cb7e5c64",
       "version_major": 2,
       "version_minor": 0
      },
      "text/plain": [
       "  0%|          | 0/1 [00:00<?, ?it/s]"
      ]
     },
     "metadata": {},
     "output_type": "display_data"
    },
    {
     "data": {
      "application/vnd.jupyter.widget-view+json": {
       "model_id": "1922b21da3ac41efa9a7e7803eaa3379",
       "version_major": 2,
       "version_minor": 0
      },
      "text/plain": [
       "  0%|          | 0/1 [00:00<?, ?it/s]"
      ]
     },
     "metadata": {},
     "output_type": "display_data"
    },
    {
     "name": "stdout",
     "output_type": "stream",
     "text": [
      "Intercept 0.08634134804652382\n",
      "Prediction_local [0.06444662]\n",
      "Right: 0.0\n",
      "Intercept -0.227069536021637\n",
      "Prediction_local [0.32099611]\n",
      "Right: 0.0\n",
      "Intercept 0.071397998095799\n",
      "Prediction_local [0.11367728]\n",
      "Right: 0.0\n",
      "Intercept 0.7282465019187465\n",
      "Prediction_local [0.11860692]\n",
      "Right: 0.0\n",
      "Intercept 0.34082705250508344\n",
      "Prediction_local [0.38235756]\n",
      "Right: 1.0\n",
      "Intercept 0.049235788734367514\n",
      "Prediction_local [0.06652569]\n",
      "Right: 0.0\n",
      "Intercept -0.11113528137891943\n",
      "Prediction_local [0.32510083]\n",
      "Right: 0.0\n",
      "Intercept 0.061422930314834645\n",
      "Prediction_local [0.10990257]\n",
      "Right: 0.0\n",
      "Intercept 0.608975131138807\n",
      "Prediction_local [0.11947226]\n",
      "Right: 0.0\n",
      "Intercept 0.3912475971636759\n",
      "Prediction_local [0.37810412]\n",
      "Right: 1.0\n",
      "Intercept 0.06117676709480517\n",
      "Prediction_local [0.05793763]\n",
      "Right: 0.0\n",
      "Intercept -0.14443940803937\n",
      "Prediction_local [0.29933219]\n",
      "Right: 0.0\n",
      "Intercept 0.12218574331712218\n",
      "Prediction_local [0.12741291]\n",
      "Right: 0.0\n",
      "Intercept 0.6753031377912982\n",
      "Prediction_local [0.11634517]\n",
      "Right: 0.0\n",
      "Intercept 0.2821348150905043\n",
      "Prediction_local [0.39911105]\n",
      "Right: 1.0\n"
     ]
    },
    {
     "data": {
      "application/vnd.jupyter.widget-view+json": {
       "model_id": "58e2be4cd42f47eeb4c136a69bf7fcda",
       "version_major": 2,
       "version_minor": 0
      },
      "text/plain": [
       "  0%|          | 0/1 [00:00<?, ?it/s]"
      ]
     },
     "metadata": {},
     "output_type": "display_data"
    },
    {
     "data": {
      "application/vnd.jupyter.widget-view+json": {
       "model_id": "4676124c4a8940d3bf045e33e733eb54",
       "version_major": 2,
       "version_minor": 0
      },
      "text/plain": [
       "  0%|          | 0/1 [00:00<?, ?it/s]"
      ]
     },
     "metadata": {},
     "output_type": "display_data"
    },
    {
     "data": {
      "application/vnd.jupyter.widget-view+json": {
       "model_id": "aacbf245cb5e4fe0b1cd3518106e4cf9",
       "version_major": 2,
       "version_minor": 0
      },
      "text/plain": [
       "  0%|          | 0/1 [00:00<?, ?it/s]"
      ]
     },
     "metadata": {},
     "output_type": "display_data"
    },
    {
     "name": "stdout",
     "output_type": "stream",
     "text": [
      "Intercept 0.04764246291573596\n",
      "Prediction_local [0.05629261]\n",
      "Right: 0.06\n",
      "Intercept 0.7282502267380409\n",
      "Prediction_local [0.10144504]\n",
      "Right: 0.08\n",
      "Intercept -0.04356402107674079\n",
      "Prediction_local [0.227665]\n",
      "Right: 0.21\n",
      "Intercept -0.17428422639974744\n",
      "Prediction_local [0.30741896]\n",
      "Right: 0.31\n",
      "Intercept 0.4411054416875574\n",
      "Prediction_local [0.30719392]\n",
      "Right: 0.34\n",
      "Intercept 0.049203059364231756\n",
      "Prediction_local [0.05618888]\n",
      "Right: 0.06\n",
      "Intercept 0.7402014708139055\n",
      "Prediction_local [0.10037307]\n",
      "Right: 0.08\n",
      "Intercept -0.0024270350891612558\n",
      "Prediction_local [0.21491411]\n",
      "Right: 0.21\n",
      "Intercept -0.15147967197386386\n",
      "Prediction_local [0.30532966]\n",
      "Right: 0.31\n",
      "Intercept 0.36549575112522803\n",
      "Prediction_local [0.32287658]\n",
      "Right: 0.34\n",
      "Intercept 0.08161972444301116\n",
      "Prediction_local [0.05570414]\n",
      "Right: 0.06\n",
      "Intercept 0.7757071307173847\n",
      "Prediction_local [0.09929559]\n",
      "Right: 0.08\n",
      "Intercept -0.10751423289400214\n",
      "Prediction_local [0.21432912]\n",
      "Right: 0.21\n",
      "Intercept -0.16872050772930142\n",
      "Prediction_local [0.31224913]\n",
      "Right: 0.31\n",
      "Intercept 0.41961409057579746\n",
      "Prediction_local [0.31828338]\n",
      "Right: 0.34\n"
     ]
    },
    {
     "data": {
      "application/vnd.jupyter.widget-view+json": {
       "model_id": "993018eb047b4809985468e3f165dba3",
       "version_major": 2,
       "version_minor": 0
      },
      "text/plain": [
       "  0%|          | 0/1 [00:00<?, ?it/s]"
      ]
     },
     "metadata": {},
     "output_type": "display_data"
    },
    {
     "data": {
      "application/vnd.jupyter.widget-view+json": {
       "model_id": "c0a93536c95240b9816763567d812a90",
       "version_major": 2,
       "version_minor": 0
      },
      "text/plain": [
       "  0%|          | 0/1 [00:00<?, ?it/s]"
      ]
     },
     "metadata": {},
     "output_type": "display_data"
    },
    {
     "data": {
      "application/vnd.jupyter.widget-view+json": {
       "model_id": "164c86602a5f4d28929cec4813db6147",
       "version_major": 2,
       "version_minor": 0
      },
      "text/plain": [
       "  0%|          | 0/1 [00:00<?, ?it/s]"
      ]
     },
     "metadata": {},
     "output_type": "display_data"
    },
    {
     "name": "stdout",
     "output_type": "stream",
     "text": [
      "Intercept -0.09178843440707946\n",
      "Prediction_local [0.17691521]\n",
      "Right: 0.03\n",
      "Intercept 0.689912236229745\n",
      "Prediction_local [0.11466972]\n",
      "Right: 0.06\n",
      "Intercept 0.1250104227685148\n",
      "Prediction_local [0.01075484]\n",
      "Right: 0.08265476190476191\n",
      "Intercept -0.139601417314352\n",
      "Prediction_local [0.33498848]\n",
      "Right: 0.17\n",
      "Intercept 0.4179812597087278\n",
      "Prediction_local [0.36266835]\n",
      "Right: 0.657345238095238\n",
      "Intercept 0.048639149984209096\n",
      "Prediction_local [0.17707697]\n",
      "Right: 0.03\n",
      "Intercept 0.7212912190315529\n",
      "Prediction_local [0.11630889]\n",
      "Right: 0.06\n",
      "Intercept 0.08257925942332794\n",
      "Prediction_local [0.00998356]\n",
      "Right: 0.08265476190476191\n",
      "Intercept -0.16320131602518123\n",
      "Prediction_local [0.33058449]\n",
      "Right: 0.17\n",
      "Intercept 0.31244328322944975\n",
      "Prediction_local [0.36595621]\n",
      "Right: 0.657345238095238\n",
      "Intercept -0.037309182114463296\n",
      "Prediction_local [0.17823884]\n",
      "Right: 0.03\n",
      "Intercept 0.7786997759031052\n",
      "Prediction_local [0.1199508]\n",
      "Right: 0.06\n",
      "Intercept 0.07114292751901241\n",
      "Prediction_local [0.01317403]\n",
      "Right: 0.08265476190476191\n",
      "Intercept -0.18811576625897442\n",
      "Prediction_local [0.33174498]\n",
      "Right: 0.17\n",
      "Intercept 0.37485537712048933\n",
      "Prediction_local [0.35701824]\n",
      "Right: 0.657345238095238\n"
     ]
    },
    {
     "data": {
      "application/vnd.jupyter.widget-view+json": {
       "model_id": "0e22d5bdb6334dd9ae17ecc1ab857085",
       "version_major": 2,
       "version_minor": 0
      },
      "text/plain": [
       "  0%|          | 0/1 [00:00<?, ?it/s]"
      ]
     },
     "metadata": {},
     "output_type": "display_data"
    },
    {
     "data": {
      "application/vnd.jupyter.widget-view+json": {
       "model_id": "5c4c4d14e96e4826a95966de7b67e09b",
       "version_major": 2,
       "version_minor": 0
      },
      "text/plain": [
       "  0%|          | 0/1 [00:00<?, ?it/s]"
      ]
     },
     "metadata": {},
     "output_type": "display_data"
    },
    {
     "data": {
      "application/vnd.jupyter.widget-view+json": {
       "model_id": "a2f427cc936541f6a8ac4258a39129f5",
       "version_major": 2,
       "version_minor": 0
      },
      "text/plain": [
       "  0%|          | 0/1 [00:00<?, ?it/s]"
      ]
     },
     "metadata": {},
     "output_type": "display_data"
    },
    {
     "name": "stdout",
     "output_type": "stream",
     "text": [
      "Intercept 0.08261605165414222\n",
      "Prediction_local [0.06574938]\n",
      "Right: 0.0\n",
      "Intercept 0.3276893327611082\n",
      "Prediction_local [0.28346531]\n",
      "Right: 0.0\n",
      "Intercept 0.11239124744503476\n",
      "Prediction_local [0.10666641]\n",
      "Right: 0.0\n",
      "Intercept 0.14788314796421048\n",
      "Prediction_local [0.2703536]\n",
      "Right: 0.01\n",
      "Intercept 0.3303270255313077\n",
      "Prediction_local [0.27382203]\n",
      "Right: 0.99\n",
      "Intercept 0.1037120501602157\n",
      "Prediction_local [0.07811187]\n",
      "Right: 0.0\n",
      "Intercept 0.28523383010912556\n",
      "Prediction_local [0.2636495]\n",
      "Right: 0.0\n",
      "Intercept 0.09042365755321823\n",
      "Prediction_local [0.11583337]\n",
      "Right: 0.0\n",
      "Intercept 0.1487170479938661\n",
      "Prediction_local [0.27214438]\n",
      "Right: 0.01\n",
      "Intercept 0.37115728580191054\n",
      "Prediction_local [0.27054989]\n",
      "Right: 0.99\n",
      "Intercept 0.0842860560060898\n",
      "Prediction_local [0.06758573]\n",
      "Right: 0.0\n",
      "Intercept 0.28524929889867023\n",
      "Prediction_local [0.26121733]\n",
      "Right: 0.0\n",
      "Intercept 0.1450506983425373\n",
      "Prediction_local [0.1104502]\n",
      "Right: 0.0\n",
      "Intercept 0.09805661442572575\n",
      "Prediction_local [0.28216078]\n",
      "Right: 0.01\n",
      "Intercept 0.38665672471293566\n",
      "Prediction_local [0.2783213]\n",
      "Right: 0.99\n"
     ]
    },
    {
     "data": {
      "application/vnd.jupyter.widget-view+json": {
       "model_id": "9a781a51fc0842e2904bcc05f1a4aa75",
       "version_major": 2,
       "version_minor": 0
      },
      "text/plain": [
       "  0%|          | 0/1 [00:00<?, ?it/s]"
      ]
     },
     "metadata": {},
     "output_type": "display_data"
    },
    {
     "data": {
      "application/vnd.jupyter.widget-view+json": {
       "model_id": "249420d34b2e45e0a04ad9d059a0bb49",
       "version_major": 2,
       "version_minor": 0
      },
      "text/plain": [
       "  0%|          | 0/1 [00:00<?, ?it/s]"
      ]
     },
     "metadata": {},
     "output_type": "display_data"
    },
    {
     "data": {
      "application/vnd.jupyter.widget-view+json": {
       "model_id": "cbf7bc420c814b6391b176fb9ce6c3b0",
       "version_major": 2,
       "version_minor": 0
      },
      "text/plain": [
       "  0%|          | 0/1 [00:00<?, ?it/s]"
      ]
     },
     "metadata": {},
     "output_type": "display_data"
    },
    {
     "name": "stdout",
     "output_type": "stream",
     "text": [
      "Intercept 0.02512794071935577\n",
      "Prediction_local [0.0675543]\n",
      "Right: 0.0\n",
      "Intercept 0.08920255914667347\n",
      "Prediction_local [0.1090535]\n",
      "Right: 0.01\n",
      "Intercept 0.2572716137120564\n",
      "Prediction_local [0.21889262]\n",
      "Right: 0.05\n",
      "Intercept 0.2688166690399491\n",
      "Prediction_local [0.30488581]\n",
      "Right: 0.06\n",
      "Intercept 0.36127701216030583\n",
      "Prediction_local [0.29931806]\n",
      "Right: 0.88\n",
      "Intercept 0.11925923391753995\n",
      "Prediction_local [0.07054182]\n",
      "Right: 0.0\n",
      "Intercept 0.11598256423392443\n",
      "Prediction_local [0.10792812]\n",
      "Right: 0.01\n",
      "Intercept 0.09818024835482739\n",
      "Prediction_local [0.24257486]\n",
      "Right: 0.05\n",
      "Intercept 0.28710721823442675\n",
      "Prediction_local [0.29082334]\n",
      "Right: 0.06\n",
      "Intercept 0.37962445912651516\n",
      "Prediction_local [0.28846056]\n",
      "Right: 0.88\n",
      "Intercept 0.029545419752868403\n",
      "Prediction_local [0.06651385]\n",
      "Right: 0.0\n",
      "Intercept 0.18034793422535664\n",
      "Prediction_local [0.11537175]\n",
      "Right: 0.01\n",
      "Intercept 0.22786399275456898\n",
      "Prediction_local [0.24095157]\n",
      "Right: 0.05\n",
      "Intercept 0.23759036090641614\n",
      "Prediction_local [0.30113575]\n",
      "Right: 0.06\n",
      "Intercept 0.3258888037698408\n",
      "Prediction_local [0.27616815]\n",
      "Right: 0.88\n"
     ]
    },
    {
     "data": {
      "application/vnd.jupyter.widget-view+json": {
       "model_id": "c1cc26c99c434ffa8328089ad5a3b98a",
       "version_major": 2,
       "version_minor": 0
      },
      "text/plain": [
       "  0%|          | 0/1 [00:00<?, ?it/s]"
      ]
     },
     "metadata": {},
     "output_type": "display_data"
    },
    {
     "data": {
      "application/vnd.jupyter.widget-view+json": {
       "model_id": "cf122557ff114ee89b4cf4c76b6c2696",
       "version_major": 2,
       "version_minor": 0
      },
      "text/plain": [
       "  0%|          | 0/1 [00:00<?, ?it/s]"
      ]
     },
     "metadata": {},
     "output_type": "display_data"
    },
    {
     "data": {
      "application/vnd.jupyter.widget-view+json": {
       "model_id": "e858544e71244f8f87506a0a3b567718",
       "version_major": 2,
       "version_minor": 0
      },
      "text/plain": [
       "  0%|          | 0/1 [00:00<?, ?it/s]"
      ]
     },
     "metadata": {},
     "output_type": "display_data"
    },
    {
     "name": "stdout",
     "output_type": "stream",
     "text": [
      "Intercept 0.13148461592962943\n",
      "Prediction_local [-0.01122319]\n",
      "Right: 0.0\n",
      "Intercept 0.2910551444060465\n",
      "Prediction_local [0.3084568]\n",
      "Right: 0.0\n",
      "Intercept -0.00924151485549568\n",
      "Prediction_local [0.15239602]\n",
      "Right: 0.0\n",
      "Intercept 0.23292571419125377\n",
      "Prediction_local [0.24324869]\n",
      "Right: 0.03\n",
      "Intercept 0.3536048431886783\n",
      "Prediction_local [0.3070212]\n",
      "Right: 0.97\n",
      "Intercept 0.23811676157214273\n",
      "Prediction_local [-0.02162948]\n",
      "Right: 0.0\n",
      "Intercept 0.2584836033614269\n",
      "Prediction_local [0.31004985]\n",
      "Right: 0.0\n",
      "Intercept 0.040022726686405816\n",
      "Prediction_local [0.1554974]\n",
      "Right: 0.0\n",
      "Intercept 0.17863865688770686\n",
      "Prediction_local [0.25622236]\n",
      "Right: 0.03\n",
      "Intercept 0.2843680479865157\n",
      "Prediction_local [0.30008224]\n",
      "Right: 0.97\n",
      "Intercept 0.16143721425022514\n",
      "Prediction_local [-0.01465642]\n",
      "Right: 0.0\n",
      "Intercept 0.23431706974692287\n",
      "Prediction_local [0.30568485]\n",
      "Right: 0.0\n",
      "Intercept 0.05709424876212406\n",
      "Prediction_local [0.15436507]\n",
      "Right: 0.0\n",
      "Intercept 0.2445987246858096\n",
      "Prediction_local [0.24934521]\n",
      "Right: 0.03\n",
      "Intercept 0.30230636690843954\n",
      "Prediction_local [0.30472128]\n",
      "Right: 0.97\n"
     ]
    },
    {
     "data": {
      "application/vnd.jupyter.widget-view+json": {
       "model_id": "7a76b5dc9c2c4563be36beb0bed28654",
       "version_major": 2,
       "version_minor": 0
      },
      "text/plain": [
       "  0%|          | 0/1 [00:00<?, ?it/s]"
      ]
     },
     "metadata": {},
     "output_type": "display_data"
    },
    {
     "data": {
      "application/vnd.jupyter.widget-view+json": {
       "model_id": "1a796a6abf9f448d81ba54511155178e",
       "version_major": 2,
       "version_minor": 0
      },
      "text/plain": [
       "  0%|          | 0/1 [00:00<?, ?it/s]"
      ]
     },
     "metadata": {},
     "output_type": "display_data"
    },
    {
     "data": {
      "application/vnd.jupyter.widget-view+json": {
       "model_id": "fe4c600d07804b1a8545d9a0bfc1402e",
       "version_major": 2,
       "version_minor": 0
      },
      "text/plain": [
       "  0%|          | 0/1 [00:00<?, ?it/s]"
      ]
     },
     "metadata": {},
     "output_type": "display_data"
    },
    {
     "name": "stdout",
     "output_type": "stream",
     "text": [
      "Intercept 0.04044547701725831\n",
      "Prediction_local [0.07888072]\n",
      "Right: 0.0\n",
      "Intercept 0.17262062707628587\n",
      "Prediction_local [0.0725455]\n",
      "Right: 0.01\n",
      "Intercept 0.13736801861792516\n",
      "Prediction_local [0.29284972]\n",
      "Right: 0.04\n",
      "Intercept 0.29911773723097757\n",
      "Prediction_local [0.30530556]\n",
      "Right: 0.08\n",
      "Intercept 0.350209966999464\n",
      "Prediction_local [0.2504443]\n",
      "Right: 0.87\n",
      "Intercept 0.061331930894104145\n",
      "Prediction_local [0.06263956]\n",
      "Right: 0.0\n",
      "Intercept 0.12834685107809957\n",
      "Prediction_local [0.07929245]\n",
      "Right: 0.01\n",
      "Intercept 0.16194953495450717\n",
      "Prediction_local [0.29380382]\n",
      "Right: 0.04\n",
      "Intercept 0.2828595671378714\n",
      "Prediction_local [0.30915606]\n",
      "Right: 0.08\n",
      "Intercept 0.36657565558190996\n",
      "Prediction_local [0.25490533]\n",
      "Right: 0.87\n",
      "Intercept 0.04695956654395363\n",
      "Prediction_local [0.06165386]\n",
      "Right: 0.0\n",
      "Intercept 0.21321358275967878\n",
      "Prediction_local [0.09173583]\n",
      "Right: 0.01\n",
      "Intercept 0.08538621902617521\n",
      "Prediction_local [0.28990048]\n",
      "Right: 0.04\n",
      "Intercept 0.26295544016220984\n",
      "Prediction_local [0.31047064]\n",
      "Right: 0.08\n",
      "Intercept 0.3918384774669398\n",
      "Prediction_local [0.24672488]\n",
      "Right: 0.87\n"
     ]
    },
    {
     "data": {
      "application/vnd.jupyter.widget-view+json": {
       "model_id": "327545f8773b4e08a4d7932280c6c3f2",
       "version_major": 2,
       "version_minor": 0
      },
      "text/plain": [
       "  0%|          | 0/1 [00:00<?, ?it/s]"
      ]
     },
     "metadata": {},
     "output_type": "display_data"
    },
    {
     "data": {
      "application/vnd.jupyter.widget-view+json": {
       "model_id": "7350723c3080443e933a0a85d71e5f94",
       "version_major": 2,
       "version_minor": 0
      },
      "text/plain": [
       "  0%|          | 0/1 [00:00<?, ?it/s]"
      ]
     },
     "metadata": {},
     "output_type": "display_data"
    },
    {
     "data": {
      "application/vnd.jupyter.widget-view+json": {
       "model_id": "d6b444f351094e3c82ec50f19469819a",
       "version_major": 2,
       "version_minor": 0
      },
      "text/plain": [
       "  0%|          | 0/1 [00:00<?, ?it/s]"
      ]
     },
     "metadata": {},
     "output_type": "display_data"
    },
    {
     "name": "stdout",
     "output_type": "stream",
     "text": [
      "Intercept 0.07510404707453776\n",
      "Prediction_local [0.01100097]\n",
      "Right: 0.0\n",
      "Intercept 0.1712344632140165\n",
      "Prediction_local [0.11200167]\n",
      "Right: 0.0\n",
      "Intercept 0.2217727616410236\n",
      "Prediction_local [0.24350122]\n",
      "Right: 0.03\n",
      "Intercept 0.2727752630785099\n",
      "Prediction_local [0.28783306]\n",
      "Right: 0.07\n",
      "Intercept 0.2583825046116211\n",
      "Prediction_local [0.34589045]\n",
      "Right: 0.9\n",
      "Intercept 0.18674518893715808\n",
      "Prediction_local [0.00720955]\n",
      "Right: 0.0\n",
      "Intercept 0.08915659955457518\n",
      "Prediction_local [0.12003951]\n",
      "Right: 0.0\n",
      "Intercept 0.14986185858002365\n",
      "Prediction_local [0.25274054]\n",
      "Right: 0.03\n",
      "Intercept 0.3402936892538561\n",
      "Prediction_local [0.28211376]\n",
      "Right: 0.07\n",
      "Intercept 0.23368540630317597\n",
      "Prediction_local [0.33752219]\n",
      "Right: 0.9\n",
      "Intercept 0.13607876791940282\n",
      "Prediction_local [0.00834169]\n",
      "Right: 0.0\n",
      "Intercept 0.1552948732796077\n",
      "Prediction_local [0.10669768]\n",
      "Right: 0.0\n",
      "Intercept 0.12246336899406526\n",
      "Prediction_local [0.24140004]\n",
      "Right: 0.03\n",
      "Intercept 0.3094740567346991\n",
      "Prediction_local [0.28619396]\n",
      "Right: 0.07\n",
      "Intercept 0.27700973631287384\n",
      "Prediction_local [0.35724052]\n",
      "Right: 0.9\n"
     ]
    },
    {
     "data": {
      "application/vnd.jupyter.widget-view+json": {
       "model_id": "a7f8752c1a4747519e593e3c2d385899",
       "version_major": 2,
       "version_minor": 0
      },
      "text/plain": [
       "  0%|          | 0/1 [00:00<?, ?it/s]"
      ]
     },
     "metadata": {},
     "output_type": "display_data"
    },
    {
     "data": {
      "application/vnd.jupyter.widget-view+json": {
       "model_id": "2fc21e19f4194a1285918f09a4dfbbd9",
       "version_major": 2,
       "version_minor": 0
      },
      "text/plain": [
       "  0%|          | 0/1 [00:00<?, ?it/s]"
      ]
     },
     "metadata": {},
     "output_type": "display_data"
    },
    {
     "data": {
      "application/vnd.jupyter.widget-view+json": {
       "model_id": "6a21cf4b094849c087d56e32c37671a7",
       "version_major": 2,
       "version_minor": 0
      },
      "text/plain": [
       "  0%|          | 0/1 [00:00<?, ?it/s]"
      ]
     },
     "metadata": {},
     "output_type": "display_data"
    },
    {
     "name": "stdout",
     "output_type": "stream",
     "text": [
      "Intercept 0.005621062213460856\n",
      "Prediction_local [0.06651047]\n",
      "Right: 0.0\n",
      "Intercept 0.23660699839890972\n",
      "Prediction_local [0.25158521]\n",
      "Right: 0.0\n",
      "Intercept 0.3637495627823777\n",
      "Prediction_local [0.32409264]\n",
      "Right: 0.0\n",
      "Intercept 0.09626142241609437\n",
      "Prediction_local [0.06897572]\n",
      "Right: 0.0\n",
      "Intercept 0.2982133560392831\n",
      "Prediction_local [0.28866749]\n",
      "Right: 1.0\n",
      "Intercept 0.12456772300808508\n",
      "Prediction_local [0.04956007]\n",
      "Right: 0.0\n",
      "Intercept 0.13096488135373707\n",
      "Prediction_local [0.25431663]\n",
      "Right: 0.0\n",
      "Intercept 0.2871316172078778\n",
      "Prediction_local [0.35006384]\n",
      "Right: 0.0\n",
      "Intercept 0.060973652834658845\n",
      "Prediction_local [0.08737525]\n",
      "Right: 0.0\n",
      "Intercept 0.3962888444429433\n",
      "Prediction_local [0.25869961]\n",
      "Right: 1.0\n",
      "Intercept 0.1301319413969066\n",
      "Prediction_local [0.06709698]\n",
      "Right: 0.0\n",
      "Intercept 0.08406381526435663\n",
      "Prediction_local [0.23578527]\n",
      "Right: 0.0\n",
      "Intercept 0.19891931723138462\n",
      "Prediction_local [0.33324877]\n",
      "Right: 0.0\n",
      "Intercept 0.2050104559826546\n",
      "Prediction_local [0.08274394]\n",
      "Right: 0.0\n",
      "Intercept 0.3820538983664876\n",
      "Prediction_local [0.28126611]\n",
      "Right: 1.0\n"
     ]
    },
    {
     "data": {
      "application/vnd.jupyter.widget-view+json": {
       "model_id": "15744c47f7e740e1a0c42844dbf2b608",
       "version_major": 2,
       "version_minor": 0
      },
      "text/plain": [
       "  0%|          | 0/1 [00:00<?, ?it/s]"
      ]
     },
     "metadata": {},
     "output_type": "display_data"
    },
    {
     "data": {
      "application/vnd.jupyter.widget-view+json": {
       "model_id": "4f0f5b3ebe2a4c29ba591ecbd4f7319f",
       "version_major": 2,
       "version_minor": 0
      },
      "text/plain": [
       "  0%|          | 0/1 [00:00<?, ?it/s]"
      ]
     },
     "metadata": {},
     "output_type": "display_data"
    },
    {
     "data": {
      "application/vnd.jupyter.widget-view+json": {
       "model_id": "a4eb269b05da4b66a1afb8be7103fde6",
       "version_major": 2,
       "version_minor": 0
      },
      "text/plain": [
       "  0%|          | 0/1 [00:00<?, ?it/s]"
      ]
     },
     "metadata": {},
     "output_type": "display_data"
    },
    {
     "name": "stdout",
     "output_type": "stream",
     "text": [
      "Intercept 0.11507420854551317\n",
      "Prediction_local [0.00607898]\n",
      "Right: 0.01\n",
      "Intercept 0.15356655266858132\n",
      "Prediction_local [0.13095249]\n",
      "Right: 0.01\n",
      "Intercept 0.2880702885303337\n",
      "Prediction_local [0.30922531]\n",
      "Right: 0.02\n",
      "Intercept 0.12043204485762454\n",
      "Prediction_local [0.2716463]\n",
      "Right: 0.03\n",
      "Intercept 0.3230443641357491\n",
      "Prediction_local [0.2820941]\n",
      "Right: 0.93\n",
      "Intercept 0.12118106189556507\n",
      "Prediction_local [0.01121953]\n",
      "Right: 0.01\n",
      "Intercept 0.16192178218582925\n",
      "Prediction_local [0.1398459]\n",
      "Right: 0.01\n",
      "Intercept 0.2195656393859572\n",
      "Prediction_local [0.29965084]\n",
      "Right: 0.02\n",
      "Intercept 0.15510720623592147\n",
      "Prediction_local [0.26789121]\n",
      "Right: 0.03\n",
      "Intercept 0.34179288671392916\n",
      "Prediction_local [0.28190985]\n",
      "Right: 0.93\n",
      "Intercept 0.11753501061870025\n",
      "Prediction_local [0.0070899]\n",
      "Right: 0.01\n",
      "Intercept 0.11153097392778699\n",
      "Prediction_local [0.14538546]\n",
      "Right: 0.01\n",
      "Intercept 0.3030206695506561\n",
      "Prediction_local [0.30100227]\n",
      "Right: 0.02\n",
      "Intercept 0.08431748267624015\n",
      "Prediction_local [0.2825566]\n",
      "Right: 0.03\n",
      "Intercept 0.3833462457922212\n",
      "Prediction_local [0.26397271]\n",
      "Right: 0.93\n"
     ]
    },
    {
     "data": {
      "application/vnd.jupyter.widget-view+json": {
       "model_id": "df5c68e3bd6c498fad556c7e7e95b831",
       "version_major": 2,
       "version_minor": 0
      },
      "text/plain": [
       "  0%|          | 0/1 [00:00<?, ?it/s]"
      ]
     },
     "metadata": {},
     "output_type": "display_data"
    },
    {
     "data": {
      "application/vnd.jupyter.widget-view+json": {
       "model_id": "7bace8ee753b4ec88496bef8e5e95cc6",
       "version_major": 2,
       "version_minor": 0
      },
      "text/plain": [
       "  0%|          | 0/1 [00:00<?, ?it/s]"
      ]
     },
     "metadata": {},
     "output_type": "display_data"
    },
    {
     "data": {
      "application/vnd.jupyter.widget-view+json": {
       "model_id": "63fa228a3b8b4e6c98e6386b887d7ec6",
       "version_major": 2,
       "version_minor": 0
      },
      "text/plain": [
       "  0%|          | 0/1 [00:00<?, ?it/s]"
      ]
     },
     "metadata": {},
     "output_type": "display_data"
    },
    {
     "name": "stdout",
     "output_type": "stream",
     "text": [
      "Intercept 0.04551136403775427\n",
      "Prediction_local [0.03990202]\n",
      "Right: 0.0\n",
      "Intercept 0.10876485841877914\n",
      "Prediction_local [0.26251597]\n",
      "Right: 0.0\n",
      "Intercept 0.3888294317648239\n",
      "Prediction_local [0.2938144]\n",
      "Right: 0.0\n",
      "Intercept 0.11838231463029411\n",
      "Prediction_local [0.11463068]\n",
      "Right: 0.0\n",
      "Intercept 0.3384990175912659\n",
      "Prediction_local [0.28998532]\n",
      "Right: 1.0\n",
      "Intercept 0.059618872463954364\n",
      "Prediction_local [0.04319976]\n",
      "Right: 0.0\n",
      "Intercept 0.18931012568823785\n",
      "Prediction_local [0.26456165]\n",
      "Right: 0.0\n",
      "Intercept 0.31325759335744496\n",
      "Prediction_local [0.28493147]\n",
      "Right: 0.0\n",
      "Intercept 0.14429550692170498\n",
      "Prediction_local [0.11439451]\n",
      "Right: 0.0\n",
      "Intercept 0.2929711089571737\n",
      "Prediction_local [0.29295518]\n",
      "Right: 1.0\n",
      "Intercept 0.05825092790940911\n",
      "Prediction_local [0.04887349]\n",
      "Right: 0.0\n",
      "Intercept 0.16591885516976757\n",
      "Prediction_local [0.26011146]\n",
      "Right: 0.0\n",
      "Intercept 0.2629807257151264\n",
      "Prediction_local [0.30227807]\n",
      "Right: 0.0\n",
      "Intercept 0.17939949724953197\n",
      "Prediction_local [0.10501412]\n",
      "Right: 0.0\n",
      "Intercept 0.33428292886390476\n",
      "Prediction_local [0.28334585]\n",
      "Right: 1.0\n"
     ]
    },
    {
     "data": {
      "application/vnd.jupyter.widget-view+json": {
       "model_id": "e32890c88cd94cd9af2e9c522d7cfe71",
       "version_major": 2,
       "version_minor": 0
      },
      "text/plain": [
       "  0%|          | 0/1 [00:00<?, ?it/s]"
      ]
     },
     "metadata": {},
     "output_type": "display_data"
    },
    {
     "data": {
      "application/vnd.jupyter.widget-view+json": {
       "model_id": "3e455f52c1724e9c9300df09e250d35a",
       "version_major": 2,
       "version_minor": 0
      },
      "text/plain": [
       "  0%|          | 0/1 [00:00<?, ?it/s]"
      ]
     },
     "metadata": {},
     "output_type": "display_data"
    },
    {
     "data": {
      "application/vnd.jupyter.widget-view+json": {
       "model_id": "5ca9df9d55484d09b06b8e24386c0e24",
       "version_major": 2,
       "version_minor": 0
      },
      "text/plain": [
       "  0%|          | 0/1 [00:00<?, ?it/s]"
      ]
     },
     "metadata": {},
     "output_type": "display_data"
    },
    {
     "name": "stdout",
     "output_type": "stream",
     "text": [
      "Intercept -0.07722172259954047\n",
      "Prediction_local [0.1487862]\n",
      "Right: 0.0\n",
      "Intercept 0.33838115433852556\n",
      "Prediction_local [0.23743556]\n",
      "Right: 0.0\n",
      "Intercept 0.10416188257018022\n",
      "Prediction_local [0.12745797]\n",
      "Right: 0.0\n",
      "Intercept 0.1301683844326687\n",
      "Prediction_local [0.30202264]\n",
      "Right: 0.03\n",
      "Intercept 0.5039833506961406\n",
      "Prediction_local [0.18433907]\n",
      "Right: 0.97\n",
      "Intercept -0.03936410762913142\n",
      "Prediction_local [0.15596999]\n",
      "Right: 0.0\n",
      "Intercept 0.3084545351675391\n",
      "Prediction_local [0.24032342]\n",
      "Right: 0.0\n",
      "Intercept 0.16531942832153712\n",
      "Prediction_local [0.12418036]\n",
      "Right: 0.0\n",
      "Intercept 0.1639898212716232\n",
      "Prediction_local [0.29592033]\n",
      "Right: 0.03\n",
      "Intercept 0.4021628807024792\n",
      "Prediction_local [0.18356901]\n",
      "Right: 0.97\n",
      "Intercept 0.05153426110574352\n",
      "Prediction_local [0.14587439]\n",
      "Right: 0.0\n",
      "Intercept 0.3992393463463525\n",
      "Prediction_local [0.23937905]\n",
      "Right: 0.0\n",
      "Intercept -0.007292186673673567\n",
      "Prediction_local [0.13250608]\n",
      "Right: 0.0\n",
      "Intercept 0.16268096995702402\n",
      "Prediction_local [0.29495485]\n",
      "Right: 0.03\n",
      "Intercept 0.394030482544904\n",
      "Prediction_local [0.18691426]\n",
      "Right: 0.97\n"
     ]
    },
    {
     "data": {
      "application/vnd.jupyter.widget-view+json": {
       "model_id": "96a98aad076f4ce8b8ebc5f0d489b31f",
       "version_major": 2,
       "version_minor": 0
      },
      "text/plain": [
       "  0%|          | 0/1 [00:00<?, ?it/s]"
      ]
     },
     "metadata": {},
     "output_type": "display_data"
    },
    {
     "data": {
      "application/vnd.jupyter.widget-view+json": {
       "model_id": "b1c60a07dbae4252a15f019dc43d9b2a",
       "version_major": 2,
       "version_minor": 0
      },
      "text/plain": [
       "  0%|          | 0/1 [00:00<?, ?it/s]"
      ]
     },
     "metadata": {},
     "output_type": "display_data"
    },
    {
     "data": {
      "application/vnd.jupyter.widget-view+json": {
       "model_id": "c76d5cdbecda405a80b3e8a7e4138d63",
       "version_major": 2,
       "version_minor": 0
      },
      "text/plain": [
       "  0%|          | 0/1 [00:00<?, ?it/s]"
      ]
     },
     "metadata": {},
     "output_type": "display_data"
    },
    {
     "name": "stdout",
     "output_type": "stream",
     "text": [
      "Intercept 0.08953236137717985\n",
      "Prediction_local [0.02442881]\n",
      "Right: 0.0\n",
      "Intercept 0.11362551343886373\n",
      "Prediction_local [0.27953172]\n",
      "Right: 0.0\n",
      "Intercept 0.4470926135026649\n",
      "Prediction_local [0.2438963]\n",
      "Right: 0.0\n",
      "Intercept -0.025937256866819886\n",
      "Prediction_local [0.23354242]\n",
      "Right: 0.0\n",
      "Intercept 0.37590545755706783\n",
      "Prediction_local [0.2185231]\n",
      "Right: 1.0\n",
      "Intercept 0.16913982443178216\n",
      "Prediction_local [-0.00436658]\n",
      "Right: 0.0\n",
      "Intercept 0.17028763038007005\n",
      "Prediction_local [0.26577952]\n",
      "Right: 0.0\n",
      "Intercept 0.33870672165543386\n",
      "Prediction_local [0.26274224]\n",
      "Right: 0.0\n",
      "Intercept -0.0885513168607372\n",
      "Prediction_local [0.25351449]\n",
      "Right: 0.0\n",
      "Intercept 0.40941592424163065\n",
      "Prediction_local [0.22231475]\n",
      "Right: 1.0\n",
      "Intercept 0.1445465049120739\n",
      "Prediction_local [-0.0034191]\n",
      "Right: 0.0\n",
      "Intercept 0.13332141573735232\n",
      "Prediction_local [0.27222704]\n",
      "Right: 0.0\n",
      "Intercept 0.376127728549961\n",
      "Prediction_local [0.24647508]\n",
      "Right: 0.0\n",
      "Intercept -0.02052172563969537\n",
      "Prediction_local [0.25938313]\n",
      "Right: 0.0\n",
      "Intercept 0.36656040385782773\n",
      "Prediction_local [0.22569874]\n",
      "Right: 1.0\n"
     ]
    },
    {
     "data": {
      "application/vnd.jupyter.widget-view+json": {
       "model_id": "5eeae52bbb3f4a19ac39ebe7212597a4",
       "version_major": 2,
       "version_minor": 0
      },
      "text/plain": [
       "  0%|          | 0/1 [00:00<?, ?it/s]"
      ]
     },
     "metadata": {},
     "output_type": "display_data"
    },
    {
     "data": {
      "application/vnd.jupyter.widget-view+json": {
       "model_id": "ade67b0d0adb445ca7646e2eac449c91",
       "version_major": 2,
       "version_minor": 0
      },
      "text/plain": [
       "  0%|          | 0/1 [00:00<?, ?it/s]"
      ]
     },
     "metadata": {},
     "output_type": "display_data"
    },
    {
     "data": {
      "application/vnd.jupyter.widget-view+json": {
       "model_id": "a335f087ebe347278513cdf9f704c264",
       "version_major": 2,
       "version_minor": 0
      },
      "text/plain": [
       "  0%|          | 0/1 [00:00<?, ?it/s]"
      ]
     },
     "metadata": {},
     "output_type": "display_data"
    },
    {
     "name": "stdout",
     "output_type": "stream",
     "text": [
      "Intercept -0.02105458481220797\n",
      "Prediction_local [0.05262306]\n",
      "Right: 0.0\n",
      "Intercept -0.06775793511474183\n",
      "Prediction_local [0.06186179]\n",
      "Right: 0.0\n",
      "Intercept 0.17605117721906044\n",
      "Prediction_local [0.3452388]\n",
      "Right: 0.0\n",
      "Intercept 0.5941635808332447\n",
      "Prediction_local [0.48694031]\n",
      "Right: 0.0\n",
      "Intercept 0.31791122475156436\n",
      "Prediction_local [0.05311967]\n",
      "Right: 1.0\n",
      "Intercept -0.006082147884325553\n",
      "Prediction_local [0.05321304]\n",
      "Right: 0.0\n",
      "Intercept -0.07115478030832459\n",
      "Prediction_local [0.06889364]\n",
      "Right: 0.0\n",
      "Intercept 0.12486589631682354\n",
      "Prediction_local [0.33461473]\n",
      "Right: 0.0\n",
      "Intercept 0.59396389509374\n",
      "Prediction_local [0.48458939]\n",
      "Right: 0.0\n",
      "Intercept 0.35918533451657475\n",
      "Prediction_local [0.05932026]\n",
      "Right: 1.0\n",
      "Intercept 0.012115145979641473\n",
      "Prediction_local [0.05470619]\n",
      "Right: 0.0\n",
      "Intercept -0.033451069559392574\n",
      "Prediction_local [0.07343931]\n",
      "Right: 0.0\n",
      "Intercept 0.0807690851638683\n",
      "Prediction_local [0.34004087]\n",
      "Right: 0.0\n",
      "Intercept 0.6720236239983499\n",
      "Prediction_local [0.4737147]\n",
      "Right: 0.0\n",
      "Intercept 0.26924174761261266\n",
      "Prediction_local [0.0579382]\n",
      "Right: 1.0\n"
     ]
    },
    {
     "data": {
      "application/vnd.jupyter.widget-view+json": {
       "model_id": "363bf379087046db9a48ac5e317a2d45",
       "version_major": 2,
       "version_minor": 0
      },
      "text/plain": [
       "  0%|          | 0/1 [00:00<?, ?it/s]"
      ]
     },
     "metadata": {},
     "output_type": "display_data"
    },
    {
     "data": {
      "application/vnd.jupyter.widget-view+json": {
       "model_id": "8ccf4849dcf741aab0895eb5c741c253",
       "version_major": 2,
       "version_minor": 0
      },
      "text/plain": [
       "  0%|          | 0/1 [00:00<?, ?it/s]"
      ]
     },
     "metadata": {},
     "output_type": "display_data"
    },
    {
     "data": {
      "application/vnd.jupyter.widget-view+json": {
       "model_id": "6ac6ea7281bd4bc7931e6f29869cec7a",
       "version_major": 2,
       "version_minor": 0
      },
      "text/plain": [
       "  0%|          | 0/1 [00:00<?, ?it/s]"
      ]
     },
     "metadata": {},
     "output_type": "display_data"
    },
    {
     "name": "stdout",
     "output_type": "stream",
     "text": [
      "Intercept 0.02149957515955231\n",
      "Prediction_local [0.02014535]\n",
      "Right: 0.0\n",
      "Intercept 0.01726269300249473\n",
      "Prediction_local [-0.00380348]\n",
      "Right: 0.0\n",
      "Intercept 0.36122448349884273\n",
      "Prediction_local [0.10238396]\n",
      "Right: 0.0\n",
      "Intercept 0.473184269470476\n",
      "Prediction_local [0.64647854]\n",
      "Right: 0.0\n",
      "Intercept 0.12777291570002886\n",
      "Prediction_local [0.2350389]\n",
      "Right: 1.0\n",
      "Intercept 0.0499332069377513\n",
      "Prediction_local [0.02948919]\n",
      "Right: 0.0\n",
      "Intercept 0.01498852183276067\n",
      "Prediction_local [-0.02038925]\n",
      "Right: 0.0\n",
      "Intercept 0.2562910055851966\n",
      "Prediction_local [0.14879175]\n",
      "Right: 0.0\n",
      "Intercept 0.5006980664515935\n",
      "Prediction_local [0.55642183]\n",
      "Right: 0.0\n",
      "Intercept 0.17880192300811887\n",
      "Prediction_local [0.28562195]\n",
      "Right: 1.0\n",
      "Intercept 0.034116127483805145\n",
      "Prediction_local [0.02515341]\n",
      "Right: 0.0\n",
      "Intercept 0.04857227459228415\n",
      "Prediction_local [-0.01255363]\n",
      "Right: 0.0\n",
      "Intercept 0.34003275509948044\n",
      "Prediction_local [0.09663526]\n",
      "Right: 0.0\n",
      "Intercept 0.5038538052111441\n",
      "Prediction_local [0.58295206]\n",
      "Right: 0.0\n",
      "Intercept 0.0713480367179152\n",
      "Prediction_local [0.30782037]\n",
      "Right: 1.0\n"
     ]
    },
    {
     "data": {
      "application/vnd.jupyter.widget-view+json": {
       "model_id": "5c2b692fbbba414ba4f66005ea7688e0",
       "version_major": 2,
       "version_minor": 0
      },
      "text/plain": [
       "  0%|          | 0/1 [00:00<?, ?it/s]"
      ]
     },
     "metadata": {},
     "output_type": "display_data"
    },
    {
     "data": {
      "application/vnd.jupyter.widget-view+json": {
       "model_id": "a19c8671f1844e0e802ff41bfb6db0c7",
       "version_major": 2,
       "version_minor": 0
      },
      "text/plain": [
       "  0%|          | 0/1 [00:00<?, ?it/s]"
      ]
     },
     "metadata": {},
     "output_type": "display_data"
    },
    {
     "data": {
      "application/vnd.jupyter.widget-view+json": {
       "model_id": "c156ca931443407aa46999dda5acd6e0",
       "version_major": 2,
       "version_minor": 0
      },
      "text/plain": [
       "  0%|          | 0/1 [00:00<?, ?it/s]"
      ]
     },
     "metadata": {},
     "output_type": "display_data"
    },
    {
     "name": "stdout",
     "output_type": "stream",
     "text": [
      "Intercept -0.07298130876522696\n",
      "Prediction_local [0.1180135]\n",
      "Right: 0.0\n",
      "Intercept -0.06148144891669551\n",
      "Prediction_local [0.09501505]\n",
      "Right: 0.0\n",
      "Intercept 0.24525569351989254\n",
      "Prediction_local [0.17909013]\n",
      "Right: 0.0\n",
      "Intercept 0.6974354764305788\n",
      "Prediction_local [0.45915571]\n",
      "Right: 0.0\n",
      "Intercept 0.19280066942240734\n",
      "Prediction_local [0.14872211]\n",
      "Right: 1.0\n",
      "Intercept -0.014553092433072845\n",
      "Prediction_local [0.10773233]\n",
      "Right: 0.0\n",
      "Intercept -0.05612937137224352\n",
      "Prediction_local [0.10979357]\n",
      "Right: 0.0\n",
      "Intercept 0.28135930085413213\n",
      "Prediction_local [0.16445983]\n",
      "Right: 0.0\n",
      "Intercept 0.6104886787603331\n",
      "Prediction_local [0.47572398]\n",
      "Right: 0.0\n",
      "Intercept 0.17949019725689253\n",
      "Prediction_local [0.14201138]\n",
      "Right: 1.0\n",
      "Intercept -0.030117086029327084\n",
      "Prediction_local [0.10467654]\n",
      "Right: 0.0\n",
      "Intercept -0.10679406746395219\n",
      "Prediction_local [0.09614761]\n",
      "Right: 0.0\n",
      "Intercept 0.31434373643513785\n",
      "Prediction_local [0.18476379]\n",
      "Right: 0.0\n",
      "Intercept 0.6279113994637157\n",
      "Prediction_local [0.46889116]\n",
      "Right: 0.0\n",
      "Intercept 0.19602504780495383\n",
      "Prediction_local [0.14533897]\n",
      "Right: 1.0\n"
     ]
    },
    {
     "data": {
      "application/vnd.jupyter.widget-view+json": {
       "model_id": "898fac263aa644ac9540f320dcd36293",
       "version_major": 2,
       "version_minor": 0
      },
      "text/plain": [
       "  0%|          | 0/1 [00:00<?, ?it/s]"
      ]
     },
     "metadata": {},
     "output_type": "display_data"
    },
    {
     "data": {
      "application/vnd.jupyter.widget-view+json": {
       "model_id": "699e6c2bb59f46baadca92ce4e08c78c",
       "version_major": 2,
       "version_minor": 0
      },
      "text/plain": [
       "  0%|          | 0/1 [00:00<?, ?it/s]"
      ]
     },
     "metadata": {},
     "output_type": "display_data"
    },
    {
     "data": {
      "application/vnd.jupyter.widget-view+json": {
       "model_id": "a18c1159c8cd4d2391b9567f59d9fdcc",
       "version_major": 2,
       "version_minor": 0
      },
      "text/plain": [
       "  0%|          | 0/1 [00:00<?, ?it/s]"
      ]
     },
     "metadata": {},
     "output_type": "display_data"
    },
    {
     "name": "stdout",
     "output_type": "stream",
     "text": [
      "Intercept 0.04109319762212424\n",
      "Prediction_local [0.02799409]\n",
      "Right: 0.0\n",
      "Intercept 0.05634159333604221\n",
      "Prediction_local [0.00639406]\n",
      "Right: 0.0\n",
      "Intercept 0.3836341027456835\n",
      "Prediction_local [0.06655207]\n",
      "Right: 0.0\n",
      "Intercept 0.4679575355846544\n",
      "Prediction_local [0.61528156]\n",
      "Right: 0.0\n",
      "Intercept 0.05290156162107196\n",
      "Prediction_local [0.28340889]\n",
      "Right: 1.0\n",
      "Intercept 0.08525775177141187\n",
      "Prediction_local [0.02180733]\n",
      "Right: 0.0\n",
      "Intercept 0.023031328787910935\n",
      "Prediction_local [-0.0040101]\n",
      "Right: 0.0\n",
      "Intercept 0.44578542808609045\n",
      "Prediction_local [0.06980208]\n",
      "Right: 0.0\n",
      "Intercept 0.4363398806044352\n",
      "Prediction_local [0.61560051]\n",
      "Right: 0.0\n",
      "Intercept 0.00871420415017378\n",
      "Prediction_local [0.29724183]\n",
      "Right: 1.0\n",
      "Intercept 0.06303746884863162\n",
      "Prediction_local [0.00503299]\n",
      "Right: 0.0\n",
      "Intercept 0.0018049792505460682\n",
      "Prediction_local [-0.00853411]\n",
      "Right: 0.0\n",
      "Intercept 0.4157981707470495\n",
      "Prediction_local [0.07861496]\n",
      "Right: 0.0\n",
      "Intercept 0.5057242936279389\n",
      "Prediction_local [0.62754422]\n",
      "Right: 0.0\n",
      "Intercept 0.013416508750826325\n",
      "Prediction_local [0.29685016]\n",
      "Right: 1.0\n"
     ]
    },
    {
     "data": {
      "application/vnd.jupyter.widget-view+json": {
       "model_id": "a71ed7aedc944570820ef6433be0f4eb",
       "version_major": 2,
       "version_minor": 0
      },
      "text/plain": [
       "  0%|          | 0/1 [00:00<?, ?it/s]"
      ]
     },
     "metadata": {},
     "output_type": "display_data"
    },
    {
     "data": {
      "application/vnd.jupyter.widget-view+json": {
       "model_id": "ecb7373ec45e4654954e4eedab04eadb",
       "version_major": 2,
       "version_minor": 0
      },
      "text/plain": [
       "  0%|          | 0/1 [00:00<?, ?it/s]"
      ]
     },
     "metadata": {},
     "output_type": "display_data"
    },
    {
     "data": {
      "application/vnd.jupyter.widget-view+json": {
       "model_id": "a9cd020f2a6f4f4b8d3078632ca7dfc2",
       "version_major": 2,
       "version_minor": 0
      },
      "text/plain": [
       "  0%|          | 0/1 [00:00<?, ?it/s]"
      ]
     },
     "metadata": {},
     "output_type": "display_data"
    },
    {
     "name": "stdout",
     "output_type": "stream",
     "text": [
      "Intercept 0.003034933720234251\n",
      "Prediction_local [0.05074254]\n",
      "Right: 0.0\n",
      "Intercept 0.028965463358212547\n",
      "Prediction_local [-0.00209334]\n",
      "Right: 0.0\n",
      "Intercept 0.2676335568204155\n",
      "Prediction_local [0.14455694]\n",
      "Right: 0.0\n",
      "Intercept 0.6710926148853236\n",
      "Prediction_local [0.51223921]\n",
      "Right: 0.03\n",
      "Intercept 0.02964312528355839\n",
      "Prediction_local [0.29456046]\n",
      "Right: 0.97\n",
      "Intercept -0.02692160590356421\n",
      "Prediction_local [0.05342465]\n",
      "Right: 0.0\n",
      "Intercept -0.009730813827043085\n",
      "Prediction_local [0.00820384]\n",
      "Right: 0.0\n",
      "Intercept 0.3482759393996036\n",
      "Prediction_local [0.13206804]\n",
      "Right: 0.0\n",
      "Intercept 0.6663822121895149\n",
      "Prediction_local [0.5168839]\n",
      "Right: 0.03\n",
      "Intercept 0.023479831148361274\n",
      "Prediction_local [0.28947107]\n",
      "Right: 0.97\n",
      "Intercept 0.08438084478818811\n",
      "Prediction_local [0.06261666]\n",
      "Right: 0.0\n",
      "Intercept -0.00451509917550573\n",
      "Prediction_local [0.02082673]\n",
      "Right: 0.0\n",
      "Intercept 0.2696991682589389\n",
      "Prediction_local [0.11302605]\n",
      "Right: 0.0\n",
      "Intercept 0.5685386435903763\n",
      "Prediction_local [0.52624366]\n",
      "Right: 0.03\n",
      "Intercept 0.08268807320332813\n",
      "Prediction_local [0.2770034]\n",
      "Right: 0.97\n"
     ]
    },
    {
     "data": {
      "application/vnd.jupyter.widget-view+json": {
       "model_id": "baffdd3aef17404d91defaa5db2a3d85",
       "version_major": 2,
       "version_minor": 0
      },
      "text/plain": [
       "  0%|          | 0/1 [00:00<?, ?it/s]"
      ]
     },
     "metadata": {},
     "output_type": "display_data"
    },
    {
     "data": {
      "application/vnd.jupyter.widget-view+json": {
       "model_id": "fbbea80d25f64d2c8bf0b33541ddbc25",
       "version_major": 2,
       "version_minor": 0
      },
      "text/plain": [
       "  0%|          | 0/1 [00:00<?, ?it/s]"
      ]
     },
     "metadata": {},
     "output_type": "display_data"
    },
    {
     "data": {
      "application/vnd.jupyter.widget-view+json": {
       "model_id": "eb31babffe9f4d07a7f9cc418bb69043",
       "version_major": 2,
       "version_minor": 0
      },
      "text/plain": [
       "  0%|          | 0/1 [00:00<?, ?it/s]"
      ]
     },
     "metadata": {},
     "output_type": "display_data"
    },
    {
     "name": "stdout",
     "output_type": "stream",
     "text": [
      "Intercept -0.060804340203705974\n",
      "Prediction_local [0.11742707]\n",
      "Right: 0.0\n",
      "Intercept 0.19031362327226456\n",
      "Prediction_local [0.3145707]\n",
      "Right: 0.0\n",
      "Intercept 0.6607533392637915\n",
      "Prediction_local [0.44183642]\n",
      "Right: 0.0\n",
      "Intercept -0.021334053116022336\n",
      "Prediction_local [0.10818306]\n",
      "Right: 0.05897693242629302\n",
      "Intercept 0.23102350633453736\n",
      "Prediction_local [0.01779461]\n",
      "Right: 0.9410230675737065\n",
      "Intercept -0.046152049837855584\n",
      "Prediction_local [0.11558975]\n",
      "Right: 0.0\n",
      "Intercept 0.10883560143791057\n",
      "Prediction_local [0.3147916]\n",
      "Right: 0.0\n",
      "Intercept 0.6336829151235709\n",
      "Prediction_local [0.4345477]\n",
      "Right: 0.0\n",
      "Intercept -0.036774646011473386\n",
      "Prediction_local [0.1085687]\n",
      "Right: 0.05897693242629302\n",
      "Intercept 0.341027262550327\n",
      "Prediction_local [0.02661757]\n",
      "Right: 0.9410230675737065\n",
      "Intercept -0.07903767841427105\n",
      "Prediction_local [0.1127135]\n",
      "Right: 0.0\n",
      "Intercept 0.12230932734828334\n",
      "Prediction_local [0.31787322]\n",
      "Right: 0.0\n",
      "Intercept 0.7559636318081897\n",
      "Prediction_local [0.43658843]\n",
      "Right: 0.0\n",
      "Intercept -0.06822340952830361\n",
      "Prediction_local [0.109867]\n",
      "Right: 0.05897693242629302\n",
      "Intercept 0.26930695367486335\n",
      "Prediction_local [0.02291684]\n",
      "Right: 0.9410230675737065\n"
     ]
    },
    {
     "data": {
      "application/vnd.jupyter.widget-view+json": {
       "model_id": "4c330167832745f1a55830d5f912e40b",
       "version_major": 2,
       "version_minor": 0
      },
      "text/plain": [
       "  0%|          | 0/1 [00:00<?, ?it/s]"
      ]
     },
     "metadata": {},
     "output_type": "display_data"
    },
    {
     "data": {
      "application/vnd.jupyter.widget-view+json": {
       "model_id": "e93f4383af82452593ada1a7c48627ca",
       "version_major": 2,
       "version_minor": 0
      },
      "text/plain": [
       "  0%|          | 0/1 [00:00<?, ?it/s]"
      ]
     },
     "metadata": {},
     "output_type": "display_data"
    },
    {
     "data": {
      "application/vnd.jupyter.widget-view+json": {
       "model_id": "14e91f8e60cb4b898459cae2e14f5d1e",
       "version_major": 2,
       "version_minor": 0
      },
      "text/plain": [
       "  0%|          | 0/1 [00:00<?, ?it/s]"
      ]
     },
     "metadata": {},
     "output_type": "display_data"
    },
    {
     "name": "stdout",
     "output_type": "stream",
     "text": [
      "Intercept 0.008974299337155434\n",
      "Prediction_local [0.05953242]\n",
      "Right: 0.0\n",
      "Intercept 0.06452978763052108\n",
      "Prediction_local [-0.01806208]\n",
      "Right: 0.0\n",
      "Intercept 0.013157464086833104\n",
      "Prediction_local [0.42939558]\n",
      "Right: 0.0\n",
      "Intercept 0.7719345449197474\n",
      "Prediction_local [0.40016547]\n",
      "Right: 0.0\n",
      "Intercept 0.1423344250853651\n",
      "Prediction_local [0.12892279]\n",
      "Right: 1.0\n",
      "Intercept 0.02142002893873632\n",
      "Prediction_local [0.05932519]\n",
      "Right: 0.0\n",
      "Intercept 0.10241887061635478\n",
      "Prediction_local [-0.02001141]\n",
      "Right: 0.0\n",
      "Intercept 0.010800321788289824\n",
      "Prediction_local [0.43587836]\n",
      "Right: 0.0\n",
      "Intercept 0.7152186821744497\n",
      "Prediction_local [0.39797767]\n",
      "Right: 0.0\n",
      "Intercept 0.15015680864629877\n",
      "Prediction_local [0.12675924]\n",
      "Right: 1.0\n",
      "Intercept 0.024689005174650586\n",
      "Prediction_local [0.06326782]\n",
      "Right: 0.0\n",
      "Intercept 0.10393842584649116\n",
      "Prediction_local [-0.02258353]\n",
      "Right: 0.0\n",
      "Intercept 0.06449435611959325\n",
      "Prediction_local [0.42222041]\n",
      "Right: 0.0\n",
      "Intercept 0.7068570545839111\n",
      "Prediction_local [0.39923257]\n",
      "Right: 0.0\n",
      "Intercept 0.09965457415259582\n",
      "Prediction_local [0.13787219]\n",
      "Right: 1.0\n"
     ]
    },
    {
     "data": {
      "application/vnd.jupyter.widget-view+json": {
       "model_id": "0c24ef2b4ae8401e996d877536c27dbc",
       "version_major": 2,
       "version_minor": 0
      },
      "text/plain": [
       "  0%|          | 0/1 [00:00<?, ?it/s]"
      ]
     },
     "metadata": {},
     "output_type": "display_data"
    },
    {
     "data": {
      "application/vnd.jupyter.widget-view+json": {
       "model_id": "485131f4d6c940929f9335d83645b8b2",
       "version_major": 2,
       "version_minor": 0
      },
      "text/plain": [
       "  0%|          | 0/1 [00:00<?, ?it/s]"
      ]
     },
     "metadata": {},
     "output_type": "display_data"
    },
    {
     "data": {
      "application/vnd.jupyter.widget-view+json": {
       "model_id": "79b88f06fcac4af288237cf15400edb2",
       "version_major": 2,
       "version_minor": 0
      },
      "text/plain": [
       "  0%|          | 0/1 [00:00<?, ?it/s]"
      ]
     },
     "metadata": {},
     "output_type": "display_data"
    },
    {
     "name": "stdout",
     "output_type": "stream",
     "text": [
      "Intercept -0.009601297485567532\n",
      "Prediction_local [0.04130274]\n",
      "Right: 0.0\n",
      "Intercept -0.0783489788635762\n",
      "Prediction_local [0.1240787]\n",
      "Right: 0.02\n",
      "Intercept 0.10564393739698605\n",
      "Prediction_local [0.3199047]\n",
      "Right: 0.02\n",
      "Intercept 0.8620313004432549\n",
      "Prediction_local [0.33335845]\n",
      "Right: 0.06\n",
      "Intercept 0.1184772433451005\n",
      "Prediction_local [0.1814724]\n",
      "Right: 0.9\n",
      "Intercept -0.020347435194619415\n",
      "Prediction_local [0.04167044]\n",
      "Right: 0.0\n",
      "Intercept -0.04146241727347923\n",
      "Prediction_local [0.12105851]\n",
      "Right: 0.02\n",
      "Intercept 0.14552352595837909\n",
      "Prediction_local [0.31295162]\n",
      "Right: 0.02\n",
      "Intercept 0.7461332330280294\n",
      "Prediction_local [0.35196649]\n",
      "Right: 0.06\n",
      "Intercept 0.17030827964519332\n",
      "Prediction_local [0.17232979]\n",
      "Right: 0.9\n",
      "Intercept 0.040781802042637205\n",
      "Prediction_local [0.03692586]\n",
      "Right: 0.0\n",
      "Intercept -0.08063337654251494\n",
      "Prediction_local [0.12168587]\n",
      "Right: 0.02\n",
      "Intercept 0.13814816554342896\n",
      "Prediction_local [0.31497328]\n",
      "Right: 0.02\n",
      "Intercept 0.7838896010074244\n",
      "Prediction_local [0.34335591]\n",
      "Right: 0.06\n",
      "Intercept 0.11947311196803176\n",
      "Prediction_local [0.18298506]\n",
      "Right: 0.9\n"
     ]
    },
    {
     "data": {
      "application/vnd.jupyter.widget-view+json": {
       "model_id": "4895424136cb460daa91d93a0785461f",
       "version_major": 2,
       "version_minor": 0
      },
      "text/plain": [
       "  0%|          | 0/1 [00:00<?, ?it/s]"
      ]
     },
     "metadata": {},
     "output_type": "display_data"
    },
    {
     "data": {
      "application/vnd.jupyter.widget-view+json": {
       "model_id": "02dbed536b844124b3a39ae43fd4c411",
       "version_major": 2,
       "version_minor": 0
      },
      "text/plain": [
       "  0%|          | 0/1 [00:00<?, ?it/s]"
      ]
     },
     "metadata": {},
     "output_type": "display_data"
    },
    {
     "data": {
      "application/vnd.jupyter.widget-view+json": {
       "model_id": "c37c58e67b0e4d1dafc595393c131b23",
       "version_major": 2,
       "version_minor": 0
      },
      "text/plain": [
       "  0%|          | 0/1 [00:00<?, ?it/s]"
      ]
     },
     "metadata": {},
     "output_type": "display_data"
    },
    {
     "name": "stdout",
     "output_type": "stream",
     "text": [
      "Intercept -0.011275419635923753\n",
      "Prediction_local [0.13531386]\n",
      "Right: 0.0\n",
      "Intercept -0.027019314682583256\n",
      "Prediction_local [0.06934136]\n",
      "Right: 0.0\n",
      "Intercept 0.1203263796768021\n",
      "Prediction_local [0.30658609]\n",
      "Right: 0.0\n",
      "Intercept 0.7483460726499789\n",
      "Prediction_local [0.34544427]\n",
      "Right: 0.0\n",
      "Intercept 0.1684637126582838\n",
      "Prediction_local [0.1440684]\n",
      "Right: 1.0\n",
      "Intercept -0.05193362552288028\n",
      "Prediction_local [0.12782042]\n",
      "Right: 0.0\n",
      "Intercept -0.011851935661544265\n",
      "Prediction_local [0.05839472]\n",
      "Right: 0.0\n",
      "Intercept 0.10584102750328556\n",
      "Prediction_local [0.32346031]\n",
      "Right: 0.0\n",
      "Intercept 0.7855681695785208\n",
      "Prediction_local [0.34572231]\n",
      "Right: 0.0\n",
      "Intercept 0.17090183306196782\n",
      "Prediction_local [0.14463252]\n",
      "Right: 1.0\n",
      "Intercept -0.05274104614528227\n",
      "Prediction_local [0.12325108]\n",
      "Right: 0.0\n",
      "Intercept -0.021861111661965762\n",
      "Prediction_local [0.06421554]\n",
      "Right: 0.0\n",
      "Intercept 0.15974665148591302\n",
      "Prediction_local [0.32018186]\n",
      "Right: 0.0\n",
      "Intercept 0.7009383106660312\n",
      "Prediction_local [0.35852071]\n",
      "Right: 0.0\n",
      "Intercept 0.21382919616251084\n",
      "Prediction_local [0.13391426]\n",
      "Right: 1.0\n"
     ]
    },
    {
     "data": {
      "application/vnd.jupyter.widget-view+json": {
       "model_id": "a97e0877353a4491bafb162d541b4579",
       "version_major": 2,
       "version_minor": 0
      },
      "text/plain": [
       "  0%|          | 0/1 [00:00<?, ?it/s]"
      ]
     },
     "metadata": {},
     "output_type": "display_data"
    },
    {
     "data": {
      "application/vnd.jupyter.widget-view+json": {
       "model_id": "057927882f714e7f9771e8730c644bba",
       "version_major": 2,
       "version_minor": 0
      },
      "text/plain": [
       "  0%|          | 0/1 [00:00<?, ?it/s]"
      ]
     },
     "metadata": {},
     "output_type": "display_data"
    },
    {
     "data": {
      "application/vnd.jupyter.widget-view+json": {
       "model_id": "3a19f9629cbc4ff3b156ebe7b8f1299b",
       "version_major": 2,
       "version_minor": 0
      },
      "text/plain": [
       "  0%|          | 0/1 [00:00<?, ?it/s]"
      ]
     },
     "metadata": {},
     "output_type": "display_data"
    },
    {
     "name": "stdout",
     "output_type": "stream",
     "text": [
      "Intercept -0.07442334651446195\n",
      "Prediction_local [0.13032899]\n",
      "Right: 0.0\n",
      "Intercept -0.03352093333553504\n",
      "Prediction_local [0.05019196]\n",
      "Right: 0.0\n",
      "Intercept 0.12052966441816149\n",
      "Prediction_local [0.29871914]\n",
      "Right: 0.0\n",
      "Intercept 0.8352827992224912\n",
      "Prediction_local [0.35577634]\n",
      "Right: 0.0\n",
      "Intercept 0.1527792441149765\n",
      "Prediction_local [0.16494731]\n",
      "Right: 1.0\n",
      "Intercept -0.08906655979382519\n",
      "Prediction_local [0.14054258]\n",
      "Right: 0.0\n",
      "Intercept -0.03012194617158631\n",
      "Prediction_local [0.05014335]\n",
      "Right: 0.0\n",
      "Intercept 0.12446578071914896\n",
      "Prediction_local [0.30552814]\n",
      "Right: 0.0\n",
      "Intercept 0.776539422285415\n",
      "Prediction_local [0.34623122]\n",
      "Right: 0.0\n",
      "Intercept 0.2209017861300928\n",
      "Prediction_local [0.15724119]\n",
      "Right: 1.0\n",
      "Intercept -0.06056554723998843\n",
      "Prediction_local [0.13600632]\n",
      "Right: 0.0\n",
      "Intercept 0.004653607777795846\n",
      "Prediction_local [0.05426436]\n",
      "Right: 0.0\n",
      "Intercept 0.1799804026580809\n",
      "Prediction_local [0.30256356]\n",
      "Right: 0.0\n",
      "Intercept 0.672730958706196\n",
      "Prediction_local [0.35299292]\n",
      "Right: 0.0\n",
      "Intercept 0.2050721271530229\n",
      "Prediction_local [0.15411291]\n",
      "Right: 1.0\n"
     ]
    },
    {
     "data": {
      "application/vnd.jupyter.widget-view+json": {
       "model_id": "3a9335ddf55c4fad81b8672309e7d186",
       "version_major": 2,
       "version_minor": 0
      },
      "text/plain": [
       "  0%|          | 0/1 [00:00<?, ?it/s]"
      ]
     },
     "metadata": {},
     "output_type": "display_data"
    },
    {
     "data": {
      "application/vnd.jupyter.widget-view+json": {
       "model_id": "9bdb7399d15b4173978a6a151b8ce520",
       "version_major": 2,
       "version_minor": 0
      },
      "text/plain": [
       "  0%|          | 0/1 [00:00<?, ?it/s]"
      ]
     },
     "metadata": {},
     "output_type": "display_data"
    },
    {
     "data": {
      "application/vnd.jupyter.widget-view+json": {
       "model_id": "092e814b161c43e99e1ac05126affad8",
       "version_major": 2,
       "version_minor": 0
      },
      "text/plain": [
       "  0%|          | 0/1 [00:00<?, ?it/s]"
      ]
     },
     "metadata": {},
     "output_type": "display_data"
    },
    {
     "name": "stdout",
     "output_type": "stream",
     "text": [
      "Intercept 0.18165862905734637\n",
      "Prediction_local [0.45451473]\n",
      "Right: 0.0\n",
      "Intercept 0.07158764971684628\n",
      "Prediction_local [0.05099506]\n",
      "Right: 0.0\n",
      "Intercept 0.6899562597274311\n",
      "Prediction_local [0.21649441]\n",
      "Right: 0.0\n",
      "Intercept 0.05624765386581823\n",
      "Prediction_local [0.27798314]\n",
      "Right: 1.0\n",
      "Intercept 0.18988587125671227\n",
      "Prediction_local [0.43547448]\n",
      "Right: 0.0\n",
      "Intercept 0.06014562830328685\n",
      "Prediction_local [0.04852375]\n",
      "Right: 0.0\n",
      "Intercept 0.7214005169393934\n",
      "Prediction_local [0.21848767]\n",
      "Right: 0.0\n",
      "Intercept 0.03028001506292305\n",
      "Prediction_local [0.29770778]\n",
      "Right: 1.0\n",
      "Intercept 0.11406605111150692\n",
      "Prediction_local [0.44647604]\n",
      "Right: 0.0\n",
      "Intercept 0.08045779539231426\n",
      "Prediction_local [0.06473847]\n",
      "Right: 0.0\n",
      "Intercept 0.8161029387857356\n",
      "Prediction_local [0.20035307]\n",
      "Right: 0.0\n",
      "Intercept -0.011311200859906612\n",
      "Prediction_local [0.28800691]\n",
      "Right: 1.0\n"
     ]
    },
    {
     "data": {
      "application/vnd.jupyter.widget-view+json": {
       "model_id": "89960bd3fe574d11a806e85cae5aeb64",
       "version_major": 2,
       "version_minor": 0
      },
      "text/plain": [
       "  0%|          | 0/1 [00:00<?, ?it/s]"
      ]
     },
     "metadata": {},
     "output_type": "display_data"
    },
    {
     "data": {
      "application/vnd.jupyter.widget-view+json": {
       "model_id": "c6ca38a1a976479fb0b93d3b3f12f019",
       "version_major": 2,
       "version_minor": 0
      },
      "text/plain": [
       "  0%|          | 0/1 [00:00<?, ?it/s]"
      ]
     },
     "metadata": {},
     "output_type": "display_data"
    },
    {
     "data": {
      "application/vnd.jupyter.widget-view+json": {
       "model_id": "68c2a58f89ea46c5ac4727a1da54e0fd",
       "version_major": 2,
       "version_minor": 0
      },
      "text/plain": [
       "  0%|          | 0/1 [00:00<?, ?it/s]"
      ]
     },
     "metadata": {},
     "output_type": "display_data"
    },
    {
     "name": "stdout",
     "output_type": "stream",
     "text": [
      "Intercept 0.19036558428172873\n",
      "Prediction_local [0.40343737]\n",
      "Right: 0.0\n",
      "Intercept 0.08718303073172864\n",
      "Prediction_local [0.00804553]\n",
      "Right: 0.0\n",
      "Intercept 0.7140999452706671\n",
      "Prediction_local [0.27591803]\n",
      "Right: 0.01\n",
      "Intercept 0.010795193483978005\n",
      "Prediction_local [0.3120832]\n",
      "Right: 0.99\n",
      "Intercept 0.23759615415485014\n",
      "Prediction_local [0.39577051]\n",
      "Right: 0.0\n",
      "Intercept 0.08575025654665472\n",
      "Prediction_local [0.00322066]\n",
      "Right: 0.0\n",
      "Intercept 0.5858374507795062\n",
      "Prediction_local [0.29123052]\n",
      "Right: 0.01\n",
      "Intercept 0.09002693394181607\n",
      "Prediction_local [0.30976004]\n",
      "Right: 0.99\n",
      "Intercept 0.16941411373146745\n",
      "Prediction_local [0.40151894]\n",
      "Right: 0.0\n",
      "Intercept 0.08456030056839683\n",
      "Prediction_local [0.00465367]\n",
      "Right: 0.0\n",
      "Intercept 0.7109219302962622\n",
      "Prediction_local [0.29271294]\n",
      "Right: 0.01\n",
      "Intercept 0.03537957783763607\n",
      "Prediction_local [0.30062608]\n",
      "Right: 0.99\n"
     ]
    },
    {
     "data": {
      "application/vnd.jupyter.widget-view+json": {
       "model_id": "e59b341ee850477ab8f8a4c1eeaab88b",
       "version_major": 2,
       "version_minor": 0
      },
      "text/plain": [
       "  0%|          | 0/1 [00:00<?, ?it/s]"
      ]
     },
     "metadata": {},
     "output_type": "display_data"
    },
    {
     "data": {
      "application/vnd.jupyter.widget-view+json": {
       "model_id": "82f5f7e733404f95b0b7bf45bf313eef",
       "version_major": 2,
       "version_minor": 0
      },
      "text/plain": [
       "  0%|          | 0/1 [00:00<?, ?it/s]"
      ]
     },
     "metadata": {},
     "output_type": "display_data"
    },
    {
     "data": {
      "application/vnd.jupyter.widget-view+json": {
       "model_id": "faf5e52c524d452184a5d8af87e09052",
       "version_major": 2,
       "version_minor": 0
      },
      "text/plain": [
       "  0%|          | 0/1 [00:00<?, ?it/s]"
      ]
     },
     "metadata": {},
     "output_type": "display_data"
    },
    {
     "name": "stdout",
     "output_type": "stream",
     "text": [
      "Intercept 0.12208816989563254\n",
      "Prediction_local [0.00460526]\n",
      "Right: 0.006\n",
      "Intercept 0.3639227444357484\n",
      "Prediction_local [0.27330588]\n",
      "Right: 0.10400000000000001\n",
      "Intercept 0.5847643196053827\n",
      "Prediction_local [0.37816294]\n",
      "Right: 0.18\n",
      "Intercept -0.07066299004590504\n",
      "Prediction_local [0.34450916]\n",
      "Right: 0.71\n",
      "Intercept 0.055282407967140124\n",
      "Prediction_local [0.0051594]\n",
      "Right: 0.006\n",
      "Intercept 0.22904751162503675\n",
      "Prediction_local [0.28391408]\n",
      "Right: 0.10400000000000001\n",
      "Intercept 0.6221405333967884\n",
      "Prediction_local [0.36823638]\n",
      "Right: 0.18\n",
      "Intercept 0.09266227934524923\n",
      "Prediction_local [0.34268776]\n",
      "Right: 0.71\n",
      "Intercept 0.07604634551289105\n",
      "Prediction_local [0.01193725]\n",
      "Right: 0.006\n",
      "Intercept 0.3768788944547228\n",
      "Prediction_local [0.29037415]\n",
      "Right: 0.10400000000000001\n",
      "Intercept 0.6415114429542141\n",
      "Prediction_local [0.36598321]\n",
      "Right: 0.18\n",
      "Intercept -0.0954654398541282\n",
      "Prediction_local [0.33061971]\n",
      "Right: 0.71\n"
     ]
    },
    {
     "data": {
      "application/vnd.jupyter.widget-view+json": {
       "model_id": "a76474226e314e8a934b756977782331",
       "version_major": 2,
       "version_minor": 0
      },
      "text/plain": [
       "  0%|          | 0/1 [00:00<?, ?it/s]"
      ]
     },
     "metadata": {},
     "output_type": "display_data"
    },
    {
     "data": {
      "application/vnd.jupyter.widget-view+json": {
       "model_id": "66ffd2c7e8b94f8d83ee3e6b8adc101b",
       "version_major": 2,
       "version_minor": 0
      },
      "text/plain": [
       "  0%|          | 0/1 [00:00<?, ?it/s]"
      ]
     },
     "metadata": {},
     "output_type": "display_data"
    },
    {
     "data": {
      "application/vnd.jupyter.widget-view+json": {
       "model_id": "008b4f21208a41c98381bb50eb3c4431",
       "version_major": 2,
       "version_minor": 0
      },
      "text/plain": [
       "  0%|          | 0/1 [00:00<?, ?it/s]"
      ]
     },
     "metadata": {},
     "output_type": "display_data"
    },
    {
     "name": "stdout",
     "output_type": "stream",
     "text": [
      "Intercept 0.07971138800977051\n",
      "Prediction_local [0.03368774]\n",
      "Right: 0.0\n",
      "Intercept 0.26319447056596124\n",
      "Prediction_local [0.33484418]\n",
      "Right: 0.02\n",
      "Intercept 0.642312592639648\n",
      "Prediction_local [0.28511142]\n",
      "Right: 0.05\n",
      "Intercept 0.01605443751565533\n",
      "Prediction_local [0.34602448]\n",
      "Right: 0.93\n",
      "Intercept 0.07923689221602809\n",
      "Prediction_local [0.03444042]\n",
      "Right: 0.0\n",
      "Intercept 0.1860011280845966\n",
      "Prediction_local [0.33848076]\n",
      "Right: 0.02\n",
      "Intercept 0.6781281952739173\n",
      "Prediction_local [0.27156304]\n",
      "Right: 0.05\n",
      "Intercept 0.057115940163728396\n",
      "Prediction_local [0.35550206]\n",
      "Right: 0.93\n",
      "Intercept 0.08886414295638335\n",
      "Prediction_local [0.03082415]\n",
      "Right: 0.0\n",
      "Intercept 0.24246891426960704\n",
      "Prediction_local [0.34229437]\n",
      "Right: 0.02\n",
      "Intercept 0.6133747170301813\n",
      "Prediction_local [0.27391535]\n",
      "Right: 0.05\n",
      "Intercept 0.05692703505020871\n",
      "Prediction_local [0.35293423]\n",
      "Right: 0.93\n"
     ]
    },
    {
     "data": {
      "application/vnd.jupyter.widget-view+json": {
       "model_id": "93abe45f3ec447629225dd39bc55a6f9",
       "version_major": 2,
       "version_minor": 0
      },
      "text/plain": [
       "  0%|          | 0/1 [00:00<?, ?it/s]"
      ]
     },
     "metadata": {},
     "output_type": "display_data"
    },
    {
     "data": {
      "application/vnd.jupyter.widget-view+json": {
       "model_id": "ca5c67cfc1794ebd806f1d73dd6f33ef",
       "version_major": 2,
       "version_minor": 0
      },
      "text/plain": [
       "  0%|          | 0/1 [00:00<?, ?it/s]"
      ]
     },
     "metadata": {},
     "output_type": "display_data"
    },
    {
     "data": {
      "application/vnd.jupyter.widget-view+json": {
       "model_id": "e69af7c924484b5ab2420d2aa01674cd",
       "version_major": 2,
       "version_minor": 0
      },
      "text/plain": [
       "  0%|          | 0/1 [00:00<?, ?it/s]"
      ]
     },
     "metadata": {},
     "output_type": "display_data"
    },
    {
     "name": "stdout",
     "output_type": "stream",
     "text": [
      "Intercept 0.10562750180455294\n",
      "Prediction_local [0.01344809]\n",
      "Right: 0.0\n",
      "Intercept 0.5881705790141823\n",
      "Prediction_local [0.29150983]\n",
      "Right: 0.0\n",
      "Intercept 0.3464766101454744\n",
      "Prediction_local [0.3421382]\n",
      "Right: 0.03\n",
      "Intercept -0.040935469349579146\n",
      "Prediction_local [0.35296361]\n",
      "Right: 0.97\n",
      "Intercept 0.1084028677973122\n",
      "Prediction_local [0.0111632]\n",
      "Right: 0.0\n",
      "Intercept 0.6868372630339907\n",
      "Prediction_local [0.29151801]\n",
      "Right: 0.0\n",
      "Intercept 0.27188040074267295\n",
      "Prediction_local [0.33364897]\n",
      "Right: 0.03\n",
      "Intercept -0.06864514698271501\n",
      "Prediction_local [0.36373249]\n",
      "Right: 0.97\n",
      "Intercept 0.13113385504217726\n",
      "Prediction_local [0.01232272]\n",
      "Right: 0.0\n",
      "Intercept 0.7703928483008518\n",
      "Prediction_local [0.28479882]\n",
      "Right: 0.0\n",
      "Intercept 0.20161860912199364\n",
      "Prediction_local [0.34508503]\n",
      "Right: 0.03\n",
      "Intercept -0.10314481410656207\n",
      "Prediction_local [0.35772967]\n",
      "Right: 0.97\n"
     ]
    },
    {
     "data": {
      "application/vnd.jupyter.widget-view+json": {
       "model_id": "4f60401e540049bd86ec185b00b53bdd",
       "version_major": 2,
       "version_minor": 0
      },
      "text/plain": [
       "  0%|          | 0/1 [00:00<?, ?it/s]"
      ]
     },
     "metadata": {},
     "output_type": "display_data"
    },
    {
     "data": {
      "application/vnd.jupyter.widget-view+json": {
       "model_id": "ac05d2e4513144dca3bc6c536f496b3d",
       "version_major": 2,
       "version_minor": 0
      },
      "text/plain": [
       "  0%|          | 0/1 [00:00<?, ?it/s]"
      ]
     },
     "metadata": {},
     "output_type": "display_data"
    },
    {
     "data": {
      "application/vnd.jupyter.widget-view+json": {
       "model_id": "1c7b2fc0c40740ef8b1611cfeb26e681",
       "version_major": 2,
       "version_minor": 0
      },
      "text/plain": [
       "  0%|          | 0/1 [00:00<?, ?it/s]"
      ]
     },
     "metadata": {},
     "output_type": "display_data"
    },
    {
     "name": "stdout",
     "output_type": "stream",
     "text": [
      "Intercept 0.1015257048071023\n",
      "Prediction_local [0.02848789]\n",
      "Right: 0.0\n",
      "Intercept 0.24447127410436612\n",
      "Prediction_local [0.35678509]\n",
      "Right: 0.01\n",
      "Intercept 0.7060047479735043\n",
      "Prediction_local [0.2838566]\n",
      "Right: 0.01\n",
      "Intercept -0.05222690926720186\n",
      "Prediction_local [0.33082894]\n",
      "Right: 0.98\n",
      "Intercept 0.08367027981577121\n",
      "Prediction_local [0.02668298]\n",
      "Right: 0.0\n",
      "Intercept 0.297299244467885\n",
      "Prediction_local [0.35020104]\n",
      "Right: 0.01\n",
      "Intercept 0.6385935319468816\n",
      "Prediction_local [0.30141241]\n",
      "Right: 0.01\n",
      "Intercept -0.01904188636276649\n",
      "Prediction_local [0.32165124]\n",
      "Right: 0.98\n",
      "Intercept 0.06564802114084654\n",
      "Prediction_local [0.03332229]\n",
      "Right: 0.0\n",
      "Intercept 0.25198102207347894\n",
      "Prediction_local [0.35924556]\n",
      "Right: 0.01\n",
      "Intercept 0.7310562448645602\n",
      "Prediction_local [0.28684486]\n",
      "Right: 0.01\n",
      "Intercept -0.04847774959563761\n",
      "Prediction_local [0.32064805]\n",
      "Right: 0.98\n"
     ]
    },
    {
     "data": {
      "application/vnd.jupyter.widget-view+json": {
       "model_id": "bec3a34c581342a897b5bc167cf72b56",
       "version_major": 2,
       "version_minor": 0
      },
      "text/plain": [
       "  0%|          | 0/1 [00:00<?, ?it/s]"
      ]
     },
     "metadata": {},
     "output_type": "display_data"
    },
    {
     "data": {
      "application/vnd.jupyter.widget-view+json": {
       "model_id": "4818c9404f384626b14db7aabd1ea53f",
       "version_major": 2,
       "version_minor": 0
      },
      "text/plain": [
       "  0%|          | 0/1 [00:00<?, ?it/s]"
      ]
     },
     "metadata": {},
     "output_type": "display_data"
    },
    {
     "data": {
      "application/vnd.jupyter.widget-view+json": {
       "model_id": "83ef1fd0a5154a38bb1788d9f8f68684",
       "version_major": 2,
       "version_minor": 0
      },
      "text/plain": [
       "  0%|          | 0/1 [00:00<?, ?it/s]"
      ]
     },
     "metadata": {},
     "output_type": "display_data"
    },
    {
     "name": "stdout",
     "output_type": "stream",
     "text": [
      "Intercept 0.07686654633332304\n",
      "Prediction_local [0.02604307]\n",
      "Right: 0.0\n",
      "Intercept 0.6314216525128569\n",
      "Prediction_local [0.3340139]\n",
      "Right: 0.01\n",
      "Intercept 0.26979751143945613\n",
      "Prediction_local [0.30809484]\n",
      "Right: 0.04\n",
      "Intercept 0.022304979732063246\n",
      "Prediction_local [0.33147962]\n",
      "Right: 0.95\n",
      "Intercept 0.12761119936887283\n",
      "Prediction_local [0.01932272]\n",
      "Right: 0.0\n",
      "Intercept 0.6815996737103449\n",
      "Prediction_local [0.33159522]\n",
      "Right: 0.01\n",
      "Intercept 0.2856427598230239\n",
      "Prediction_local [0.31080343]\n",
      "Right: 0.04\n",
      "Intercept -0.0934195364763748\n",
      "Prediction_local [0.33827198]\n",
      "Right: 0.95\n",
      "Intercept 0.11010215300601744\n",
      "Prediction_local [0.02258802]\n",
      "Right: 0.0\n",
      "Intercept 0.596358698623254\n",
      "Prediction_local [0.32238811]\n",
      "Right: 0.01\n",
      "Intercept 0.321530332449836\n",
      "Prediction_local [0.31822053]\n",
      "Right: 0.04\n",
      "Intercept -0.028644615180650423\n",
      "Prediction_local [0.33689718]\n",
      "Right: 0.95\n"
     ]
    },
    {
     "data": {
      "application/vnd.jupyter.widget-view+json": {
       "model_id": "9eebfbc33fef40b8af17fa06d2150f0a",
       "version_major": 2,
       "version_minor": 0
      },
      "text/plain": [
       "  0%|          | 0/1 [00:00<?, ?it/s]"
      ]
     },
     "metadata": {},
     "output_type": "display_data"
    },
    {
     "data": {
      "application/vnd.jupyter.widget-view+json": {
       "model_id": "361115c218784ede8d6ae6b73c154237",
       "version_major": 2,
       "version_minor": 0
      },
      "text/plain": [
       "  0%|          | 0/1 [00:00<?, ?it/s]"
      ]
     },
     "metadata": {},
     "output_type": "display_data"
    },
    {
     "data": {
      "application/vnd.jupyter.widget-view+json": {
       "model_id": "760acf241da544f786e5ad07fdbb07cf",
       "version_major": 2,
       "version_minor": 0
      },
      "text/plain": [
       "  0%|          | 0/1 [00:00<?, ?it/s]"
      ]
     },
     "metadata": {},
     "output_type": "display_data"
    },
    {
     "name": "stdout",
     "output_type": "stream",
     "text": [
      "Intercept 0.15664952644391245\n",
      "Prediction_local [0.36120002]\n",
      "Right: 0.0\n",
      "Intercept 0.6891213730880763\n",
      "Prediction_local [0.29938631]\n",
      "Right: 0.01\n",
      "Intercept 0.007822246826732285\n",
      "Prediction_local [0.05470161]\n",
      "Right: 0.02\n",
      "Intercept 0.14886862936460715\n",
      "Prediction_local [0.28467759]\n",
      "Right: 0.97\n",
      "Intercept 0.2562605119803364\n",
      "Prediction_local [0.35360613]\n",
      "Right: 0.0\n",
      "Intercept 0.6170804914268277\n",
      "Prediction_local [0.29559084]\n",
      "Right: 0.01\n",
      "Intercept 0.04692043234340048\n",
      "Prediction_local [0.04912084]\n",
      "Right: 0.02\n",
      "Intercept 0.0814488079377633\n",
      "Prediction_local [0.30155967]\n",
      "Right: 0.97\n",
      "Intercept 0.20193817762026436\n",
      "Prediction_local [0.35140101]\n",
      "Right: 0.0\n",
      "Intercept 0.5893703633727227\n",
      "Prediction_local [0.30844272]\n",
      "Right: 0.01\n",
      "Intercept 0.028527818163412978\n",
      "Prediction_local [0.05262595]\n",
      "Right: 0.02\n",
      "Intercept 0.18020107649947387\n",
      "Prediction_local [0.28839409]\n",
      "Right: 0.97\n"
     ]
    },
    {
     "data": {
      "application/vnd.jupyter.widget-view+json": {
       "model_id": "83501f533c3d4b29a4c44a4fdd2b3c05",
       "version_major": 2,
       "version_minor": 0
      },
      "text/plain": [
       "  0%|          | 0/1 [00:00<?, ?it/s]"
      ]
     },
     "metadata": {},
     "output_type": "display_data"
    },
    {
     "data": {
      "application/vnd.jupyter.widget-view+json": {
       "model_id": "1dd94fcdca624179a5da026b0bd2c482",
       "version_major": 2,
       "version_minor": 0
      },
      "text/plain": [
       "  0%|          | 0/1 [00:00<?, ?it/s]"
      ]
     },
     "metadata": {},
     "output_type": "display_data"
    },
    {
     "data": {
      "application/vnd.jupyter.widget-view+json": {
       "model_id": "18c1041409724b2291fb0d06719cbb41",
       "version_major": 2,
       "version_minor": 0
      },
      "text/plain": [
       "  0%|          | 0/1 [00:00<?, ?it/s]"
      ]
     },
     "metadata": {},
     "output_type": "display_data"
    },
    {
     "name": "stdout",
     "output_type": "stream",
     "text": [
      "Intercept 0.1826029690392704\n",
      "Prediction_local [0.3416959]\n",
      "Right: 0.0\n",
      "Intercept 0.1082883819208468\n",
      "Prediction_local [0.01421652]\n",
      "Right: 0.0\n",
      "Intercept 0.7110759137100089\n",
      "Prediction_local [0.29389518]\n",
      "Right: 0.0\n",
      "Intercept -0.00021681184074634485\n",
      "Prediction_local [0.35009739]\n",
      "Right: 1.0\n",
      "Intercept 0.2605881836400382\n",
      "Prediction_local [0.33743965]\n",
      "Right: 0.0\n",
      "Intercept 0.07764928143042418\n",
      "Prediction_local [0.01547152]\n",
      "Right: 0.0\n",
      "Intercept 0.701953174581232\n",
      "Prediction_local [0.28120447]\n",
      "Right: 0.0\n",
      "Intercept -0.0387203718701446\n",
      "Prediction_local [0.36584157]\n",
      "Right: 1.0\n",
      "Intercept 0.23854331008653595\n",
      "Prediction_local [0.33936393]\n",
      "Right: 0.0\n",
      "Intercept 0.12001946080039674\n",
      "Prediction_local [0.01464334]\n",
      "Right: 0.0\n",
      "Intercept 0.7398493356007732\n",
      "Prediction_local [0.29318403]\n",
      "Right: 0.0\n",
      "Intercept -0.09660756774707996\n",
      "Prediction_local [0.35279225]\n",
      "Right: 1.0\n"
     ]
    },
    {
     "data": {
      "application/vnd.jupyter.widget-view+json": {
       "model_id": "5371f6fe33084cb980f356612eceb137",
       "version_major": 2,
       "version_minor": 0
      },
      "text/plain": [
       "  0%|          | 0/1 [00:00<?, ?it/s]"
      ]
     },
     "metadata": {},
     "output_type": "display_data"
    },
    {
     "data": {
      "application/vnd.jupyter.widget-view+json": {
       "model_id": "a78b57e97e1043f7b0308a1866715673",
       "version_major": 2,
       "version_minor": 0
      },
      "text/plain": [
       "  0%|          | 0/1 [00:00<?, ?it/s]"
      ]
     },
     "metadata": {},
     "output_type": "display_data"
    },
    {
     "data": {
      "application/vnd.jupyter.widget-view+json": {
       "model_id": "03ea9ca5ca8f472db51e41c29037006f",
       "version_major": 2,
       "version_minor": 0
      },
      "text/plain": [
       "  0%|          | 0/1 [00:00<?, ?it/s]"
      ]
     },
     "metadata": {},
     "output_type": "display_data"
    },
    {
     "name": "stdout",
     "output_type": "stream",
     "text": [
      "Intercept 0.08602034543807782\n",
      "Prediction_local [0.02794402]\n",
      "Right: 0.0\n",
      "Intercept 0.20897640865143893\n",
      "Prediction_local [0.35355869]\n",
      "Right: 0.06\n",
      "Intercept 0.6348905576273473\n",
      "Prediction_local [0.29825997]\n",
      "Right: 0.15\n",
      "Intercept 0.07060222794402995\n",
      "Prediction_local [0.3201552]\n",
      "Right: 0.79\n",
      "Intercept 0.0994172792751696\n",
      "Prediction_local [0.02389691]\n",
      "Right: 0.0\n",
      "Intercept 0.19368134603527246\n",
      "Prediction_local [0.34439532]\n",
      "Right: 0.06\n",
      "Intercept 0.7261426822932134\n",
      "Prediction_local [0.31546119]\n",
      "Right: 0.15\n",
      "Intercept -0.017979689864361714\n",
      "Prediction_local [0.31609952]\n",
      "Right: 0.79\n",
      "Intercept 0.05425661455012472\n",
      "Prediction_local [0.02829863]\n",
      "Right: 0.0\n",
      "Intercept 0.26914658731884095\n",
      "Prediction_local [0.35024752]\n",
      "Right: 0.06\n",
      "Intercept 0.6196403463638311\n",
      "Prediction_local [0.30449155]\n",
      "Right: 0.15\n",
      "Intercept 0.056807792141289115\n",
      "Prediction_local [0.31698649]\n",
      "Right: 0.79\n"
     ]
    },
    {
     "data": {
      "application/vnd.jupyter.widget-view+json": {
       "model_id": "7336c986f13649f081be92158da15d4a",
       "version_major": 2,
       "version_minor": 0
      },
      "text/plain": [
       "  0%|          | 0/1 [00:00<?, ?it/s]"
      ]
     },
     "metadata": {},
     "output_type": "display_data"
    },
    {
     "data": {
      "application/vnd.jupyter.widget-view+json": {
       "model_id": "9d26d3ef532040019977c4cbeba6f8c1",
       "version_major": 2,
       "version_minor": 0
      },
      "text/plain": [
       "  0%|          | 0/1 [00:00<?, ?it/s]"
      ]
     },
     "metadata": {},
     "output_type": "display_data"
    },
    {
     "data": {
      "application/vnd.jupyter.widget-view+json": {
       "model_id": "5f4ac16f77c24298a362b270b87e4c9e",
       "version_major": 2,
       "version_minor": 0
      },
      "text/plain": [
       "  0%|          | 0/1 [00:00<?, ?it/s]"
      ]
     },
     "metadata": {},
     "output_type": "display_data"
    },
    {
     "name": "stdout",
     "output_type": "stream",
     "text": [
      "Intercept 0.17881559305473033\n",
      "Prediction_local [0.02261713]\n",
      "Right: 0.0\n",
      "Intercept 0.8211844069452693\n",
      "Prediction_local [0.97738287]\n",
      "Right: 1.0\n",
      "Intercept 0.1498045832549592\n",
      "Prediction_local [0.02798805]\n",
      "Right: 0.0\n",
      "Intercept 0.8501954167450411\n",
      "Prediction_local [0.97201195]\n",
      "Right: 1.0\n",
      "Intercept 0.06752130557066655\n",
      "Prediction_local [0.01492811]\n",
      "Right: 0.0\n",
      "Intercept 0.9324786944293333\n",
      "Prediction_local [0.98507189]\n",
      "Right: 1.0\n"
     ]
    },
    {
     "data": {
      "application/vnd.jupyter.widget-view+json": {
       "model_id": "de5b3e3aa37b4c0180d21ead33146800",
       "version_major": 2,
       "version_minor": 0
      },
      "text/plain": [
       "  0%|          | 0/1 [00:00<?, ?it/s]"
      ]
     },
     "metadata": {},
     "output_type": "display_data"
    },
    {
     "data": {
      "application/vnd.jupyter.widget-view+json": {
       "model_id": "dff6bf7e492542f78279c637485295a9",
       "version_major": 2,
       "version_minor": 0
      },
      "text/plain": [
       "  0%|          | 0/1 [00:00<?, ?it/s]"
      ]
     },
     "metadata": {},
     "output_type": "display_data"
    },
    {
     "data": {
      "application/vnd.jupyter.widget-view+json": {
       "model_id": "4898c1c89f4343a2b0c4d4f70e1473f5",
       "version_major": 2,
       "version_minor": 0
      },
      "text/plain": [
       "  0%|          | 0/1 [00:00<?, ?it/s]"
      ]
     },
     "metadata": {},
     "output_type": "display_data"
    },
    {
     "name": "stdout",
     "output_type": "stream",
     "text": [
      "Intercept 0.14123062841290612\n",
      "Prediction_local [0.0438257]\n",
      "Right: 0.03\n",
      "Intercept 0.8587693715870938\n",
      "Prediction_local [0.9561743]\n",
      "Right: 0.97\n",
      "Intercept 0.16489171822704948\n",
      "Prediction_local [0.04096522]\n",
      "Right: 0.03\n",
      "Intercept 0.8351082817729507\n",
      "Prediction_local [0.95903478]\n",
      "Right: 0.97\n",
      "Intercept 0.12512312319360666\n",
      "Prediction_local [0.04248786]\n",
      "Right: 0.03\n",
      "Intercept 0.8748768768063933\n",
      "Prediction_local [0.95751214]\n",
      "Right: 0.97\n"
     ]
    },
    {
     "data": {
      "application/vnd.jupyter.widget-view+json": {
       "model_id": "15b834d2555e405caa9429f24e5565ee",
       "version_major": 2,
       "version_minor": 0
      },
      "text/plain": [
       "  0%|          | 0/1 [00:00<?, ?it/s]"
      ]
     },
     "metadata": {},
     "output_type": "display_data"
    },
    {
     "data": {
      "application/vnd.jupyter.widget-view+json": {
       "model_id": "a19dff3a12d948dcbe54bb38ea4c6ab9",
       "version_major": 2,
       "version_minor": 0
      },
      "text/plain": [
       "  0%|          | 0/1 [00:00<?, ?it/s]"
      ]
     },
     "metadata": {},
     "output_type": "display_data"
    },
    {
     "data": {
      "application/vnd.jupyter.widget-view+json": {
       "model_id": "0765043dae564b229188b64b577c4800",
       "version_major": 2,
       "version_minor": 0
      },
      "text/plain": [
       "  0%|          | 0/1 [00:00<?, ?it/s]"
      ]
     },
     "metadata": {},
     "output_type": "display_data"
    },
    {
     "name": "stdout",
     "output_type": "stream",
     "text": [
      "Intercept 0.15690304695049473\n",
      "Prediction_local [0.00118793]\n",
      "Right: 0.02\n",
      "Intercept 0.8430969530495053\n",
      "Prediction_local [0.99881207]\n",
      "Right: 0.98\n",
      "Intercept 0.1486895974623944\n",
      "Prediction_local [0.01383834]\n",
      "Right: 0.02\n",
      "Intercept 0.8513104025376059\n",
      "Prediction_local [0.98616166]\n",
      "Right: 0.98\n",
      "Intercept 0.21331008400867765\n",
      "Prediction_local [-0.01086588]\n",
      "Right: 0.02\n",
      "Intercept 0.7866899159913221\n",
      "Prediction_local [1.01086588]\n",
      "Right: 0.98\n"
     ]
    },
    {
     "data": {
      "application/vnd.jupyter.widget-view+json": {
       "model_id": "57c94268ef1d49bcb03d8bfe5ce1a8d4",
       "version_major": 2,
       "version_minor": 0
      },
      "text/plain": [
       "  0%|          | 0/1 [00:00<?, ?it/s]"
      ]
     },
     "metadata": {},
     "output_type": "display_data"
    },
    {
     "data": {
      "application/vnd.jupyter.widget-view+json": {
       "model_id": "9058a7c092f849dabf43fe145ccd8152",
       "version_major": 2,
       "version_minor": 0
      },
      "text/plain": [
       "  0%|          | 0/1 [00:00<?, ?it/s]"
      ]
     },
     "metadata": {},
     "output_type": "display_data"
    },
    {
     "data": {
      "application/vnd.jupyter.widget-view+json": {
       "model_id": "89d83bfdda4747f98698f0377b770da9",
       "version_major": 2,
       "version_minor": 0
      },
      "text/plain": [
       "  0%|          | 0/1 [00:00<?, ?it/s]"
      ]
     },
     "metadata": {},
     "output_type": "display_data"
    },
    {
     "name": "stdout",
     "output_type": "stream",
     "text": [
      "Intercept 0.18060610125991666\n",
      "Prediction_local [-0.05508052]\n",
      "Right: 0.0\n",
      "Intercept 0.8193938987400835\n",
      "Prediction_local [1.05508052]\n",
      "Right: 1.0\n",
      "Intercept 0.25039545804282193\n",
      "Prediction_local [-0.05309233]\n",
      "Right: 0.0\n",
      "Intercept 0.7496045419571777\n",
      "Prediction_local [1.05309233]\n",
      "Right: 1.0\n",
      "Intercept 0.23941698541080855\n",
      "Prediction_local [-0.05668401]\n",
      "Right: 0.0\n",
      "Intercept 0.7605830145891913\n",
      "Prediction_local [1.05668401]\n",
      "Right: 1.0\n"
     ]
    },
    {
     "data": {
      "application/vnd.jupyter.widget-view+json": {
       "model_id": "f7cee3a9a6d046b2b29bc12d0aaaaf10",
       "version_major": 2,
       "version_minor": 0
      },
      "text/plain": [
       "  0%|          | 0/1 [00:00<?, ?it/s]"
      ]
     },
     "metadata": {},
     "output_type": "display_data"
    },
    {
     "data": {
      "application/vnd.jupyter.widget-view+json": {
       "model_id": "554c245c878849dd8953d9ce8af6db18",
       "version_major": 2,
       "version_minor": 0
      },
      "text/plain": [
       "  0%|          | 0/1 [00:00<?, ?it/s]"
      ]
     },
     "metadata": {},
     "output_type": "display_data"
    },
    {
     "data": {
      "application/vnd.jupyter.widget-view+json": {
       "model_id": "7edeeb3d4cf74555a26914624ee68569",
       "version_major": 2,
       "version_minor": 0
      },
      "text/plain": [
       "  0%|          | 0/1 [00:00<?, ?it/s]"
      ]
     },
     "metadata": {},
     "output_type": "display_data"
    },
    {
     "name": "stdout",
     "output_type": "stream",
     "text": [
      "Intercept 0.019886108138301717\n",
      "Prediction_local [0.13312741]\n",
      "Right: 0.24265079365079367\n",
      "Intercept 0.980113891861698\n",
      "Prediction_local [0.86687259]\n",
      "Right: 0.7573492063492065\n",
      "Intercept 0.08751589981700231\n",
      "Prediction_local [0.13050651]\n",
      "Right: 0.24265079365079367\n",
      "Intercept 0.9124841001829979\n",
      "Prediction_local [0.86949349]\n",
      "Right: 0.7573492063492065\n",
      "Intercept 0.03558156884792369\n",
      "Prediction_local [0.13258306]\n",
      "Right: 0.24265079365079367\n",
      "Intercept 0.9644184311520761\n",
      "Prediction_local [0.86741694]\n",
      "Right: 0.7573492063492065\n"
     ]
    },
    {
     "data": {
      "application/vnd.jupyter.widget-view+json": {
       "model_id": "6eab47fa8ed84f839773bed3a3c17730",
       "version_major": 2,
       "version_minor": 0
      },
      "text/plain": [
       "  0%|          | 0/1 [00:00<?, ?it/s]"
      ]
     },
     "metadata": {},
     "output_type": "display_data"
    },
    {
     "data": {
      "application/vnd.jupyter.widget-view+json": {
       "model_id": "a4be7c79207b45999dd52112e17d8525",
       "version_major": 2,
       "version_minor": 0
      },
      "text/plain": [
       "  0%|          | 0/1 [00:00<?, ?it/s]"
      ]
     },
     "metadata": {},
     "output_type": "display_data"
    },
    {
     "data": {
      "application/vnd.jupyter.widget-view+json": {
       "model_id": "1a3fc9d1469145b4a2e8f0413841148c",
       "version_major": 2,
       "version_minor": 0
      },
      "text/plain": [
       "  0%|          | 0/1 [00:00<?, ?it/s]"
      ]
     },
     "metadata": {},
     "output_type": "display_data"
    },
    {
     "name": "stdout",
     "output_type": "stream",
     "text": [
      "Intercept 0.10713380401789828\n",
      "Prediction_local [0.07436007]\n",
      "Right: 0.0\n",
      "Intercept 0.8928661959821025\n",
      "Prediction_local [0.92563993]\n",
      "Right: 1.0\n",
      "Intercept 0.14613954721470562\n",
      "Prediction_local [0.07850964]\n",
      "Right: 0.0\n",
      "Intercept 0.8538604527852942\n",
      "Prediction_local [0.92149036]\n",
      "Right: 1.0\n",
      "Intercept 0.16713295016788918\n",
      "Prediction_local [0.06513906]\n",
      "Right: 0.0\n",
      "Intercept 0.832867049832111\n",
      "Prediction_local [0.93486094]\n",
      "Right: 1.0\n"
     ]
    },
    {
     "data": {
      "application/vnd.jupyter.widget-view+json": {
       "model_id": "6046b0fd3dc34a098c09de86c36d41c4",
       "version_major": 2,
       "version_minor": 0
      },
      "text/plain": [
       "  0%|          | 0/1 [00:00<?, ?it/s]"
      ]
     },
     "metadata": {},
     "output_type": "display_data"
    },
    {
     "data": {
      "application/vnd.jupyter.widget-view+json": {
       "model_id": "6116e710e57b43d0b56cb15d63c101ad",
       "version_major": 2,
       "version_minor": 0
      },
      "text/plain": [
       "  0%|          | 0/1 [00:00<?, ?it/s]"
      ]
     },
     "metadata": {},
     "output_type": "display_data"
    },
    {
     "data": {
      "application/vnd.jupyter.widget-view+json": {
       "model_id": "2f0f77eeca844d42851a856a482bd178",
       "version_major": 2,
       "version_minor": 0
      },
      "text/plain": [
       "  0%|          | 0/1 [00:00<?, ?it/s]"
      ]
     },
     "metadata": {},
     "output_type": "display_data"
    },
    {
     "name": "stdout",
     "output_type": "stream",
     "text": [
      "Intercept 0.23107772263926876\n",
      "Prediction_local [0.01346762]\n",
      "Right: 0.0\n",
      "Intercept 0.7689222773607315\n",
      "Prediction_local [0.98653238]\n",
      "Right: 1.0\n",
      "Intercept 0.15962186397979833\n",
      "Prediction_local [0.00641388]\n",
      "Right: 0.0\n",
      "Intercept 0.8403781360202021\n",
      "Prediction_local [0.99358612]\n",
      "Right: 1.0\n",
      "Intercept 0.20308627114031436\n",
      "Prediction_local [0.00928447]\n",
      "Right: 0.0\n",
      "Intercept 0.7969137288596859\n",
      "Prediction_local [0.99071553]\n",
      "Right: 1.0\n"
     ]
    },
    {
     "data": {
      "application/vnd.jupyter.widget-view+json": {
       "model_id": "7bc9dcf82c4b4e68aafbb0c328eea548",
       "version_major": 2,
       "version_minor": 0
      },
      "text/plain": [
       "  0%|          | 0/1 [00:00<?, ?it/s]"
      ]
     },
     "metadata": {},
     "output_type": "display_data"
    },
    {
     "data": {
      "application/vnd.jupyter.widget-view+json": {
       "model_id": "c97002b31d5d4a31877f8680f79d07b4",
       "version_major": 2,
       "version_minor": 0
      },
      "text/plain": [
       "  0%|          | 0/1 [00:00<?, ?it/s]"
      ]
     },
     "metadata": {},
     "output_type": "display_data"
    },
    {
     "data": {
      "application/vnd.jupyter.widget-view+json": {
       "model_id": "9acb43cb74994e4d88dbbb6fff3c0464",
       "version_major": 2,
       "version_minor": 0
      },
      "text/plain": [
       "  0%|          | 0/1 [00:00<?, ?it/s]"
      ]
     },
     "metadata": {},
     "output_type": "display_data"
    },
    {
     "name": "stdout",
     "output_type": "stream",
     "text": [
      "Intercept -0.03411351437134841\n",
      "Prediction_local [0.23566643]\n",
      "Right: 0.12\n",
      "Intercept 1.0341135143713487\n",
      "Prediction_local [0.76433357]\n",
      "Right: 0.88\n",
      "Intercept -0.03439524413741314\n",
      "Prediction_local [0.24857646]\n",
      "Right: 0.12\n",
      "Intercept 1.034395244137413\n",
      "Prediction_local [0.75142354]\n",
      "Right: 0.88\n",
      "Intercept -0.06089176002401672\n",
      "Prediction_local [0.24154545]\n",
      "Right: 0.12\n",
      "Intercept 1.0608917600240164\n",
      "Prediction_local [0.75845455]\n",
      "Right: 0.88\n"
     ]
    },
    {
     "data": {
      "application/vnd.jupyter.widget-view+json": {
       "model_id": "be7e395e63af4411b81a15276f9a985b",
       "version_major": 2,
       "version_minor": 0
      },
      "text/plain": [
       "  0%|          | 0/1 [00:00<?, ?it/s]"
      ]
     },
     "metadata": {},
     "output_type": "display_data"
    },
    {
     "data": {
      "application/vnd.jupyter.widget-view+json": {
       "model_id": "f3629e5745f54257a0f36a10533451a0",
       "version_major": 2,
       "version_minor": 0
      },
      "text/plain": [
       "  0%|          | 0/1 [00:00<?, ?it/s]"
      ]
     },
     "metadata": {},
     "output_type": "display_data"
    },
    {
     "data": {
      "application/vnd.jupyter.widget-view+json": {
       "model_id": "4a887d962ba7404cae249671acde0823",
       "version_major": 2,
       "version_minor": 0
      },
      "text/plain": [
       "  0%|          | 0/1 [00:00<?, ?it/s]"
      ]
     },
     "metadata": {},
     "output_type": "display_data"
    },
    {
     "name": "stdout",
     "output_type": "stream",
     "text": [
      "Intercept -0.023363513577243672\n",
      "Prediction_local [0.1898574]\n",
      "Right: 0.0\n",
      "Intercept 1.0233635135772439\n",
      "Prediction_local [0.8101426]\n",
      "Right: 1.0\n",
      "Intercept 0.059639802211603615\n",
      "Prediction_local [0.18278665]\n",
      "Right: 0.0\n",
      "Intercept 0.940360197788396\n",
      "Prediction_local [0.81721335]\n",
      "Right: 1.0\n",
      "Intercept 0.016422301839070272\n",
      "Prediction_local [0.19621131]\n",
      "Right: 0.0\n",
      "Intercept 0.9835776981609297\n",
      "Prediction_local [0.80378869]\n",
      "Right: 1.0\n"
     ]
    },
    {
     "data": {
      "application/vnd.jupyter.widget-view+json": {
       "model_id": "3a08d876854b43fea4b61a729a5de749",
       "version_major": 2,
       "version_minor": 0
      },
      "text/plain": [
       "  0%|          | 0/1 [00:00<?, ?it/s]"
      ]
     },
     "metadata": {},
     "output_type": "display_data"
    },
    {
     "data": {
      "application/vnd.jupyter.widget-view+json": {
       "model_id": "bc0d5ceea5a2488eb6118d233352ca38",
       "version_major": 2,
       "version_minor": 0
      },
      "text/plain": [
       "  0%|          | 0/1 [00:00<?, ?it/s]"
      ]
     },
     "metadata": {},
     "output_type": "display_data"
    },
    {
     "data": {
      "application/vnd.jupyter.widget-view+json": {
       "model_id": "225e9e1e4fa74bf380275ed602ee4231",
       "version_major": 2,
       "version_minor": 0
      },
      "text/plain": [
       "  0%|          | 0/1 [00:00<?, ?it/s]"
      ]
     },
     "metadata": {},
     "output_type": "display_data"
    },
    {
     "name": "stdout",
     "output_type": "stream",
     "text": [
      "Intercept 0.29679851963922915\n",
      "Prediction_local [-0.07119576]\n",
      "Right: 0.0\n",
      "Intercept 0.7032014803607716\n",
      "Prediction_local [1.07119576]\n",
      "Right: 1.0\n",
      "Intercept 0.2813277702088337\n",
      "Prediction_local [-0.06685428]\n",
      "Right: 0.0\n",
      "Intercept 0.7186722297911661\n",
      "Prediction_local [1.06685428]\n",
      "Right: 1.0\n",
      "Intercept 0.24434970469874717\n",
      "Prediction_local [-0.06516285]\n",
      "Right: 0.0\n",
      "Intercept 0.7556502953012528\n",
      "Prediction_local [1.06516285]\n",
      "Right: 1.0\n"
     ]
    },
    {
     "data": {
      "image/png": "[encoded data removed]",
      "text/plain": [
       "<Figure size 1600x800 with 1 Axes>"
      ]
     },
     "metadata": {},
     "output_type": "display_data"
    }
   ],
   "source": [
    "\n",
    "data, X, Y, classes_names = data_read_function( )\n",
    "stability_Plot_Data={}\n",
    "Treatments=['chemo','target','hormonal','radio','surgery']\n",
    "for treatment_name in Treatments :\n",
    "    Stability_Plot_Data= Lime_Shap_stability(data, X, Y, classes_names, stability_Plot_Data, treatment_name)\n",
    "    \n",
    "colors = ['skyblue', 'orange'] # Bar colors in plot\n",
    "Plot_the_data(Stability_Plot_Data, colors)"
   ]
  },
  {
   "cell_type": "code",
   "execution_count": 1029,
   "id": "60bfd48b",
   "metadata": {},
   "outputs": [],
   "source": []
  },
  {
   "cell_type": "code",
   "execution_count": 15,
   "id": "d5e47395",
   "metadata": {},
   "outputs": [
    {
     "data": {
      "image/png": "[encoded data removed]",
      "text/plain": [
       "<Figure size 1600x800 with 1 Axes>"
      ]
     },
     "metadata": {},
     "output_type": "display_data"
    }
   ],
   "source": [
    "colors = ['darkgoldenrod', 'brown'] # Bar colors in plot\n",
    "Plot_the_data(Stability_Plot_Data, colors)\n"
   ]
  },
  {
   "cell_type": "code",
   "execution_count": 1019,
   "id": "b5dc0d33",
   "metadata": {},
   "outputs": [
    {
     "data": {
      "image/png": "[encoded data removed]",
      "text/plain": [
       "<Figure size 1600x800 with 1 Axes>"
      ]
     },
     "metadata": {},
     "output_type": "display_data"
    }
   ],
   "source": [
    "colors = ['darkgoldenrod', 'brown'] # Bar colors in plot\n",
    "Plot_the_data(Stability_Plot_Data, colors)\n"
   ]
  },
  {
   "cell_type": "code",
   "execution_count": null,
   "id": "ae1462a6",
   "metadata": {},
   "outputs": [],
   "source": []
  },
  {
   "cell_type": "code",
   "execution_count": null,
   "id": "7e81899f",
   "metadata": {},
   "outputs": [],
   "source": []
  },
  {
   "cell_type": "code",
   "execution_count": null,
   "id": "adabc0f7",
   "metadata": {},
   "outputs": [],
   "source": []
  },
  {
   "cell_type": "code",
   "execution_count": 23,
   "id": "91efea71",
   "metadata": {},
   "outputs": [],
   "source": [
    "\n"
   ]
  },
  {
   "cell_type": "code",
   "execution_count": null,
   "id": "4985ae95",
   "metadata": {},
   "outputs": [],
   "source": [
    "\n"
   ]
  },
  {
   "cell_type": "code",
   "execution_count": null,
   "id": "95fca49d",
   "metadata": {},
   "outputs": [],
   "source": []
  },
  {
   "cell_type": "code",
   "execution_count": null,
   "id": "7914e92c",
   "metadata": {},
   "outputs": [],
   "source": []
  },
  {
   "cell_type": "code",
   "execution_count": null,
   "id": "8e3cf92d",
   "metadata": {},
   "outputs": [],
   "source": [
    "medical_comparison_Plot_Data= {'chemo': [[0.5384615384615384,0.6153846153846154, 0.46153846153846156, 0.6923076923076923, 0.5, 0.5769230769230769, 0.5769230769230769, 0.5], [0.4230769230769231, 0.4230769230769231, 0.6153846153846154, 0.46153846153846156,  0.4230769230769231, 0.4230769230769231, 0.5384615384615384, 0.34615384615384615]],\n",
    " 'target': [[0.6153846153846154, 0.5, 0.46153846153846156, 0.6538461538461539, 0.5, 0.5769230769230769, 0.5, 0.4230769230769231, 0.5384615384615384,0.5],\n",
    "  [0.4230769230769231, 0.2692307692307692, 0.5384615384615384, 0.46153846153846156, 0.5769230769230769,  0.46153846153846156, 0.5769230769230769, 0.4230769230769231, 0.5, 0.46153846153846156]],\n",
    " 'hormonal': [[0.4230769230769231, 0.5384615384615384,\n",
    "   0.5769230769230769,\n",
    "   0.6923076923076923,\n",
    "   0.6153846153846154,\n",
    "   0.5384615384615384,\n",
    "   0.38461538461538464,\n",
    "   0.6153846153846154,\n",
    "   0.38461538461538464,\n",
    "   0.38461538461538464],\n",
    "  [0.4230769230769231,\n",
    "   0.5,\n",
    "   0.34615384615384615,\n",
    "   0.4230769230769231,\n",
    "   0.3076923076923077,\n",
    "   0.4230769230769231,\n",
    "   0.5384615384615384,\n",
    "   0.46153846153846156,\n",
    "   0.46153846153846156,\n",
    "   0.5384615384615384]],\n",
    " 'radio': [[0.38461538461538464,\n",
    "   0.4230769230769231,\n",
    "   0.4230769230769231,\n",
    "   0.5,\n",
    "   0.38461538461538464,\n",
    "   0.5769230769230769,\n",
    "   0.5,\n",
    "   0.38461538461538464,\n",
    "   0.46153846153846156,\n",
    "   0.46153846153846156],\n",
    "  [0.38461538461538464,\n",
    "   0.46153846153846156,\n",
    "   0.4230769230769231,\n",
    "   0.2692307692307692,\n",
    "   0.46153846153846156,\n",
    "   0.4230769230769231,\n",
    "   0.34615384615384615,\n",
    "   0.38461538461538464,\n",
    "   0.46153846153846156,\n",
    "   0.3076923076923077]],\n",
    " 'surgery': [[0.4230769230769231,\n",
    "   0.5384615384615384,\n",
    "   0.5,\n",
    "   0.4230769230769231,\n",
    "   0.5,\n",
    "   0.6153846153846154,\n",
    "   0.5384615384615384,\n",
    "   0.46153846153846156,\n",
    "   0.38461538461538464,\n",
    "   0.6153846153846154],\n",
    "  [0.34615384615384615,\n",
    "   0.46153846153846156,\n",
    "   0.46153846153846156,\n",
    "   0.5384615384615384,\n",
    "   0.2692307692307692,\n",
    "   0.4230769230769231,\n",
    "   0.5384615384615384,\n",
    "   0.34615384615384615,\n",
    "   0.46153846153846156,\n",
    "   0.4230769230769231]]}\n",
    "\n",
    "Fidelity_Plot_Data={'chemo': [[0.5454173609718891,\n",
    "   0.5048407485014078,\n",
    "   0.7437982084443666,\n",
    "   0.5608691512263343,\n",
    "   0.5642678616518061,\n",
    "   0.5551432014560287,\n",
    "   0.43991822366150163,\n",
    "   0.502965085652823,\n",
    "   0.6822241515204459,\n",
    "   0.49239459903430083,\n",
    "   0.800215185492993,\n",
    "   0.595335984329791,\n",
    "   0.5700606477744339,\n",
    "   0.3638768924225574,\n",
    "   0.7442717221430447],\n",
    "  [0.21590347040027846,\n",
    "   0.21818766247123778,\n",
    "   0.23706353938763725,\n",
    "   0.2629607757400846,\n",
    "   0.2566807429213346,\n",
    "   0.22274807991279244,\n",
    "   0.2353111727315753,\n",
    "   0.23513967039327344,\n",
    "   0.23621581728307472,\n",
    "   0.2424981897511207,\n",
    "   0.21253970208696227,\n",
    "   0.23656529980736818,\n",
    "   0.2518201063996617,\n",
    "   0.2374111159141451,\n",
    "   0.20562500407990714]],\n",
    " 'target': [[0.6114027767004311,\n",
    "   0.39950938255668517,\n",
    "   0.3714043950393887,\n",
    "   0.5651638546875493,\n",
    "   0.5171161853101808,\n",
    "   0.408480321079239,\n",
    "   0.729405358149694,\n",
    "   0.6094754617658639,\n",
    "   0.6284946169303048,\n",
    "   0.6623258992936597,\n",
    "   0.4259570987660566,\n",
    "   0.43720328695686256,\n",
    "   0.4926456240804156,\n",
    "   0.3379163505964832,\n",
    "   0.42863722554318523],\n",
    "  [0.48527227648272786,\n",
    "   0.46386438867087687,\n",
    "   0.4726846263048736,\n",
    "   0.4890597472529783,\n",
    "   0.4896244839148648,\n",
    "   0.48293909675199664,\n",
    "   0.47323227918266575,\n",
    "   0.4856007582926263,\n",
    "   0.4690269746148711,\n",
    "   0.48126396515092906,\n",
    "   0.4798176479486037,\n",
    "   0.48267134465412986,\n",
    "   0.482485372298862,\n",
    "   0.46731089975201046,\n",
    "   0.47328522590321365]],\n",
    " 'hormonal': [[0.3818073976477197,\n",
    "   0.37169141345821,\n",
    "   0.5608704802215857,\n",
    "   0.60709920451118,\n",
    "   0.40892493378848144,\n",
    "   0.4434570810768966,\n",
    "   0.39958957316035487,\n",
    "   0.46573916138663357,\n",
    "   0.6586057445542437,\n",
    "   0.4683964842890952,\n",
    "   0.42736344616421024,\n",
    "   0.5399849435289039,\n",
    "   0.5890397919083996,\n",
    "   0.5754885799436834,\n",
    "   0.6038544142407986],\n",
    "  [0.3998035902353858,\n",
    "   0.40074284811426497,\n",
    "   0.3803911425953789,\n",
    "   0.4063209934002827,\n",
    "   0.4058654328249951,\n",
    "   0.42746386295344707,\n",
    "   0.398629215380117,\n",
    "   0.4066843591008189,\n",
    "   0.4232593426961042,\n",
    "   0.3879259961132382,\n",
    "   0.39998891270433856,\n",
    "   0.3925135182992787,\n",
    "   0.3706818479202241,\n",
    "   0.3995688094418012,\n",
    "   0.3506255537444457]],\n",
    " 'radio': [[0.5778767293635835,\n",
    "   0.674353965026519,\n",
    "   0.5183679628630451,\n",
    "   0.6697670213534037,\n",
    "   0.5048975738649963,\n",
    "   0.6160355714181389,\n",
    "   0.43950632274369583,\n",
    "   0.6953662513803204,\n",
    "   0.598447208650063,\n",
    "   0.743338680674297,\n",
    "   0.53431815986319,\n",
    "   0.4870415729308035,\n",
    "   0.5663093693143467,\n",
    "   0.5267255607506087,\n",
    "   0.487042562998441],\n",
    "  [0.3368207757992264,\n",
    "   0.35697740813188095,\n",
    "   0.3492968807623822,\n",
    "   0.3367140348187414,\n",
    "   0.34486502732412494,\n",
    "   0.34322989594933573,\n",
    "   0.36594508997755437,\n",
    "   0.3007384203879452,\n",
    "   0.3463243896174071,\n",
    "   0.35449206060431004,\n",
    "   0.3504312023712415,\n",
    "   0.35136136217067304,\n",
    "   0.3481600718552864,\n",
    "   0.35412662202411194,\n",
    "   0.3462631867768554]],\n",
    " 'surgery': [[0.4943499950305783,\n",
    "   0.596584942868085,\n",
    "   0.673732885997425,\n",
    "   0.6596730387189957,\n",
    "   0.6767369241187499,\n",
    "   0.5484928979769037,\n",
    "   0.7631974103057886,\n",
    "   0.6844144741521417,\n",
    "   0.6460859003484898,\n",
    "   0.26046641401441406,\n",
    "   0.6010823103250525,\n",
    "   0.6574796715893141,\n",
    "   0.6018112834608097,\n",
    "   0.7509198027454235,\n",
    "   0.6496802782311264],\n",
    "  [0.6276772663463304,\n",
    "   0.6205371289757972,\n",
    "   0.6241866080165105,\n",
    "   0.5745121294202147,\n",
    "   0.5856808582748871,\n",
    "   0.5672285875974521,\n",
    "   0.5688418384729919,\n",
    "   0.6094492251823674,\n",
    "   0.5588038323085431,\n",
    "   0.5791248700533786,\n",
    "   0.5816296952451137,\n",
    "   0.5891010227066992,\n",
    "   0.6170950656575014,\n",
    "   0.6343774595398832,\n",
    "   0.5738079351091903]]}\n",
    "Stability_Plot_Data={'chemo': [[0.2333333333333333,\n",
    "   0.3666666666666667,\n",
    "   0.13333333333333333,\n",
    "   0.5,\n",
    "   0.3333333333333333,\n",
    "   0.4666666666666666,\n",
    "   0.3333333333333333,\n",
    "   0.4000000000000001,\n",
    "   0.5666666666666667,\n",
    "   0.3666666666666667],\n",
    "  [0.7666666666666666,\n",
    "   0.8000000000000002,\n",
    "   0.8333333333333334,\n",
    "   0.8000000000000002,\n",
    "   0.7666666666666666,\n",
    "   0.7666666666666666,\n",
    "   0.7333333333333334,\n",
    "   0.8333333333333334,\n",
    "   0.8333333333333334,\n",
    "   0.8666666666666667]],\n",
    " 'target': [[0.3666666666666667,\n",
    "   0.5333333333333333,\n",
    "   0.5666666666666668,\n",
    "   0.4666666666666666,\n",
    "   0.43333333333333335,\n",
    "   0.26666666666666666,\n",
    "   0.39999999999999997,\n",
    "   0.5333333333333333,\n",
    "   0.3333333333333333,\n",
    "   0.4000000000000001],\n",
    "  [0.8000000000000002,\n",
    "   0.6666666666666666,\n",
    "   0.7800000000000002,\n",
    "   0.7000000000000001,\n",
    "   0.7333333333333334,\n",
    "   0.6666666666666666,\n",
    "   0.7000000000000001,\n",
    "   0.7333333333333334,\n",
    "   0.7333333333333334,\n",
    "   0.7000000000000001]],\n",
    " 'hormonal': [[0.3333333333333333,\n",
    "   0.5,\n",
    "   0.5,\n",
    "   0.4666666666666666,\n",
    "   0.3666666666666667,\n",
    "   0.5666666666666667,\n",
    "   0.5,\n",
    "   0.3666666666666667,\n",
    "   0.5333333333333333,\n",
    "   0.5],\n",
    "  [0.7333333333333334,\n",
    "   0.7666666666666666,\n",
    "   0.7333333333333334,\n",
    "   0.7333333333333334,\n",
    "   0.8000000000000002,\n",
    "   0.7666666666666666,\n",
    "   0.8333333333333334,\n",
    "   0.6666666666666666,\n",
    "   0.9,\n",
    "   0.8000000000000002]],\n",
    " 'radio': [[0.3,\n",
    "   0.5333333333333333,\n",
    "   0.5666666666666667,\n",
    "   0.5666666666666667,\n",
    "   0.4666666666666666,\n",
    "   0.6999999999999998,\n",
    "   0.5666666666666667,\n",
    "   0.3333333333333333,\n",
    "   0.43333333333333335,\n",
    "   0.26666666666666666],\n",
    "  [0.8333333333333334,\n",
    "   0.6999999999999998,\n",
    "   0.8000000000000002,\n",
    "   0.8666666666666667,\n",
    "   0.8333333333333334,\n",
    "   0.6999999999999998,\n",
    "   0.7333333333333334,\n",
    "   0.7666666666666666,\n",
    "   0.7333333333333334,\n",
    "   0.8333333333333334]],\n",
    " 'surgery': [[0.8000000000000002,\n",
    "  0.4000000000000001,\n",
    "  0.6666666666666666,\n",
    "  0.4666666666666666,\n",
    "  0.3333333333333333,\n",
    "  0.6666666666666666,\n",
    "  0.8666666666666667,\n",
    "  0.6666666666666666,\n",
    "  0.7333333333333334,\n",
    "  0.7333333333333334],\n",
    "  [0.7333333333333334,\n",
    "   0.8000000000000002,\n",
    "   0.8333333333333334,\n",
    "   0.6333333333333333,\n",
    "   0.7666666666666666,\n",
    "   0.7666666666666666,\n",
    "   0.7000000000000001,\n",
    "   0.7666666666666666,\n",
    "   0.7666666666666666,\n",
    "   0.6333333333333333]]}\n"
   ]
  },
  {
   "cell_type": "code",
   "execution_count": null,
   "id": "acffb063",
   "metadata": {},
   "outputs": [],
   "source": []
  },
  {
   "cell_type": "code",
   "execution_count": null,
   "id": "411c4508",
   "metadata": {},
   "outputs": [],
   "source": [
    "\n"
   ]
  },
  {
   "cell_type": "code",
   "execution_count": null,
   "id": "6e0b1f61",
   "metadata": {},
   "outputs": [],
   "source": []
  }
 ],
 "metadata": {
  "kernelspec": {
   "display_name": "Python 3 (ipykernel)",
   "language": "python",
   "name": "python3"
  },
  "language_info": {
   "codemirror_mode": {
    "name": "ipython",
    "version": 3
   },
   "file_extension": ".py",
   "mimetype": "text/x-python",
   "name": "python",
   "nbconvert_exporter": "python",
   "pygments_lexer": "ipython3",
   "version": "3.11.5"
  }
 },
 "nbformat": 4,
 "nbformat_minor": 5
}
