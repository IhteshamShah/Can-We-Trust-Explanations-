{
 "cells": [
  {
   "cell_type": "markdown",
   "id": "46d5a8f8",
   "metadata": {},
   "source": [
    "###LIME fidelity Calculation\n",
    "\n",
    "Here's a simplified example to illustrate the process:\n",
    "\n",
    "1. **Original Instance**: Suppose the instance to explain is \\(\\mathbf{x} = (x_1, x_2, \\ldots, x_n)\\).\n",
    "\n",
    "2. **Generate Perturbations**: Create a set of \\(k\\) perturbed samples \\(\\mathbf{x}^{(1)}, \\mathbf{x}^{(2)}, \\ldots, \\mathbf{x}^{(k)}\\) around \\(\\mathbf{x}\\).\n",
    "\n",
    "3. **Original Model Predictions**: Get predictions for these perturbed samples from the complex model: \\(f(\\mathbf{x}^{(1)}), f(\\mathbf{x}^{(2)}), \\ldots, f(\\mathbf{x}^{(k)})\\).\n",
    "\n",
    "4. **Train Surrogate Model**: Fit a surrogate model \\(g\\) using the perturbed samples \\(\\mathbf{x}^{(1)}, \\mathbf{x}^{(2)}, \\ldots, \\mathbf{x}^{(k)}\\) and their corresponding predictions from the complex model.\n",
    "\n",
    "5. **Surrogate Model Predictions**: Predict the outputs for the perturbed samples using the surrogate model: \\(g(\\mathbf{x}^{(1)}), g(\\mathbf{x}^{(2)}), \\ldots, g(\\mathbf{x}^{(k)})\\).\n",
    "\n",
    "6. **Calculate Fidelity**: Compute the fidelity metric. For instance, using R-squared:\n",
    "   \\[\n",
    "   R^2 = 1 - \\frac{\\sum_{i=1}^k (f(\\mathbf{x}^{(i)}) - g(\\mathbf{x}^{(i)}))^2}{\\sum_{i=1}^k (f(\\mathbf{x}^{(i)}) - \\bar{f})^2}\n",
    "   \\]\n",
    "   where \\(\\bar{f}\\) is the mean of the original model's predictions for the perturbed samples:\n",
    "   \\[\n",
    "   \\bar{f} = \\frac{1}{k} \\sum_{i=1}^k f(\\mathbf{x}^{(i)})\n",
    "   \\]\n",
    "\n",
    "A high \\(R^2\\) value close to 1 indicates high fidelity, meaning the surrogate model's predictions closely match those of the complex model within the local region around the instance being explained.\n",
    "\n",
    "By following these steps, you can quantitatively assess the fidelity of the LIME explanation, ensuring that the surrogate model provides a reliable approximation of the complex model's behavior in the local neighborhood of the instance.\n",
    "\n",
    "\n",
    "**LIME Fidelity** can also be calculated by calling the \"score\" from LIME function, i.e. **explanation.score**\n",
    "-explanation.intercept is a float, \n",
    "-explanation.exp is a sorted list of tuples, where each tuple (x,y) corresponds to the feature id (x) and the local weight (y). The list is sorted by decreasing absolute value of y. \n",
    "-explanation.score is the R^2 value of the returned explanation.\n",
    "-explanation.local_pred is the prediction of the explanation model on the original instance"
   ]
  },
  {
   "cell_type": "code",
   "execution_count": 1,
   "id": "9ec68e0f",
   "metadata": {},
   "outputs": [],
   "source": [
    "import pandas as pd\n",
    "import numpy as np\n",
    "from sklearn.datasets import make_classification\n",
    "from sklearn.multioutput import MultiOutputClassifier\n",
    "from sklearn.ensemble import RandomForestClassifier\n",
    "from sklearn.utils import shuffle\n",
    "from sklearn.model_selection import train_test_split\n",
    "from sklearn.metrics import precision_score, recall_score, f1_score, accuracy_score\n",
    "from imblearn.over_sampling import SMOTE \n",
    "\n",
    "from collections import Counter\n",
    "from sklearn.datasets import make_classification\n",
    "from interpret.blackbox import LimeTabular\n",
    "from lime.lime_tabular import LimeTabularExplainer\n",
    "import shap\n",
    "import matplotlib.pyplot as plt\n",
    "from lime_stability.stability import LimeTabularExplainerOvr"
   ]
  },
  {
   "cell_type": "code",
   "execution_count": 2,
   "id": "b1306a9d",
   "metadata": {},
   "outputs": [
    {
     "name": "stderr",
     "output_type": "stream",
     "text": [
      "\n",
      "A value is trying to be set on a copy of a slice from a DataFrame\n",
      "\n",
      "See the caveats in the documentation: https://pandas.pydata.org/pandas-docs/stable/user_guide/indexing.html#returning-a-view-versus-a-copy\n"
     ]
    }
   ],
   "source": [
    "all_data = pd.read_csv(r'/Users/ihteshamshah/Desktop/Postdoc/Dataset/NKR_IKNL_breast_syntheticdata.csv')\n",
    "DataSet= all_data[['leeft' ,'gesl', 'tumsoort', 'diag_basis', 'topo', 'topo_sublok', 'later', 'morf', 'ct', 'cn', 'cm', 'cstadium', 'er_stat', 'pr_stat', 'her2_stat', 'dcis_comp', 'multifoc','chemo', 'target', 'horm', 'rt', 'meta_chir']]\n",
    "DataSet.columns = ['Age_at_incidence_date', 'Sex', \n",
    "                'Tumor_type', 'Basis_for_diagnosis', 'Topography_excluding', \n",
    "                'Topography_including', 'Lateralization', 'Morphology', 'cT_TNM', 'cN_TNM', 'cm_TNM',\n",
    "                'Stage_based_on_cTNM', 'Er_status', 'Pr_status', 'HER2_state', 'DCIS_component',\n",
    "                  'Tumor_multifocality', 'chemo','target','hormonal','radio','surgery']\n",
    "DataSet.dropna(inplace=True)"
   ]
  },
  {
   "cell_type": "code",
   "execution_count": 3,
   "id": "d4c54202",
   "metadata": {},
   "outputs": [],
   "source": [
    "data = pd.get_dummies(DataSet, drop_first = True) #drop_first= ture prevents from dummy trap and it delete the first column.\n",
    "data.reset_index(drop=True, inplace=True)\n",
    "DATA=data #for later use when dealing with imbalance dataset (weight and smote methods)\n"
   ]
  },
  {
   "cell_type": "code",
   "execution_count": 5,
   "id": "fe5a4aab",
   "metadata": {},
   "outputs": [
    {
     "data": {
      "text/html": [
       "<div>\n",
       "<style scoped>\n",
       "    .dataframe tbody tr th:only-of-type {\n",
       "        vertical-align: middle;\n",
       "    }\n",
       "\n",
       "    .dataframe tbody tr th {\n",
       "        vertical-align: top;\n",
       "    }\n",
       "\n",
       "    .dataframe thead th {\n",
       "        text-align: right;\n",
       "    }\n",
       "</style>\n",
       "<table border=\"1\" class=\"dataframe\">\n",
       "  <thead>\n",
       "    <tr style=\"text-align: right;\">\n",
       "      <th></th>\n",
       "      <th>Age_at_incidence_date</th>\n",
       "      <th>Sex</th>\n",
       "      <th>Tumor_type</th>\n",
       "      <th>Basis_for_diagnosis</th>\n",
       "      <th>Lateralization</th>\n",
       "      <th>Morphology</th>\n",
       "      <th>cm_TNM</th>\n",
       "      <th>Er_status</th>\n",
       "      <th>Pr_status</th>\n",
       "      <th>HER2_state</th>\n",
       "      <th>DCIS_component</th>\n",
       "      <th>Tumor_multifocality</th>\n",
       "      <th>chemo</th>\n",
       "      <th>target</th>\n",
       "      <th>hormonal</th>\n",
       "      <th>radio</th>\n",
       "      <th>surgery</th>\n",
       "      <th>Topography_including_C501</th>\n",
       "      <th>Topography_including_C502</th>\n",
       "      <th>Topography_including_C503</th>\n",
       "      <th>Topography_including_C504</th>\n",
       "      <th>Topography_including_C505</th>\n",
       "      <th>Topography_including_C506</th>\n",
       "      <th>Topography_including_C508</th>\n",
       "      <th>Topography_including_C509</th>\n",
       "      <th>cT_TNM_1</th>\n",
       "      <th>cT_TNM_1A</th>\n",
       "      <th>cT_TNM_1B</th>\n",
       "      <th>cT_TNM_1C</th>\n",
       "      <th>cT_TNM_1M</th>\n",
       "      <th>cT_TNM_2</th>\n",
       "      <th>cT_TNM_3</th>\n",
       "      <th>cT_TNM_4A</th>\n",
       "      <th>cT_TNM_4B</th>\n",
       "      <th>cT_TNM_4C</th>\n",
       "      <th>cT_TNM_4D</th>\n",
       "      <th>cT_TNM_IS</th>\n",
       "      <th>cN_TNM_1</th>\n",
       "      <th>cN_TNM_2A</th>\n",
       "      <th>cN_TNM_2B</th>\n",
       "      <th>cN_TNM_3A</th>\n",
       "      <th>cN_TNM_3B</th>\n",
       "      <th>cN_TNM_3C</th>\n",
       "      <th>Stage_based_on_cTNM_1A</th>\n",
       "      <th>Stage_based_on_cTNM_2A</th>\n",
       "      <th>Stage_based_on_cTNM_2B</th>\n",
       "      <th>Stage_based_on_cTNM_3A</th>\n",
       "      <th>Stage_based_on_cTNM_3B</th>\n",
       "      <th>Stage_based_on_cTNM_3C</th>\n",
       "      <th>Stage_based_on_cTNM_4</th>\n",
       "      <th>Stage_based_on_cTNM_M</th>\n",
       "    </tr>\n",
       "  </thead>\n",
       "  <tbody>\n",
       "    <tr>\n",
       "      <th>0</th>\n",
       "      <td>93</td>\n",
       "      <td>2</td>\n",
       "      <td>501300</td>\n",
       "      <td>7</td>\n",
       "      <td>1.0</td>\n",
       "      <td>8500</td>\n",
       "      <td>0.0</td>\n",
       "      <td>1.0</td>\n",
       "      <td>0.0</td>\n",
       "      <td>3.0</td>\n",
       "      <td>0.0</td>\n",
       "      <td>0.0</td>\n",
       "      <td>0</td>\n",
       "      <td>4</td>\n",
       "      <td>0</td>\n",
       "      <td>0</td>\n",
       "      <td>0</td>\n",
       "      <td>False</td>\n",
       "      <td>False</td>\n",
       "      <td>False</td>\n",
       "      <td>False</td>\n",
       "      <td>False</td>\n",
       "      <td>False</td>\n",
       "      <td>True</td>\n",
       "      <td>False</td>\n",
       "      <td>False</td>\n",
       "      <td>False</td>\n",
       "      <td>False</td>\n",
       "      <td>True</td>\n",
       "      <td>False</td>\n",
       "      <td>False</td>\n",
       "      <td>False</td>\n",
       "      <td>False</td>\n",
       "      <td>False</td>\n",
       "      <td>False</td>\n",
       "      <td>False</td>\n",
       "      <td>False</td>\n",
       "      <td>False</td>\n",
       "      <td>False</td>\n",
       "      <td>False</td>\n",
       "      <td>False</td>\n",
       "      <td>False</td>\n",
       "      <td>False</td>\n",
       "      <td>True</td>\n",
       "      <td>False</td>\n",
       "      <td>False</td>\n",
       "      <td>False</td>\n",
       "      <td>False</td>\n",
       "      <td>False</td>\n",
       "      <td>False</td>\n",
       "      <td>False</td>\n",
       "    </tr>\n",
       "    <tr>\n",
       "      <th>1000</th>\n",
       "      <td>67</td>\n",
       "      <td>2</td>\n",
       "      <td>501300</td>\n",
       "      <td>7</td>\n",
       "      <td>1.0</td>\n",
       "      <td>8500</td>\n",
       "      <td>0.0</td>\n",
       "      <td>1.0</td>\n",
       "      <td>1.0</td>\n",
       "      <td>0.0</td>\n",
       "      <td>0.0</td>\n",
       "      <td>0.0</td>\n",
       "      <td>1</td>\n",
       "      <td>2</td>\n",
       "      <td>2</td>\n",
       "      <td>0</td>\n",
       "      <td>0</td>\n",
       "      <td>False</td>\n",
       "      <td>False</td>\n",
       "      <td>False</td>\n",
       "      <td>True</td>\n",
       "      <td>False</td>\n",
       "      <td>False</td>\n",
       "      <td>False</td>\n",
       "      <td>False</td>\n",
       "      <td>False</td>\n",
       "      <td>False</td>\n",
       "      <td>False</td>\n",
       "      <td>False</td>\n",
       "      <td>False</td>\n",
       "      <td>False</td>\n",
       "      <td>False</td>\n",
       "      <td>False</td>\n",
       "      <td>False</td>\n",
       "      <td>False</td>\n",
       "      <td>True</td>\n",
       "      <td>False</td>\n",
       "      <td>False</td>\n",
       "      <td>False</td>\n",
       "      <td>False</td>\n",
       "      <td>False</td>\n",
       "      <td>False</td>\n",
       "      <td>False</td>\n",
       "      <td>False</td>\n",
       "      <td>False</td>\n",
       "      <td>False</td>\n",
       "      <td>False</td>\n",
       "      <td>False</td>\n",
       "      <td>True</td>\n",
       "      <td>False</td>\n",
       "      <td>False</td>\n",
       "    </tr>\n",
       "    <tr>\n",
       "      <th>1100</th>\n",
       "      <td>69</td>\n",
       "      <td>2</td>\n",
       "      <td>501300</td>\n",
       "      <td>7</td>\n",
       "      <td>2.0</td>\n",
       "      <td>8500</td>\n",
       "      <td>0.0</td>\n",
       "      <td>1.0</td>\n",
       "      <td>1.0</td>\n",
       "      <td>1.0</td>\n",
       "      <td>1.0</td>\n",
       "      <td>0.0</td>\n",
       "      <td>0</td>\n",
       "      <td>3</td>\n",
       "      <td>2</td>\n",
       "      <td>0</td>\n",
       "      <td>0</td>\n",
       "      <td>False</td>\n",
       "      <td>False</td>\n",
       "      <td>False</td>\n",
       "      <td>True</td>\n",
       "      <td>False</td>\n",
       "      <td>False</td>\n",
       "      <td>False</td>\n",
       "      <td>False</td>\n",
       "      <td>False</td>\n",
       "      <td>False</td>\n",
       "      <td>True</td>\n",
       "      <td>False</td>\n",
       "      <td>False</td>\n",
       "      <td>False</td>\n",
       "      <td>False</td>\n",
       "      <td>False</td>\n",
       "      <td>False</td>\n",
       "      <td>False</td>\n",
       "      <td>False</td>\n",
       "      <td>False</td>\n",
       "      <td>False</td>\n",
       "      <td>False</td>\n",
       "      <td>False</td>\n",
       "      <td>False</td>\n",
       "      <td>False</td>\n",
       "      <td>False</td>\n",
       "      <td>True</td>\n",
       "      <td>False</td>\n",
       "      <td>False</td>\n",
       "      <td>False</td>\n",
       "      <td>False</td>\n",
       "      <td>False</td>\n",
       "      <td>False</td>\n",
       "      <td>False</td>\n",
       "    </tr>\n",
       "    <tr>\n",
       "      <th>20000</th>\n",
       "      <td>69</td>\n",
       "      <td>2</td>\n",
       "      <td>501300</td>\n",
       "      <td>7</td>\n",
       "      <td>2.0</td>\n",
       "      <td>8500</td>\n",
       "      <td>0.0</td>\n",
       "      <td>1.0</td>\n",
       "      <td>1.0</td>\n",
       "      <td>3.0</td>\n",
       "      <td>1.0</td>\n",
       "      <td>0.0</td>\n",
       "      <td>1</td>\n",
       "      <td>0</td>\n",
       "      <td>0</td>\n",
       "      <td>2</td>\n",
       "      <td>0</td>\n",
       "      <td>False</td>\n",
       "      <td>False</td>\n",
       "      <td>False</td>\n",
       "      <td>False</td>\n",
       "      <td>True</td>\n",
       "      <td>False</td>\n",
       "      <td>False</td>\n",
       "      <td>False</td>\n",
       "      <td>False</td>\n",
       "      <td>False</td>\n",
       "      <td>False</td>\n",
       "      <td>True</td>\n",
       "      <td>False</td>\n",
       "      <td>False</td>\n",
       "      <td>False</td>\n",
       "      <td>False</td>\n",
       "      <td>False</td>\n",
       "      <td>False</td>\n",
       "      <td>False</td>\n",
       "      <td>False</td>\n",
       "      <td>False</td>\n",
       "      <td>False</td>\n",
       "      <td>False</td>\n",
       "      <td>False</td>\n",
       "      <td>False</td>\n",
       "      <td>False</td>\n",
       "      <td>True</td>\n",
       "      <td>False</td>\n",
       "      <td>False</td>\n",
       "      <td>False</td>\n",
       "      <td>False</td>\n",
       "      <td>False</td>\n",
       "      <td>False</td>\n",
       "      <td>False</td>\n",
       "    </tr>\n",
       "  </tbody>\n",
       "</table>\n",
       "</div>"
      ],
      "text/plain": [
       "       Age_at_incidence_date  Sex  Tumor_type  Basis_for_diagnosis  \\\n",
       "0                         93    2      501300                    7   \n",
       "1000                      67    2      501300                    7   \n",
       "1100                      69    2      501300                    7   \n",
       "20000                     69    2      501300                    7   \n",
       "\n",
       "       Lateralization  Morphology  cm_TNM  Er_status  Pr_status  HER2_state  \\\n",
       "0                 1.0        8500     0.0        1.0        0.0         3.0   \n",
       "1000              1.0        8500     0.0        1.0        1.0         0.0   \n",
       "1100              2.0        8500     0.0        1.0        1.0         1.0   \n",
       "20000             2.0        8500     0.0        1.0        1.0         3.0   \n",
       "\n",
       "       DCIS_component  Tumor_multifocality  chemo  target  hormonal  radio  \\\n",
       "0                 0.0                  0.0      0       4         0      0   \n",
       "1000              0.0                  0.0      1       2         2      0   \n",
       "1100              1.0                  0.0      0       3         2      0   \n",
       "20000             1.0                  0.0      1       0         0      2   \n",
       "\n",
       "       surgery  Topography_including_C501  Topography_including_C502  \\\n",
       "0            0                      False                      False   \n",
       "1000         0                      False                      False   \n",
       "1100         0                      False                      False   \n",
       "20000        0                      False                      False   \n",
       "\n",
       "       Topography_including_C503  Topography_including_C504  \\\n",
       "0                          False                      False   \n",
       "1000                       False                       True   \n",
       "1100                       False                       True   \n",
       "20000                      False                      False   \n",
       "\n",
       "       Topography_including_C505  Topography_including_C506  \\\n",
       "0                          False                      False   \n",
       "1000                       False                      False   \n",
       "1100                       False                      False   \n",
       "20000                       True                      False   \n",
       "\n",
       "       Topography_including_C508  Topography_including_C509  cT_TNM_1  \\\n",
       "0                           True                      False     False   \n",
       "1000                       False                      False     False   \n",
       "1100                       False                      False     False   \n",
       "20000                      False                      False     False   \n",
       "\n",
       "       cT_TNM_1A  cT_TNM_1B  cT_TNM_1C  cT_TNM_1M  cT_TNM_2  cT_TNM_3  \\\n",
       "0          False      False       True      False     False     False   \n",
       "1000       False      False      False      False     False     False   \n",
       "1100       False       True      False      False     False     False   \n",
       "20000      False      False       True      False     False     False   \n",
       "\n",
       "       cT_TNM_4A  cT_TNM_4B  cT_TNM_4C  cT_TNM_4D  cT_TNM_IS  cN_TNM_1  \\\n",
       "0          False      False      False      False      False     False   \n",
       "1000       False      False      False       True      False     False   \n",
       "1100       False      False      False      False      False     False   \n",
       "20000      False      False      False      False      False     False   \n",
       "\n",
       "       cN_TNM_2A  cN_TNM_2B  cN_TNM_3A  cN_TNM_3B  cN_TNM_3C  \\\n",
       "0          False      False      False      False      False   \n",
       "1000       False      False      False      False      False   \n",
       "1100       False      False      False      False      False   \n",
       "20000      False      False      False      False      False   \n",
       "\n",
       "       Stage_based_on_cTNM_1A  Stage_based_on_cTNM_2A  Stage_based_on_cTNM_2B  \\\n",
       "0                        True                   False                   False   \n",
       "1000                    False                   False                   False   \n",
       "1100                     True                   False                   False   \n",
       "20000                    True                   False                   False   \n",
       "\n",
       "       Stage_based_on_cTNM_3A  Stage_based_on_cTNM_3B  Stage_based_on_cTNM_3C  \\\n",
       "0                       False                   False                   False   \n",
       "1000                    False                   False                    True   \n",
       "1100                    False                   False                   False   \n",
       "20000                   False                   False                   False   \n",
       "\n",
       "       Stage_based_on_cTNM_4  Stage_based_on_cTNM_M  \n",
       "0                      False                  False  \n",
       "1000                   False                  False  \n",
       "1100                   False                  False  \n",
       "20000                  False                  False  "
      ]
     },
     "execution_count": 5,
     "metadata": {},
     "output_type": "execute_result"
    }
   ],
   "source": [
    "ds=data.iloc[[0, 1000,1100,20000]]\n",
    "pd.set_option('display.max_columns', None)\n",
    "ds.head()"
   ]
  },
  {
   "cell_type": "code",
   "execution_count": 464,
   "id": "8abdab79",
   "metadata": {},
   "outputs": [],
   "source": [
    "X = data.loc[:, ~data.columns.isin(['chemo','target','hormonal','radio','surgery'])]\n",
    "Y = data[['chemo','target','hormonal','radio','surgery']]"
   ]
  },
  {
   "cell_type": "code",
   "execution_count": 465,
   "id": "39c45a9d",
   "metadata": {},
   "outputs": [
    {
     "name": "stdout",
     "output_type": "stream",
     "text": [
      "Origianl dataset shape: Counter({0: 35853, 1: 3657})\n",
      "Resampple dataset shape: Counter({0: 35853, 1: 35853})\n"
     ]
    }
   ],
   "source": [
    "classes_names = {'chemo':['chemo_0','chemo_presurgical only','chemo_post-surgical only','chemo_pre and post surgical','chemo_Yes, no surgery'],\n",
    "        'target':['target_0','target_presurgical only','target_post-surgical only','target_pre and post surgical','target_Yes, no surgery'],\n",
    "        'hormonal':['hormonal_0','hormonal_presurgical only','hormonal_post-surgical only','hormonal_pre and post surgical','hormonal_Yes, no surgery'],\n",
    "        'radio':['radio_0','radio_presurgical only','radio_post-surgical only','radio_Yes, no surgery'],\n",
    "        'surgery':['No_surgery','surgery']}\n",
    "\n",
    "#classes_names = {'chemo':['chemo_0','chemo_1','chemo_2','chemo_3','chemo_4'],\n",
    "#        'target':['target_0','target_1','target_2','target_3','target_4'],\n",
    "#        'hormonal':['hormonal_0','hormonal_1','hormonal_2','hormonal_3','hormonal_4'],\n",
    "#        'radio':['radio_0','radio_1','radio_2','radio_4'],\n",
    "#        'surgery':['surgery', 'No_surgery']}\n",
    "\n",
    "\n",
    "y=Y['surgery']\n",
    "smote = SMOTE(random_state=42)\n",
    "\n",
    "X_class_resampled, y_class_resampled = smote.fit_resample(X , y)\n",
    "\n",
    "X_class_resampled.replace({False: 0, True: 1}, inplace=True)\n",
    "y_class_resampled.replace({False:0, True:1}, inplace= True)\n",
    "\n",
    "\n",
    "print('Origianl dataset shape:', Counter(y))\n",
    "print('Resampple dataset shape:', Counter(y_class_resampled))\n",
    "\n",
    "x_train,x_test,y_train,y_test=train_test_split(X_class_resampled,y_class_resampled,test_size=0.2)\n",
    "\n",
    "x_train.reset_index(drop=True, inplace=True)\n",
    "y_train.reset_index(drop=True, inplace=True)\n",
    "x_test.reset_index(drop=True, inplace=True)\n",
    "y_test.reset_index(drop=True, inplace=True)\n",
    "\n",
    "#X_res, y_res = sm.fit_resample(x_train, y_train)\n",
    "\n",
    "#Randomforest Classifier\n",
    "rf = RandomForestClassifier()\n",
    "rf.fit(x_train, y_train)\n",
    "y_pred = rf.predict(x_test)"
   ]
  },
  {
   "cell_type": "code",
   "execution_count": null,
   "id": "5d13571c",
   "metadata": {},
   "outputs": [],
   "source": []
  },
  {
   "cell_type": "code",
   "execution_count": 466,
   "id": "a32c936e",
   "metadata": {},
   "outputs": [
    {
     "name": "stdout",
     "output_type": "stream",
     "text": [
      "Actual class: 0\n",
      "Predicted class: 0\n",
      "Prediction for 1st sample in X_test: [0.78667039 0.21332961]\n"
     ]
    }
   ],
   "source": [
    "# Choose a sample to explain\n",
    "j = 2\n",
    "sample = x_test.iloc[[j], :]\n",
    "\n",
    "Predicted_class= rf.predict(sample)[0]\n",
    "print(f'Actual class: {y_test[j]}')\n",
    "print(f'Predicted class: {rf.predict(sample)[0]}')\n",
    "print(f'Prediction for 1st sample in X_test: {rf.predict_proba(x_test.iloc[[j], :])[0]}')"
   ]
  },
  {
   "cell_type": "markdown",
   "id": "c7a525bd",
   "metadata": {},
   "source": [
    "# LIME and SHAP fidelity"
   ]
  },
  {
   "cell_type": "code",
   "execution_count": 467,
   "id": "ca039fef",
   "metadata": {},
   "outputs": [],
   "source": [
    "\n",
    "#LIME explainer single instance for same sample used for shap\n",
    "# Choose a sample to explain\n",
    "#discretize_continuous=True, verbose=True show the following outcomes.\n",
    "#intercept , Prediction_local= Lime prediction, Right= Actual model's prediction.\n",
    "\n",
    "\n",
    "\n",
    "\n",
    "Lime_fidelity=[]\n",
    "Shap_fidelity=[]\n",
    "\n",
    "#Lime Explainer\n",
    "LIME_explainer = LimeTabularExplainer(x_train.values, \n",
    "                             feature_names=x_train.columns, \n",
    "                             class_names=classes_names[y_test.name], \n",
    "                             discretize_continuous=True, verbose=True)\n",
    "#Shap Explainer \n",
    "\n",
    "# Define the number of samples to summarize the background data\n",
    "K = 100  # Choose an appropriate value for K\n",
    "\n",
    "# Summarize the background data using shap.sample()\n",
    "background_sample = shap.sample(x_train, K)\n",
    "\n",
    "# Use the summarized background sample in your SHAP model\n",
    "#Shap_explainer = shap.KernelExplainer(model=rf.predict_proba, data=background_sample, link = 'logit')\n",
    "Shap_explainer = shap.KernelExplainer(model=rf.predict_proba, data=background_sample)\n",
    "\n"
   ]
  },
  {
   "cell_type": "code",
   "execution_count": 468,
   "id": "463daca5",
   "metadata": {},
   "outputs": [
    {
     "name": "stdout",
     "output_type": "stream",
     "text": [
      "Intercept 0.771641212283824\n",
      "Prediction_local [0.89137492]\n",
      "Right: 0.02\n",
      "Intercept 0.22835878771617577\n",
      "Prediction_local [0.10862508]\n",
      "Right: 0.98\n"
     ]
    },
    {
     "name": "stderr",
     "output_type": "stream",
     "text": [
      "X does not have valid feature names, but RandomForestClassifier was fitted with feature names\n"
     ]
    },
    {
     "data": {
      "application/vnd.jupyter.widget-view+json": {
       "model_id": "3d9fad487f81437e97c09f98dc3f2314",
       "version_major": 2,
       "version_minor": 0
      },
      "text/plain": [
       "  0%|          | 0/1 [00:00<?, ?it/s]"
      ]
     },
     "metadata": {},
     "output_type": "display_data"
    },
    {
     "name": "stdout",
     "output_type": "stream",
     "text": [
      "Intercept 0.278780525576086\n",
      "Prediction_local [-0.00226457]\n",
      "Right: 0.0\n",
      "Intercept 0.7212194744239142\n",
      "Prediction_local [1.00226457]\n",
      "Right: 1.0\n"
     ]
    },
    {
     "name": "stderr",
     "output_type": "stream",
     "text": [
      "X does not have valid feature names, but RandomForestClassifier was fitted with feature names\n"
     ]
    },
    {
     "data": {
      "application/vnd.jupyter.widget-view+json": {
       "model_id": "be60b9c8c8644c8db7748b93645d7154",
       "version_major": 2,
       "version_minor": 0
      },
      "text/plain": [
       "  0%|          | 0/1 [00:00<?, ?it/s]"
      ]
     },
     "metadata": {},
     "output_type": "display_data"
    },
    {
     "name": "stdout",
     "output_type": "stream",
     "text": [
      "Intercept 0.8418388318605872\n",
      "Prediction_local [0.88145117]\n",
      "Right: 0.21332961482961482\n",
      "Intercept 0.1581611681394131\n",
      "Prediction_local [0.11854883]\n",
      "Right: 0.7866703851703853\n"
     ]
    },
    {
     "name": "stderr",
     "output_type": "stream",
     "text": [
      "X does not have valid feature names, but RandomForestClassifier was fitted with feature names\n"
     ]
    },
    {
     "data": {
      "application/vnd.jupyter.widget-view+json": {
       "model_id": "e691590791c540d4bbc32d85173d9cd5",
       "version_major": 2,
       "version_minor": 0
      },
      "text/plain": [
       "  0%|          | 0/1 [00:00<?, ?it/s]"
      ]
     },
     "metadata": {},
     "output_type": "display_data"
    },
    {
     "name": "stdout",
     "output_type": "stream",
     "text": [
      "Intercept 0.14775935899184806\n",
      "Prediction_local [0.04384155]\n",
      "Right: 0.0\n",
      "Intercept 0.8522406410081517\n",
      "Prediction_local [0.95615845]\n",
      "Right: 1.0\n"
     ]
    },
    {
     "name": "stderr",
     "output_type": "stream",
     "text": [
      "X does not have valid feature names, but RandomForestClassifier was fitted with feature names\n"
     ]
    },
    {
     "data": {
      "application/vnd.jupyter.widget-view+json": {
       "model_id": "24fbf83185904b63a4d67cddc8c07c1f",
       "version_major": 2,
       "version_minor": 0
      },
      "text/plain": [
       "  0%|          | 0/1 [00:00<?, ?it/s]"
      ]
     },
     "metadata": {},
     "output_type": "display_data"
    },
    {
     "name": "stdout",
     "output_type": "stream",
     "text": [
      "Intercept 0.21680544054592696\n",
      "Prediction_local [0.04798523]\n",
      "Right: 0.04\n",
      "Intercept 0.7831945594540735\n",
      "Prediction_local [0.95201477]\n",
      "Right: 0.96\n"
     ]
    },
    {
     "name": "stderr",
     "output_type": "stream",
     "text": [
      "X does not have valid feature names, but RandomForestClassifier was fitted with feature names\n"
     ]
    },
    {
     "data": {
      "application/vnd.jupyter.widget-view+json": {
       "model_id": "c26f5c2372b94f56be50e86b22db3337",
       "version_major": 2,
       "version_minor": 0
      },
      "text/plain": [
       "  0%|          | 0/1 [00:00<?, ?it/s]"
      ]
     },
     "metadata": {},
     "output_type": "display_data"
    },
    {
     "name": "stdout",
     "output_type": "stream",
     "text": [
      "Intercept 0.2521386256639231\n",
      "Prediction_local [0.00072976]\n",
      "Right: 0.0\n",
      "Intercept 0.7478613743360767\n",
      "Prediction_local [0.99927024]\n",
      "Right: 1.0\n"
     ]
    },
    {
     "name": "stderr",
     "output_type": "stream",
     "text": [
      "X does not have valid feature names, but RandomForestClassifier was fitted with feature names\n"
     ]
    },
    {
     "data": {
      "application/vnd.jupyter.widget-view+json": {
       "model_id": "72db3efc5e0d4af08e95babc6dcd75fa",
       "version_major": 2,
       "version_minor": 0
      },
      "text/plain": [
       "  0%|          | 0/1 [00:00<?, ?it/s]"
      ]
     },
     "metadata": {},
     "output_type": "display_data"
    },
    {
     "name": "stdout",
     "output_type": "stream",
     "text": [
      "Intercept 0.8922494400710711\n",
      "Prediction_local [0.93766009]\n",
      "Right: 0.42\n",
      "Intercept 0.10775055992892872\n",
      "Prediction_local [0.06233991]\n",
      "Right: 0.58\n"
     ]
    },
    {
     "name": "stderr",
     "output_type": "stream",
     "text": [
      "X does not have valid feature names, but RandomForestClassifier was fitted with feature names\n"
     ]
    },
    {
     "data": {
      "application/vnd.jupyter.widget-view+json": {
       "model_id": "48d9768ab13a4971858e7d6045466037",
       "version_major": 2,
       "version_minor": 0
      },
      "text/plain": [
       "  0%|          | 0/1 [00:00<?, ?it/s]"
      ]
     },
     "metadata": {},
     "output_type": "display_data"
    },
    {
     "name": "stdout",
     "output_type": "stream",
     "text": [
      "Intercept 0.8395631028230925\n",
      "Prediction_local [0.94063517]\n",
      "Right: 0.0075\n",
      "Intercept 0.16043689717690723\n",
      "Prediction_local [0.05936483]\n",
      "Right: 0.9925\n"
     ]
    },
    {
     "name": "stderr",
     "output_type": "stream",
     "text": [
      "X does not have valid feature names, but RandomForestClassifier was fitted with feature names\n"
     ]
    },
    {
     "data": {
      "application/vnd.jupyter.widget-view+json": {
       "model_id": "e3c55692b643476a94b7b5faeebe125d",
       "version_major": 2,
       "version_minor": 0
      },
      "text/plain": [
       "  0%|          | 0/1 [00:00<?, ?it/s]"
      ]
     },
     "metadata": {},
     "output_type": "display_data"
    },
    {
     "name": "stdout",
     "output_type": "stream",
     "text": [
      "Intercept 0.853232175468553\n",
      "Prediction_local [0.87864357]\n",
      "Right: 0.08\n",
      "Intercept 0.14676782453144693\n",
      "Prediction_local [0.12135643]\n",
      "Right: 0.92\n"
     ]
    },
    {
     "name": "stderr",
     "output_type": "stream",
     "text": [
      "X does not have valid feature names, but RandomForestClassifier was fitted with feature names\n"
     ]
    },
    {
     "data": {
      "application/vnd.jupyter.widget-view+json": {
       "model_id": "be5f5a3d507e47a08fd5d4175c5c5377",
       "version_major": 2,
       "version_minor": 0
      },
      "text/plain": [
       "  0%|          | 0/1 [00:00<?, ?it/s]"
      ]
     },
     "metadata": {},
     "output_type": "display_data"
    },
    {
     "name": "stdout",
     "output_type": "stream",
     "text": [
      "Intercept 0.11210540317865755\n",
      "Prediction_local [0.11272905]\n",
      "Right: 0.01\n",
      "Intercept 0.8878945968213424\n",
      "Prediction_local [0.88727095]\n",
      "Right: 0.99\n"
     ]
    },
    {
     "name": "stderr",
     "output_type": "stream",
     "text": [
      "X does not have valid feature names, but RandomForestClassifier was fitted with feature names\n"
     ]
    },
    {
     "data": {
      "application/vnd.jupyter.widget-view+json": {
       "model_id": "770e5f7a45ce44e89d427d01fbc96c03",
       "version_major": 2,
       "version_minor": 0
      },
      "text/plain": [
       "  0%|          | 0/1 [00:00<?, ?it/s]"
      ]
     },
     "metadata": {},
     "output_type": "display_data"
    },
    {
     "name": "stdout",
     "output_type": "stream",
     "text": [
      "Intercept 0.29099618621329637\n",
      "Prediction_local [-0.03682716]\n",
      "Right: 0.02\n",
      "Intercept 0.7090038137867039\n",
      "Prediction_local [1.03682716]\n",
      "Right: 0.98\n"
     ]
    },
    {
     "name": "stderr",
     "output_type": "stream",
     "text": [
      "X does not have valid feature names, but RandomForestClassifier was fitted with feature names\n"
     ]
    },
    {
     "data": {
      "application/vnd.jupyter.widget-view+json": {
       "model_id": "91fddc3148a948d1818eda395266ac96",
       "version_major": 2,
       "version_minor": 0
      },
      "text/plain": [
       "  0%|          | 0/1 [00:00<?, ?it/s]"
      ]
     },
     "metadata": {},
     "output_type": "display_data"
    },
    {
     "name": "stdout",
     "output_type": "stream",
     "text": [
      "Intercept 0.8978939348413137\n",
      "Prediction_local [0.92417449]\n",
      "Right: 0.0\n",
      "Intercept 0.10210606515868634\n",
      "Prediction_local [0.07582551]\n",
      "Right: 1.0\n"
     ]
    },
    {
     "name": "stderr",
     "output_type": "stream",
     "text": [
      "X does not have valid feature names, but RandomForestClassifier was fitted with feature names\n"
     ]
    },
    {
     "data": {
      "application/vnd.jupyter.widget-view+json": {
       "model_id": "a0f0395de6f54d7ab10c03d638184cd5",
       "version_major": 2,
       "version_minor": 0
      },
      "text/plain": [
       "  0%|          | 0/1 [00:00<?, ?it/s]"
      ]
     },
     "metadata": {},
     "output_type": "display_data"
    },
    {
     "name": "stdout",
     "output_type": "stream",
     "text": [
      "Intercept 0.7847355859975707\n",
      "Prediction_local [0.90542883]\n",
      "Right: 0.0025\n",
      "Intercept 0.21526441400242935\n",
      "Prediction_local [0.09457117]\n",
      "Right: 0.9974999999999998\n"
     ]
    },
    {
     "name": "stderr",
     "output_type": "stream",
     "text": [
      "X does not have valid feature names, but RandomForestClassifier was fitted with feature names\n"
     ]
    },
    {
     "data": {
      "application/vnd.jupyter.widget-view+json": {
       "model_id": "106ee31c06a74895bc99e5c27f598469",
       "version_major": 2,
       "version_minor": 0
      },
      "text/plain": [
       "  0%|          | 0/1 [00:00<?, ?it/s]"
      ]
     },
     "metadata": {},
     "output_type": "display_data"
    },
    {
     "name": "stdout",
     "output_type": "stream",
     "text": [
      "Intercept 0.22000841730867543\n",
      "Prediction_local [0.00276604]\n",
      "Right: 0.04\n",
      "Intercept 0.7799915826913245\n",
      "Prediction_local [0.99723396]\n",
      "Right: 0.96\n"
     ]
    },
    {
     "name": "stderr",
     "output_type": "stream",
     "text": [
      "X does not have valid feature names, but RandomForestClassifier was fitted with feature names\n"
     ]
    },
    {
     "data": {
      "application/vnd.jupyter.widget-view+json": {
       "model_id": "fd25d41a342b4d1ab41c49afbf5229b8",
       "version_major": 2,
       "version_minor": 0
      },
      "text/plain": [
       "  0%|          | 0/1 [00:00<?, ?it/s]"
      ]
     },
     "metadata": {},
     "output_type": "display_data"
    },
    {
     "name": "stdout",
     "output_type": "stream",
     "text": [
      "Intercept 0.29422102858724364\n",
      "Prediction_local [-0.04914991]\n",
      "Right: 0.0\n",
      "Intercept 0.7057789714127563\n",
      "Prediction_local [1.04914991]\n",
      "Right: 1.0\n"
     ]
    },
    {
     "name": "stderr",
     "output_type": "stream",
     "text": [
      "X does not have valid feature names, but RandomForestClassifier was fitted with feature names\n"
     ]
    },
    {
     "data": {
      "application/vnd.jupyter.widget-view+json": {
       "model_id": "8fc216748ae34be8af70aa4bd788b304",
       "version_major": 2,
       "version_minor": 0
      },
      "text/plain": [
       "  0%|          | 0/1 [00:00<?, ?it/s]"
      ]
     },
     "metadata": {},
     "output_type": "display_data"
    }
   ],
   "source": [
    "\n",
    "\n",
    "\n",
    "# Explanation over 20 single points \n",
    "\n",
    "#j=np.random.randint(1000, size=(20)) #randomly pick 20 instances from data (in the range of 1000 intances)\n",
    "\n",
    "\n",
    "for i in range(15):\n",
    "    data_row = x_test.iloc[[i], :] #single instance from the test dataset\n",
    "    sample =data_row.values.reshape(1, -1) #reshape the sample and pickup the value only (making it suitble for lime function)\n",
    "    #print(f'Actual class: {y_test[j]}')\n",
    "    #print(f'Predicted class: {rf.predict(sample)[0]}')\n",
    "\n",
    "    # Explain the prediction for the chosen sample\n",
    "    LIME_explanation = LIME_explainer.explain_instance(sample[0], rf.predict_proba, num_features=46, top_labels=20)\n",
    "    #AA= np.array(exp.local_pred, dtype==int)\n",
    "    Lime_fidelity.append(LIME_explanation.score)\n",
    "    \n",
    "    \n",
    "    #Data_row = x_test.iloc[[3], :]\n",
    "    Predicted_class= rf.predict(data_row)[0]\n",
    "\n",
    "\n",
    "    shap_values_single_instance = Shap_explainer.shap_values(data_row, nsamples=100, l1_reg=\"num_features(28)\")\n",
    "    shap_fedilty= ((rf.predict_proba(data_row)[0][Predicted_class]) /\n",
    "                (Shap_explainer.fnull[Predicted_class] + np.sum(np.abs(shap_values_single_instance[Predicted_class]))))\n",
    "    Shap_fidelity.append(shap_fedilty)\n",
    "\n",
    "\n",
    "\n"
   ]
  },
  {
   "cell_type": "code",
   "execution_count": 469,
   "id": "3f9aad87",
   "metadata": {},
   "outputs": [],
   "source": [
    "#Lime_fidelity"
   ]
  },
  {
   "cell_type": "code",
   "execution_count": 470,
   "id": "19bb7407",
   "metadata": {},
   "outputs": [],
   "source": [
    "#Shap_fidelity"
   ]
  },
  {
   "cell_type": "code",
   "execution_count": 471,
   "id": "151e5bb3",
   "metadata": {},
   "outputs": [
    {
     "data": {
      "image/png": "[encoded data removed]",
      "text/plain": [
       "<Figure size 640x480 with 1 Axes>"
      ]
     },
     "metadata": {},
     "output_type": "display_data"
    }
   ],
   "source": [
    "# Fidelity Plot for LIME and SHAP\n",
    "# Import libraries\n",
    "import matplotlib.pyplot as plt\n",
    "#Lime_fidelity = list(np.around(np.array(Lime_fidelity),2)) \n",
    "\n",
    "plot_data = [Shap_fidelity, Lime_fidelity]\n",
    "\n",
    "labels = ['SHAP', 'LIME']\n",
    "colors = ['orange', 'darkgoldenrod']\n",
    "\n",
    "fig, ax = plt.subplots()\n",
    "ax.set_ylabel('fidelity Score')\n",
    "\n",
    "bplot = ax.boxplot(plot_data,\n",
    "                   patch_artist=True)  # fill with color\n",
    "\n",
    "# fill with colors and add legend labels\n",
    "for patch, color, label in zip(bplot['boxes'], colors, labels):\n",
    "    patch.set_facecolor(color)\n",
    "    patch.set_label(label)\n",
    "    \n",
    "ax.legend()\n",
    "ax.get_xaxis().set_visible(False)\n",
    "\n",
    "plt.show()"
   ]
  },
  {
   "cell_type": "code",
   "execution_count": 220,
   "id": "213f9239",
   "metadata": {},
   "outputs": [],
   "source": [
    "data_row = x_test.iloc[[666], :]"
   ]
  },
  {
   "cell_type": "code",
   "execution_count": 221,
   "id": "da681e39",
   "metadata": {},
   "outputs": [
    {
     "data": {
      "text/plain": [
       "0.35931391526609535"
      ]
     },
     "execution_count": 221,
     "metadata": {},
     "output_type": "execute_result"
    }
   ],
   "source": [
    "explanation.score"
   ]
  },
  {
   "cell_type": "code",
   "execution_count": 222,
   "id": "f4bd1289",
   "metadata": {},
   "outputs": [
    {
     "data": {
      "text/plain": [
       "array([0.16845441])"
      ]
     },
     "execution_count": 222,
     "metadata": {},
     "output_type": "execute_result"
    }
   ],
   "source": [
    "explanation.local_pred"
   ]
  },
  {
   "cell_type": "code",
   "execution_count": 223,
   "id": "aee2a6e2",
   "metadata": {},
   "outputs": [],
   "source": [
    "#explanation.local_pred[0]/max(rf.predict_proba(x_test.iloc[[j], :])[0])"
   ]
  },
  {
   "cell_type": "code",
   "execution_count": 224,
   "id": "8c2fbe0a",
   "metadata": {},
   "outputs": [
    {
     "data": {
      "text/plain": [
       "{0: 0.19701945260199163,\n",
       " 2: -0.06661790183452476,\n",
       " 1: 0.21013738717200683,\n",
       " 3: 0.0028958937440794474,\n",
       " 4: 0.6565651683164472}"
      ]
     },
     "execution_count": 224,
     "metadata": {},
     "output_type": "execute_result"
    }
   ],
   "source": [
    "explanation.intercept"
   ]
  },
  {
   "cell_type": "code",
   "execution_count": 204,
   "id": "0371c254",
   "metadata": {},
   "outputs": [
    {
     "data": {
      "text/plain": [
       "1.458928711036063"
      ]
     },
     "execution_count": 204,
     "metadata": {},
     "output_type": "execute_result"
    }
   ],
   "source": [
    "np.sum(np.abs(shap_values_single_instance[Predicted_class]))"
   ]
  },
  {
   "cell_type": "code",
   "execution_count": 205,
   "id": "3add489c",
   "metadata": {},
   "outputs": [
    {
     "data": {
      "text/plain": [
       "0.21250000000000005"
      ]
     },
     "execution_count": 205,
     "metadata": {},
     "output_type": "execute_result"
    }
   ],
   "source": [
    "Shap_explainer.fnull[Predicted_class]"
   ]
  },
  {
   "cell_type": "code",
   "execution_count": 206,
   "id": "07bd65c2",
   "metadata": {},
   "outputs": [
    {
     "data": {
      "text/plain": [
       "0.01"
      ]
     },
     "execution_count": 206,
     "metadata": {},
     "output_type": "execute_result"
    }
   ],
   "source": [
    "rf.predict_proba(Data_row)[0][Predicted_class]"
   ]
  },
  {
   "cell_type": "code",
   "execution_count": 207,
   "id": "2d80bb16",
   "metadata": {},
   "outputs": [
    {
     "name": "stderr",
     "output_type": "stream",
     "text": [
      "X does not have valid feature names, but RandomForestClassifier was fitted with feature names\n"
     ]
    },
    {
     "data": {
      "text/plain": [
       "0.99"
      ]
     },
     "execution_count": 207,
     "metadata": {},
     "output_type": "execute_result"
    }
   ],
   "source": [
    "max(rf.predict_proba(sample)[0])"
   ]
  },
  {
   "cell_type": "code",
   "execution_count": null,
   "id": "42029b1d",
   "metadata": {},
   "outputs": [],
   "source": []
  },
  {
   "cell_type": "code",
   "execution_count": null,
   "id": "5dd37681",
   "metadata": {},
   "outputs": [],
   "source": []
  },
  {
   "cell_type": "code",
   "execution_count": null,
   "id": "370c8b38",
   "metadata": {},
   "outputs": [],
   "source": []
  },
  {
   "cell_type": "code",
   "execution_count": null,
   "id": "2fb30a92",
   "metadata": {},
   "outputs": [],
   "source": []
  },
  {
   "cell_type": "markdown",
   "id": "502fbe9f",
   "metadata": {},
   "source": [
    "# Stability of LIME and SHAP \n",
    "\n",
    "based on paper in the link https://arxiv.org/pdf/2001.11757 \n",
    "\n",
    "\n",
    "###Pseudocode\n",
    "\n",
    "Explainer(lime and shap) \n",
    "\n",
    "for loop --> new data instance\n",
    "        newdata instance\n",
    "        predicted calss\n",
    "        \n",
    "        for loop --> explanation generated multiple times for same instance\n",
    "            -explanation for single instance \n",
    "            -store values of top five positve features (supportive features for predicted label)\n",
    "            -append top five positve features in an array\n",
    "        calculate vsi,\n",
    "        store vsi values in VSI array\n"
   ]
  },
  {
   "cell_type": "code",
   "execution_count": null,
   "id": "02dfd7d8",
   "metadata": {},
   "outputs": [],
   "source": []
  },
  {
   "cell_type": "code",
   "execution_count": null,
   "id": "90ba24ee",
   "metadata": {},
   "outputs": [],
   "source": []
  },
  {
   "cell_type": "code",
   "execution_count": 472,
   "id": "192c1c7b",
   "metadata": {},
   "outputs": [],
   "source": [
    "import itertools\n",
    "\n",
    "def concordance(pair):\n",
    "    \"\"\"Function to calculate the concordance of a pair of explanations.\"\"\"\n",
    "    g1, g2 = pair\n",
    "    return len(set(g1).intersection(set(g2)))\n",
    "\n",
    "def calculate_vsi(explanations):\n",
    "    \"\"\"Calculate the Variance Score Index (VSI) from LIME explanations.\"\"\"\n",
    "    m = len(explanations)\n",
    "    n = 0\n",
    "    p = len(explanations[0])  # Assuming all explanations have the same length\n",
    "\n",
    "    # Generate all pairs of explanations\n",
    "    pairs = list(itertools.combinations(explanations, 2))\n",
    "\n",
    "    # Calculate the sum of concordances\n",
    "    for pair in pairs:\n",
    "        n += concordance(pair) / p\n",
    "\n",
    "    # Calculate the total number of pairs\n",
    "    total_pairs = len(pairs)\n",
    "\n",
    "    # Calculate VSI\n",
    "    vsi = n / total_pairs\n",
    "    return vsi\n"
   ]
  },
  {
   "cell_type": "code",
   "execution_count": null,
   "id": "e3a87edb",
   "metadata": {},
   "outputs": [],
   "source": []
  },
  {
   "cell_type": "code",
   "execution_count": 473,
   "id": "595171fb",
   "metadata": {},
   "outputs": [
    {
     "name": "stderr",
     "output_type": "stream",
     "text": [
      "X does not have valid feature names, but RandomForestClassifier was fitted with feature names\n",
      "X does not have valid feature names, but RandomForestClassifier was fitted with feature names\n",
      "X does not have valid feature names, but RandomForestClassifier was fitted with feature names\n"
     ]
    },
    {
     "name": "stdout",
     "output_type": "stream",
     "text": [
      "Intercept 0.22228204965786985\n",
      "Prediction_local [0.03346492]\n",
      "Right: 0.0\n",
      "Intercept 0.7777179503421309\n",
      "Prediction_local [0.96653508]\n",
      "Right: 1.0\n",
      "Intercept 0.21306709185246223\n",
      "Prediction_local [0.03963685]\n",
      "Right: 0.0\n",
      "Intercept 0.7869329081475379\n",
      "Prediction_local [0.96036315]\n",
      "Right: 1.0\n",
      "Intercept 0.14223994905189496\n",
      "Prediction_local [0.03681339]\n",
      "Right: 0.0\n",
      "Intercept 0.8577600509481049\n",
      "Prediction_local [0.96318661]\n",
      "Right: 1.0\n"
     ]
    },
    {
     "name": "stderr",
     "output_type": "stream",
     "text": [
      "X does not have valid feature names, but RandomForestClassifier was fitted with feature names\n",
      "X does not have valid feature names, but RandomForestClassifier was fitted with feature names\n",
      "X does not have valid feature names, but RandomForestClassifier was fitted with feature names\n",
      "X does not have valid feature names, but RandomForestClassifier was fitted with feature names\n"
     ]
    },
    {
     "name": "stdout",
     "output_type": "stream",
     "text": [
      "Intercept 0.8485736568847\n",
      "Prediction_local [0.94301347]\n",
      "Right: 0.42\n",
      "Intercept 0.1514263431153003\n",
      "Prediction_local [0.05698653]\n",
      "Right: 0.58\n",
      "Intercept 0.8307092457460018\n",
      "Prediction_local [0.94108062]\n",
      "Right: 0.42\n",
      "Intercept 0.16929075425399792\n",
      "Prediction_local [0.05891938]\n",
      "Right: 0.58\n",
      "Intercept 0.8829589443477773\n",
      "Prediction_local [0.94646284]\n",
      "Right: 0.42\n",
      "Intercept 0.11704105565222214\n",
      "Prediction_local [0.05353716]\n",
      "Right: 0.58\n"
     ]
    },
    {
     "name": "stderr",
     "output_type": "stream",
     "text": [
      "X does not have valid feature names, but RandomForestClassifier was fitted with feature names\n",
      "X does not have valid feature names, but RandomForestClassifier was fitted with feature names\n",
      "X does not have valid feature names, but RandomForestClassifier was fitted with feature names\n",
      "X does not have valid feature names, but RandomForestClassifier was fitted with feature names\n"
     ]
    },
    {
     "name": "stdout",
     "output_type": "stream",
     "text": [
      "Intercept 0.898990513243122\n",
      "Prediction_local [0.84144959]\n",
      "Right: 0.15\n",
      "Intercept 0.10100948675687806\n",
      "Prediction_local [0.15855041]\n",
      "Right: 0.85\n",
      "Intercept 0.8709360279145798\n",
      "Prediction_local [0.85112944]\n",
      "Right: 0.15\n",
      "Intercept 0.12906397208542048\n",
      "Prediction_local [0.14887056]\n",
      "Right: 0.85\n",
      "Intercept 0.8964310979824496\n",
      "Prediction_local [0.84067951]\n",
      "Right: 0.15\n",
      "Intercept 0.10356890201755083\n",
      "Prediction_local [0.15932049]\n",
      "Right: 0.85\n"
     ]
    },
    {
     "name": "stderr",
     "output_type": "stream",
     "text": [
      "X does not have valid feature names, but RandomForestClassifier was fitted with feature names\n",
      "X does not have valid feature names, but RandomForestClassifier was fitted with feature names\n",
      "X does not have valid feature names, but RandomForestClassifier was fitted with feature names\n",
      "X does not have valid feature names, but RandomForestClassifier was fitted with feature names\n"
     ]
    },
    {
     "name": "stdout",
     "output_type": "stream",
     "text": [
      "Intercept 0.872675762015527\n",
      "Prediction_local [0.8562246]\n",
      "Right: 0.21749999999999997\n",
      "Intercept 0.12732423798447265\n",
      "Prediction_local [0.1437754]\n",
      "Right: 0.7825\n",
      "Intercept 0.9124839327240162\n",
      "Prediction_local [0.84309142]\n",
      "Right: 0.21749999999999997\n",
      "Intercept 0.0875160672759845\n",
      "Prediction_local [0.15690858]\n",
      "Right: 0.7825\n",
      "Intercept 0.9393415749447674\n",
      "Prediction_local [0.83189043]\n",
      "Right: 0.21749999999999997\n",
      "Intercept 0.06065842505523263\n",
      "Prediction_local [0.16810957]\n",
      "Right: 0.7825\n"
     ]
    },
    {
     "name": "stderr",
     "output_type": "stream",
     "text": [
      "X does not have valid feature names, but RandomForestClassifier was fitted with feature names\n",
      "X does not have valid feature names, but RandomForestClassifier was fitted with feature names\n",
      "X does not have valid feature names, but RandomForestClassifier was fitted with feature names\n",
      "X does not have valid feature names, but RandomForestClassifier was fitted with feature names\n"
     ]
    },
    {
     "name": "stdout",
     "output_type": "stream",
     "text": [
      "Intercept 0.8871239590664246\n",
      "Prediction_local [0.84580372]\n",
      "Right: 0.06\n",
      "Intercept 0.11287604093357559\n",
      "Prediction_local [0.15419628]\n",
      "Right: 0.94\n",
      "Intercept 0.88118218850593\n",
      "Prediction_local [0.85062186]\n",
      "Right: 0.06\n",
      "Intercept 0.11881781149406993\n",
      "Prediction_local [0.14937814]\n",
      "Right: 0.94\n",
      "Intercept 0.8625101455883\n",
      "Prediction_local [0.85157685]\n",
      "Right: 0.06\n",
      "Intercept 0.1374898544117002\n",
      "Prediction_local [0.14842315]\n",
      "Right: 0.94\n"
     ]
    },
    {
     "name": "stderr",
     "output_type": "stream",
     "text": [
      "X does not have valid feature names, but RandomForestClassifier was fitted with feature names\n",
      "X does not have valid feature names, but RandomForestClassifier was fitted with feature names\n",
      "X does not have valid feature names, but RandomForestClassifier was fitted with feature names\n",
      "X does not have valid feature names, but RandomForestClassifier was fitted with feature names\n"
     ]
    },
    {
     "name": "stdout",
     "output_type": "stream",
     "text": [
      "Intercept 0.8674242744305027\n",
      "Prediction_local [0.93440879]\n",
      "Right: 0.17\n",
      "Intercept 0.13257572556949707\n",
      "Prediction_local [0.06559121]\n",
      "Right: 0.83\n",
      "Intercept 0.8995003294022896\n",
      "Prediction_local [0.93052187]\n",
      "Right: 0.17\n",
      "Intercept 0.10049967059770999\n",
      "Prediction_local [0.06947813]\n",
      "Right: 0.83\n",
      "Intercept 0.8707882760637136\n",
      "Prediction_local [0.93889025]\n",
      "Right: 0.17\n",
      "Intercept 0.12921172393628666\n",
      "Prediction_local [0.06110975]\n",
      "Right: 0.83\n"
     ]
    },
    {
     "name": "stderr",
     "output_type": "stream",
     "text": [
      "X does not have valid feature names, but RandomForestClassifier was fitted with feature names\n",
      "X does not have valid feature names, but RandomForestClassifier was fitted with feature names\n",
      "X does not have valid feature names, but RandomForestClassifier was fitted with feature names\n",
      "X does not have valid feature names, but RandomForestClassifier was fitted with feature names\n"
     ]
    },
    {
     "name": "stdout",
     "output_type": "stream",
     "text": [
      "Intercept 0.821606577336754\n",
      "Prediction_local [0.94319988]\n",
      "Right: 0.23\n",
      "Intercept 0.1783934226632457\n",
      "Prediction_local [0.05680012]\n",
      "Right: 0.77\n",
      "Intercept 0.8401277621634669\n",
      "Prediction_local [0.95546848]\n",
      "Right: 0.23\n",
      "Intercept 0.1598722378365331\n",
      "Prediction_local [0.04453152]\n",
      "Right: 0.77\n",
      "Intercept 0.813861667261415\n",
      "Prediction_local [0.92815352]\n",
      "Right: 0.23\n",
      "Intercept 0.18613833273858496\n",
      "Prediction_local [0.07184648]\n",
      "Right: 0.77\n"
     ]
    },
    {
     "name": "stderr",
     "output_type": "stream",
     "text": [
      "X does not have valid feature names, but RandomForestClassifier was fitted with feature names\n",
      "X does not have valid feature names, but RandomForestClassifier was fitted with feature names\n",
      "X does not have valid feature names, but RandomForestClassifier was fitted with feature names\n",
      "X does not have valid feature names, but RandomForestClassifier was fitted with feature names\n"
     ]
    },
    {
     "name": "stdout",
     "output_type": "stream",
     "text": [
      "Intercept 0.8883449362886778\n",
      "Prediction_local [0.89803879]\n",
      "Right: 0.08\n",
      "Intercept 0.11165506371132197\n",
      "Prediction_local [0.10196121]\n",
      "Right: 0.92\n",
      "Intercept 0.8691480491197748\n",
      "Prediction_local [0.90068871]\n",
      "Right: 0.08\n",
      "Intercept 0.13085195088022528\n",
      "Prediction_local [0.09931129]\n",
      "Right: 0.92\n",
      "Intercept 0.8785572648080786\n",
      "Prediction_local [0.88978592]\n",
      "Right: 0.08\n",
      "Intercept 0.12144273519192134\n",
      "Prediction_local [0.11021408]\n",
      "Right: 0.92\n"
     ]
    },
    {
     "name": "stderr",
     "output_type": "stream",
     "text": [
      "X does not have valid feature names, but RandomForestClassifier was fitted with feature names\n",
      "X does not have valid feature names, but RandomForestClassifier was fitted with feature names\n",
      "X does not have valid feature names, but RandomForestClassifier was fitted with feature names\n",
      "X does not have valid feature names, but RandomForestClassifier was fitted with feature names\n"
     ]
    },
    {
     "name": "stdout",
     "output_type": "stream",
     "text": [
      "Intercept 0.9010474294647789\n",
      "Prediction_local [0.84560108]\n",
      "Right: 0.07\n",
      "Intercept 0.09895257053522119\n",
      "Prediction_local [0.15439892]\n",
      "Right: 0.93\n",
      "Intercept 0.8584263786329123\n",
      "Prediction_local [0.84258211]\n",
      "Right: 0.07\n",
      "Intercept 0.14157362136708734\n",
      "Prediction_local [0.15741789]\n",
      "Right: 0.93\n",
      "Intercept 0.9156453253082156\n",
      "Prediction_local [0.84167273]\n",
      "Right: 0.07\n",
      "Intercept 0.08435467469178468\n",
      "Prediction_local [0.15832727]\n",
      "Right: 0.93\n"
     ]
    },
    {
     "name": "stderr",
     "output_type": "stream",
     "text": [
      "X does not have valid feature names, but RandomForestClassifier was fitted with feature names\n",
      "X does not have valid feature names, but RandomForestClassifier was fitted with feature names\n",
      "X does not have valid feature names, but RandomForestClassifier was fitted with feature names\n",
      "X does not have valid feature names, but RandomForestClassifier was fitted with feature names\n"
     ]
    },
    {
     "name": "stdout",
     "output_type": "stream",
     "text": [
      "Intercept 0.26385398513454894\n",
      "Prediction_local [-0.01270008]\n",
      "Right: 0.02\n",
      "Intercept 0.7361460148654511\n",
      "Prediction_local [1.01270008]\n",
      "Right: 0.98\n",
      "Intercept 0.20559694955245492\n",
      "Prediction_local [-0.0012705]\n",
      "Right: 0.02\n",
      "Intercept 0.7944030504475451\n",
      "Prediction_local [1.0012705]\n",
      "Right: 0.98\n",
      "Intercept 0.20392162978663436\n",
      "Prediction_local [-0.01603929]\n",
      "Right: 0.02\n",
      "Intercept 0.7960783702133654\n",
      "Prediction_local [1.01603929]\n",
      "Right: 0.98\n"
     ]
    },
    {
     "name": "stderr",
     "output_type": "stream",
     "text": [
      "X does not have valid feature names, but RandomForestClassifier was fitted with feature names\n"
     ]
    }
   ],
   "source": [
    "Lime_VSI=[]\n",
    "\n",
    "Instances =np.random.randint(100, size=(10)) #randomly pick 10 instances from data (in the range of 100 intances)\n",
    "\n",
    "for instance in Instances:\n",
    "    data_row = x_test.iloc[[instance], :] #single instance from the test dataset\n",
    "    sample =data_row.values.reshape(1, -1)\n",
    "\n",
    "    Predicted_class= rf.predict(sample)[0]\n",
    "    Actual_class= y_test[instance]\n",
    "\n",
    "\n",
    "    Lime_Explanations= []\n",
    "\n",
    "\n",
    "    for _ in range(3): #generate 3 time explaination of same instance and compare them\n",
    "\n",
    "        ##############. Lime  #################\n",
    "        LIME_explanation = LIME_explainer.explain_instance(sample[0], rf.predict_proba, num_features=46, top_labels=5)\n",
    "        lime_values_of_Prid_cls= LIME_explanation.local_exp[Predicted_class]\n",
    "        column_names=x_train.columns\n",
    "        positive_list = [(x, y) for x, y in lime_values_of_Prid_cls if y > 0]\n",
    "        # Separate the x and y values\n",
    "        x_values = [x for x, y in positive_list]\n",
    "        x_names = [column_names[t] for t in x_values]\n",
    "        y_values = [y for x, y in positive_list]\n",
    "\n",
    "        # Combine x_names and y_values into a list of tuples and sort by y_values\n",
    "        sorted_list = sorted(zip(x_names, y_values), key=lambda pair: pair[1], reverse=True)\n",
    "\n",
    "        # Unzip the sorted list\n",
    "        x_names_sorted, y_values_sorted = zip(*sorted_list)\n",
    "        top_five_features = x_names_sorted[:5]\n",
    "        Lime_Explanations.append(top_five_features)\n",
    "\n",
    "    Lime_vsi = calculate_vsi(Lime_Explanations)\n",
    "    Lime_VSI.append(Lime_vsi)\n"
   ]
  },
  {
   "cell_type": "code",
   "execution_count": 478,
   "id": "ff2cb39c",
   "metadata": {},
   "outputs": [
    {
     "name": "stderr",
     "output_type": "stream",
     "text": [
      "X does not have valid feature names, but RandomForestClassifier was fitted with feature names\n"
     ]
    },
    {
     "data": {
      "application/vnd.jupyter.widget-view+json": {
       "model_id": "3e96892ea9f647c28265b21db656e480",
       "version_major": 2,
       "version_minor": 0
      },
      "text/plain": [
       "  0%|          | 0/199 [00:00<?, ?it/s]"
      ]
     },
     "metadata": {},
     "output_type": "display_data"
    },
    {
     "data": {
      "application/vnd.jupyter.widget-view+json": {
       "model_id": "f143854003634ec88aa87b2ebdd6bcc0",
       "version_major": 2,
       "version_minor": 0
      },
      "text/plain": [
       "  0%|          | 0/199 [00:00<?, ?it/s]"
      ]
     },
     "metadata": {},
     "output_type": "display_data"
    },
    {
     "data": {
      "application/vnd.jupyter.widget-view+json": {
       "model_id": "e34e28e0d70348899aaf7e618c5dcaad",
       "version_major": 2,
       "version_minor": 0
      },
      "text/plain": [
       "  0%|          | 0/199 [00:00<?, ?it/s]"
      ]
     },
     "metadata": {},
     "output_type": "display_data"
    },
    {
     "name": "stderr",
     "output_type": "stream",
     "text": [
      "X does not have valid feature names, but RandomForestClassifier was fitted with feature names\n"
     ]
    },
    {
     "data": {
      "application/vnd.jupyter.widget-view+json": {
       "model_id": "2bacee2a2a8a443bbc5666348a5c9dcd",
       "version_major": 2,
       "version_minor": 0
      },
      "text/plain": [
       "  0%|          | 0/199 [00:00<?, ?it/s]"
      ]
     },
     "metadata": {},
     "output_type": "display_data"
    },
    {
     "data": {
      "application/vnd.jupyter.widget-view+json": {
       "model_id": "422bd1492dea4d628b954c876abd1582",
       "version_major": 2,
       "version_minor": 0
      },
      "text/plain": [
       "  0%|          | 0/199 [00:00<?, ?it/s]"
      ]
     },
     "metadata": {},
     "output_type": "display_data"
    },
    {
     "data": {
      "application/vnd.jupyter.widget-view+json": {
       "model_id": "7ef0e8ebc4874f979b1869f605e6638e",
       "version_major": 2,
       "version_minor": 0
      },
      "text/plain": [
       "  0%|          | 0/199 [00:00<?, ?it/s]"
      ]
     },
     "metadata": {},
     "output_type": "display_data"
    },
    {
     "name": "stderr",
     "output_type": "stream",
     "text": [
      "X does not have valid feature names, but RandomForestClassifier was fitted with feature names\n"
     ]
    },
    {
     "data": {
      "application/vnd.jupyter.widget-view+json": {
       "model_id": "53a31d71336a47d4bb270417a2956687",
       "version_major": 2,
       "version_minor": 0
      },
      "text/plain": [
       "  0%|          | 0/199 [00:00<?, ?it/s]"
      ]
     },
     "metadata": {},
     "output_type": "display_data"
    },
    {
     "data": {
      "application/vnd.jupyter.widget-view+json": {
       "model_id": "d656461318844b34a7fe44f3ce35ac11",
       "version_major": 2,
       "version_minor": 0
      },
      "text/plain": [
       "  0%|          | 0/199 [00:00<?, ?it/s]"
      ]
     },
     "metadata": {},
     "output_type": "display_data"
    },
    {
     "data": {
      "application/vnd.jupyter.widget-view+json": {
       "model_id": "73410edb083443e4b3f20d6ab9bc27fd",
       "version_major": 2,
       "version_minor": 0
      },
      "text/plain": [
       "  0%|          | 0/199 [00:00<?, ?it/s]"
      ]
     },
     "metadata": {},
     "output_type": "display_data"
    },
    {
     "name": "stderr",
     "output_type": "stream",
     "text": [
      "X does not have valid feature names, but RandomForestClassifier was fitted with feature names\n"
     ]
    },
    {
     "data": {
      "application/vnd.jupyter.widget-view+json": {
       "model_id": "b3ac9c5cdfc84dae80281963161718fe",
       "version_major": 2,
       "version_minor": 0
      },
      "text/plain": [
       "  0%|          | 0/199 [00:00<?, ?it/s]"
      ]
     },
     "metadata": {},
     "output_type": "display_data"
    },
    {
     "data": {
      "application/vnd.jupyter.widget-view+json": {
       "model_id": "a2c0eb11bff4466a81dc521e8ceb8fee",
       "version_major": 2,
       "version_minor": 0
      },
      "text/plain": [
       "  0%|          | 0/199 [00:00<?, ?it/s]"
      ]
     },
     "metadata": {},
     "output_type": "display_data"
    },
    {
     "data": {
      "application/vnd.jupyter.widget-view+json": {
       "model_id": "03defaff65c341e5af393b1ea793b139",
       "version_major": 2,
       "version_minor": 0
      },
      "text/plain": [
       "  0%|          | 0/199 [00:00<?, ?it/s]"
      ]
     },
     "metadata": {},
     "output_type": "display_data"
    },
    {
     "name": "stderr",
     "output_type": "stream",
     "text": [
      "X does not have valid feature names, but RandomForestClassifier was fitted with feature names\n"
     ]
    },
    {
     "data": {
      "application/vnd.jupyter.widget-view+json": {
       "model_id": "9c4377b0a6514423aadfd64ce3122c80",
       "version_major": 2,
       "version_minor": 0
      },
      "text/plain": [
       "  0%|          | 0/199 [00:00<?, ?it/s]"
      ]
     },
     "metadata": {},
     "output_type": "display_data"
    },
    {
     "data": {
      "application/vnd.jupyter.widget-view+json": {
       "model_id": "d8f0e83aa54b44feb6197b43adf5f3ab",
       "version_major": 2,
       "version_minor": 0
      },
      "text/plain": [
       "  0%|          | 0/199 [00:00<?, ?it/s]"
      ]
     },
     "metadata": {},
     "output_type": "display_data"
    },
    {
     "data": {
      "application/vnd.jupyter.widget-view+json": {
       "model_id": "24834959325146738005e44041f057f6",
       "version_major": 2,
       "version_minor": 0
      },
      "text/plain": [
       "  0%|          | 0/199 [00:00<?, ?it/s]"
      ]
     },
     "metadata": {},
     "output_type": "display_data"
    },
    {
     "name": "stderr",
     "output_type": "stream",
     "text": [
      "X does not have valid feature names, but RandomForestClassifier was fitted with feature names\n"
     ]
    },
    {
     "data": {
      "application/vnd.jupyter.widget-view+json": {
       "model_id": "0e4e93352c0f48d485cb7b1d5e6339d3",
       "version_major": 2,
       "version_minor": 0
      },
      "text/plain": [
       "  0%|          | 0/199 [00:00<?, ?it/s]"
      ]
     },
     "metadata": {},
     "output_type": "display_data"
    },
    {
     "data": {
      "application/vnd.jupyter.widget-view+json": {
       "model_id": "3136bd3e2d2249a9b93a4a1221272f6c",
       "version_major": 2,
       "version_minor": 0
      },
      "text/plain": [
       "  0%|          | 0/199 [00:00<?, ?it/s]"
      ]
     },
     "metadata": {},
     "output_type": "display_data"
    },
    {
     "data": {
      "application/vnd.jupyter.widget-view+json": {
       "model_id": "5475208894954095b7f126985d643ba5",
       "version_major": 2,
       "version_minor": 0
      },
      "text/plain": [
       "  0%|          | 0/199 [00:00<?, ?it/s]"
      ]
     },
     "metadata": {},
     "output_type": "display_data"
    },
    {
     "name": "stderr",
     "output_type": "stream",
     "text": [
      "X does not have valid feature names, but RandomForestClassifier was fitted with feature names\n"
     ]
    },
    {
     "data": {
      "application/vnd.jupyter.widget-view+json": {
       "model_id": "89da016d58964b9ea059f2787a6e369d",
       "version_major": 2,
       "version_minor": 0
      },
      "text/plain": [
       "  0%|          | 0/199 [00:00<?, ?it/s]"
      ]
     },
     "metadata": {},
     "output_type": "display_data"
    },
    {
     "data": {
      "application/vnd.jupyter.widget-view+json": {
       "model_id": "6e89b62be5b94e2e8aee9d76ee0eb259",
       "version_major": 2,
       "version_minor": 0
      },
      "text/plain": [
       "  0%|          | 0/199 [00:00<?, ?it/s]"
      ]
     },
     "metadata": {},
     "output_type": "display_data"
    },
    {
     "data": {
      "application/vnd.jupyter.widget-view+json": {
       "model_id": "27c7349f54904e6cb45c72fb1ec255df",
       "version_major": 2,
       "version_minor": 0
      },
      "text/plain": [
       "  0%|          | 0/199 [00:00<?, ?it/s]"
      ]
     },
     "metadata": {},
     "output_type": "display_data"
    },
    {
     "name": "stderr",
     "output_type": "stream",
     "text": [
      "X does not have valid feature names, but RandomForestClassifier was fitted with feature names\n"
     ]
    },
    {
     "data": {
      "application/vnd.jupyter.widget-view+json": {
       "model_id": "a7d42ce1253a4e50b4ba24cbfb8ed30a",
       "version_major": 2,
       "version_minor": 0
      },
      "text/plain": [
       "  0%|          | 0/199 [00:00<?, ?it/s]"
      ]
     },
     "metadata": {},
     "output_type": "display_data"
    },
    {
     "data": {
      "application/vnd.jupyter.widget-view+json": {
       "model_id": "b37f1cedb6c74a6880c838b55fe177aa",
       "version_major": 2,
       "version_minor": 0
      },
      "text/plain": [
       "  0%|          | 0/199 [00:00<?, ?it/s]"
      ]
     },
     "metadata": {},
     "output_type": "display_data"
    },
    {
     "data": {
      "application/vnd.jupyter.widget-view+json": {
       "model_id": "229a6c9dcc0b4c308b2b0dd3716b2902",
       "version_major": 2,
       "version_minor": 0
      },
      "text/plain": [
       "  0%|          | 0/199 [00:00<?, ?it/s]"
      ]
     },
     "metadata": {},
     "output_type": "display_data"
    },
    {
     "name": "stderr",
     "output_type": "stream",
     "text": [
      "X does not have valid feature names, but RandomForestClassifier was fitted with feature names\n"
     ]
    },
    {
     "data": {
      "application/vnd.jupyter.widget-view+json": {
       "model_id": "6bac226bc8104302b9b638ae6e96eaca",
       "version_major": 2,
       "version_minor": 0
      },
      "text/plain": [
       "  0%|          | 0/199 [00:00<?, ?it/s]"
      ]
     },
     "metadata": {},
     "output_type": "display_data"
    },
    {
     "data": {
      "application/vnd.jupyter.widget-view+json": {
       "model_id": "72e131251dbe4ea4b710b6cb441eae51",
       "version_major": 2,
       "version_minor": 0
      },
      "text/plain": [
       "  0%|          | 0/199 [00:00<?, ?it/s]"
      ]
     },
     "metadata": {},
     "output_type": "display_data"
    },
    {
     "data": {
      "application/vnd.jupyter.widget-view+json": {
       "model_id": "fc833ab064ba459c9fde8ec730002732",
       "version_major": 2,
       "version_minor": 0
      },
      "text/plain": [
       "  0%|          | 0/199 [00:00<?, ?it/s]"
      ]
     },
     "metadata": {},
     "output_type": "display_data"
    },
    {
     "name": "stderr",
     "output_type": "stream",
     "text": [
      "X does not have valid feature names, but RandomForestClassifier was fitted with feature names\n"
     ]
    },
    {
     "data": {
      "application/vnd.jupyter.widget-view+json": {
       "model_id": "f25d99d75d7a43fa8406f174e36c584f",
       "version_major": 2,
       "version_minor": 0
      },
      "text/plain": [
       "  0%|          | 0/199 [00:00<?, ?it/s]"
      ]
     },
     "metadata": {},
     "output_type": "display_data"
    },
    {
     "data": {
      "application/vnd.jupyter.widget-view+json": {
       "model_id": "4ce3d63f0efa4e55ac6e6efe0496d767",
       "version_major": 2,
       "version_minor": 0
      },
      "text/plain": [
       "  0%|          | 0/199 [00:00<?, ?it/s]"
      ]
     },
     "metadata": {},
     "output_type": "display_data"
    },
    {
     "data": {
      "application/vnd.jupyter.widget-view+json": {
       "model_id": "8bec8e7025604197984b973c807a7223",
       "version_major": 2,
       "version_minor": 0
      },
      "text/plain": [
       "  0%|          | 0/199 [00:00<?, ?it/s]"
      ]
     },
     "metadata": {},
     "output_type": "display_data"
    }
   ],
   "source": [
    "\n",
    "Shap_VSI=[]\n",
    "#Instances =np.random.randint(100, size=(10)) #randomly pick 10 instances from data (in the range of 100 intances)\n",
    "\n",
    "for instance in Instances:\n",
    "    data_row = x_test.iloc[[instance], :] #single instance from the test dataset\n",
    "    sample =data_row.values.reshape(1, -1)\n",
    "\n",
    "    Predicted_class= rf.predict(sample)[0]\n",
    "    Actual_class= y_test[instance]\n",
    "\n",
    "    Shap_Explanations= []\n",
    "\n",
    "    for _ in range(3): #generate 3 time explaination of same instance and compare them\n",
    "\n",
    "        #############. Shap  #####################\n",
    "        shap_values_single_instance = Shap_explainer.shap_values(data_row, nsamples=100, l1_reg=\"num_features(46)\")\n",
    "\n",
    "        # Provided SHAP values and column names\n",
    "        shap_valuesss = shap_values_single_instance[Predicted_class][0]\n",
    "        column_namesss = x_train.columns\n",
    "        # Flatten shap_values array\n",
    "        #shap_values = shap_values.flatten()\n",
    "\n",
    "        # Filter positive SHAP values\n",
    "        positive_shap_indices = np.where(shap_valuesss > 0)[0]\n",
    "        positive_shap_values = shap_valuesss[positive_shap_indices]\n",
    "        positive_shap_columns = np.array(column_namesss)[positive_shap_indices]\n",
    "\n",
    "        # Combine and sort by SHAP values\n",
    "        positive_shap_list = list(zip(positive_shap_columns, positive_shap_values))\n",
    "        positive_shap_list.sort(key=lambda x: x[1], reverse=True)\n",
    "\n",
    "        # Select top 20\n",
    "        top_5_shap = positive_shap_list[:5]\n",
    "        #print('top_5_shap=', top_5_shap)\n",
    "        # Unzip to get column names and values\n",
    "        top_5_columns, top_5_values = zip(*top_5_shap)\n",
    "        #print('top_5_columns)=', top_5_columns)\n",
    "        Shap_Explanations.append(top_5_columns)\n",
    "\n",
    "    Shap_vsi= calculate_vsi(Shap_Explanations)\n",
    "    Shap_VSI.append(Shap_vsi)\n",
    "\n",
    "\n"
   ]
  },
  {
   "cell_type": "code",
   "execution_count": null,
   "id": "3f8d2637",
   "metadata": {},
   "outputs": [],
   "source": []
  },
  {
   "cell_type": "code",
   "execution_count": 479,
   "id": "7e13244d",
   "metadata": {},
   "outputs": [
    {
     "data": {
      "image/png": "[encoded data removed]",
      "text/plain": [
       "<Figure size 640x480 with 1 Axes>"
      ]
     },
     "metadata": {},
     "output_type": "display_data"
    }
   ],
   "source": [
    "# Fidelity Plot for LIME and SHAP\n",
    "# Import libraries\n",
    "import matplotlib.pyplot as plt\n",
    "#Lime_fidelity = list(np.around(np.array(Lime_fidelity),2)) \n",
    "\n",
    "plot_data = [Shap_VSI, Lime_VSI]\n",
    "\n",
    "labels = ['SHAP', 'LIME']\n",
    "colors = ['orange', 'darkgoldenrod']\n",
    "\n",
    "fig, ax = plt.subplots()\n",
    "ax.set_ylabel('Consistancy Score')\n",
    "\n",
    "bplot = ax.boxplot(plot_data,\n",
    "                   patch_artist=True)  # fill with color\n",
    "\n",
    "# fill with colors and add legend labels\n",
    "for patch, color, label in zip(bplot['boxes'], colors, labels):\n",
    "    patch.set_facecolor(color)\n",
    "    patch.set_label(label)\n",
    "    \n",
    "ax.legend()\n",
    "ax.get_xaxis().set_visible(False)\n",
    "\n",
    "plt.show()"
   ]
  },
  {
   "cell_type": "code",
   "execution_count": 476,
   "id": "daefd5a0",
   "metadata": {},
   "outputs": [
    {
     "data": {
      "text/plain": [
       "[[0.8000000000000002,\n",
       "  0.4000000000000001,\n",
       "  0.6666666666666666,\n",
       "  0.4666666666666666,\n",
       "  0.3333333333333333,\n",
       "  0.6666666666666666,\n",
       "  0.8666666666666667,\n",
       "  0.6666666666666666,\n",
       "  0.7333333333333334,\n",
       "  0.7333333333333334],\n",
       " [1.0,\n",
       "  0.7333333333333334,\n",
       "  0.8666666666666667,\n",
       "  0.8666666666666667,\n",
       "  0.8000000000000002,\n",
       "  0.7333333333333334,\n",
       "  0.7333333333333334,\n",
       "  0.8000000000000002,\n",
       "  0.8666666666666667,\n",
       "  1.0]]"
      ]
     },
     "execution_count": 476,
     "metadata": {},
     "output_type": "execute_result"
    }
   ],
   "source": [
    "plot_data"
   ]
  },
  {
   "cell_type": "code",
   "execution_count": null,
   "id": "57635bec",
   "metadata": {},
   "outputs": [],
   "source": []
  },
  {
   "cell_type": "code",
   "execution_count": null,
   "id": "8335259c",
   "metadata": {},
   "outputs": [],
   "source": [
    "\n"
   ]
  },
  {
   "cell_type": "markdown",
   "id": "ec46a54e",
   "metadata": {},
   "source": [
    "#### Combined Code \n"
   ]
  },
  {
   "cell_type": "code",
   "execution_count": 457,
   "id": "44106135",
   "metadata": {},
   "outputs": [
    {
     "name": "stderr",
     "output_type": "stream",
     "text": [
      "X does not have valid feature names, but RandomForestClassifier was fitted with feature names\n",
      "X does not have valid feature names, but RandomForestClassifier was fitted with feature names\n"
     ]
    },
    {
     "name": "stdout",
     "output_type": "stream",
     "text": [
      "Intercept 0.12345565791863634\n",
      "Prediction_local [0.01574062]\n",
      "Right: 0.0\n",
      "Intercept 0.4367987311389771\n",
      "Prediction_local [0.33138348]\n",
      "Right: 0.0\n",
      "Intercept -0.15962329911900136\n",
      "Prediction_local [0.30382913]\n",
      "Right: 0.0\n",
      "Intercept 0.584839117858553\n",
      "Prediction_local [0.16356428]\n",
      "Right: 0.0\n",
      "Intercept 0.014529792202836317\n",
      "Prediction_local [0.18548249]\n",
      "Right: 1.0\n"
     ]
    },
    {
     "data": {
      "application/vnd.jupyter.widget-view+json": {
       "model_id": "64e83dd13acc4d23945aa9ad473e9186",
       "version_major": 2,
       "version_minor": 0
      },
      "text/plain": [
       "  0%|          | 0/1 [00:00<?, ?it/s]"
      ]
     },
     "metadata": {},
     "output_type": "display_data"
    },
    {
     "name": "stdout",
     "output_type": "stream",
     "text": [
      "Intercept 0.12491198314488602\n",
      "Prediction_local [0.01155658]\n",
      "Right: 0.0\n",
      "Intercept 0.35811103314233056\n",
      "Prediction_local [0.33089194]\n",
      "Right: 0.0\n",
      "Intercept -0.11217195213271502\n",
      "Prediction_local [0.29428393]\n",
      "Right: 0.0\n",
      "Intercept 0.6141671243561317\n",
      "Prediction_local [0.16547805]\n",
      "Right: 0.0\n",
      "Intercept 0.014981811489365976\n",
      "Prediction_local [0.1977895]\n",
      "Right: 1.0\n"
     ]
    },
    {
     "name": "stderr",
     "output_type": "stream",
     "text": [
      "X does not have valid feature names, but RandomForestClassifier was fitted with feature names\n"
     ]
    },
    {
     "data": {
      "application/vnd.jupyter.widget-view+json": {
       "model_id": "9bb0ca951d5e426aa6876c91499666ec",
       "version_major": 2,
       "version_minor": 0
      },
      "text/plain": [
       "  0%|          | 0/1 [00:00<?, ?it/s]"
      ]
     },
     "metadata": {},
     "output_type": "display_data"
    },
    {
     "name": "stdout",
     "output_type": "stream",
     "text": [
      "Intercept 0.16910935367933755\n",
      "Prediction_local [0.0137375]\n",
      "Right: 0.0\n",
      "Intercept 0.3458885841191221\n",
      "Prediction_local [0.33425963]\n",
      "Right: 0.0\n",
      "Intercept -0.11439384005539838\n",
      "Prediction_local [0.2993251]\n",
      "Right: 0.0\n",
      "Intercept 0.5766486930847744\n",
      "Prediction_local [0.15904078]\n",
      "Right: 0.0\n",
      "Intercept 0.022747209172163135\n",
      "Prediction_local [0.19363699]\n",
      "Right: 1.0\n"
     ]
    },
    {
     "name": "stderr",
     "output_type": "stream",
     "text": [
      "X does not have valid feature names, but RandomForestClassifier was fitted with feature names\n"
     ]
    },
    {
     "data": {
      "application/vnd.jupyter.widget-view+json": {
       "model_id": "641289a4fc0a402d833fea45d2c97490",
       "version_major": 2,
       "version_minor": 0
      },
      "text/plain": [
       "  0%|          | 0/1 [00:00<?, ?it/s]"
      ]
     },
     "metadata": {},
     "output_type": "display_data"
    },
    {
     "name": "stdout",
     "output_type": "stream",
     "text": [
      "Intercept 0.170025142543342\n",
      "Prediction_local [0.00553176]\n",
      "Right: 0.0\n",
      "Intercept 0.3225248783702816\n",
      "Prediction_local [0.32835194]\n",
      "Right: 0.0\n",
      "Intercept -0.0896664988676995\n",
      "Prediction_local [0.30464686]\n",
      "Right: 0.0\n",
      "Intercept 0.5889222487097758\n",
      "Prediction_local [0.16785202]\n",
      "Right: 0.0\n",
      "Intercept 0.008194229244300827\n",
      "Prediction_local [0.19361743]\n",
      "Right: 1.0\n"
     ]
    },
    {
     "name": "stderr",
     "output_type": "stream",
     "text": [
      "X does not have valid feature names, but RandomForestClassifier was fitted with feature names\n"
     ]
    },
    {
     "data": {
      "application/vnd.jupyter.widget-view+json": {
       "model_id": "d44dd42fc34f493da1000f681e966f56",
       "version_major": 2,
       "version_minor": 0
      },
      "text/plain": [
       "  0%|          | 0/1 [00:00<?, ?it/s]"
      ]
     },
     "metadata": {},
     "output_type": "display_data"
    },
    {
     "name": "stdout",
     "output_type": "stream",
     "text": [
      "Intercept 0.14288347402510396\n",
      "Prediction_local [0.01199723]\n",
      "Right: 0.0\n",
      "Intercept 0.3582632511775779\n",
      "Prediction_local [0.32978067]\n",
      "Right: 0.0\n",
      "Intercept -0.16149683083284055\n",
      "Prediction_local [0.30664321]\n",
      "Right: 0.0\n",
      "Intercept 0.594342020399432\n",
      "Prediction_local [0.16332905]\n",
      "Right: 0.0\n",
      "Intercept 0.06600808523072489\n",
      "Prediction_local [0.18824985]\n",
      "Right: 1.0\n"
     ]
    },
    {
     "name": "stderr",
     "output_type": "stream",
     "text": [
      "X does not have valid feature names, but RandomForestClassifier was fitted with feature names\n"
     ]
    },
    {
     "data": {
      "application/vnd.jupyter.widget-view+json": {
       "model_id": "c8e1eb9deddb46b1b85f4edfb7ba5b24",
       "version_major": 2,
       "version_minor": 0
      },
      "text/plain": [
       "  0%|          | 0/1 [00:00<?, ?it/s]"
      ]
     },
     "metadata": {},
     "output_type": "display_data"
    },
    {
     "name": "stdout",
     "output_type": "stream",
     "text": [
      "Intercept 0.06749203854830674\n",
      "Prediction_local [0.11013807]\n",
      "Right: 0.02\n",
      "Intercept 0.6161221966204602\n",
      "Prediction_local [0.10824929]\n",
      "Right: 0.08\n",
      "Intercept -0.08186320863892249\n",
      "Prediction_local [0.30454126]\n",
      "Right: 0.1\n",
      "Intercept 0.25227544455164064\n",
      "Prediction_local [0.40299918]\n",
      "Right: 0.11\n",
      "Intercept 0.14597352891851556\n",
      "Prediction_local [0.0740722]\n",
      "Right: 0.69\n"
     ]
    },
    {
     "name": "stderr",
     "output_type": "stream",
     "text": [
      "X does not have valid feature names, but RandomForestClassifier was fitted with feature names\n",
      "X does not have valid feature names, but RandomForestClassifier was fitted with feature names\n"
     ]
    },
    {
     "data": {
      "application/vnd.jupyter.widget-view+json": {
       "model_id": "ecb9e9f3aebe445b9e569e5db9ec2b84",
       "version_major": 2,
       "version_minor": 0
      },
      "text/plain": [
       "  0%|          | 0/1 [00:00<?, ?it/s]"
      ]
     },
     "metadata": {},
     "output_type": "display_data"
    },
    {
     "name": "stdout",
     "output_type": "stream",
     "text": [
      "Intercept 0.10727036638501693\n",
      "Prediction_local [0.10967585]\n",
      "Right: 0.02\n",
      "Intercept 0.6932486011195231\n",
      "Prediction_local [0.10117178]\n",
      "Right: 0.08\n",
      "Intercept -0.1209471499077081\n",
      "Prediction_local [0.30512981]\n",
      "Right: 0.1\n",
      "Intercept 0.22849710469797752\n",
      "Prediction_local [0.40731634]\n",
      "Right: 0.11\n",
      "Intercept 0.09193107770519052\n",
      "Prediction_local [0.07670622]\n",
      "Right: 0.69\n"
     ]
    },
    {
     "name": "stderr",
     "output_type": "stream",
     "text": [
      "X does not have valid feature names, but RandomForestClassifier was fitted with feature names\n"
     ]
    },
    {
     "data": {
      "application/vnd.jupyter.widget-view+json": {
       "model_id": "7f19ed9545d84e93932c43c5f3db7300",
       "version_major": 2,
       "version_minor": 0
      },
      "text/plain": [
       "  0%|          | 0/1 [00:00<?, ?it/s]"
      ]
     },
     "metadata": {},
     "output_type": "display_data"
    },
    {
     "name": "stdout",
     "output_type": "stream",
     "text": [
      "Intercept 0.16355662278451322\n",
      "Prediction_local [0.10730776]\n",
      "Right: 0.02\n",
      "Intercept 0.6244468436647068\n",
      "Prediction_local [0.11102341]\n",
      "Right: 0.08\n",
      "Intercept -0.10458427478913224\n",
      "Prediction_local [0.30334426]\n",
      "Right: 0.1\n",
      "Intercept 0.220922772233197\n",
      "Prediction_local [0.40658404]\n",
      "Right: 0.11\n",
      "Intercept 0.09565803610671524\n",
      "Prediction_local [0.07174053]\n",
      "Right: 0.69\n"
     ]
    },
    {
     "name": "stderr",
     "output_type": "stream",
     "text": [
      "X does not have valid feature names, but RandomForestClassifier was fitted with feature names\n"
     ]
    },
    {
     "data": {
      "application/vnd.jupyter.widget-view+json": {
       "model_id": "8d7e10f4cf5b46fc9b2d9966bb258d9c",
       "version_major": 2,
       "version_minor": 0
      },
      "text/plain": [
       "  0%|          | 0/1 [00:00<?, ?it/s]"
      ]
     },
     "metadata": {},
     "output_type": "display_data"
    },
    {
     "name": "stdout",
     "output_type": "stream",
     "text": [
      "Intercept 0.1280083347192152\n",
      "Prediction_local [0.10054822]\n",
      "Right: 0.02\n",
      "Intercept 0.6368859529628472\n",
      "Prediction_local [0.09676608]\n",
      "Right: 0.08\n",
      "Intercept -0.1423751261757507\n",
      "Prediction_local [0.31523136]\n",
      "Right: 0.1\n",
      "Intercept 0.2968564922920266\n",
      "Prediction_local [0.40961136]\n",
      "Right: 0.11\n",
      "Intercept 0.08062434620166259\n",
      "Prediction_local [0.07784299]\n",
      "Right: 0.69\n"
     ]
    },
    {
     "name": "stderr",
     "output_type": "stream",
     "text": [
      "X does not have valid feature names, but RandomForestClassifier was fitted with feature names\n"
     ]
    },
    {
     "data": {
      "application/vnd.jupyter.widget-view+json": {
       "model_id": "d6e81415084c465793445c7c0ec08f33",
       "version_major": 2,
       "version_minor": 0
      },
      "text/plain": [
       "  0%|          | 0/1 [00:00<?, ?it/s]"
      ]
     },
     "metadata": {},
     "output_type": "display_data"
    },
    {
     "name": "stdout",
     "output_type": "stream",
     "text": [
      "Intercept 0.11509783226013046\n",
      "Prediction_local [0.1106423]\n",
      "Right: 0.02\n",
      "Intercept 0.6822641324094633\n",
      "Prediction_local [0.10336114]\n",
      "Right: 0.08\n",
      "Intercept -0.123767376582049\n",
      "Prediction_local [0.30408111]\n",
      "Right: 0.1\n",
      "Intercept 0.24980818672184749\n",
      "Prediction_local [0.40801101]\n",
      "Right: 0.11\n",
      "Intercept 0.07659722519060821\n",
      "Prediction_local [0.07390445]\n",
      "Right: 0.69\n"
     ]
    },
    {
     "name": "stderr",
     "output_type": "stream",
     "text": [
      "X does not have valid feature names, but RandomForestClassifier was fitted with feature names\n"
     ]
    },
    {
     "data": {
      "application/vnd.jupyter.widget-view+json": {
       "model_id": "b25d63c071bb4caebe340dc9bba7408a",
       "version_major": 2,
       "version_minor": 0
      },
      "text/plain": [
       "  0%|          | 0/1 [00:00<?, ?it/s]"
      ]
     },
     "metadata": {},
     "output_type": "display_data"
    },
    {
     "name": "stdout",
     "output_type": "stream",
     "text": [
      "Intercept -0.07227528379576595\n",
      "Prediction_local [0.17639627]\n",
      "Right: 0.0\n",
      "Intercept 0.6588887810938256\n",
      "Prediction_local [0.10679856]\n",
      "Right: 0.0\n",
      "Intercept 0.1441875833534299\n",
      "Prediction_local [0.01658888]\n",
      "Right: 0.1738498015142751\n",
      "Intercept 0.34559664168463\n",
      "Prediction_local [0.37387215]\n",
      "Right: 0.19532754599201957\n",
      "Intercept -0.07639772233612002\n",
      "Prediction_local [0.32634414]\n",
      "Right: 0.6308226524937052\n"
     ]
    },
    {
     "name": "stderr",
     "output_type": "stream",
     "text": [
      "X does not have valid feature names, but RandomForestClassifier was fitted with feature names\n",
      "X does not have valid feature names, but RandomForestClassifier was fitted with feature names\n"
     ]
    },
    {
     "data": {
      "application/vnd.jupyter.widget-view+json": {
       "model_id": "f25c942113b04ebeb3b1b6d0769cdebd",
       "version_major": 2,
       "version_minor": 0
      },
      "text/plain": [
       "  0%|          | 0/1 [00:00<?, ?it/s]"
      ]
     },
     "metadata": {},
     "output_type": "display_data"
    },
    {
     "name": "stdout",
     "output_type": "stream",
     "text": [
      "Intercept 0.008193744641256329\n",
      "Prediction_local [0.17825144]\n",
      "Right: 0.0\n",
      "Intercept 0.6339936675461746\n",
      "Prediction_local [0.11081125]\n",
      "Right: 0.0\n",
      "Intercept 0.14984684380148472\n",
      "Prediction_local [0.01921992]\n",
      "Right: 0.1738498015142751\n",
      "Intercept 0.31698326146947153\n",
      "Prediction_local [0.36853663]\n",
      "Right: 0.19532754599201957\n",
      "Intercept -0.10901751745838623\n",
      "Prediction_local [0.32318076]\n",
      "Right: 0.6308226524937052\n"
     ]
    },
    {
     "name": "stderr",
     "output_type": "stream",
     "text": [
      "X does not have valid feature names, but RandomForestClassifier was fitted with feature names\n"
     ]
    },
    {
     "data": {
      "application/vnd.jupyter.widget-view+json": {
       "model_id": "44f8c6587e7d40ea841fcb5229ba1992",
       "version_major": 2,
       "version_minor": 0
      },
      "text/plain": [
       "  0%|          | 0/1 [00:00<?, ?it/s]"
      ]
     },
     "metadata": {},
     "output_type": "display_data"
    },
    {
     "name": "stdout",
     "output_type": "stream",
     "text": [
      "Intercept 0.020953654039743475\n",
      "Prediction_local [0.17239423]\n",
      "Right: 0.0\n",
      "Intercept 0.683349640610217\n",
      "Prediction_local [0.09930523]\n",
      "Right: 0.0\n",
      "Intercept 0.13008397423245222\n",
      "Prediction_local [0.02066431]\n",
      "Right: 0.1738498015142751\n",
      "Intercept 0.27049700707438007\n",
      "Prediction_local [0.37164604]\n",
      "Right: 0.19532754599201957\n",
      "Intercept -0.10488427595679273\n",
      "Prediction_local [0.33599019]\n",
      "Right: 0.6308226524937052\n"
     ]
    },
    {
     "name": "stderr",
     "output_type": "stream",
     "text": [
      "X does not have valid feature names, but RandomForestClassifier was fitted with feature names\n"
     ]
    },
    {
     "data": {
      "application/vnd.jupyter.widget-view+json": {
       "model_id": "8c7cfa2adab345c6a01a1cad8a9f4dfa",
       "version_major": 2,
       "version_minor": 0
      },
      "text/plain": [
       "  0%|          | 0/1 [00:00<?, ?it/s]"
      ]
     },
     "metadata": {},
     "output_type": "display_data"
    },
    {
     "name": "stdout",
     "output_type": "stream",
     "text": [
      "Intercept 0.010794183953007047\n",
      "Prediction_local [0.18082838]\n",
      "Right: 0.0\n",
      "Intercept 0.6475923882433469\n",
      "Prediction_local [0.10932023]\n",
      "Right: 0.0\n",
      "Intercept 0.15427937138379433\n",
      "Prediction_local [0.01666201]\n",
      "Right: 0.1738498015142751\n",
      "Intercept 0.34444862477813126\n",
      "Prediction_local [0.36516617]\n",
      "Right: 0.19532754599201957\n",
      "Intercept -0.15711456835827847\n",
      "Prediction_local [0.3280232]\n",
      "Right: 0.6308226524937052\n"
     ]
    },
    {
     "name": "stderr",
     "output_type": "stream",
     "text": [
      "X does not have valid feature names, but RandomForestClassifier was fitted with feature names\n"
     ]
    },
    {
     "data": {
      "application/vnd.jupyter.widget-view+json": {
       "model_id": "f0fce09282cb445c8cf36fc57fb57087",
       "version_major": 2,
       "version_minor": 0
      },
      "text/plain": [
       "  0%|          | 0/1 [00:00<?, ?it/s]"
      ]
     },
     "metadata": {},
     "output_type": "display_data"
    },
    {
     "name": "stdout",
     "output_type": "stream",
     "text": [
      "Intercept 0.05069848762905657\n",
      "Prediction_local [0.17496931]\n",
      "Right: 0.0\n",
      "Intercept 0.7041792061294947\n",
      "Prediction_local [0.1081725]\n",
      "Right: 0.0\n",
      "Intercept 0.1328457831098593\n",
      "Prediction_local [0.01786411]\n",
      "Right: 0.1738498015142751\n",
      "Intercept 0.2691922629466008\n",
      "Prediction_local [0.36973331]\n",
      "Right: 0.19532754599201957\n",
      "Intercept -0.15691573981501417\n",
      "Prediction_local [0.32926076]\n",
      "Right: 0.6308226524937052\n"
     ]
    },
    {
     "name": "stderr",
     "output_type": "stream",
     "text": [
      "X does not have valid feature names, but RandomForestClassifier was fitted with feature names\n"
     ]
    },
    {
     "data": {
      "application/vnd.jupyter.widget-view+json": {
       "model_id": "fb0d18f17afc48568d98e5cf857d66b2",
       "version_major": 2,
       "version_minor": 0
      },
      "text/plain": [
       "  0%|          | 0/1 [00:00<?, ?it/s]"
      ]
     },
     "metadata": {},
     "output_type": "display_data"
    },
    {
     "name": "stdout",
     "output_type": "stream",
     "text": [
      "Intercept 0.18980347774832107\n",
      "Prediction_local [0.08686661]\n",
      "Right: 0.01\n",
      "Intercept 0.6502901211457981\n",
      "Prediction_local [0.11606858]\n",
      "Right: 0.03\n",
      "Intercept -0.1589394479672902\n",
      "Prediction_local [0.27189172]\n",
      "Right: 0.26\n",
      "Intercept 0.2850804384890311\n",
      "Prediction_local [0.42317785]\n",
      "Right: 0.3\n",
      "Intercept 0.033765410584141314\n",
      "Prediction_local [0.10199524]\n",
      "Right: 0.4\n"
     ]
    },
    {
     "name": "stderr",
     "output_type": "stream",
     "text": [
      "X does not have valid feature names, but RandomForestClassifier was fitted with feature names\n",
      "X does not have valid feature names, but RandomForestClassifier was fitted with feature names\n"
     ]
    },
    {
     "data": {
      "application/vnd.jupyter.widget-view+json": {
       "model_id": "fe9a03acb7c3438dbdf9d29856028411",
       "version_major": 2,
       "version_minor": 0
      },
      "text/plain": [
       "  0%|          | 0/1 [00:00<?, ?it/s]"
      ]
     },
     "metadata": {},
     "output_type": "display_data"
    },
    {
     "name": "stdout",
     "output_type": "stream",
     "text": [
      "Intercept 0.13728999317150775\n",
      "Prediction_local [0.06978029]\n",
      "Right: 0.01\n",
      "Intercept 0.6681986933623527\n",
      "Prediction_local [0.11972265]\n",
      "Right: 0.03\n",
      "Intercept -0.0346048921530937\n",
      "Prediction_local [0.27311735]\n",
      "Right: 0.26\n",
      "Intercept 0.1732939947533227\n",
      "Prediction_local [0.42680816]\n",
      "Right: 0.3\n",
      "Intercept 0.0558222108659132\n",
      "Prediction_local [0.11057155]\n",
      "Right: 0.4\n"
     ]
    },
    {
     "name": "stderr",
     "output_type": "stream",
     "text": [
      "X does not have valid feature names, but RandomForestClassifier was fitted with feature names\n"
     ]
    },
    {
     "data": {
      "application/vnd.jupyter.widget-view+json": {
       "model_id": "bfdb6e1392be4c98b7e555bf765a27d8",
       "version_major": 2,
       "version_minor": 0
      },
      "text/plain": [
       "  0%|          | 0/1 [00:00<?, ?it/s]"
      ]
     },
     "metadata": {},
     "output_type": "display_data"
    },
    {
     "name": "stdout",
     "output_type": "stream",
     "text": [
      "Intercept 0.19704905341231008\n",
      "Prediction_local [0.07275285]\n",
      "Right: 0.01\n",
      "Intercept 0.6911637099435809\n",
      "Prediction_local [0.12659769]\n",
      "Right: 0.03\n",
      "Intercept -0.09904305470945818\n",
      "Prediction_local [0.27893206]\n",
      "Right: 0.26\n",
      "Intercept 0.17615855028085237\n",
      "Prediction_local [0.41399785]\n",
      "Right: 0.3\n",
      "Intercept 0.03467174107271561\n",
      "Prediction_local [0.10771955]\n",
      "Right: 0.4\n"
     ]
    },
    {
     "name": "stderr",
     "output_type": "stream",
     "text": [
      "X does not have valid feature names, but RandomForestClassifier was fitted with feature names\n"
     ]
    },
    {
     "data": {
      "application/vnd.jupyter.widget-view+json": {
       "model_id": "e3b283e3f0b84fe0a8b94d75c450058c",
       "version_major": 2,
       "version_minor": 0
      },
      "text/plain": [
       "  0%|          | 0/1 [00:00<?, ?it/s]"
      ]
     },
     "metadata": {},
     "output_type": "display_data"
    },
    {
     "name": "stdout",
     "output_type": "stream",
     "text": [
      "Intercept 0.17922601576363578\n",
      "Prediction_local [0.08090464]\n",
      "Right: 0.01\n",
      "Intercept 0.6790064554908551\n",
      "Prediction_local [0.11563923]\n",
      "Right: 0.03\n",
      "Intercept -0.12396750805000445\n",
      "Prediction_local [0.27578689]\n",
      "Right: 0.26\n",
      "Intercept 0.19872399849582714\n",
      "Prediction_local [0.42032482]\n",
      "Right: 0.3\n",
      "Intercept 0.06701103829968708\n",
      "Prediction_local [0.10734442]\n",
      "Right: 0.4\n"
     ]
    },
    {
     "name": "stderr",
     "output_type": "stream",
     "text": [
      "X does not have valid feature names, but RandomForestClassifier was fitted with feature names\n"
     ]
    },
    {
     "data": {
      "application/vnd.jupyter.widget-view+json": {
       "model_id": "26bf216dc7304c80a29e2526f277a28d",
       "version_major": 2,
       "version_minor": 0
      },
      "text/plain": [
       "  0%|          | 0/1 [00:00<?, ?it/s]"
      ]
     },
     "metadata": {},
     "output_type": "display_data"
    },
    {
     "name": "stdout",
     "output_type": "stream",
     "text": [
      "Intercept 0.14219700035881466\n",
      "Prediction_local [0.07564112]\n",
      "Right: 0.01\n",
      "Intercept 0.6234122937555449\n",
      "Prediction_local [0.10299677]\n",
      "Right: 0.03\n",
      "Intercept -0.03709279191791426\n",
      "Prediction_local [0.29394833]\n",
      "Right: 0.26\n",
      "Intercept 0.210943039525883\n",
      "Prediction_local [0.41978787]\n",
      "Right: 0.3\n",
      "Intercept 0.06054045827767185\n",
      "Prediction_local [0.1076259]\n",
      "Right: 0.4\n"
     ]
    },
    {
     "name": "stderr",
     "output_type": "stream",
     "text": [
      "X does not have valid feature names, but RandomForestClassifier was fitted with feature names\n"
     ]
    },
    {
     "data": {
      "application/vnd.jupyter.widget-view+json": {
       "model_id": "6a0f7169dc5e470c87f7f52cc641e4d9",
       "version_major": 2,
       "version_minor": 0
      },
      "text/plain": [
       "  0%|          | 0/1 [00:00<?, ?it/s]"
      ]
     },
     "metadata": {},
     "output_type": "display_data"
    },
    {
     "name": "stdout",
     "output_type": "stream",
     "text": [
      "Intercept 0.14308869795355075\n",
      "Prediction_local [0.01761967]\n",
      "Right: 0.0\n",
      "Intercept 0.40041304331369937\n",
      "Prediction_local [0.30390702]\n",
      "Right: 0.0\n",
      "Intercept -0.09773911952623132\n",
      "Prediction_local [0.25555111]\n",
      "Right: 0.0\n",
      "Intercept 0.03188263533092603\n",
      "Prediction_local [0.15372466]\n",
      "Right: 0.0\n",
      "Intercept 0.5223547429280531\n",
      "Prediction_local [0.26919755]\n",
      "Right: 1.0\n"
     ]
    },
    {
     "name": "stderr",
     "output_type": "stream",
     "text": [
      "X does not have valid feature names, but RandomForestClassifier was fitted with feature names\n",
      "X does not have valid feature names, but RandomForestClassifier was fitted with feature names\n"
     ]
    },
    {
     "data": {
      "application/vnd.jupyter.widget-view+json": {
       "model_id": "37362a8eb3604d94b535a08fa2e6da67",
       "version_major": 2,
       "version_minor": 0
      },
      "text/plain": [
       "  0%|          | 0/1 [00:00<?, ?it/s]"
      ]
     },
     "metadata": {},
     "output_type": "display_data"
    },
    {
     "name": "stdout",
     "output_type": "stream",
     "text": [
      "Intercept 0.15594122596097146\n",
      "Prediction_local [0.01992339]\n",
      "Right: 0.0\n",
      "Intercept 0.37558543218499657\n",
      "Prediction_local [0.30713975]\n",
      "Right: 0.0\n",
      "Intercept -0.06939476735974792\n",
      "Prediction_local [0.25201705]\n",
      "Right: 0.0\n",
      "Intercept 0.080371381014753\n",
      "Prediction_local [0.14047222]\n",
      "Right: 0.0\n",
      "Intercept 0.4574967281990281\n",
      "Prediction_local [0.28044759]\n",
      "Right: 1.0\n"
     ]
    },
    {
     "name": "stderr",
     "output_type": "stream",
     "text": [
      "X does not have valid feature names, but RandomForestClassifier was fitted with feature names\n"
     ]
    },
    {
     "data": {
      "application/vnd.jupyter.widget-view+json": {
       "model_id": "8f8adc8db8f8478ab5d6aa650bc92a5a",
       "version_major": 2,
       "version_minor": 0
      },
      "text/plain": [
       "  0%|          | 0/1 [00:00<?, ?it/s]"
      ]
     },
     "metadata": {},
     "output_type": "display_data"
    },
    {
     "name": "stdout",
     "output_type": "stream",
     "text": [
      "Intercept 0.1582742793837018\n",
      "Prediction_local [0.02545516]\n",
      "Right: 0.0\n",
      "Intercept 0.30970263291324335\n",
      "Prediction_local [0.29353063]\n",
      "Right: 0.0\n",
      "Intercept -0.036974672419303134\n",
      "Prediction_local [0.24487459]\n",
      "Right: 0.0\n",
      "Intercept 0.03406133681537962\n",
      "Prediction_local [0.14588028]\n",
      "Right: 0.0\n",
      "Intercept 0.5349364233069794\n",
      "Prediction_local [0.29025935]\n",
      "Right: 1.0\n"
     ]
    },
    {
     "name": "stderr",
     "output_type": "stream",
     "text": [
      "X does not have valid feature names, but RandomForestClassifier was fitted with feature names\n"
     ]
    },
    {
     "data": {
      "application/vnd.jupyter.widget-view+json": {
       "model_id": "135d5e1e849848d08dfc7b940fe8df56",
       "version_major": 2,
       "version_minor": 0
      },
      "text/plain": [
       "  0%|          | 0/1 [00:00<?, ?it/s]"
      ]
     },
     "metadata": {},
     "output_type": "display_data"
    },
    {
     "name": "stdout",
     "output_type": "stream",
     "text": [
      "Intercept 0.1453521341094222\n",
      "Prediction_local [0.01933971]\n",
      "Right: 0.0\n",
      "Intercept 0.3560898654622641\n",
      "Prediction_local [0.30763928]\n",
      "Right: 0.0\n",
      "Intercept -0.07776696442757847\n",
      "Prediction_local [0.25410126]\n",
      "Right: 0.0\n",
      "Intercept 0.07019799474513942\n",
      "Prediction_local [0.1575742]\n",
      "Right: 0.0\n",
      "Intercept 0.5061269701107521\n",
      "Prediction_local [0.26134554]\n",
      "Right: 1.0\n"
     ]
    },
    {
     "name": "stderr",
     "output_type": "stream",
     "text": [
      "X does not have valid feature names, but RandomForestClassifier was fitted with feature names\n"
     ]
    },
    {
     "data": {
      "application/vnd.jupyter.widget-view+json": {
       "model_id": "94b219e84aac4740983dbc9480e9ab9d",
       "version_major": 2,
       "version_minor": 0
      },
      "text/plain": [
       "  0%|          | 0/1 [00:00<?, ?it/s]"
      ]
     },
     "metadata": {},
     "output_type": "display_data"
    },
    {
     "name": "stdout",
     "output_type": "stream",
     "text": [
      "Intercept 0.11266029591017365\n",
      "Prediction_local [0.02627466]\n",
      "Right: 0.0\n",
      "Intercept 0.34834169226168055\n",
      "Prediction_local [0.30973758]\n",
      "Right: 0.0\n",
      "Intercept -0.024156961921509457\n",
      "Prediction_local [0.23962464]\n",
      "Right: 0.0\n",
      "Intercept 0.03343039020831917\n",
      "Prediction_local [0.15259771]\n",
      "Right: 0.0\n",
      "Intercept 0.5297245835413374\n",
      "Prediction_local [0.27176541]\n",
      "Right: 1.0\n"
     ]
    },
    {
     "name": "stderr",
     "output_type": "stream",
     "text": [
      "X does not have valid feature names, but RandomForestClassifier was fitted with feature names\n"
     ]
    },
    {
     "data": {
      "application/vnd.jupyter.widget-view+json": {
       "model_id": "ff95e86b2c9e4a0bac5f7580ff4ccef2",
       "version_major": 2,
       "version_minor": 0
      },
      "text/plain": [
       "  0%|          | 0/1 [00:00<?, ?it/s]"
      ]
     },
     "metadata": {},
     "output_type": "display_data"
    },
    {
     "name": "stdout",
     "output_type": "stream",
     "text": [
      "Intercept 0.17609961462676832\n",
      "Prediction_local [0.0003352]\n",
      "Right: 0.0\n",
      "Intercept 0.34550952857195694\n",
      "Prediction_local [0.31710774]\n",
      "Right: 0.01\n",
      "Intercept -0.17015735594349296\n",
      "Prediction_local [0.28635948]\n",
      "Right: 0.01\n",
      "Intercept 0.6047554350783366\n",
      "Prediction_local [0.14486592]\n",
      "Right: 0.02\n",
      "Intercept 0.043792777666430666\n",
      "Prediction_local [0.25133165]\n",
      "Right: 0.96\n"
     ]
    },
    {
     "name": "stderr",
     "output_type": "stream",
     "text": [
      "X does not have valid feature names, but RandomForestClassifier was fitted with feature names\n",
      "X does not have valid feature names, but RandomForestClassifier was fitted with feature names\n"
     ]
    },
    {
     "data": {
      "application/vnd.jupyter.widget-view+json": {
       "model_id": "721bddfde4674108a330c6763d0a2b06",
       "version_major": 2,
       "version_minor": 0
      },
      "text/plain": [
       "  0%|          | 0/1 [00:00<?, ?it/s]"
      ]
     },
     "metadata": {},
     "output_type": "display_data"
    },
    {
     "name": "stdout",
     "output_type": "stream",
     "text": [
      "Intercept 0.13448242582169123\n",
      "Prediction_local [0.0013665]\n",
      "Right: 0.0\n",
      "Intercept 0.3356876371615908\n",
      "Prediction_local [0.31383003]\n",
      "Right: 0.01\n",
      "Intercept -0.12575079831921038\n",
      "Prediction_local [0.28189672]\n",
      "Right: 0.01\n",
      "Intercept 0.7122124762843743\n",
      "Prediction_local [0.15236552]\n",
      "Right: 0.02\n",
      "Intercept -0.05663174094844384\n",
      "Prediction_local [0.25054123]\n",
      "Right: 0.96\n"
     ]
    },
    {
     "name": "stderr",
     "output_type": "stream",
     "text": [
      "X does not have valid feature names, but RandomForestClassifier was fitted with feature names\n"
     ]
    },
    {
     "data": {
      "application/vnd.jupyter.widget-view+json": {
       "model_id": "aab46ab4fe8e4580b857d342ef8bd803",
       "version_major": 2,
       "version_minor": 0
      },
      "text/plain": [
       "  0%|          | 0/1 [00:00<?, ?it/s]"
      ]
     },
     "metadata": {},
     "output_type": "display_data"
    },
    {
     "name": "stdout",
     "output_type": "stream",
     "text": [
      "Intercept 0.16094035359627687\n",
      "Prediction_local [0.00512446]\n",
      "Right: 0.0\n",
      "Intercept 0.2958853619544284\n",
      "Prediction_local [0.32167952]\n",
      "Right: 0.01\n",
      "Intercept -0.07863393398720298\n",
      "Prediction_local [0.2823194]\n",
      "Right: 0.01\n",
      "Intercept 0.6354508955614142\n",
      "Prediction_local [0.13356408]\n",
      "Right: 0.02\n",
      "Intercept -0.013642677124914376\n",
      "Prediction_local [0.25731254]\n",
      "Right: 0.96\n"
     ]
    },
    {
     "name": "stderr",
     "output_type": "stream",
     "text": [
      "X does not have valid feature names, but RandomForestClassifier was fitted with feature names\n"
     ]
    },
    {
     "data": {
      "application/vnd.jupyter.widget-view+json": {
       "model_id": "3d3be34cf8c1487690ab62fbf3b559ca",
       "version_major": 2,
       "version_minor": 0
      },
      "text/plain": [
       "  0%|          | 0/1 [00:00<?, ?it/s]"
      ]
     },
     "metadata": {},
     "output_type": "display_data"
    },
    {
     "name": "stdout",
     "output_type": "stream",
     "text": [
      "Intercept 0.14160640125344934\n",
      "Prediction_local [0.00081095]\n",
      "Right: 0.0\n",
      "Intercept 0.34956480512586435\n",
      "Prediction_local [0.30591747]\n",
      "Right: 0.01\n",
      "Intercept -0.11232957977437824\n",
      "Prediction_local [0.29141262]\n",
      "Right: 0.01\n",
      "Intercept 0.6606186735729446\n",
      "Prediction_local [0.14607053]\n",
      "Right: 0.02\n",
      "Intercept -0.03946030017787916\n",
      "Prediction_local [0.25578842]\n",
      "Right: 0.96\n"
     ]
    },
    {
     "name": "stderr",
     "output_type": "stream",
     "text": [
      "X does not have valid feature names, but RandomForestClassifier was fitted with feature names\n"
     ]
    },
    {
     "data": {
      "application/vnd.jupyter.widget-view+json": {
       "model_id": "98da5bd5e38a411088a0088607a3e70c",
       "version_major": 2,
       "version_minor": 0
      },
      "text/plain": [
       "  0%|          | 0/1 [00:00<?, ?it/s]"
      ]
     },
     "metadata": {},
     "output_type": "display_data"
    },
    {
     "name": "stdout",
     "output_type": "stream",
     "text": [
      "Intercept 0.15686248671235573\n",
      "Prediction_local [0.00300927]\n",
      "Right: 0.0\n",
      "Intercept 0.3303010737834884\n",
      "Prediction_local [0.3290224]\n",
      "Right: 0.01\n",
      "Intercept -0.10994780104321955\n",
      "Prediction_local [0.28749203]\n",
      "Right: 0.01\n",
      "Intercept 0.6176862748246669\n",
      "Prediction_local [0.14201853]\n",
      "Right: 0.02\n",
      "Intercept 0.005097965722709985\n",
      "Prediction_local [0.23845777]\n",
      "Right: 0.96\n"
     ]
    },
    {
     "name": "stderr",
     "output_type": "stream",
     "text": [
      "X does not have valid feature names, but RandomForestClassifier was fitted with feature names\n"
     ]
    },
    {
     "data": {
      "application/vnd.jupyter.widget-view+json": {
       "model_id": "f77bae3a76ec486c878f629c9851b878",
       "version_major": 2,
       "version_minor": 0
      },
      "text/plain": [
       "  0%|          | 0/1 [00:00<?, ?it/s]"
      ]
     },
     "metadata": {},
     "output_type": "display_data"
    },
    {
     "name": "stderr",
     "output_type": "stream",
     "text": [
      "X does not have valid feature names, but RandomForestClassifier was fitted with feature names\n",
      "X does not have valid feature names, but RandomForestClassifier was fitted with feature names\n"
     ]
    },
    {
     "name": "stdout",
     "output_type": "stream",
     "text": [
      "Intercept 0.10740868409517745\n",
      "Prediction_local [0.0495996]\n",
      "Right: 0.05\n",
      "Intercept 0.05256389923661936\n",
      "Prediction_local [0.19540017]\n",
      "Right: 0.07\n",
      "Intercept 0.667290506868839\n",
      "Prediction_local [0.07930544]\n",
      "Right: 0.08\n",
      "Intercept 0.3125505295387278\n",
      "Prediction_local [0.33561426]\n",
      "Right: 0.37\n",
      "Intercept -0.13981361973936346\n",
      "Prediction_local [0.34008054]\n",
      "Right: 0.43\n"
     ]
    },
    {
     "data": {
      "application/vnd.jupyter.widget-view+json": {
       "model_id": "f6549e4d0c8049dda1fefd10ee8d9db0",
       "version_major": 2,
       "version_minor": 0
      },
      "text/plain": [
       "  0%|          | 0/1 [00:00<?, ?it/s]"
      ]
     },
     "metadata": {},
     "output_type": "display_data"
    },
    {
     "name": "stdout",
     "output_type": "stream",
     "text": [
      "Intercept 0.11455521707874797\n",
      "Prediction_local [0.04901888]\n",
      "Right: 0.05\n",
      "Intercept -0.032377838202471115\n",
      "Prediction_local [0.19281026]\n",
      "Right: 0.07\n",
      "Intercept 0.7431512094393817\n",
      "Prediction_local [0.08720916]\n",
      "Right: 0.08\n",
      "Intercept 0.300549763618006\n",
      "Prediction_local [0.33450747]\n",
      "Right: 0.37\n",
      "Intercept -0.1258783519336627\n",
      "Prediction_local [0.33645423]\n",
      "Right: 0.43\n"
     ]
    },
    {
     "name": "stderr",
     "output_type": "stream",
     "text": [
      "X does not have valid feature names, but RandomForestClassifier was fitted with feature names\n"
     ]
    },
    {
     "data": {
      "application/vnd.jupyter.widget-view+json": {
       "model_id": "8ed9882d4f1c4c028c38c98c99f93a49",
       "version_major": 2,
       "version_minor": 0
      },
      "text/plain": [
       "  0%|          | 0/1 [00:00<?, ?it/s]"
      ]
     },
     "metadata": {},
     "output_type": "display_data"
    },
    {
     "name": "stdout",
     "output_type": "stream",
     "text": [
      "Intercept 0.07666327526628973\n",
      "Prediction_local [0.05662801]\n",
      "Right: 0.05\n",
      "Intercept 0.0892395062686842\n",
      "Prediction_local [0.18859304]\n",
      "Right: 0.07\n",
      "Intercept 0.7072111247612392\n",
      "Prediction_local [0.08455946]\n",
      "Right: 0.08\n",
      "Intercept 0.30713235873939854\n",
      "Prediction_local [0.33500116]\n",
      "Right: 0.37\n",
      "Intercept -0.18024626503561136\n",
      "Prediction_local [0.33521833]\n",
      "Right: 0.43\n"
     ]
    },
    {
     "name": "stderr",
     "output_type": "stream",
     "text": [
      "X does not have valid feature names, but RandomForestClassifier was fitted with feature names\n"
     ]
    },
    {
     "data": {
      "application/vnd.jupyter.widget-view+json": {
       "model_id": "8bcfe9114c6642abb8a797090fb525a3",
       "version_major": 2,
       "version_minor": 0
      },
      "text/plain": [
       "  0%|          | 0/1 [00:00<?, ?it/s]"
      ]
     },
     "metadata": {},
     "output_type": "display_data"
    },
    {
     "name": "stdout",
     "output_type": "stream",
     "text": [
      "Intercept 0.08197681128796253\n",
      "Prediction_local [0.04920031]\n",
      "Right: 0.05\n",
      "Intercept 0.0015309028541367897\n",
      "Prediction_local [0.19261679]\n",
      "Right: 0.07\n",
      "Intercept 0.6326161056465947\n",
      "Prediction_local [0.08863956]\n",
      "Right: 0.08\n",
      "Intercept 0.33738540895563124\n",
      "Prediction_local [0.33178496]\n",
      "Right: 0.37\n",
      "Intercept -0.05350922874432523\n",
      "Prediction_local [0.33775837]\n",
      "Right: 0.43\n"
     ]
    },
    {
     "name": "stderr",
     "output_type": "stream",
     "text": [
      "X does not have valid feature names, but RandomForestClassifier was fitted with feature names\n"
     ]
    },
    {
     "data": {
      "application/vnd.jupyter.widget-view+json": {
       "model_id": "17face691a9d42bf8b7d763adce7f8ee",
       "version_major": 2,
       "version_minor": 0
      },
      "text/plain": [
       "  0%|          | 0/1 [00:00<?, ?it/s]"
      ]
     },
     "metadata": {},
     "output_type": "display_data"
    },
    {
     "name": "stdout",
     "output_type": "stream",
     "text": [
      "Intercept 0.09878338092967383\n",
      "Prediction_local [0.04906974]\n",
      "Right: 0.05\n",
      "Intercept 0.05580865513630093\n",
      "Prediction_local [0.19803033]\n",
      "Right: 0.07\n",
      "Intercept 0.6566589562421902\n",
      "Prediction_local [0.07994793]\n",
      "Right: 0.08\n",
      "Intercept 0.40584274843638635\n",
      "Prediction_local [0.32964844]\n",
      "Right: 0.37\n",
      "Intercept -0.2170937407445524\n",
      "Prediction_local [0.34330356]\n",
      "Right: 0.43\n"
     ]
    },
    {
     "name": "stderr",
     "output_type": "stream",
     "text": [
      "X does not have valid feature names, but RandomForestClassifier was fitted with feature names\n"
     ]
    },
    {
     "data": {
      "application/vnd.jupyter.widget-view+json": {
       "model_id": "7bd56574e0e445518b5207f079aef1ad",
       "version_major": 2,
       "version_minor": 0
      },
      "text/plain": [
       "  0%|          | 0/1 [00:00<?, ?it/s]"
      ]
     },
     "metadata": {},
     "output_type": "display_data"
    },
    {
     "name": "stdout",
     "output_type": "stream",
     "text": [
      "Intercept 0.1536612925324239\n",
      "Prediction_local [0.01764801]\n",
      "Right: 0.01\n",
      "Intercept 0.05208278701686547\n",
      "Prediction_local [0.21135908]\n",
      "Right: 0.01\n",
      "Intercept 0.6068183414791806\n",
      "Prediction_local [0.13010201]\n",
      "Right: 0.08\n",
      "Intercept 0.3392852343855327\n",
      "Prediction_local [0.3253862]\n",
      "Right: 0.18\n",
      "Intercept -0.15184765541400042\n",
      "Prediction_local [0.3155047]\n",
      "Right: 0.72\n"
     ]
    },
    {
     "name": "stderr",
     "output_type": "stream",
     "text": [
      "X does not have valid feature names, but RandomForestClassifier was fitted with feature names\n",
      "X does not have valid feature names, but RandomForestClassifier was fitted with feature names\n"
     ]
    },
    {
     "data": {
      "application/vnd.jupyter.widget-view+json": {
       "model_id": "496c2145adc84b78881b0109d53dd26e",
       "version_major": 2,
       "version_minor": 0
      },
      "text/plain": [
       "  0%|          | 0/1 [00:00<?, ?it/s]"
      ]
     },
     "metadata": {},
     "output_type": "display_data"
    },
    {
     "name": "stdout",
     "output_type": "stream",
     "text": [
      "Intercept 0.13262026983639116\n",
      "Prediction_local [0.0132064]\n",
      "Right: 0.01\n",
      "Intercept -0.00704148008402139\n",
      "Prediction_local [0.22094438]\n",
      "Right: 0.01\n",
      "Intercept 0.6319985033940551\n",
      "Prediction_local [0.1256866]\n",
      "Right: 0.08\n",
      "Intercept 0.35378006381428023\n",
      "Prediction_local [0.31889247]\n",
      "Right: 0.18\n",
      "Intercept -0.11135735696070548\n",
      "Prediction_local [0.32127014]\n",
      "Right: 0.72\n"
     ]
    },
    {
     "name": "stderr",
     "output_type": "stream",
     "text": [
      "X does not have valid feature names, but RandomForestClassifier was fitted with feature names\n"
     ]
    },
    {
     "data": {
      "application/vnd.jupyter.widget-view+json": {
       "model_id": "334d21a84138406ab53b40f90a54f0a9",
       "version_major": 2,
       "version_minor": 0
      },
      "text/plain": [
       "  0%|          | 0/1 [00:00<?, ?it/s]"
      ]
     },
     "metadata": {},
     "output_type": "display_data"
    },
    {
     "name": "stdout",
     "output_type": "stream",
     "text": [
      "Intercept 0.16009827381496658\n",
      "Prediction_local [0.01875268]\n",
      "Right: 0.01\n",
      "Intercept 0.004456587501829923\n",
      "Prediction_local [0.21243631]\n",
      "Right: 0.01\n",
      "Intercept 0.6650796201965518\n",
      "Prediction_local [0.12636107]\n",
      "Right: 0.08\n",
      "Intercept 0.3323353984545503\n",
      "Prediction_local [0.32396078]\n",
      "Right: 0.18\n",
      "Intercept -0.16196987996789364\n",
      "Prediction_local [0.31848916]\n",
      "Right: 0.72\n"
     ]
    },
    {
     "name": "stderr",
     "output_type": "stream",
     "text": [
      "X does not have valid feature names, but RandomForestClassifier was fitted with feature names\n"
     ]
    },
    {
     "data": {
      "application/vnd.jupyter.widget-view+json": {
       "model_id": "30cf84d679644fabb43cf12c23020fe0",
       "version_major": 2,
       "version_minor": 0
      },
      "text/plain": [
       "  0%|          | 0/1 [00:00<?, ?it/s]"
      ]
     },
     "metadata": {},
     "output_type": "display_data"
    },
    {
     "name": "stdout",
     "output_type": "stream",
     "text": [
      "Intercept 0.13782974827862332\n",
      "Prediction_local [0.01499893]\n",
      "Right: 0.01\n",
      "Intercept -0.007345907047950628\n",
      "Prediction_local [0.211972]\n",
      "Right: 0.01\n",
      "Intercept 0.6490256786904037\n",
      "Prediction_local [0.13127936]\n",
      "Right: 0.08\n",
      "Intercept 0.3113966045626009\n",
      "Prediction_local [0.31909747]\n",
      "Right: 0.18\n",
      "Intercept -0.09090612448367474\n",
      "Prediction_local [0.32265223]\n",
      "Right: 0.72\n"
     ]
    },
    {
     "name": "stderr",
     "output_type": "stream",
     "text": [
      "X does not have valid feature names, but RandomForestClassifier was fitted with feature names\n"
     ]
    },
    {
     "data": {
      "application/vnd.jupyter.widget-view+json": {
       "model_id": "c04777fa342745e595307939ae7c66a8",
       "version_major": 2,
       "version_minor": 0
      },
      "text/plain": [
       "  0%|          | 0/1 [00:00<?, ?it/s]"
      ]
     },
     "metadata": {},
     "output_type": "display_data"
    },
    {
     "name": "stdout",
     "output_type": "stream",
     "text": [
      "Intercept 0.14841585007060942\n",
      "Prediction_local [0.01575519]\n",
      "Right: 0.01\n",
      "Intercept 0.021552797960814662\n",
      "Prediction_local [0.21056035]\n",
      "Right: 0.01\n",
      "Intercept 0.5980510568476504\n",
      "Prediction_local [0.1267244]\n",
      "Right: 0.08\n",
      "Intercept 0.3951309977522165\n",
      "Prediction_local [0.33263088]\n",
      "Right: 0.18\n",
      "Intercept -0.16315070263129267\n",
      "Prediction_local [0.31432918]\n",
      "Right: 0.72\n"
     ]
    },
    {
     "name": "stderr",
     "output_type": "stream",
     "text": [
      "X does not have valid feature names, but RandomForestClassifier was fitted with feature names\n"
     ]
    },
    {
     "data": {
      "application/vnd.jupyter.widget-view+json": {
       "model_id": "5b3d3b30efa94e7998d4e0ab2f7903b4",
       "version_major": 2,
       "version_minor": 0
      },
      "text/plain": [
       "  0%|          | 0/1 [00:00<?, ?it/s]"
      ]
     },
     "metadata": {},
     "output_type": "display_data"
    },
    {
     "name": "stdout",
     "output_type": "stream",
     "text": [
      "Intercept 0.10755173173200522\n",
      "Prediction_local [0.02767674]\n",
      "Right: 0.0\n",
      "Intercept -0.005194055932106145\n",
      "Prediction_local [0.25987521]\n",
      "Right: 0.0\n",
      "Intercept 0.6791918618944842\n",
      "Prediction_local [0.08731562]\n",
      "Right: 0.0\n",
      "Intercept 0.35338437401676326\n",
      "Prediction_local [0.28556532]\n",
      "Right: 0.09\n",
      "Intercept -0.13493391171114538\n",
      "Prediction_local [0.3395671]\n",
      "Right: 0.91\n"
     ]
    },
    {
     "name": "stderr",
     "output_type": "stream",
     "text": [
      "X does not have valid feature names, but RandomForestClassifier was fitted with feature names\n",
      "X does not have valid feature names, but RandomForestClassifier was fitted with feature names\n"
     ]
    },
    {
     "data": {
      "application/vnd.jupyter.widget-view+json": {
       "model_id": "be6f74f7ac52417ab046205578ad2ed6",
       "version_major": 2,
       "version_minor": 0
      },
      "text/plain": [
       "  0%|          | 0/1 [00:00<?, ?it/s]"
      ]
     },
     "metadata": {},
     "output_type": "display_data"
    },
    {
     "name": "stdout",
     "output_type": "stream",
     "text": [
      "Intercept 0.15117198707527868\n",
      "Prediction_local [0.02384745]\n",
      "Right: 0.0\n",
      "Intercept -0.0010397887990579724\n",
      "Prediction_local [0.25374011]\n",
      "Right: 0.0\n",
      "Intercept 0.7090923281412496\n",
      "Prediction_local [0.08552657]\n",
      "Right: 0.0\n",
      "Intercept 0.31461982788368326\n",
      "Prediction_local [0.28988252]\n",
      "Right: 0.09\n",
      "Intercept -0.1738443543011518\n",
      "Prediction_local [0.34700335]\n",
      "Right: 0.91\n"
     ]
    },
    {
     "name": "stderr",
     "output_type": "stream",
     "text": [
      "X does not have valid feature names, but RandomForestClassifier was fitted with feature names\n"
     ]
    },
    {
     "data": {
      "application/vnd.jupyter.widget-view+json": {
       "model_id": "8162d2159b1e4594b5e29229454ca0de",
       "version_major": 2,
       "version_minor": 0
      },
      "text/plain": [
       "  0%|          | 0/1 [00:00<?, ?it/s]"
      ]
     },
     "metadata": {},
     "output_type": "display_data"
    },
    {
     "name": "stdout",
     "output_type": "stream",
     "text": [
      "Intercept 0.1211951121339987\n",
      "Prediction_local [0.02536564]\n",
      "Right: 0.0\n",
      "Intercept -0.07073983412399351\n",
      "Prediction_local [0.26558739]\n",
      "Right: 0.0\n",
      "Intercept 0.6829708654035584\n",
      "Prediction_local [0.09086412]\n",
      "Right: 0.0\n",
      "Intercept 0.4071377220379721\n",
      "Prediction_local [0.28043979]\n",
      "Right: 0.09\n",
      "Intercept -0.14056386545153582\n",
      "Prediction_local [0.33774306]\n",
      "Right: 0.91\n"
     ]
    },
    {
     "name": "stderr",
     "output_type": "stream",
     "text": [
      "X does not have valid feature names, but RandomForestClassifier was fitted with feature names\n"
     ]
    },
    {
     "data": {
      "application/vnd.jupyter.widget-view+json": {
       "model_id": "3b5f68a753524679b7bfb17862fa4521",
       "version_major": 2,
       "version_minor": 0
      },
      "text/plain": [
       "  0%|          | 0/1 [00:00<?, ?it/s]"
      ]
     },
     "metadata": {},
     "output_type": "display_data"
    },
    {
     "name": "stdout",
     "output_type": "stream",
     "text": [
      "Intercept 0.14090973889087696\n",
      "Prediction_local [0.02538408]\n",
      "Right: 0.0\n",
      "Intercept -0.049817529851237385\n",
      "Prediction_local [0.25937649]\n",
      "Right: 0.0\n",
      "Intercept 0.6889884832846421\n",
      "Prediction_local [0.07836296]\n",
      "Right: 0.0\n",
      "Intercept 0.424110184926653\n",
      "Prediction_local [0.29244883]\n",
      "Right: 0.09\n",
      "Intercept -0.20419087725093416\n",
      "Prediction_local [0.34442765]\n",
      "Right: 0.91\n"
     ]
    },
    {
     "name": "stderr",
     "output_type": "stream",
     "text": [
      "X does not have valid feature names, but RandomForestClassifier was fitted with feature names\n"
     ]
    },
    {
     "data": {
      "application/vnd.jupyter.widget-view+json": {
       "model_id": "dd2b31a9fcd24e9a99a98dca7b12295b",
       "version_major": 2,
       "version_minor": 0
      },
      "text/plain": [
       "  0%|          | 0/1 [00:00<?, ?it/s]"
      ]
     },
     "metadata": {},
     "output_type": "display_data"
    },
    {
     "name": "stdout",
     "output_type": "stream",
     "text": [
      "Intercept 0.13028829121748353\n",
      "Prediction_local [0.02536529]\n",
      "Right: 0.0\n",
      "Intercept 0.05006075759016439\n",
      "Prediction_local [0.26444563]\n",
      "Right: 0.0\n",
      "Intercept 0.608528202883857\n",
      "Prediction_local [0.08636395]\n",
      "Right: 0.0\n",
      "Intercept 0.4087423018879327\n",
      "Prediction_local [0.28360136]\n",
      "Right: 0.09\n",
      "Intercept -0.19761955357944105\n",
      "Prediction_local [0.34022377]\n",
      "Right: 0.91\n"
     ]
    },
    {
     "name": "stderr",
     "output_type": "stream",
     "text": [
      "X does not have valid feature names, but RandomForestClassifier was fitted with feature names\n"
     ]
    },
    {
     "data": {
      "application/vnd.jupyter.widget-view+json": {
       "model_id": "56e72e2e957040e7b58768c6f8aacfb4",
       "version_major": 2,
       "version_minor": 0
      },
      "text/plain": [
       "  0%|          | 0/1 [00:00<?, ?it/s]"
      ]
     },
     "metadata": {},
     "output_type": "display_data"
    },
    {
     "name": "stdout",
     "output_type": "stream",
     "text": [
      "Intercept 0.03944325091656825\n",
      "Prediction_local [0.16474795]\n",
      "Right: 0.0\n",
      "Intercept 0.6321803084572517\n",
      "Prediction_local [0.1016019]\n",
      "Right: 0.0\n",
      "Intercept 0.296764563133405\n",
      "Prediction_local [0.36252864]\n",
      "Right: 0.26\n",
      "Intercept 0.12752831603163836\n",
      "Prediction_local [0.04921559]\n",
      "Right: 0.2858333333333334\n",
      "Intercept -0.095916438538865\n",
      "Prediction_local [0.32190592]\n",
      "Right: 0.4541666666666667\n"
     ]
    },
    {
     "name": "stderr",
     "output_type": "stream",
     "text": [
      "X does not have valid feature names, but RandomForestClassifier was fitted with feature names\n",
      "X does not have valid feature names, but RandomForestClassifier was fitted with feature names\n"
     ]
    },
    {
     "data": {
      "application/vnd.jupyter.widget-view+json": {
       "model_id": "cc43b17989814f59a08bc08f423e6c54",
       "version_major": 2,
       "version_minor": 0
      },
      "text/plain": [
       "  0%|          | 0/1 [00:00<?, ?it/s]"
      ]
     },
     "metadata": {},
     "output_type": "display_data"
    },
    {
     "name": "stdout",
     "output_type": "stream",
     "text": [
      "Intercept 0.006506579942301166\n",
      "Prediction_local [0.16069774]\n",
      "Right: 0.0\n",
      "Intercept 0.6658648538845641\n",
      "Prediction_local [0.10526345]\n",
      "Right: 0.0\n",
      "Intercept 0.3596333096967732\n",
      "Prediction_local [0.35015173]\n",
      "Right: 0.26\n",
      "Intercept 0.10355798575975612\n",
      "Prediction_local [0.05137546]\n",
      "Right: 0.2858333333333334\n",
      "Intercept -0.13556272928339774\n",
      "Prediction_local [0.33251162]\n",
      "Right: 0.4541666666666667\n"
     ]
    },
    {
     "name": "stderr",
     "output_type": "stream",
     "text": [
      "X does not have valid feature names, but RandomForestClassifier was fitted with feature names\n"
     ]
    },
    {
     "data": {
      "application/vnd.jupyter.widget-view+json": {
       "model_id": "201600d4116543baa6631cdbe7c99677",
       "version_major": 2,
       "version_minor": 0
      },
      "text/plain": [
       "  0%|          | 0/1 [00:00<?, ?it/s]"
      ]
     },
     "metadata": {},
     "output_type": "display_data"
    },
    {
     "name": "stdout",
     "output_type": "stream",
     "text": [
      "Intercept 0.06536056154479049\n",
      "Prediction_local [0.15463222]\n",
      "Right: 0.0\n",
      "Intercept 0.6304211483320564\n",
      "Prediction_local [0.11129526]\n",
      "Right: 0.0\n",
      "Intercept 0.3357620137461833\n",
      "Prediction_local [0.35163876]\n",
      "Right: 0.26\n",
      "Intercept 0.09390773637026723\n",
      "Prediction_local [0.04605051]\n",
      "Right: 0.2858333333333334\n",
      "Intercept -0.12545145999329332\n",
      "Prediction_local [0.33638325]\n",
      "Right: 0.4541666666666667\n"
     ]
    },
    {
     "name": "stderr",
     "output_type": "stream",
     "text": [
      "X does not have valid feature names, but RandomForestClassifier was fitted with feature names\n"
     ]
    },
    {
     "data": {
      "application/vnd.jupyter.widget-view+json": {
       "model_id": "b05627aac6874a14b892f4aa3b9ab482",
       "version_major": 2,
       "version_minor": 0
      },
      "text/plain": [
       "  0%|          | 0/1 [00:00<?, ?it/s]"
      ]
     },
     "metadata": {},
     "output_type": "display_data"
    },
    {
     "name": "stdout",
     "output_type": "stream",
     "text": [
      "Intercept 0.09459299701553844\n",
      "Prediction_local [0.15473738]\n",
      "Right: 0.0\n",
      "Intercept 0.6573051902487446\n",
      "Prediction_local [0.10266186]\n",
      "Right: 0.0\n",
      "Intercept 0.2892439639339951\n",
      "Prediction_local [0.35603687]\n",
      "Right: 0.26\n",
      "Intercept 0.12076345632222565\n",
      "Prediction_local [0.05052]\n",
      "Right: 0.2858333333333334\n",
      "Intercept -0.16190560752050426\n",
      "Prediction_local [0.33604389]\n",
      "Right: 0.4541666666666667\n"
     ]
    },
    {
     "name": "stderr",
     "output_type": "stream",
     "text": [
      "X does not have valid feature names, but RandomForestClassifier was fitted with feature names\n"
     ]
    },
    {
     "data": {
      "application/vnd.jupyter.widget-view+json": {
       "model_id": "df6062604e6f44d187057f98356f703b",
       "version_major": 2,
       "version_minor": 0
      },
      "text/plain": [
       "  0%|          | 0/1 [00:00<?, ?it/s]"
      ]
     },
     "metadata": {},
     "output_type": "display_data"
    },
    {
     "name": "stdout",
     "output_type": "stream",
     "text": [
      "Intercept 0.04370469166069796\n",
      "Prediction_local [0.15737736]\n",
      "Right: 0.0\n",
      "Intercept 0.6260536146517826\n",
      "Prediction_local [0.10037569]\n",
      "Right: 0.0\n",
      "Intercept 0.3622111556776615\n",
      "Prediction_local [0.35482504]\n",
      "Right: 0.26\n",
      "Intercept 0.1230228433412309\n",
      "Prediction_local [0.05149622]\n",
      "Right: 0.2858333333333334\n",
      "Intercept -0.15499230533137398\n",
      "Prediction_local [0.33592569]\n",
      "Right: 0.4541666666666667\n"
     ]
    },
    {
     "name": "stderr",
     "output_type": "stream",
     "text": [
      "X does not have valid feature names, but RandomForestClassifier was fitted with feature names\n"
     ]
    },
    {
     "data": {
      "application/vnd.jupyter.widget-view+json": {
       "model_id": "b0b2b7fb56a3456b80bc35e0bb6a99c4",
       "version_major": 2,
       "version_minor": 0
      },
      "text/plain": [
       "  0%|          | 0/1 [00:00<?, ?it/s]"
      ]
     },
     "metadata": {},
     "output_type": "display_data"
    },
    {
     "name": "stdout",
     "output_type": "stream",
     "text": [
      "Lime Variable Stability Index (VSI): [0.82, 0.9199999999999999, 0.9199999999999999, 0.9200000000000002, 0.7799999999999999, 0.7599999999999999, 0.9199999999999999, 1.0, 0.9199999999999999, 0.9200000000000002]\n"
     ]
    }
   ],
   "source": [
    "Lime_VSI=[]\n",
    "Shap_VSI=[]\n",
    "Instances =np.random.randint(100, size=(10)) #randomly pick 10 instances from data (in the range of 100 intances)\n",
    "\n",
    "for instance in Instances:\n",
    "    data_row = x_test.iloc[[instance], :] #single instance from the test dataset\n",
    "    sample =data_row.values.reshape(1, -1)\n",
    "\n",
    "    Predicted_class= rf.predict(sample)[0]\n",
    "    Actual_class= y_test[instance]\n",
    "   \n",
    "\n",
    "\n",
    "    Lime_Explanations= []\n",
    "    Shap_Explanations= []\n",
    "    \n",
    "    for _ in range(5): #generate 3 time explaination of same instance and compare them\n",
    "        \n",
    "        ##############. Lime  #################\n",
    "        LIME_explanation = LIME_explainer.explain_instance(sample[0], rf.predict_proba, num_features=46, top_labels=5)\n",
    "        lime_values_of_Prid_cls= LIME_explanation.local_exp[Predicted_class]\n",
    "        column_names=x_train.columns\n",
    "        positive_list = [(x, y) for x, y in lime_values_of_Prid_cls if y > 0]\n",
    "        # Separate the x and y values\n",
    "        x_values = [x for x, y in positive_list]\n",
    "        x_names = [column_names[t] for t in x_values]\n",
    "        y_values = [y for x, y in positive_list]\n",
    "\n",
    "        # Combine x_names and y_values into a list of tuples and sort by y_values\n",
    "        sorted_list = sorted(zip(x_names, y_values), key=lambda pair: pair[1], reverse=True)\n",
    "\n",
    "        # Unzip the sorted list\n",
    "        x_names_sorted, y_values_sorted = zip(*sorted_list)\n",
    "        top_five_features = x_names_sorted[:5]\n",
    "        Lime_Explanations.append(top_five_features)\n",
    "        \n",
    "        \n",
    "        #############. Shap  #####################\n",
    "        shap_values_single_instance = Shap_explainer.shap_values(data_row, nsamples=100, l1_reg=\"num_features(46)\")\n",
    "\n",
    "        # Provided SHAP values and column names\n",
    "        shap_valuesss = shap_values_single_instance[Predicted_class][0]\n",
    "        column_namesss = x_train.columns\n",
    "        # Flatten shap_values array\n",
    "        #shap_values = shap_values.flatten()\n",
    "\n",
    "        # Filter positive SHAP values\n",
    "        positive_shap_indices = np.where(shap_valuesss > 0)[0]\n",
    "        positive_shap_values = shap_valuesss[positive_shap_indices]\n",
    "        positive_shap_columns = np.array(column_namesss)[positive_shap_indices]\n",
    "\n",
    "        # Combine and sort by SHAP values\n",
    "        positive_shap_list = list(zip(positive_shap_columns, positive_shap_values))\n",
    "        positive_shap_list.sort(key=lambda x: x[1], reverse=False)\n",
    "\n",
    "        # Select top 20\n",
    "        top_5_shap = positive_shap_list[:5]\n",
    "\n",
    "        # Unzip to get column names and values\n",
    "        top_5_columns, top_5_values = zip(*top_5_shap)\n",
    "        Shap_Explanations.append(top_5_columns)\n",
    "\n",
    "    Lime_vsi = calculate_vsi(Lime_Explanations)\n",
    "    Lime_VSI.append(Lime_vsi)\n",
    "    \n",
    "    Shap_vsi= calculate_vsi(Shap_Explanations)\n",
    "    Shap_VSI.append(Shap_vsi)\n",
    "\n",
    "print(\"Lime Variable Stability Index (VSI):\", Lime_VSI)\n"
   ]
  },
  {
   "cell_type": "code",
   "execution_count": null,
   "id": "23e247c3",
   "metadata": {},
   "outputs": [],
   "source": []
  },
  {
   "cell_type": "code",
   "execution_count": 355,
   "id": "e2f889ac",
   "metadata": {},
   "outputs": [
    {
     "data": {
      "text/plain": [
       "[0.8800000000000001,\n",
       " 1.0,\n",
       " 0.8399999999999999,\n",
       " 0.82,\n",
       " 1.0,\n",
       " 0.9200000000000002,\n",
       " 0.6199999999999999,\n",
       " 0.7799999999999999,\n",
       " 0.6799999999999999,\n",
       " 0.9200000000000002]"
      ]
     },
     "execution_count": 355,
     "metadata": {},
     "output_type": "execute_result"
    }
   ],
   "source": [
    "Lime_VSI\n"
   ]
  },
  {
   "cell_type": "code",
   "execution_count": 356,
   "id": "ee6a5734",
   "metadata": {},
   "outputs": [
    {
     "data": {
      "text/plain": [
       "[0.06000000000000001,\n",
       " 0.12,\n",
       " 0.1,\n",
       " 0.1,\n",
       " 0.12,\n",
       " 0.13999999999999999,\n",
       " 0.18,\n",
       " 0.13999999999999999,\n",
       " 0.18,\n",
       " 0.19999999999999998]"
      ]
     },
     "execution_count": 356,
     "metadata": {},
     "output_type": "execute_result"
    }
   ],
   "source": [
    "Shap_VSI"
   ]
  },
  {
   "cell_type": "code",
   "execution_count": null,
   "id": "7fef7d90",
   "metadata": {},
   "outputs": [],
   "source": []
  },
  {
   "cell_type": "code",
   "execution_count": null,
   "id": "425889c1",
   "metadata": {},
   "outputs": [],
   "source": []
  },
  {
   "cell_type": "code",
   "execution_count": 439,
   "id": "0d9fad23",
   "metadata": {},
   "outputs": [
    {
     "name": "stderr",
     "output_type": "stream",
     "text": [
      "X does not have valid feature names, but RandomForestClassifier was fitted with feature names\n"
     ]
    },
    {
     "data": {
      "application/vnd.jupyter.widget-view+json": {
       "model_id": "0e85cd3c66a84e48b38f61170bb68708",
       "version_major": 2,
       "version_minor": 0
      },
      "text/plain": [
       "  0%|          | 0/1 [00:00<?, ?it/s]"
      ]
     },
     "metadata": {},
     "output_type": "display_data"
    },
    {
     "name": "stdout",
     "output_type": "stream",
     "text": [
      "positive_shap_list [('HER2_state', 0.06405622284603363), ('Topography_including_C504', 0.06073917224609293), ('Stage_based_on_cTNM_1A', 0.05180296024359996), ('DCIS_component', 0.0450246496635079), ('Topography_including_C501', 0.039273425739103536), ('Age_at_incidence_date', 0.03496575192097353), ('Topography_including_C508', 0.034818837708771345), ('cT_TNM_1M', 0.03408739963098968), ('Pr_status', 0.02853755497107786), ('cT_TNM_1C', 0.026631913333720773), ('Topography_including_C509', 0.023740309455076013), ('Lateralization', 0.021697984095448916), ('cT_TNM_IS', 0.02096671543551856), ('cT_TNM_2', 0.018824480802283737), ('cN_TNM_2A', 0.018707260986054138), ('Stage_based_on_cTNM_2A', 0.018129720406477316), ('Topography_including_C506', 0.01703564913372795), ('Tumor_multifocality', 0.015834704841477126), ('Morphology', 0.015206802560464291), ('Topography_including_C505', 0.01304517318768827), ('Topography_including_C502', 0.011779525944942627), ('Stage_based_on_cTNM_3C', 0.01147395472703013), ('Basis_for_diagnosis', 0.011047009693674368), ('Er_status', 0.010469227003160553), ('cT_TNM_1', 0.010163366135275008), ('cN_TNM_1', 0.009997930836747392), ('Stage_based_on_cTNM_2B', 0.009783958920271575), ('cT_TNM_4C', 0.009150612788535118), ('cm_TNM', 0.009081646529941909), ('cT_TNM_3', 0.008608356943675932), ('cT_TNM_4B', 0.008588683606989826), ('Topography_including_C503', 0.007529256145131844), ('cT_TNM_4A', 0.006215889363696995), ('Stage_based_on_cTNM_3A', 0.006131930531309354), ('cT_TNM_1B', 0.005233294450789), ('Sex', 0.004378351330967851), ('cN_TNM_3A', 0.003913362832013098), ('cT_TNM_1A', 0.0037999224611569835), ('Stage_based_on_cTNM_4', 0.00374483250535894), ('Stage_based_on_cTNM_3B', 0.0029784567936023453), ('Stage_based_on_cTNM_M', 0.0026205091418648246)]\n",
      "top_5_shap [('HER2_state', 0.06405622284603363), ('Topography_including_C504', 0.06073917224609293), ('Stage_based_on_cTNM_1A', 0.05180296024359996), ('DCIS_component', 0.0450246496635079), ('Topography_including_C501', 0.039273425739103536), ('Age_at_incidence_date', 0.03496575192097353), ('Topography_including_C508', 0.034818837708771345), ('cT_TNM_1M', 0.03408739963098968), ('Pr_status', 0.02853755497107786), ('cT_TNM_1C', 0.026631913333720773)]\n",
      "top_5_columns ('HER2_state', 'Topography_including_C504', 'Stage_based_on_cTNM_1A', 'DCIS_component', 'Topography_including_C501', 'Age_at_incidence_date', 'Topography_including_C508', 'cT_TNM_1M', 'Pr_status', 'cT_TNM_1C')\n"
     ]
    },
    {
     "data": {
      "application/vnd.jupyter.widget-view+json": {
       "model_id": "abacc21cc41e46aa8205ce9fc355a6a5",
       "version_major": 2,
       "version_minor": 0
      },
      "text/plain": [
       "  0%|          | 0/1 [00:00<?, ?it/s]"
      ]
     },
     "metadata": {},
     "output_type": "display_data"
    },
    {
     "name": "stdout",
     "output_type": "stream",
     "text": [
      "positive_shap_list [('DCIS_component', 0.054275514685583504), ('Topography_including_C504', 0.046286557984571694), ('cT_TNM_1C', 0.03997179468894395), ('Stage_based_on_cTNM_1A', 0.03709158785197302), ('Lateralization', 0.0353095746151001), ('cN_TNM_2A', 0.03216142352055911), ('Stage_based_on_cTNM_2B', 0.027902989902627285), ('Age_at_incidence_date', 0.02712188647600979), ('cN_TNM_1', 0.026200323239429724), ('Topography_including_C508', 0.025754395962704863), ('HER2_state', 0.023967123941664645), ('Topography_including_C509', 0.022800879465438642), ('Stage_based_on_cTNM_2A', 0.021824399392457915), ('Stage_based_on_cTNM_4', 0.021169734423711697), ('Er_status', 0.017462846982373655), ('Pr_status', 0.017434839876940417), ('cT_TNM_1', 0.016750462916061047), ('Tumor_multifocality', 0.016417295687451885), ('Topography_including_C505', 0.01622934600459558), ('Morphology', 0.015788005053611803), ('Stage_based_on_cTNM_M', 0.01568824251658544), ('Basis_for_diagnosis', 0.01306358418896087), ('cT_TNM_1A', 0.012516010226673768), ('cN_TNM_3A', 0.011854284519575934), ('cT_TNM_2', 0.01001370358431878), ('Stage_based_on_cTNM_3A', 0.009547476890076735), ('Topography_including_C506', 0.009478882336238078), ('Topography_including_C502', 0.009281117695005869), ('Topography_including_C503', 0.009186254744101903), ('Sex', 0.008772578900260472), ('cT_TNM_1M', 0.008748187879074689), ('Stage_based_on_cTNM_3B', 0.008226929805880242), ('cT_TNM_4A', 0.007474010857123664), ('cT_TNM_IS', 0.00679170044009231), ('cT_TNM_3', 0.005606710177306981), ('cT_TNM_1B', 0.005556386346204402), ('cT_TNM_4C', 0.005139166861265621), ('Stage_based_on_cTNM_3C', 0.00458959132451245), ('cm_TNM', 0.004310165487090189), ('cT_TNM_4B', 0.0035734508334734558), ('Topography_including_C501', 0.003367227689562338)]\n",
      "top_5_shap [('DCIS_component', 0.054275514685583504), ('Topography_including_C504', 0.046286557984571694), ('cT_TNM_1C', 0.03997179468894395), ('Stage_based_on_cTNM_1A', 0.03709158785197302), ('Lateralization', 0.0353095746151001), ('cN_TNM_2A', 0.03216142352055911), ('Stage_based_on_cTNM_2B', 0.027902989902627285), ('Age_at_incidence_date', 0.02712188647600979), ('cN_TNM_1', 0.026200323239429724), ('Topography_including_C508', 0.025754395962704863)]\n",
      "top_5_columns ('DCIS_component', 'Topography_including_C504', 'cT_TNM_1C', 'Stage_based_on_cTNM_1A', 'Lateralization', 'cN_TNM_2A', 'Stage_based_on_cTNM_2B', 'Age_at_incidence_date', 'cN_TNM_1', 'Topography_including_C508')\n"
     ]
    },
    {
     "data": {
      "application/vnd.jupyter.widget-view+json": {
       "model_id": "b8d198efca3c41e29bdb650b32b1238c",
       "version_major": 2,
       "version_minor": 0
      },
      "text/plain": [
       "  0%|          | 0/1 [00:00<?, ?it/s]"
      ]
     },
     "metadata": {},
     "output_type": "display_data"
    },
    {
     "name": "stdout",
     "output_type": "stream",
     "text": [
      "positive_shap_list [('Lateralization', 0.07070058730643042), ('cT_TNM_1', 0.06126995854051143), ('Stage_based_on_cTNM_1A', 0.06057445481280277), ('cT_TNM_4B', 0.05107842608641111), ('Stage_based_on_cTNM_2A', 0.04790339085495199), ('cT_TNM_1C', 0.046201486278551473), ('Stage_based_on_cTNM_3C', 0.0395197319114448), ('Topography_including_C504', 0.03854389603507792), ('Topography_including_C501', 0.03733502455809753), ('DCIS_component', 0.036215657327209376), ('Age_at_incidence_date', 0.03345054289269862), ('Topography_including_C509', 0.029825463553219755), ('HER2_state', 0.029200512192980387), ('cm_TNM', 0.027029220692917282), ('cT_TNM_2', 0.019548983121980296), ('cT_TNM_4C', 0.019374790886606076), ('Stage_based_on_cTNM_2B', 0.019314475878326427), ('Stage_based_on_cTNM_3A', 0.017520758920132516), ('Stage_based_on_cTNM_M', 0.01736558358775916), ('Sex', 0.014626234302676854), ('Pr_status', 0.013819698690516136), ('cT_TNM_1M', 0.013126280721820174), ('cT_TNM_IS', 0.013024490577275746), ('Topography_including_C503', 0.01284453801771368), ('Topography_including_C505', 0.012696417507879785), ('Topography_including_C508', 0.01248605712158377), ('Stage_based_on_cTNM_3B', 0.011464874480970293), ('cT_TNM_1A', 0.010253468199969288), ('cT_TNM_3', 0.009994739020382353), ('Er_status', 0.009809265708822793), ('Tumor_multifocality', 0.008016628601982195), ('cT_TNM_4A', 0.007580373479487726), ('Stage_based_on_cTNM_4', 0.007282817339646587), ('cN_TNM_1', 0.006948304771140478), ('cN_TNM_2A', 0.005512421331503748), ('Basis_for_diagnosis', 0.005021650500374368), ('cN_TNM_3A', 0.0047821410481330845), ('Topography_including_C502', 0.004780713202303442), ('Topography_including_C506', 0.004515094785649406), ('Morphology', 0.0043911653524197685), ('cT_TNM_1B', 0.004082145573531079)]\n",
      "top_5_shap [('Lateralization', 0.07070058730643042), ('cT_TNM_1', 0.06126995854051143), ('Stage_based_on_cTNM_1A', 0.06057445481280277), ('cT_TNM_4B', 0.05107842608641111), ('Stage_based_on_cTNM_2A', 0.04790339085495199), ('cT_TNM_1C', 0.046201486278551473), ('Stage_based_on_cTNM_3C', 0.0395197319114448), ('Topography_including_C504', 0.03854389603507792), ('Topography_including_C501', 0.03733502455809753), ('DCIS_component', 0.036215657327209376)]\n",
      "top_5_columns ('Lateralization', 'cT_TNM_1', 'Stage_based_on_cTNM_1A', 'cT_TNM_4B', 'Stage_based_on_cTNM_2A', 'cT_TNM_1C', 'Stage_based_on_cTNM_3C', 'Topography_including_C504', 'Topography_including_C501', 'DCIS_component')\n"
     ]
    }
   ],
   "source": [
    "data_row = x_test.iloc[[instance], :] #single instance from the test dataset\n",
    "sample =data_row.values.reshape(1, -1)\n",
    "\n",
    "Predicted_class= rf.predict(sample)[0]\n",
    "Actual_class= y_test[instance]\n",
    "\n",
    "Shap_Explanations= []\n",
    "\n",
    "for _ in range(3): #generate 3 time explaination of same instance and compare them\n",
    "\n",
    "    #############. Shap  #####################\n",
    "    shap_values_single_instance = Shap_explainer.shap_values(data_row, nsamples=100, l1_reg=\"num_features(46)\")\n",
    "\n",
    "    # Provided SHAP values and column names\n",
    "    #shap_valuesss = shap_values_single_instance[Predicted_class][0]\n",
    "    shap_valuesss = np.abs(shap_values_single_instance).mean(axis=0).mean(axis=0)\n",
    "    column_namesss = x_train.columns\n",
    "    # Flatten shap_values array\n",
    "    #shap_values = shap_values.flatten()\n",
    "\n",
    "    # Filter positive SHAP values\n",
    "    positive_shap_indices = np.where(shap_valuesss > 0)[0]\n",
    "    positive_shap_values = shap_valuesss[positive_shap_indices]\n",
    "    positive_shap_columns = np.array(column_namesss)[positive_shap_indices]\n",
    "\n",
    "    # Combine and sort by SHAP values\n",
    "    positive_shap_list = list(zip(positive_shap_columns, positive_shap_values))\n",
    "    positive_shap_list.sort(key=lambda x: x[1], reverse=True)\n",
    "    print('positive_shap_list',positive_shap_list)\n",
    "    # Select top 20\n",
    "    top_5_shap = positive_shap_list[:10]\n",
    "    print('top_5_shap', top_5_shap)\n",
    "    # Unzip to get column names and values\n",
    "    top_5_columns, top_5_values = zip(*top_5_shap)\n",
    "    Shap_Explanations.append(top_five_features)\n",
    "    print('top_5_columns',top_5_columns)\n"
   ]
  },
  {
   "cell_type": "code",
   "execution_count": null,
   "id": "dff3cf91",
   "metadata": {},
   "outputs": [],
   "source": []
  },
  {
   "cell_type": "code",
   "execution_count": null,
   "id": "bd631f35",
   "metadata": {},
   "outputs": [],
   "source": []
  },
  {
   "cell_type": "code",
   "execution_count": null,
   "id": "eb9bafb3",
   "metadata": {},
   "outputs": [],
   "source": []
  },
  {
   "cell_type": "code",
   "execution_count": null,
   "id": "2154be49",
   "metadata": {},
   "outputs": [],
   "source": []
  },
  {
   "cell_type": "code",
   "execution_count": null,
   "id": "f33e3f0a",
   "metadata": {},
   "outputs": [],
   "source": []
  },
  {
   "cell_type": "code",
   "execution_count": null,
   "id": "ae8a7e00",
   "metadata": {},
   "outputs": [],
   "source": []
  },
  {
   "cell_type": "code",
   "execution_count": null,
   "id": "21562cb2",
   "metadata": {},
   "outputs": [],
   "source": [
    "\n"
   ]
  },
  {
   "cell_type": "code",
   "execution_count": null,
   "id": "c63a954f",
   "metadata": {},
   "outputs": [],
   "source": []
  },
  {
   "cell_type": "code",
   "execution_count": null,
   "id": "1e16fbce",
   "metadata": {},
   "outputs": [],
   "source": []
  },
  {
   "cell_type": "code",
   "execution_count": null,
   "id": "883217dd",
   "metadata": {},
   "outputs": [],
   "source": []
  },
  {
   "cell_type": "code",
   "execution_count": null,
   "id": "98437d0d",
   "metadata": {},
   "outputs": [],
   "source": [
    "\n"
   ]
  },
  {
   "cell_type": "code",
   "execution_count": null,
   "id": "ed6d86d4",
   "metadata": {},
   "outputs": [],
   "source": []
  },
  {
   "cell_type": "code",
   "execution_count": null,
   "id": "6ee9d599",
   "metadata": {},
   "outputs": [],
   "source": []
  },
  {
   "cell_type": "code",
   "execution_count": null,
   "id": "fe26ec8b",
   "metadata": {},
   "outputs": [],
   "source": []
  },
  {
   "cell_type": "code",
   "execution_count": null,
   "id": "71df4001",
   "metadata": {},
   "outputs": [],
   "source": []
  }
 ],
 "metadata": {
  "kernelspec": {
   "display_name": "Python 3 (ipykernel)",
   "language": "python",
   "name": "python3"
  },
  "language_info": {
   "codemirror_mode": {
    "name": "ipython",
    "version": 3
   },
   "file_extension": ".py",
   "mimetype": "text/x-python",
   "name": "python",
   "nbconvert_exporter": "python",
   "pygments_lexer": "ipython3",
   "version": "3.11.5"
  }
 },
 "nbformat": 4,
 "nbformat_minor": 5
}
